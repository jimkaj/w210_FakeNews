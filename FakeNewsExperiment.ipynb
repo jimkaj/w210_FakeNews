{
 "cells": [
  {
   "cell_type": "markdown",
   "metadata": {},
   "source": [
    "# Training to Spot Fake News\n",
    "## Research Question\n",
    "Is training developed to innoculate people against fake news effective? We ran an experiment that tested two training methods designed to help people spot fake news.\n",
    "## Method\n",
    "Partipcants were randomly assigned to one of three conditions. Participants in the first condition played the [Bad News Game](https://getbadnews.com/#intro) designed to \"vaccinate the world against disinformation\". Participants assigned to the second condition watched a [video](https://www.factcheck.org/2016/12/video-spotting-fake-news/) \"How to Spot Fake News\" cretaed by [factcheck.org](https://www.factcheck.org/). A third condition served as a control condition.\n",
    "\n",
    "Participants were then asked to classify 20 articles into one of five categories: fake news, satire, extreme bias, political, or credible.  \n"
   ]
  },
  {
   "cell_type": "markdown",
   "metadata": {},
   "source": [
    "## Load Libraries and Packages"
   ]
  },
  {
   "cell_type": "code",
   "execution_count": 250,
   "metadata": {},
   "outputs": [],
   "source": [
    "%matplotlib inline\n",
    "import numpy as np\n",
    "import pandas as pd\n",
    "import matplotlib.pyplot as plt\n",
    "from scipy import stats"
   ]
  },
  {
   "cell_type": "markdown",
   "metadata": {},
   "source": [
    "## Extract, Transform, Load \n",
    "Take original Qualtircs csv file, remove rejected subjects, complete transformations, save clean data .csv file"
   ]
  },
  {
   "cell_type": "markdown",
   "metadata": {},
   "source": [
    "### Variable Description\n",
    "ID: Subject ID (mTurk ID)\n",
    "\n",
    "Cond: Assigned experimental condition. \n",
    "T1=Training Game, \n",
    "T2=Training video, \n",
    "C=Control(no training)\n",
    "\n",
    "Sex: 1-Male; 2-Female; 3-Other/Prefer not to answer\n",
    "\n",
    "Age: In years\n",
    "\n",
    "Art01-Art20: For Article 1-20. Category assigned by participant to article\n",
    "1- Satire: humor, irony, exaggeration, ridicule, and false information to comment on current events. \n",
    "2- Fake News: fabricate information, disseminate deceptive content/grossly distort actual news reports\n",
    "3- Extreme Bias: may rely on propaganda, decontextualized info, opinions distorted as facts  \n",
    "4- Political: generally verifiable info in support of certain points of view/political orientations\n",
    "5- Credible: consistent with traditional and ethical practices in journalism\n",
    "\n",
    "Cor01-Cor20: For Article 1-20. '1' if assigned correctly, '0' incorrect as assigned by subject \n",
    "\n",
    "TotCor: Total correct out of 20 articles classified. "
   ]
  },
  {
   "cell_type": "code",
   "execution_count": 262,
   "metadata": {},
   "outputs": [],
   "source": [
    "# Read in original Qualtrics .csv file.\n",
    "df_raw = pd.read_csv('data/Spot Fake News_July 28, 2019_13.40.csv', skiprows=[1,2])"
   ]
  },
  {
   "cell_type": "code",
   "execution_count": 263,
   "metadata": {},
   "outputs": [],
   "source": [
    "# Remove rejected responses from data\n",
    "df_raw = df_raw[df_raw.Consent != 2] # Take out surveys where participant did not consent\n",
    "df_raw = df_raw[df_raw.Finished != 0] # Take out incomplete surveys\n",
    "df_raw = df_raw[df_raw.mTurkID != 'asd'] # Non-sensical text responses/incorrect completion code\n",
    "df_raw = df_raw[df_raw.mTurkID != 'A1TXOZQU1O4F0N'] # Response not in mTurk\n",
    "df_raw = df_raw[df_raw.mTurkID != 'A5LYLHG880ABE'] # Worker repeated survey\n",
    "df_raw = df_raw[df_raw.mTurkID != 'AZM3H44W1D65P'] # Response not in mTurk\n",
    "df_raw = df_raw[df_raw.mTurkID != 'A1YC558J4E5KZ'] # Worker repeated survey\n",
    "df_raw = df_raw[df_raw.mTurkID != 'AK2C9AX5QJWUU'] # Incorrect completion code\n",
    "df_raw = df_raw[df_raw.mTurkID != 'A110KENBXU7SUJ'] # Incorrect completion code\n",
    "df_raw = df_raw[df_raw.mTurkID != 'AJ60KRY0FTB1F'] # Incorrect completion code"
   ]
  },
  {
   "cell_type": "code",
   "execution_count": 264,
   "metadata": {},
   "outputs": [],
   "source": [
    "# Create data frame for cleaned data\n",
    "col_names = ['ID','Cond','Sex','Age','Pol',\\\n",
    "             'Art01','Art02','Art03','Art04','Art05','Art06','Art07','Art08','Art09','Art10',\\\n",
    "             'Art11','Art12','Art13','Art14','Art15','Art16','Art17','Art18','Art19','Art20',\\\n",
    "             'Cor01','Cor02','Cor03','Cor04','Cor05','Cor06','Cor07','Cor08','Cor09','Cor10',\\\n",
    "             'Cor11','Cor12','Cor13','Cor14','Cor15','Cor16','Cor17','Cor18','Cor19','Cor20','TotCor']\n",
    "df_clean = pd.DataFrame(columns=col_names)"
   ]
  },
  {
   "cell_type": "code",
   "execution_count": 265,
   "metadata": {},
   "outputs": [],
   "source": [
    "# Transfer Demographic variables\n",
    "df_clean.ID = df_raw.mTurkID\n",
    "df_clean.Cond = df_raw.Condition\n",
    "df_clean.Sex = df_raw.sex\n",
    "df_clean.Age = df_raw.age_1_TEXT\n",
    "df_clean.at[130, 'Age'] = 27 # Correct original entry of '1992' to '27'\n",
    "df_clean.at[188, 'Age'] = 25 # Convert original entry of '1994' to '25'\n",
    "df_clean.Pol = df_raw.politic"
   ]
  },
  {
   "cell_type": "code",
   "execution_count": 266,
   "metadata": {},
   "outputs": [],
   "source": [
    "# Create variable for subject's choice of article categorization\n",
    "df_clean.Art01 = df_raw.Article01\n",
    "df_clean.Art02 = df_raw.Article02\n",
    "df_clean.Art03 = df_raw.Article03\n",
    "df_clean.Art04 = df_raw.Article04\n",
    "df_clean.Art05 = df_raw.Article05\n",
    "df_clean.Art06 = df_raw.Article06\n",
    "df_clean.Art07 = df_raw.Article07\n",
    "df_clean.Art08 = df_raw.Article08\n",
    "df_clean.Art09 = df_raw.Article09\n",
    "df_clean.Art10 = df_raw.Article10\n",
    "df_clean.Art11 = df_raw.Article11\n",
    "df_clean.Art12 = df_raw.Article12\n",
    "df_clean.Art13 = df_raw.Article13\n",
    "df_clean.Art14 = df_raw.Article14\n",
    "df_clean.Art15 = df_raw.Article15\n",
    "df_clean.Art16 = df_raw.Article16\n",
    "df_clean.Art17 = df_raw.Article17\n",
    "df_clean.Art18 = df_raw.Article18\n",
    "df_clean.Art19 = df_raw.Article19\n",
    "df_clean.Art20 = df_raw.Article20"
   ]
  },
  {
   "cell_type": "code",
   "execution_count": 267,
   "metadata": {},
   "outputs": [],
   "source": [
    "# Create variable records if article coded correctly and Total number articles coded correctly\n",
    "# 1: Correctly Coded. 0: Incorrectly Coded\n",
    "df_clean.Cor01 = np.where(df_raw.Article01==2, 1, 0)\n",
    "df_clean.Cor02 = np.where(df_raw.Article02==2, 1, 0)\n",
    "df_clean.Cor03 = np.where(df_raw.Article03==2, 1, 0)\n",
    "df_clean.Cor04 = np.where(df_raw.Article04==2, 1, 0)\n",
    "df_clean.Cor05 = np.where(df_raw.Article05==2, 1, 0)\n",
    "df_clean.Cor06 = np.where(df_raw.Article06==2, 1, 0)\n",
    "df_clean.Cor07 = np.where(df_raw.Article07==2, 1, 0)\n",
    "df_clean.Cor08 = np.where(df_raw.Article08==2, 1, 0)\n",
    "df_clean.Cor09 = np.where(df_raw.Article09==1, 1, 0)\n",
    "df_clean.Cor10 = np.where(df_raw.Article10==1, 1, 0)\n",
    "df_clean.Cor11 = np.where(df_raw.Article11==1, 1, 0)\n",
    "df_clean.Cor12 = np.where(df_raw.Article12==3, 1, 0)\n",
    "df_clean.Cor13 = np.where(df_raw.Article13==3, 1, 0)\n",
    "df_clean.Cor14 = np.where(df_raw.Article14==3, 1, 0)\n",
    "df_clean.Cor15 = np.where(df_raw.Article15==4, 1, 0)\n",
    "df_clean.Cor16 = np.where(df_raw.Article16==4, 1, 0)\n",
    "df_clean.Cor17 = np.where(df_raw.Article17==4, 1, 0)\n",
    "df_clean.Cor18 = np.where(df_raw.Article18==5, 1, 0)\n",
    "df_clean.Cor19 = np.where(df_raw.Article19==5, 1, 0)\n",
    "df_clean.Cor20 = np.where(df_raw.Article20==5, 1, 0)\n",
    "df_clean.TotCor = df_clean.Cor01+df_clean.Cor02+df_clean.Cor03+df_clean.Cor04+df_clean.Cor05+\\\n",
    "    df_clean.Cor06+df_clean.Cor07+df_clean.Cor08+df_clean.Cor09+df_clean.Cor10+df_clean.Cor11+\\\n",
    "    df_clean.Cor12+df_clean.Cor13+df_clean.Cor14+df_clean.Cor15+df_clean.Cor16+df_clean.Cor17+\\\n",
    "    df_clean.Cor18+df_clean.Cor19+df_clean.Cor20"
   ]
  },
  {
   "cell_type": "code",
   "execution_count": 268,
   "metadata": {},
   "outputs": [],
   "source": [
    "# Save clean data file to .csv\n",
    "df_clean.to_csv(\"data/CleanExpData.csv\")"
   ]
  },
  {
   "cell_type": "markdown",
   "metadata": {},
   "source": [
    "## Hypothesis Test\n",
    "Are training methods effective in helping people identify and classify fake , biased, and legitimate news?\n",
    "\n",
    "H0: TotCor<sub>Control</sub> = TotCor<sub>T1</sub> = TotCor<sub>T2</sub>\n",
    "\n",
    "H1: TotCor<sub>Control</sub> != TotCor<sub>T1</sub> != TotCor<sub>T2</sub>\n",
    "\n",
    "Based on the data, the null hypothesis can not be rejected. We did not observe a significant effect of training on people's ability to appropriately label news articles."
   ]
  },
  {
   "cell_type": "code",
   "execution_count": 287,
   "metadata": {},
   "outputs": [],
   "source": [
    "# Load Data File\n",
    "datafile = \"data/CleanExpData.csv\"\n",
    "data = pd.read_csv(datafile)"
   ]
  },
  {
   "cell_type": "code",
   "execution_count": 289,
   "metadata": {},
   "outputs": [
    {
     "name": "stdout",
     "output_type": "stream",
     "text": [
      "Articles classified correctly out of 20\n",
      "\n",
      "Overall:  N = 291 M = 7.958762886597938 SD = 3.047613625297768\n",
      "Control:  N = 94 M = 8.106382978723405 SD = 3.060213237023075\n",
      "T1 (Game):  N = 96 M = 7.677083333333333 SD = 3.076206795001603\n",
      "T2 (Video):  N = 101 M = 8.089108910891088 SD = 3.020261610857543\n"
     ]
    }
   ],
   "source": [
    "# Calculate Descriptive Stats\n",
    "## Overall performance: Classifying 20 articles correctly\n",
    "print('Articles classified correctly out of 20')\n",
    "print()\n",
    "print('Overall: ','N =',df_clean.TotCor.count(),'M =',df_clean.TotCor.mean(),'SD =',\\\n",
    "      df_clean.TotCor.std())\n",
    "##Control Performance\n",
    "Control_Check = df_clean['Cond'] =='C'\n",
    "Control = df_clean[Control_Check]\n",
    "print('Control: ','N =',Control.TotCor.count(),'M =',Control.TotCor.mean(),'SD =',\\\n",
    "      Control.TotCor.std())\n",
    "## T1 (Game) Performance\n",
    "T1_Check = df_clean['Cond'] =='T1'\n",
    "T1 = df_clean[T1_Check] \n",
    "print('T1 (Game): ','N =',T1.TotCor.count(),'M =',T1.TotCor.mean(),'SD =',T1.TotCor.std())\n",
    "\n",
    "#T2 (Video) Performance\n",
    "T2_Check = df_clean['Cond'] =='T2'\n",
    "T2 = df_clean[T2_Check] \n",
    "print('T2 (Video): ','N =',T2.TotCor.count(),'M =',T2.TotCor.mean(),'SD =',T2.TotCor.std())"
   ]
  },
  {
   "cell_type": "code",
   "execution_count": 290,
   "metadata": {},
   "outputs": [
    {
     "data": {
      "text/plain": [
       "<matplotlib.axes._subplots.AxesSubplot at 0x13d33190>"
      ]
     },
     "execution_count": 290,
     "metadata": {},
     "output_type": "execute_result"
    },
    {
     "data": {
      "image/png": "[encoded data removed]",
      "text/plain": [
       "<Figure size 864x576 with 1 Axes>"
      ]
     },
     "metadata": {
      "needs_background": "light"
     },
     "output_type": "display_data"
    }
   ],
   "source": [
    "# Create Box Plot\n",
    "data.boxplot('TotCor', by='Cond', figsize=(12,8))"
   ]
  },
  {
   "cell_type": "code",
   "execution_count": 291,
   "metadata": {},
   "outputs": [
    {
     "name": "stdout",
     "output_type": "stream",
     "text": [
      "F( 2 , 288 ) =  0.6110526748256431  p = 0.5434813683496551\n",
      "Fail to reject the null hypothesis\n"
     ]
    }
   ],
   "source": [
    "# Perform ANOVA test\n",
    "ctrl = data['TotCor'][data.Cond == 'C']\n",
    "grps = pd.unique(data.Cond.values)\n",
    "d_data = {grp:data['TotCor'][data.Cond == grp] for grp in grps}\n",
    "\n",
    "k = len(pd.unique(data.Cond))  # number of conditions\n",
    "N = len(data.values)  # conditions times participants\n",
    "n = data.groupby('Cond').size()[0] #Participants in each condition\n",
    "a = .05 # set the significance level\n",
    "\n",
    "F, p = stats.f_oneway(d_data['C'], d_data['T1'], d_data['T2'])\n",
    "print('F(',k-1,',',N-k,') = ',F,' p =',p)\n",
    "if p < a:\n",
    "    print('Reject the Null Hypothesis')\n",
    "else: \n",
    "    print('Fail to reject the null hypothesis')"
   ]
  },
  {
   "cell_type": "markdown",
   "metadata": {},
   "source": [
    "## Exploratory Data Analysis"
   ]
  },
  {
   "cell_type": "markdown",
   "metadata": {},
   "source": [
    "### Article 1: \"Alabama declares flu outbreak emergency as vaccine failure becomes obvious to everyone\" (Fake News)"
   ]
  },
  {
   "cell_type": "code",
   "execution_count": 292,
   "metadata": {},
   "outputs": [
    {
     "data": {
      "text/plain": [
       "<function matplotlib.pyplot.show(*args, **kw)>"
      ]
     },
     "execution_count": 292,
     "metadata": {},
     "output_type": "execute_result"
    },
    {
     "data": {
      "image/png": "[encoded data removed]",
      "text/plain": [
       "<Figure size 432x288 with 1 Axes>"
      ]
     },
     "metadata": {
      "needs_background": "light"
     },
     "output_type": "display_data"
    }
   ],
   "source": [
    "%matplotlib inline\n",
    "# Article01: \"Alabama declares flu outbreak emergency as vaccine failure becomes obvious to \n",
    "# everyone\" (Fake News)\n",
    "\n",
    "##Histogram\n",
    "ser = pd.Series(data.Art01)\n",
    "ser.plot.hist(grid=True, bins=5, rwidth=0.9,\n",
    "                   color='#607c8e')\n",
    "plt.title('Alabama declares flu outbreak emergency as vaccine failure becomes obvious to everyone')\n",
    "plt.xlabel('Article Credibility')\n",
    "plt.ylabel('Counts')\n",
    "plt.grid(axis='y', alpha=0.75)\n",
    "plt.show\n"
   ]
  },
  {
   "cell_type": "markdown",
   "metadata": {},
   "source": [
    "### Article 2: \"After 8 Years with Obama, Iran Protesters Reveal What Trump’s Support Means to Them As They Prepare to Die for Regime Change\" (Fake News)"
   ]
  },
  {
   "cell_type": "code",
   "execution_count": 282,
   "metadata": {},
   "outputs": [
    {
     "data": {
      "text/plain": [
       "<function matplotlib.pyplot.show(*args, **kw)>"
      ]
     },
     "execution_count": 282,
     "metadata": {},
     "output_type": "execute_result"
    },
    {
     "data": {
      "image/png": "[encoded data removed]",
      "text/plain": [
       "<Figure size 432x288 with 1 Axes>"
      ]
     },
     "metadata": {
      "needs_background": "light"
     },
     "output_type": "display_data"
    }
   ],
   "source": [
    "%matplotlib inline\n",
    "#Histogram\n",
    "ser = pd.Series(data.Art02)\n",
    "ser.plot.hist(grid=True, bins=5, rwidth=0.9,\n",
    "                   color='#607c8e')\n",
    "plt.title('After 8 Years with Obama, Iran Protesters Reveal What Trump’s Support Means to Them As They Prepare to Die for \\\n",
    "Regime Change')\n",
    "plt.xlabel('Article Credibility')\n",
    "plt.ylabel('Counts')\n",
    "plt.grid(axis='y', alpha=0.75)\n",
    "plt.show"
   ]
  },
  {
   "cell_type": "markdown",
   "metadata": {},
   "source": [
    "### Article 3: \"Google, Facebook, Twitter and Communist China Are Assigning a Threat Matrix Score to All Internet Users\" (Fake News)"
   ]
  },
  {
   "cell_type": "code",
   "execution_count": 294,
   "metadata": {},
   "outputs": [
    {
     "data": {
      "text/plain": [
       "<function matplotlib.pyplot.show(*args, **kw)>"
      ]
     },
     "execution_count": 294,
     "metadata": {},
     "output_type": "execute_result"
    },
    {
     "data": {
      "image/png": "[encoded data removed]",
      "text/plain": [
       "<Figure size 432x288 with 1 Axes>"
      ]
     },
     "metadata": {
      "needs_background": "light"
     },
     "output_type": "display_data"
    }
   ],
   "source": [
    "%matplotlib inline\n",
    "#Histogram\n",
    "ser = pd.Series(data.Art03)\n",
    "ser.plot.hist(grid=True, bins=5, rwidth=0.9,\n",
    "                   color='#607c8e')\n",
    "plt.title('Google, Facebook, Twitter and Communist China Are Assigning a Threat Matrix Score to All Internet Users')\n",
    "plt.xlabel('Article Credibility')\n",
    "plt.ylabel('Counts')\n",
    "plt.grid(axis='y', alpha=0.75)\n",
    "plt.show"
   ]
  },
  {
   "cell_type": "markdown",
   "metadata": {},
   "source": [
    "### Article 4: \"Doctors Warn: Avoid Genetically Modified Food\" (Fake News)"
   ]
  },
  {
   "cell_type": "code",
   "execution_count": 295,
   "metadata": {},
   "outputs": [
    {
     "data": {
      "text/plain": [
       "<function matplotlib.pyplot.show(*args, **kw)>"
      ]
     },
     "execution_count": 295,
     "metadata": {},
     "output_type": "execute_result"
    },
    {
     "data": {
      "image/png": "[encoded data removed]",
      "text/plain": [
       "<Figure size 432x288 with 1 Axes>"
      ]
     },
     "metadata": {
      "needs_background": "light"
     },
     "output_type": "display_data"
    }
   ],
   "source": [
    "%matplotlib inline\n",
    "#Histogram\n",
    "ser = pd.Series(data.Art04)\n",
    "ser.plot.hist(grid=True, bins=5, rwidth=0.9,\n",
    "                   color='#607c8e')\n",
    "plt.title('Google, Facebook, Twitter and Communist China Are Assigning a Threat Matrix Score to All Internet Users')\n",
    "plt.xlabel('Article Credibility')\n",
    "plt.ylabel('Counts')\n",
    "plt.grid(axis='y', alpha=0.75)\n",
    "plt.show"
   ]
  },
  {
   "cell_type": "markdown",
   "metadata": {},
   "source": [
    "### Article 5: \"Justice Department Dives Into Hillary Clinton Emails Again!\" (Fake News)"
   ]
  },
  {
   "cell_type": "code",
   "execution_count": 297,
   "metadata": {},
   "outputs": [
    {
     "data": {
      "text/plain": [
       "<function matplotlib.pyplot.show(*args, **kw)>"
      ]
     },
     "execution_count": 297,
     "metadata": {},
     "output_type": "execute_result"
    },
    {
     "data": {
      "image/png": "[encoded data removed]",
      "text/plain": [
       "<Figure size 432x288 with 1 Axes>"
      ]
     },
     "metadata": {
      "needs_background": "light"
     },
     "output_type": "display_data"
    }
   ],
   "source": [
    "%matplotlib inline\n",
    "#Histogram\n",
    "ser = pd.Series(data.Art05)\n",
    "ser.plot.hist(grid=True, bins=5, rwidth=0.9,\n",
    "                   color='#607c8e')\n",
    "plt.title('Justice Department Dives Into Hillary Clinton Emails Again!')\n",
    "plt.xlabel('Article Credibility')\n",
    "plt.ylabel('Counts')\n",
    "plt.grid(axis='y', alpha=0.75)\n",
    "plt.show"
   ]
  },
  {
   "cell_type": "markdown",
   "metadata": {},
   "source": [
    "### Article 6: \"Amanda Bynes Tweets About Father’s Abuse and Microchip in Her Brain; Now Under Involuntary Psychiatric Hold\" (Fake News)"
   ]
  },
  {
   "cell_type": "code",
   "execution_count": 298,
   "metadata": {},
   "outputs": [
    {
     "data": {
      "text/plain": [
       "<function matplotlib.pyplot.show(*args, **kw)>"
      ]
     },
     "execution_count": 298,
     "metadata": {},
     "output_type": "execute_result"
    },
    {
     "data": {
      "image/png": "[encoded data removed]",
      "text/plain": [
       "<Figure size 432x288 with 1 Axes>"
      ]
     },
     "metadata": {
      "needs_background": "light"
     },
     "output_type": "display_data"
    }
   ],
   "source": [
    "%matplotlib inline\n",
    "#Histogram\n",
    "ser = pd.Series(data.Art06)\n",
    "ser.plot.hist(grid=True, bins=5, rwidth=0.9,\n",
    "                   color='#607c8e')\n",
    "plt.title('Justice Department Dives Into Hillary Clinton Emails Again!')\n",
    "plt.xlabel('Article Credibility')\n",
    "plt.ylabel('Counts')\n",
    "plt.grid(axis='y', alpha=0.75)\n",
    "plt.show"
   ]
  },
  {
   "cell_type": "markdown",
   "metadata": {},
   "source": [
    "### Article 7: \"The mounting death toll of Obama's political enemies...\" (Fake News)"
   ]
  },
  {
   "cell_type": "code",
   "execution_count": 299,
   "metadata": {},
   "outputs": [
    {
     "data": {
      "text/plain": [
       "<function matplotlib.pyplot.show(*args, **kw)>"
      ]
     },
     "execution_count": 299,
     "metadata": {},
     "output_type": "execute_result"
    },
    {
     "data": {
      "image/png": "[encoded data removed]",
      "text/plain": [
       "<Figure size 432x288 with 1 Axes>"
      ]
     },
     "metadata": {
      "needs_background": "light"
     },
     "output_type": "display_data"
    }
   ],
   "source": [
    "%matplotlib inline\n",
    "#Histogram\n",
    "ser = pd.Series(data.Art07)\n",
    "ser.plot.hist(grid=True, bins=5, rwidth=0.9,\n",
    "                   color='#607c8e')\n",
    "plt.title('Justice Department Dives Into Hillary Clinton Emails Again!')\n",
    "plt.xlabel('Article Credibility')\n",
    "plt.ylabel('Counts')\n",
    "plt.grid(axis='y', alpha=0.75)\n",
    "plt.show"
   ]
  },
  {
   "cell_type": "markdown",
   "metadata": {},
   "source": [
    "### Article 8: Julian Assange Isn’t Done With Hillary, Reveals Hidden Human Trafficking Network\" (Fake News)"
   ]
  },
  {
   "cell_type": "code",
   "execution_count": 300,
   "metadata": {},
   "outputs": [
    {
     "data": {
      "text/plain": [
       "<function matplotlib.pyplot.show(*args, **kw)>"
      ]
     },
     "execution_count": 300,
     "metadata": {},
     "output_type": "execute_result"
    },
    {
     "data": {
      "image/png": "[encoded data removed]",
      "text/plain": [
       "<Figure size 432x288 with 1 Axes>"
      ]
     },
     "metadata": {
      "needs_background": "light"
     },
     "output_type": "display_data"
    }
   ],
   "source": [
    "%matplotlib inline\n",
    "#Histogram\n",
    "ser = pd.Series(data.Art08)\n",
    "ser.plot.hist(grid=True, bins=5, rwidth=0.9,\n",
    "                   color='#607c8e')\n",
    "plt.title('Justice Department Dives Into Hillary Clinton Emails Again!')\n",
    "plt.xlabel('Article Credibility')\n",
    "plt.ylabel('Counts')\n",
    "plt.grid(axis='y', alpha=0.75)\n",
    "plt.show"
   ]
  },
  {
   "cell_type": "code",
   "execution_count": null,
   "metadata": {},
   "outputs": [],
   "source": []
  }
 ],
 "metadata": {
  "kernelspec": {
   "display_name": "Python 3",
   "language": "python",
   "name": "python3"
  },
  "language_info": {
   "codemirror_mode": {
    "name": "ipython",
    "version": 3
   },
   "file_extension": ".py",
   "mimetype": "text/x-python",
   "name": "python",
   "nbconvert_exporter": "python",
   "pygments_lexer": "ipython3",
   "version": "3.6.4"
  }
 },
 "nbformat": 4,
 "nbformat_minor": 2
}
