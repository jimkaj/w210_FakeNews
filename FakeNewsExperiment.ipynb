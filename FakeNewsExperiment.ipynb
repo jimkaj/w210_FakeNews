{
 "cells": [
  {
   "cell_type": "markdown",
   "metadata": {},
   "source": [
    "# Training to Spot Fake News\n",
    "## Research Question\n",
    "Is training developed to innoculate people against fake news effective? We ran an experiment that tested two training methods designed to help people spot fake news.\n",
    "## Method\n",
    "Partipcants were randomly assigned to one of three conditions. Participants in the first condition played the [Bad News Game](https://getbadnews.com/#intro) designed to \"vaccinate the world against disinformation\". Participants assigned to the second condition watched a [video](https://www.factcheck.org/2016/12/video-spotting-fake-news/) \"How to Spot Fake News\" cretaed by [factcheck.org](https://www.factcheck.org/). A third condition served as a control condition.\n",
    "\n",
    "Participants were then asked to classify 20 articles into one of five categories: fake news, satire, extreme bias, political, or credible.  \n"
   ]
  },
  {
   "cell_type": "markdown",
   "metadata": {},
   "source": [
    "## Load Libraries and Packages"
   ]
  },
  {
   "cell_type": "code",
   "execution_count": 1,
   "metadata": {},
   "outputs": [],
   "source": [
    "import numpy as np\n",
    "import pandas as pd\n",
    "import matplotlib as plt"
   ]
  },
  {
   "cell_type": "markdown",
   "metadata": {},
   "source": [
    "## Extract, Transform, Load \n",
    "Take original Qualtircs csv file, remove rejected subjects, complete transformations, save clean data .csv file"
   ]
  },
  {
   "cell_type": "markdown",
   "metadata": {},
   "source": [
    "### Variable Description\n",
    "ID: Subject ID (mTurk ID)\n",
    "\n",
    "Cond: Assigned experimental condition. \n",
    "T1=Training Game, \n",
    "T2=Training video, \n",
    "C=Control(no training)\n",
    "\n",
    "Sex: 1-Male; 2-Female; 3-Other/Prefer not to answer\n",
    "\n",
    "Age: In years\n",
    "\n",
    "Art01-Art20: For Article 1-20. Category assigned by participant to article\n",
    "1- Satire: humor, irony, exaggeration, ridicule, and false information to comment on current events. \n",
    "2- Fake News: fabricate information, disseminate deceptive content/grossly distort actual news reports\n",
    "3- Extreme Bias: may rely on propaganda, decontextualized info, opinions distorted as facts  \n",
    "4- Political: generally verifiable info in support of certain points of view/political orientations\n",
    "5- Credible: consistent with traditional and ethical practices in journalism\n",
    "\n",
    "Cor01-Cor20: For Article 1-20. '1' if assigned correctly, '0' incorrect as assigned by subject \n",
    "\n",
    "TotCor: Total correct out of 20 articles classified. "
   ]
  },
  {
   "cell_type": "code",
   "execution_count": 155,
   "metadata": {},
   "outputs": [],
   "source": [
    "# Read in original Qualtrics .csv file.\n",
    "df_raw = pd.read_csv('data/Spot Fake News_July 28, 2019_13.40.csv', skiprows=[1,2])"
   ]
  },
  {
   "cell_type": "code",
   "execution_count": 156,
   "metadata": {},
   "outputs": [],
   "source": [
    "# Remove rejected responses from data\n",
    "df_raw = df_raw[df_raw.Consent != 2] # Take out surveys where participant did not consent\n",
    "df_raw = df_raw[df_raw.Finished != 0] # Take out incomplete surveys\n",
    "df_raw = df_raw[df_raw.mTurkID != 'asd'] # Non-sensical text responses/incorrect completion code\n",
    "df_raw = df_raw[df_raw.mTurkID != 'A1TXOZQU1O4F0N'] # Response not in mTurk\n",
    "df_raw = df_raw[df_raw.mTurkID != 'A5LYLHG880ABE'] # Worker repeated survey\n",
    "df_raw = df_raw[df_raw.mTurkID != 'AZM3H44W1D65P'] # Response not in mTurk\n",
    "df_raw = df_raw[df_raw.mTurkID != 'A1YC558J4E5KZ'] # Worker repeated survey\n",
    "df_raw = df_raw[df_raw.mTurkID != 'AK2C9AX5QJWUU'] # Incorrect completion code\n",
    "df_raw = df_raw[df_raw.mTurkID != 'A110KENBXU7SUJ'] # Incorrect completion code\n",
    "df_raw = df_raw[df_raw.mTurkID != 'AJ60KRY0FTB1F'] # Incorrect completion code"
   ]
  },
  {
   "cell_type": "code",
   "execution_count": 157,
   "metadata": {},
   "outputs": [],
   "source": [
    "# Create data frame for cleaned data\n",
    "col_names = ['ID','Cond','Sex','Age',\\\n",
    "             'Art01','Art02','Art03','Art04','Art05','Art06','Art07','Art08','Art09','Art10',\\\n",
    "             'Art11','Art12','Art13','Art14','Art15','Art16','Art17','Art18','Art19','Art20',\\\n",
    "             'Cor01','Cor02','Cor03','Cor04','Cor05','Cor06','Cor07','Cor08','Cor09','Cor10',\\\n",
    "             'Cor11','Cor12','Cor13','Cor14','Cor15','Cor16','Cor17','Cor18','Cor19','Cor20','TotCor']\n",
    "df_clean = pd.DataFrame(columns=col_names)"
   ]
  },
  {
   "cell_type": "code",
   "execution_count": 158,
   "metadata": {},
   "outputs": [],
   "source": [
    "# Transfer Demographic variables\n",
    "df_clean.ID = df_raw.mTurkID\n",
    "df_clean.Cond = df_raw.Condition\n",
    "df_clean.Sex = df_raw.sex\n",
    "df_clean.Age = df_raw.age_1_TEXT\n",
    "df_clean.at[130, 'Age'] = 27 # Correct original entry of '1992' to '27'\n",
    "df_clean.at[188, 'Age'] = 25 # Convert original entry of '1994' to '25'"
   ]
  },
  {
   "cell_type": "code",
   "execution_count": 159,
   "metadata": {},
   "outputs": [],
   "source": [
    "# Create variable for subject's choice of article categorization\n",
    "df_clean.Art01 = df_raw.Article01\n",
    "df_clean.Art02 = df_raw.Article02\n",
    "df_clean.Art03 = df_raw.Article03\n",
    "df_clean.Art04 = df_raw.Article04\n",
    "df_clean.Art05 = df_raw.Article05\n",
    "df_clean.Art06 = df_raw.Article06\n",
    "df_clean.Art07 = df_raw.Article07\n",
    "df_clean.Art08 = df_raw.Article08\n",
    "df_clean.Art09 = df_raw.Article09\n",
    "df_clean.Art10 = df_raw.Article10\n",
    "df_clean.Art11 = df_raw.Article11\n",
    "df_clean.Art12 = df_raw.Article12\n",
    "df_clean.Art13 = df_raw.Article13\n",
    "df_clean.Art14 = df_raw.Article14\n",
    "df_clean.Art15 = df_raw.Article15\n",
    "df_clean.Art16 = df_raw.Article16\n",
    "df_clean.Art17 = df_raw.Article17\n",
    "df_clean.Art18 = df_raw.Article18\n",
    "df_clean.Art19 = df_raw.Article19\n",
    "df_clean.Art20 = df_raw.Article20"
   ]
  },
  {
   "cell_type": "code",
   "execution_count": 160,
   "metadata": {},
   "outputs": [],
   "source": [
    "# Create variable records if article coded correctly and Total number articles coded correctly\n",
    "# 1: Correctly Coded. 0: Incorrectly Coded\n",
    "df_clean.Cor01 = np.where(df_raw.Article01==2, 1, 0)\n",
    "df_clean.Cor02 = np.where(df_raw.Article02==2, 1, 0)\n",
    "df_clean.Cor03 = np.where(df_raw.Article03==2, 1, 0)\n",
    "df_clean.Cor04 = np.where(df_raw.Article04==2, 1, 0)\n",
    "df_clean.Cor05 = np.where(df_raw.Article05==2, 1, 0)\n",
    "df_clean.Cor06 = np.where(df_raw.Article06==2, 1, 0)\n",
    "df_clean.Cor07 = np.where(df_raw.Article07==2, 1, 0)\n",
    "df_clean.Cor08 = np.where(df_raw.Article08==2, 1, 0)\n",
    "df_clean.Cor09 = np.where(df_raw.Article09==1, 1, 0)\n",
    "df_clean.Cor10 = np.where(df_raw.Article10==1, 1, 0)\n",
    "df_clean.Cor11 = np.where(df_raw.Article11==1, 1, 0)\n",
    "df_clean.Cor12 = np.where(df_raw.Article12==3, 1, 0)\n",
    "df_clean.Cor13 = np.where(df_raw.Article13==3, 1, 0)\n",
    "df_clean.Cor14 = np.where(df_raw.Article14==3, 1, 0)\n",
    "df_clean.Cor15 = np.where(df_raw.Article15==4, 1, 0)\n",
    "df_clean.Cor16 = np.where(df_raw.Article16==4, 1, 0)\n",
    "df_clean.Cor17 = np.where(df_raw.Article17==4, 1, 0)\n",
    "df_clean.Cor18 = np.where(df_raw.Article18==5, 1, 0)\n",
    "df_clean.Cor19 = np.where(df_raw.Article19==5, 1, 0)\n",
    "df_clean.Cor20 = np.where(df_raw.Article20==5, 1, 0)\n",
    "df_clean.TotCor = df_clean.Cor01+df_clean.Cor02+df_clean.Cor03+df_clean.Cor04+df_clean.Cor05+\\\n",
    "    df_clean.Cor06+df_clean.Cor07+df_clean.Cor08+df_clean.Cor09+df_clean.Cor10+df_clean.Cor11+\\\n",
    "    df_clean.Cor12+df_clean.Cor13+df_clean.Cor14+df_clean.Cor15+df_clean.Cor16+df_clean.Cor17+\\\n",
    "   df_clean.Cor18+df_clean.Cor19+df_clean.Cor20"
   ]
  },
  {
   "cell_type": "code",
   "execution_count": 162,
   "metadata": {},
   "outputs": [],
   "source": [
    "# Save clean data file to .csv\n",
    "df_clean.to_csv(\"data/CleanExpData.csv\")"
   ]
  },
  {
   "cell_type": "markdown",
   "metadata": {},
   "source": [
    "## Hypothesis Test\n",
    "Are training methods effective in helping people identify and classify fake , biased, and legitimate news?\n",
    "\n",
    "H0: TotCor<sub>Control</sub> = TotCor<sub>T1</sub> = TotCor<sub>T2</sub>\n",
    "\n",
    "H1: TotCor<sub>Control</sub> != TotCor<sub>T1</sub> != TotCor<sub>T2</sub>"
   ]
  },
  {
   "cell_type": "code",
   "execution_count": 167,
   "metadata": {},
   "outputs": [],
   "source": [
    "# Load Data File\n",
    "datafile = \"data/CleanExpData\"\n",
    "data = pd.read_csv(datafile)"
   ]
  },
  {
   "cell_type": "code",
   "execution_count": 169,
   "metadata": {},
   "outputs": [
    {
     "data": {
      "image/png": "[encoded data removed]",
      "text/plain": [
       "<Figure size 864x576 with 1 Axes>"
      ]
     },
     "metadata": {
      "needs_background": "light"
     },
     "output_type": "display_data"
    }
   ],
   "source": [
    "# Create Box Plot\n",
    "data.boxplot('TotCor', by='Cond', figsize=(12,8))\n",
    "ctrl = data['TotCor'][data.Cond == 'ctrl']\n",
    "grps = pd.unique(data.Cond.values)\n",
    "d_data = {grp:data['TotCor'][data.Cond == grp] for grp in grps}\n",
    "\n",
    "#k = len(pd.unique(data.Cond))  # number of conditions\n",
    "#N = len(data.values)  # conditions times participants\n",
    "#n = data.groupby('Cond').size()[0] #Participants in each condition"
   ]
  },
  {
   "cell_type": "markdown",
   "metadata": {},
   "source": [
    "## Exploratory Data Analysis"
   ]
  },
  {
   "cell_type": "code",
   "execution_count": 163,
   "metadata": {},
   "outputs": [
    {
     "name": "stdout",
     "output_type": "stream",
     "text": [
      "Mean Accuracy rates\n",
      "Control:  Sex        1.436170\n",
      "Age       41.172043\n",
      "Art01      3.340426\n",
      "Art02      3.372340\n",
      "Art03      2.680851\n",
      "Art04      3.010638\n",
      "Art05      3.340426\n",
      "Art06      2.617021\n",
      "Art07      2.595745\n",
      "Art08      2.478723\n",
      "Art09      1.457447\n",
      "Art10      1.882979\n",
      "Art11      1.946809\n",
      "Art12      3.542553\n",
      "Art13      3.446809\n",
      "Art14      3.500000\n",
      "Art15      3.297872\n",
      "Art16      3.414894\n",
      "Art17      3.351064\n",
      "Art18      4.053191\n",
      "Art19      3.989362\n",
      "Art20      3.904255\n",
      "Cor01      0.340426\n",
      "Cor02      0.180851\n",
      "Cor03      0.436170\n",
      "Cor04      0.297872\n",
      "Cor05      0.265957\n",
      "Cor06      0.617021\n",
      "Cor07      0.563830\n",
      "Cor08      0.574468\n",
      "Cor09      0.744681\n",
      "Cor10      0.585106\n",
      "Cor11      0.585106\n",
      "Cor12      0.287234\n",
      "Cor13      0.436170\n",
      "Cor14      0.308511\n",
      "Cor15      0.159574\n",
      "Cor16      0.276596\n",
      "Cor17      0.180851\n",
      "Cor18      0.553191\n",
      "Cor19      0.340426\n",
      "Cor20      0.372340\n",
      "TotCor     8.106383\n",
      "dtype: float64\n",
      "T1:  Sex        1.510417\n",
      "Age       38.739583\n",
      "Art01      3.364583\n",
      "Art02      3.291667\n",
      "Art03      2.614583\n",
      "Art04      3.197917\n",
      "Art05      3.468750\n",
      "Art06      2.468750\n",
      "Art07      2.854167\n",
      "Art08      2.593750\n",
      "Art09      1.635417\n",
      "Art10      1.854167\n",
      "Art11      1.989583\n",
      "Art12      3.583333\n",
      "Art13      3.479167\n",
      "Art14      3.656250\n",
      "Art15      3.250000\n",
      "Art16      3.312500\n",
      "Art17      3.156250\n",
      "Art18      3.770833\n",
      "Art19      3.927083\n",
      "Art20      3.458333\n",
      "Cor01      0.395833\n",
      "Cor02      0.166667\n",
      "Cor03      0.541667\n",
      "Cor04      0.302083\n",
      "Cor05      0.135417\n",
      "Cor06      0.572917\n",
      "Cor07      0.416667\n",
      "Cor08      0.614583\n",
      "Cor09      0.708333\n",
      "Cor10      0.625000\n",
      "Cor11      0.562500\n",
      "Cor12      0.385417\n",
      "Cor13      0.385417\n",
      "Cor14      0.354167\n",
      "Cor15      0.083333\n",
      "Cor16      0.239583\n",
      "Cor17      0.218750\n",
      "Cor18      0.489583\n",
      "Cor19      0.281250\n",
      "Cor20      0.197917\n",
      "TotCor     7.677083\n",
      "dtype: float64\n",
      "T2:  Sex        1.425743\n",
      "Age       40.227723\n",
      "Art01      3.257426\n",
      "Art02      3.079208\n",
      "Art03      2.574257\n",
      "Art04      3.217822\n",
      "Art05      3.445545\n",
      "Art06      2.475248\n",
      "Art07      2.603960\n",
      "Art08      2.415842\n",
      "Art09      1.396040\n",
      "Art10      1.603960\n",
      "Art11      1.861386\n",
      "Art12      3.534653\n",
      "Art13      3.415842\n",
      "Art14      3.801980\n",
      "Art15      3.237624\n",
      "Art16      3.396040\n",
      "Art17      3.316832\n",
      "Art18      3.801980\n",
      "Art19      4.059406\n",
      "Art20      3.425743\n",
      "Cor01      0.405941\n",
      "Cor02      0.247525\n",
      "Cor03      0.455446\n",
      "Cor04      0.336634\n",
      "Cor05      0.178218\n",
      "Cor06      0.594059\n",
      "Cor07      0.564356\n",
      "Cor08      0.603960\n",
      "Cor09      0.792079\n",
      "Cor10      0.732673\n",
      "Cor11      0.613861\n",
      "Cor12      0.386139\n",
      "Cor13      0.287129\n",
      "Cor14      0.247525\n",
      "Cor15      0.099010\n",
      "Cor16      0.198020\n",
      "Cor17      0.306931\n",
      "Cor18      0.475248\n",
      "Cor19      0.346535\n",
      "Cor20      0.217822\n",
      "TotCor     8.089109\n",
      "dtype: float64\n"
     ]
    }
   ],
   "source": [
    "# Calculate means\n",
    "print('Mean Accuracy rates')\n",
    "\n",
    "Control_Check = df_clean['Cond'] =='C'\n",
    "Control_Res = df_clean[Control_Check]\n",
    "print('Control: ', Control_Res.mean())\n",
    "\n",
    "T1_Check = df_clean['Cond'] =='T1'\n",
    "T1_Res = df_clean[T1_Check] \n",
    "print('T1: ', T1_Res.mean())\n",
    "\n",
    "T2_Check = df_clean['Cond'] =='T2'\n",
    "T2_Res = df_clean[T2_Check] \n",
    "print('T2: ', T2_Res.mean())"
   ]
  }
 ],
 "metadata": {
  "kernelspec": {
   "display_name": "Python 3",
   "language": "python",
   "name": "python3"
  },
  "language_info": {
   "codemirror_mode": {
    "name": "ipython",
    "version": 3
   },
   "file_extension": ".py",
   "mimetype": "text/x-python",
   "name": "python",
   "nbconvert_exporter": "python",
   "pygments_lexer": "ipython3",
   "version": "3.6.4"
  }
 },
 "nbformat": 4,
 "nbformat_minor": 2
}
