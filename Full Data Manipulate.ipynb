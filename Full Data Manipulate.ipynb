{
 "cells": [
  {
   "cell_type": "markdown",
   "metadata": {},
   "source": [
    "# Fake News Corpus"
   ]
  },
  {
   "cell_type": "markdown",
   "metadata": {},
   "source": [
    "### Import Libraries"
   ]
  },
  {
   "cell_type": "code",
   "execution_count": 25,
   "metadata": {},
   "outputs": [],
   "source": [
    "import numpy as np\n",
    "import pandas as pd\n",
    "import matplotlib.pyplot as plt\n",
    "import subsample\n",
    "%matplotlib inline"
   ]
  },
  {
   "cell_type": "markdown",
   "metadata": {},
   "source": [
    "### Create subset of data"
   ]
  },
  {
   "cell_type": "code",
   "execution_count": 46,
   "metadata": {},
   "outputs": [
    {
     "name": "stderr",
     "output_type": "stream",
     "text": [
      "/anaconda3/lib/python3.7/site-packages/IPython/core/interactiveshell.py:3020: DtypeWarning: Columns (16) have mixed types. Specify dtype option on import or set low_memory=False.\n",
      "  interactivity=interactivity, compiler=compiler, result=result)\n"
     ]
    }
   ],
   "source": [
    "import pandas as pd\n",
    "import random\n",
    "p = 0.025  # 1% of the lines\n",
    "# keep the header, then take only 1% of lines\n",
    "# if random from [0,1] interval is greater than 0.01 the row will be skipped\n",
    "df = pd.read_csv(\n",
    "         \"data/news_cleaned_2018_02_13.csv\",\n",
    "         header=0, \n",
    "         skiprows=lambda i: i>0 and random.random() > p\n",
    "    \n",
    "FNC_subset.to_csv('data/FNC_Subset.csv'))\n",
    "\n",
    "\n",
    "\n"
   ]
  },
  {
   "cell_type": "code",
   "execution_count": 13,
   "metadata": {},
   "outputs": [],
   "source": [
    "FNC_subset = pd.read_csv('data/FNC_Subset.csv')\n"
   ]
  },
  {
   "cell_type": "code",
   "execution_count": 37,
   "metadata": {},
   "outputs": [
    {
     "data": {
      "text/html": [
       "<div>\n",
       "<style scoped>\n",
       "    .dataframe tbody tr th:only-of-type {\n",
       "        vertical-align: middle;\n",
       "    }\n",
       "\n",
       "    .dataframe tbody tr th {\n",
       "        vertical-align: top;\n",
       "    }\n",
       "\n",
       "    .dataframe thead th {\n",
       "        text-align: right;\n",
       "    }\n",
       "</style>\n",
       "<table border=\"1\" class=\"dataframe\">\n",
       "  <thead>\n",
       "    <tr style=\"text-align: right;\">\n",
       "      <th></th>\n",
       "      <th>Unnamed: 0</th>\n",
       "      <th>Unnamed: 0.1</th>\n",
       "      <th>id</th>\n",
       "      <th>domain</th>\n",
       "      <th>type</th>\n",
       "      <th>url</th>\n",
       "      <th>content</th>\n",
       "      <th>scraped_at</th>\n",
       "      <th>inserted_at</th>\n",
       "      <th>updated_at</th>\n",
       "      <th>title</th>\n",
       "      <th>authors</th>\n",
       "      <th>keywords</th>\n",
       "      <th>meta_keywords</th>\n",
       "      <th>meta_description</th>\n",
       "      <th>tags</th>\n",
       "      <th>summary</th>\n",
       "      <th>source</th>\n",
       "      <th>len_content</th>\n",
       "      <th>len_title</th>\n",
       "    </tr>\n",
       "  </thead>\n",
       "  <tbody>\n",
       "    <tr>\n",
       "      <th>0</th>\n",
       "      <td>0</td>\n",
       "      <td>1</td>\n",
       "      <td>6</td>\n",
       "      <td>barenakedislam.com</td>\n",
       "      <td>hate</td>\n",
       "      <td>http://barenakedislam.com/category/donald-trum...</td>\n",
       "      <td>Unfortunately, he hasn’t yet attacked her for ...</td>\n",
       "      <td>2018-01-25 16:17:44.789555</td>\n",
       "      <td>2018-02-02 01:19:41.756632</td>\n",
       "      <td>2018-02-02 01:19:41.756664</td>\n",
       "      <td>Donald Trump</td>\n",
       "      <td>Linda Rivera, Conrad Calvano, Az Gal, Lincoln ...</td>\n",
       "      <td>NaN</td>\n",
       "      <td>['']</td>\n",
       "      <td>NaN</td>\n",
       "      <td>NaN</td>\n",
       "      <td>NaN</td>\n",
       "      <td>NaN</td>\n",
       "      <td>56</td>\n",
       "      <td>2</td>\n",
       "    </tr>\n",
       "    <tr>\n",
       "      <th>1</th>\n",
       "      <td>1</td>\n",
       "      <td>50</td>\n",
       "      <td>60</td>\n",
       "      <td>barenakedislam.com</td>\n",
       "      <td>hate</td>\n",
       "      <td>http://barenakedislam.com/2018/01/06/off-topic...</td>\n",
       "      <td>We appreciate your help! Click here to donate\\...</td>\n",
       "      <td>2018-01-25 16:17:44.789555</td>\n",
       "      <td>2018-02-02 01:19:41.756632</td>\n",
       "      <td>2018-02-02 01:19:41.756664</td>\n",
       "      <td>OFF TOPIC: Topless ‘feminist’ goes all ‘nuclea...</td>\n",
       "      <td>Don Spilman, Mike S Goodmann, Cleavis Nowell, ...</td>\n",
       "      <td>NaN</td>\n",
       "      <td>['']</td>\n",
       "      <td>NaN</td>\n",
       "      <td>NaN</td>\n",
       "      <td>NaN</td>\n",
       "      <td>NaN</td>\n",
       "      <td>85</td>\n",
       "      <td>15</td>\n",
       "    </tr>\n",
       "    <tr>\n",
       "      <th>2</th>\n",
       "      <td>2</td>\n",
       "      <td>114</td>\n",
       "      <td>138</td>\n",
       "      <td>coed.com</td>\n",
       "      <td>fake</td>\n",
       "      <td>https://coed.com/2018/01/23/boston-celtics-vs-...</td>\n",
       "      <td>VIEW GALLERY\\n\\nThe Boston Celtics are traveli...</td>\n",
       "      <td>2018-01-25 16:17:44.789555</td>\n",
       "      <td>2018-02-02 01:19:41.756632</td>\n",
       "      <td>2018-02-02 01:19:41.756664</td>\n",
       "      <td>Celtics vs. Lakers Live Stream: Watch Online</td>\n",
       "      <td>Who Is Jesse Tully, A Hard Working, Diligent, ...</td>\n",
       "      <td>NaN</td>\n",
       "      <td>['', 'Sports', 'Boston Celtics', 'los angeles ...</td>\n",
       "      <td>The Celtics will be traveling to the Staples C...</td>\n",
       "      <td>los angeles lakers, NBA, Videos, Boston Celtics</td>\n",
       "      <td>NaN</td>\n",
       "      <td>NaN</td>\n",
       "      <td>694</td>\n",
       "      <td>7</td>\n",
       "    </tr>\n",
       "    <tr>\n",
       "      <th>3</th>\n",
       "      <td>3</td>\n",
       "      <td>150</td>\n",
       "      <td>176</td>\n",
       "      <td>beforeitsnews.com</td>\n",
       "      <td>fake</td>\n",
       "      <td>http://beforeitsnews.com/prophecy/2018/01/the-...</td>\n",
       "      <td>The Truth About the Israel-Palestine Conflict\\...</td>\n",
       "      <td>2018-01-25 16:17:44.789555</td>\n",
       "      <td>2018-02-02 01:19:41.756632</td>\n",
       "      <td>2018-02-02 01:19:41.756664</td>\n",
       "      <td>The Truth About the Israel-Palestine Conflict</td>\n",
       "      <td>Tng Christians</td>\n",
       "      <td>NaN</td>\n",
       "      <td>['']</td>\n",
       "      <td>NaN</td>\n",
       "      <td>NaN</td>\n",
       "      <td>NaN</td>\n",
       "      <td>NaN</td>\n",
       "      <td>2663</td>\n",
       "      <td>6</td>\n",
       "    </tr>\n",
       "    <tr>\n",
       "      <th>4</th>\n",
       "      <td>4</td>\n",
       "      <td>234</td>\n",
       "      <td>273</td>\n",
       "      <td>barenakedislam.com</td>\n",
       "      <td>hate</td>\n",
       "      <td>http://barenakedislam.com/2018/01/20/is-your-l...</td>\n",
       "      <td>Surely, if you live in the capitals of Sweden ...</td>\n",
       "      <td>2018-01-25 16:17:44.789555</td>\n",
       "      <td>2018-02-02 01:19:41.756632</td>\n",
       "      <td>2018-02-02 01:19:41.756664</td>\n",
       "      <td>Is your lovely Western country being turned in...</td>\n",
       "      <td>Don Spilman, Richard S., Cleavis Nowell, Gene ...</td>\n",
       "      <td>NaN</td>\n",
       "      <td>['']</td>\n",
       "      <td>NaN</td>\n",
       "      <td>NaN</td>\n",
       "      <td>NaN</td>\n",
       "      <td>NaN</td>\n",
       "      <td>73</td>\n",
       "      <td>22</td>\n",
       "    </tr>\n",
       "  </tbody>\n",
       "</table>\n",
       "</div>"
      ],
      "text/plain": [
       "   Unnamed: 0  Unnamed: 0.1   id              domain  type  \\\n",
       "0           0             1    6  barenakedislam.com  hate   \n",
       "1           1            50   60  barenakedislam.com  hate   \n",
       "2           2           114  138            coed.com  fake   \n",
       "3           3           150  176   beforeitsnews.com  fake   \n",
       "4           4           234  273  barenakedislam.com  hate   \n",
       "\n",
       "                                                 url  \\\n",
       "0  http://barenakedislam.com/category/donald-trum...   \n",
       "1  http://barenakedislam.com/2018/01/06/off-topic...   \n",
       "2  https://coed.com/2018/01/23/boston-celtics-vs-...   \n",
       "3  http://beforeitsnews.com/prophecy/2018/01/the-...   \n",
       "4  http://barenakedislam.com/2018/01/20/is-your-l...   \n",
       "\n",
       "                                             content  \\\n",
       "0  Unfortunately, he hasn’t yet attacked her for ...   \n",
       "1  We appreciate your help! Click here to donate\\...   \n",
       "2  VIEW GALLERY\\n\\nThe Boston Celtics are traveli...   \n",
       "3  The Truth About the Israel-Palestine Conflict\\...   \n",
       "4  Surely, if you live in the capitals of Sweden ...   \n",
       "\n",
       "                   scraped_at                 inserted_at  \\\n",
       "0  2018-01-25 16:17:44.789555  2018-02-02 01:19:41.756632   \n",
       "1  2018-01-25 16:17:44.789555  2018-02-02 01:19:41.756632   \n",
       "2  2018-01-25 16:17:44.789555  2018-02-02 01:19:41.756632   \n",
       "3  2018-01-25 16:17:44.789555  2018-02-02 01:19:41.756632   \n",
       "4  2018-01-25 16:17:44.789555  2018-02-02 01:19:41.756632   \n",
       "\n",
       "                   updated_at  \\\n",
       "0  2018-02-02 01:19:41.756664   \n",
       "1  2018-02-02 01:19:41.756664   \n",
       "2  2018-02-02 01:19:41.756664   \n",
       "3  2018-02-02 01:19:41.756664   \n",
       "4  2018-02-02 01:19:41.756664   \n",
       "\n",
       "                                               title  \\\n",
       "0                                       Donald Trump   \n",
       "1  OFF TOPIC: Topless ‘feminist’ goes all ‘nuclea...   \n",
       "2       Celtics vs. Lakers Live Stream: Watch Online   \n",
       "3      The Truth About the Israel-Palestine Conflict   \n",
       "4  Is your lovely Western country being turned in...   \n",
       "\n",
       "                                             authors  keywords  \\\n",
       "0  Linda Rivera, Conrad Calvano, Az Gal, Lincoln ...       NaN   \n",
       "1  Don Spilman, Mike S Goodmann, Cleavis Nowell, ...       NaN   \n",
       "2  Who Is Jesse Tully, A Hard Working, Diligent, ...       NaN   \n",
       "3                                     Tng Christians       NaN   \n",
       "4  Don Spilman, Richard S., Cleavis Nowell, Gene ...       NaN   \n",
       "\n",
       "                                       meta_keywords  \\\n",
       "0                                               ['']   \n",
       "1                                               ['']   \n",
       "2  ['', 'Sports', 'Boston Celtics', 'los angeles ...   \n",
       "3                                               ['']   \n",
       "4                                               ['']   \n",
       "\n",
       "                                    meta_description  \\\n",
       "0                                                NaN   \n",
       "1                                                NaN   \n",
       "2  The Celtics will be traveling to the Staples C...   \n",
       "3                                                NaN   \n",
       "4                                                NaN   \n",
       "\n",
       "                                              tags  summary source  \\\n",
       "0                                              NaN      NaN    NaN   \n",
       "1                                              NaN      NaN    NaN   \n",
       "2  los angeles lakers, NBA, Videos, Boston Celtics      NaN    NaN   \n",
       "3                                              NaN      NaN    NaN   \n",
       "4                                              NaN      NaN    NaN   \n",
       "\n",
       "   len_content  len_title  \n",
       "0           56          2  \n",
       "1           85         15  \n",
       "2          694          7  \n",
       "3         2663          6  \n",
       "4           73         22  "
      ]
     },
     "execution_count": 37,
     "metadata": {},
     "output_type": "execute_result"
    }
   ],
   "source": [
    "#df.to_csv('data/FNC_Subset.csv')\n",
    "FNC_subset.head()"
   ]
  },
  {
   "cell_type": "code",
   "execution_count": 18,
   "metadata": {},
   "outputs": [],
   "source": [
    "\n",
    "FNC_subset['len_content']=FNC_subset['content'].map(lambda x:len(x.split(' ')))\n",
    "FNC_subset['len_title']= FNC_subset['title'].map(lambda x: len(str(x).split(' ')))"
   ]
  },
  {
   "cell_type": "code",
   "execution_count": 19,
   "metadata": {},
   "outputs": [
    {
     "data": {
      "text/plain": [
       "<matplotlib.axes._subplots.AxesSubplot at 0x12ceda0f0>"
      ]
     },
     "execution_count": 19,
     "metadata": {},
     "output_type": "execute_result"
    },
    {
     "data": {
      "image/png": "[encoded data removed]",
      "text/plain": [
       "<Figure size 432x288 with 1 Axes>"
      ]
     },
     "metadata": {
      "needs_background": "light"
     },
     "output_type": "display_data"
    }
   ],
   "source": [
    "FNC_subset['type'].value_counts().plot(kind='bar')"
   ]
  },
  {
   "cell_type": "code",
   "execution_count": 34,
   "metadata": {},
   "outputs": [
    {
     "data": {
      "image/png": "[encoded data removed]",
      "text/plain": [
       "<Figure size 432x288 with 1 Axes>"
      ]
     },
     "metadata": {
      "needs_background": "light"
     },
     "output_type": "display_data"
    }
   ],
   "source": [
    "bin_edges = [100,500,1000,1500,2000,2500,3000,5000]\n",
    "\n",
    "_ = plt.hist(FNC_subset['len_content'], bins =bin_edges)\n",
    "\n",
    "plt.show()\n"
   ]
  },
  {
   "cell_type": "code",
   "execution_count": 36,
   "metadata": {},
   "outputs": [
    {
     "data": {
      "image/png": "[encoded data removed]",
      "text/plain": [
       "<Figure size 432x288 with 1 Axes>"
      ]
     },
     "metadata": {
      "needs_background": "light"
     },
     "output_type": "display_data"
    }
   ],
   "source": [
    "bin_edges = [10,20,30,40,50]\n",
    "\n",
    "_ = plt.hist(FNC_subset['len_title'], bins=bin_edges)"
   ]
  },
  {
   "cell_type": "markdown",
   "metadata": {},
   "source": [
    "### Create Fake news subset\n"
   ]
  },
  {
   "cell_type": "code",
   "execution_count": 59,
   "metadata": {},
   "outputs": [
    {
     "name": "stdout",
     "output_type": "stream",
     "text": [
      "Fake News Articles:  22281\n"
     ]
    }
   ],
   "source": [
    "# Fake News Examples\n",
    "fake_bolean = FNC_subset['type'] == 'fake'\n",
    "fake_articles = FNC_subset[fake_bolean]\n",
    "print('Fake News Articles: ', len(fake_articles))"
   ]
  },
  {
   "cell_type": "markdown",
   "metadata": {},
   "source": [
    "### View Fake News Article"
   ]
  },
  {
   "cell_type": "code",
   "execution_count": 60,
   "metadata": {},
   "outputs": [
    {
     "name": "stdout",
     "output_type": "stream",
     "text": [
      "Last article reached 35000\n",
      "Total number articles: 22281\n"
     ]
    }
   ],
   "source": [
    "# Fake News individual article print\n",
    "# rows used: 0, 11, 49, 16621, 16683, 18034, 33194, 45839\n",
    "row = 35000\n",
    "used_domains = ['beforeitsnews.com', 'conservativefighters.com', 'coed.com', 'thecommonsenseshow.com', 'newswithviews.com', \\\n",
    "               'americannews.com', 'vigilantcitizen.com', 'therightscoop.com', 'gopthedailydose.com', 'teaparty.org']\n",
    "try:\n",
    "    while fake_articles.iloc[row,2] in used_domains and row < len(fake_articles):\n",
    "        row +=1\n",
    "except:\n",
    "    pass\n",
    "if row < len(fake_articles):\n",
    "    print(\"row:\",row)\n",
    "    print(\"Website:\", fake_articles.iloc[row,2])\n",
    "    print(\"URL: \", fake_articles.iloc[row,4])                                                                                                                                                                                \n",
    "    print(\"Headline:\", fake_articles.iloc[row,9])\n",
    "    print(\"Author:\", fake_articles.iloc[row,10])\n",
    "    print(fake_articles.iloc[row,5])\n",
    "else:\n",
    "    print('Last article reached', row)\n",
    "    print('Total number articles:', len(fake_articles))"
   ]
  },
  {
   "cell_type": "markdown",
   "metadata": {},
   "source": [
    "### Create Satire Subset"
   ]
  },
  {
   "cell_type": "code",
   "execution_count": 61,
   "metadata": {},
   "outputs": [
    {
     "name": "stdout",
     "output_type": "stream",
     "text": [
      "Satire Articles:  2863\n"
     ]
    }
   ],
   "source": [
    "# Satire Examples\n",
    "satire_bolean = FNC_subset['type'] == 'satire'\n",
    "satire_articles = FNC_subset[satire_bolean]\n",
    "print('Satire Articles: ', len(satire_articles))"
   ]
  },
  {
   "cell_type": "markdown",
   "metadata": {},
   "source": [
    "### View Satire Articles"
   ]
  },
  {
   "cell_type": "code",
   "execution_count": 62,
   "metadata": {},
   "outputs": [
    {
     "name": "stdout",
     "output_type": "stream",
     "text": [
      "row: 8\n",
      "Website: 32675\n",
      "URL:  satire\n",
      "Headline: 2018-02-02 01:19:41.756664\n",
      "Author: Whoreouse\n",
      "https://aceflashman.wordpress.com/tag/whoreouse/\n"
     ]
    }
   ],
   "source": [
    "# Satire individual article print\n",
    "# rows used: 4,8, 10 \n",
    "row = 8\n",
    "used_domains = ['clickhole.com', 'theshovel.com.au', 'betootaadvocate.com']\n",
    "try:\n",
    "    while satire_articles.iloc[row,2] in used_domains and row < len(satire_articles):\n",
    "        row +=1\n",
    "except:\n",
    "    pass\n",
    "if row < len(satire_articles):\n",
    "    print(\"row:\",row)\n",
    "    print(\"Website:\", satire_articles.iloc[row,2])\n",
    "    print(\"URL: \", satire_articles.iloc[row,4])                                                                                                                                                                                \n",
    "    print(\"Headline:\", satire_articles.iloc[row,9])\n",
    "    print(\"Author:\", satire_articles.iloc[row,10])\n",
    "    print(satire_articles.iloc[row,5])\n",
    "else:\n",
    "    print('Last article reached', row)\n",
    "    print('Total number articles:', len(satire_articles))"
   ]
  },
  {
   "cell_type": "markdown",
   "metadata": {},
   "source": [
    "### Create Extreme Bias Subset"
   ]
  },
  {
   "cell_type": "code",
   "execution_count": 63,
   "metadata": {},
   "outputs": [
    {
     "name": "stdout",
     "output_type": "stream",
     "text": [
      "Extreme Bias Articles:  28332\n"
     ]
    }
   ],
   "source": [
    "# Extreme Bias Examples\n",
    "bias_bolean = FNC_subset['type'] == 'bias'\n",
    "bias_articles = FNC_subset[bias_bolean]\n",
    "print('Extreme Bias Articles: ', len(bias_articles))"
   ]
  },
  {
   "cell_type": "markdown",
   "metadata": {},
   "source": [
    "### View Extreme Bias Articles"
   ]
  },
  {
   "cell_type": "code",
   "execution_count": 29,
   "metadata": {},
   "outputs": [
    {
     "name": "stdout",
     "output_type": "stream",
     "text": [
      "row: 8\n",
      "Website: dailysignal.com\n",
      "URL:  http://dailysignal.com/2017/12/11/fewer-blacks-hispanics-go-jobless-trump/\n",
      "Headline: Fewer Blacks, Hispanics Go Jobless Under Trump\n",
      "Author: nan\n",
      "More black and Hispanic Americans are getting jobs on President Donald Trump’s watch, the latest employment numbers show, although critics accuse him of ignoring such minority populations.\n",
      "\n",
      "The White House, not surprisingly, is happy to tout the results.\n",
      "\n",
      "Unemployment among blacks declined from 8 percent one year ago to 7.3 percent in November, according to the Bureau of Labor Statistics. Blacks’ labor force participation rate rose slightly over the past year, from 61.9 percent in November 2016 to 62.2 percent last month.\n",
      "\n",
      "Unemployment among Hispanics fell by a percentage point, from 5.7 percent to 4.7 percent, over the year. Hispanics’ labor force participation rate held steady, dipping from 65.7 percent to 65.6 percent.\n",
      "\n",
      "The labor force participation rate reflects the percentage of Americans working or actively looking for work, while the unemployment rate is the percentage of jobless Americans still looking for work, as opposed to having given up.\n",
      "\n",
      "“All Americans continue to see results from the president’s bold economic agenda,” White House spokeswoman Lindsay Walters told The Daily Signal in a written statement, adding:\n",
      "\n",
      "While overall unemployment in November remained at a nearly 17-year low, the rate is also at historic lows among several groups, including Hispanics—where it is the lowest in at least 44 years—and African-Americans—where it is at its lowest levels since 2000.\n",
      "\n",
      "The overall unemployment rate fell to 4.1 percent, a 17-year low. It was 3.6 percent among whites and 3 percent among Asians, about the same for both as a year ago.\n",
      "\n",
      "Teen unemployment, measured from ages 16 to 19, was the dark lining. Though it dropped nominally from November 2016, from 26.6 to 25.5 percent, that’s up from 23.3 in July.\n",
      "\n",
      "Limiting taxes and curbing unnecessary government regulation makes it easier for workers and entrepreneurs to succeed, said Daniel Garza, president of the Libre Initiative, a conservative Hispanic group.\n",
      "\n",
      "“The Hispanic community is beginning to see the benefits of an improving economy. Lawmakers in Washington have a critical opportunity to deliver on tax reform that lowers rates, closes loopholes, and enhances competitiveness—which families and entrepreneurs are counting on,” Garza told The Daily Signal in an email statement, adding:\n",
      "\n",
      "By locking these reforms in place for the long term, Congress and the president will help to ensure a stable environment that encourages greater economic opportunity and wage growth. Reducing the tax rate on American businesses to 20 percent—without creating new tax burdens—will be particularly helpful in ensuring the U.S. economy is competitive with those of our major trading partners, boosting the prospects of American workers and families. Hispanic families stand to gain a great deal if lawmakers deliver on these promises in the days ahead.\n",
      "\n",
      "The economy has surpassed 3 percent growth for several months.\n",
      "\n",
      "When President Barack Obama was in the White House, critics of candidate Trump said 3 percent growth would be impossible, noted Stephen Moore, an economist who is a distinguished visiting fellow at The Heritage Foundation.\n",
      "\n",
      "“The left’s problem is that they said there is no way to grow the economy at 3 percent, and now they say it’s because of Obama,” Moore, who advised the Trump campaign on economics, told The Daily Signal. “Every economic indicator, with no exceptions, shows we are looking at forward growth. It’s very positive, and a dramatic improvement.”\n"
     ]
    }
   ],
   "source": [
    "# Extreme Bias individual article print\n",
    "# rows used: 0, 4, 8  \n",
    "row = 0\n",
    "used_domains = ['wnd.com', 'lifenews.com', 'dailysignal.com']\n",
    "try:\n",
    "    while bias_articles.iloc[row,2] in used_domains and row < len(bias_articles):\n",
    "        row +=1\n",
    "except:\n",
    "    pass\n",
    "if row < len(bias_articles):\n",
    "    print(\"row:\",row)\n",
    "    print(\"Website:\", bias_articles.iloc[row,2])\n",
    "    print(\"URL: \", bias_articles.iloc[row,4])                                                                                                                                                                                \n",
    "    print(\"Headline:\", bias_articles.iloc[row,9])\n",
    "    print(\"Author:\", bias_articles.iloc[row,10])\n",
    "    print(bias_articles.iloc[row,5])\n",
    "else:\n",
    "    print('Last article reached', row)\n",
    "    print('Total number articles:', len(bias_articles))"
   ]
  },
  {
   "cell_type": "markdown",
   "metadata": {},
   "source": [
    "### Create Political Articles Subset"
   ]
  },
  {
   "cell_type": "code",
   "execution_count": 30,
   "metadata": {},
   "outputs": [
    {
     "name": "stdout",
     "output_type": "stream",
     "text": [
      "Political Articles:  65759\n"
     ]
    }
   ],
   "source": [
    "# Political Examples\n",
    "political_bolean = FNC_subset['type'] == 'political'\n",
    "political_articles = FNC_subset[political_bolean]\n",
    "print('Political Articles: ', len(political_articles))"
   ]
  },
  {
   "cell_type": "markdown",
   "metadata": {},
   "source": [
    "### View Political Articles"
   ]
  },
  {
   "cell_type": "code",
   "execution_count": 33,
   "metadata": {},
   "outputs": [
    {
     "name": "stdout",
     "output_type": "stream",
     "text": [
      "row: 30\n",
      "Website: dailycaller.com\n",
      "URL:  http://dailycaller.com/2018/01/09/googles-new-fact-check-feature-almost-exclusively-targets-conservative-sites/\n",
      "Headline: Google’s New Fact-Check Feature Almost Exclusively Targets Conservative Sites\n",
      "Author: Tech, Law Reporter\n",
      "Google, the most powerful search engine in the world, is now displaying fact checks for conservative publications in its results.\n",
      "\n",
      "No prominent liberal site receives the same treatment.\n",
      "\n",
      "And not only is Google’s fact-checking highly partisan — perhaps reflecting the sentiments of its leaders — it is also blatantly wrong, asserting sites made “claims” they demonstrably never made.\n",
      "\n",
      "When searching for a media outlet that leans right, like The Daily Caller (TheDC), Google gives users details on the sidebar, including what topics the site typically writes about, as well as a section titled “Reviewed Claims.”\n",
      "\n",
      "Vox, and other left-wing outlets and blogs like Gizmodo, are not given the same fact-check treatment. When searching their names, a “Topics they write about” section appears, but there are no “Reviewed Claims.”\n",
      "\n",
      "In fact, a review of mainstream outlets, as well as other outlets associated with liberal and conservative audiences, shows that only conservative sites feature the highly misleading, subjective analysis. Several conservative-leaning outlets like TheDC are “vetted,” while equally partisan sites like Vox, ThinkProgress, Slate, The Huffington Post, Daily Kos, Salon, Vice and Mother Jones are spared.\n",
      "\n",
      "Occupy Democrats is apparently the only popular content provider from that end of the political spectrum with a fact-checking section.\n",
      "\n",
      "Big name publications like The New York Times, The Washington Post, and the Los Angeles Times are even given a column showcasing all of the awards they have earned over the years.\n",
      "\n",
      "\n",
      "\n",
      "The Robert Mueller fact check (pictured above) is a case in point for Google’s new feature.\n",
      "\n",
      "Ostensibly trying to sum up the crux of the post, the third-party “fact-checking” organization says the “claim” in a DC article that special Counsel Robert Mueller is hiring people that “are all Hillary Clinton supporters” is misleading, if not false.\n",
      "\n",
      "The problem is that TheDC’s article makes no such claim. Their cited language doesn’t even appear in the article. Worse yet, there was no language trying to make it seem that the investigation into the Trump administration and Russia is entirely comprised of Clinton donors. The story simply contained the news: Mueller hired a Hillary Clinton donor to aid the investigation into President Donald Trump.\n",
      "\n",
      "Still, the Washington Post gave the claim, which came from Trump himself, its official “Three Pinocchios” rating. The method applies to several other checks. Claims concocted or adulterated by someone outside the TheDC are attributed to TheDC, in what appears to be a feature that only applies to conservative sites.\n",
      "\n",
      "Examples of such misattribution and misrepresentation are aplenty.\n",
      "\n",
      "For instance, using Snopes.com, an organization with highly dubious fact-checking capabilities, Google’s platform shows an article by TheDC to have a so-called “mixture” of truth.\n",
      "\n",
      "\n",
      "\n",
      "The “claim” made, according to Snopes.com and Google, is “a transgender woman raped a young girl in a women’s bathroom because bills were passed…”\n",
      "\n",
      "A quick read of the news piece shows that there was no mention of a bill or any form of legislation. The story was merely a straightforward reporting of a disturbing incident originally reported on by a local outlet. (RELATED: Why is Google CEO Eric Schmidt Technically Serving In The Department Of Defense?)\n",
      "\n",
      "And like Snopes, another one of Google’s fact-checking partners, Climate Feedback, is not usually regarded as objective.\n",
      "\n",
      "\n",
      "\n",
      "Snopes and Google also decided to “fact-check” an obviously tongue-in-cheek article in which a writer for TheDC pokes fun at a professor saying the solar eclipse in 2017 was naturally racist.\n",
      "\n",
      "Even Vox pointed out the absurdity of the educator’s literary tirade on Mother Nature’s purported racial prejudice, and the damage it might have done to real arguments of apparent racism. While Snopes got some flak for its choice, no one seems to have noticed the absurdity of the world’s go-to search engine providing fact-checks to purposefully irreverent content, rather than hard news stories.\n",
      "\n",
      "Overall, such inclusion embodies Google’s fact-checking services, which, as many presciently feared, are biased, if not also downright libelous. (RELATED: Silicon Valley Seems To Love Burying Conservative News)\n",
      "\n",
      "Google acknowledged it received an inquiry from TheDCNF, but did not fully respond by time of publication.\n",
      "\n",
      "Follow Eric on Twitter\n",
      "\n",
      "Send tips to [email protected].\n",
      "\n",
      "Freedom of Speech Isn’t Free\n",
      "\n",
      "The Daily Caller News Foundation is working hard to balance out the biased American media. For as little as $3, you can help us. Make a one-time donation to support the quality, independent journalism of TheDCNF. We’re not dependent on commercial or political support and we do not accept any government funding.\n"
     ]
    }
   ],
   "source": [
    "# Political individual article print\n",
    "# rows used: 0, 29 \n",
    "row = 0\n",
    "used_domains = ['baptistnews.com', 'nationalreview.com', 'dailycaller.com']\n",
    "try:\n",
    "    while political_articles.iloc[row,2] in used_domains and row < len(political_articles):\n",
    "        row +=1\n",
    "except:\n",
    "    pass\n",
    "if row < len(political_articles):\n",
    "    print(\"row:\",row)\n",
    "    print(\"Website:\", political_articles.iloc[row,2])\n",
    "    print(\"URL: \", political_articles.iloc[row,4])                                                                                                                                                                                \n",
    "    print(\"Headline:\", political_articles.iloc[row,9])\n",
    "    print(\"Author:\", political_articles.iloc[row,10])\n",
    "    print(political_articles.iloc[row,5])\n",
    "else:\n",
    "    print('Last article reached', row)\n",
    "    print('Total number articles:', len(political_articles))"
   ]
  },
  {
   "cell_type": "markdown",
   "metadata": {},
   "source": [
    "### Create Credible Articles Subset"
   ]
  },
  {
   "cell_type": "code",
   "execution_count": 12,
   "metadata": {},
   "outputs": [
    {
     "name": "stdout",
     "output_type": "stream",
     "text": [
      "Credible Articles:  202\n"
     ]
    }
   ],
   "source": [
    "# Credible Examples\n",
    "credible_bolean = FNC_subset['type'] == 'reliable'\n",
    "credible_articles = FNC_subset[credible_bolean]\n",
    "print('Credible Articles: ', len(credible_articles))"
   ]
  },
  {
   "cell_type": "markdown",
   "metadata": {},
   "source": [
    "### View Credible Artciles"
   ]
  },
  {
   "cell_type": "code",
   "execution_count": 19,
   "metadata": {},
   "outputs": [
    {
     "name": "stdout",
     "output_type": "stream",
     "text": [
      "row: 3\n",
      "Website: christianpost.com\n",
      "URL:  https://www.christianpost.com/news/facebook-bans-paid-ads-pro-life-film-produced-by-mlk-niece-214143/\n",
      "Headline: Facebook Lifts Ban on Paid Ads for Pro-Life Film Produced by MLK's Niece After Appeal\n",
      "Author: nan\n",
      "(Photo: Reuters/Dado Ruvic) Facebook.\n",
      "\n",
      "UPDATE 11:40 a.m. ET Jan. 18: Facebook said Thursday that it has lifted its ban on paid ads for a fundraising effort connected to Alveda King's upcoming documentary that highlights the \"real untold story\" of abortion in the United States and the history of eugenics associated with Planned Parenthood.\n",
      "\n",
      "In an emailed statement to The Christian Post, Facebook said the pro-life ad was originally disapproved in error and was correctly approved upon appeal. At this time, all ads connected to the \"Roe v. Wade\" movie page are running.\n",
      "\n",
      "Facebook also said that abilities of all the administrators for the page will be fully restored after being temporarily blocked for so-called \"spam behavior.\"\n",
      "\n",
      "Original report:\n",
      "\n",
      "Martin Luther King Jr.'s niece is speaking out against Facebook's decision to ban paid ads for a fundraising effort connected to her upcoming documentary that highlights the \"real untold story\" of abortion in the United States and the history of eugenics associated with Planned Parenthood.\n",
      "\n",
      "Alveda King, a prominent Christian conservative and pro-life activist who serves as director of civil rights for the unborn at Priests for Life, spoke with Family Research Council's Tony Perkins during a special National Religious Freedom Day broadcast of his radio show on Tuesday and explained that Facebook pulled down paid ads and is blocking shares for her upcoming film, \"Roe v, Wade.\"\n",
      "\n",
      "Named after the 1973 U.S. Supreme Court decision that legalized elective abortions, the documentary stars Hollywood actor Jon Voight and is said to be the first movie ever to expose \"the real untold story of how people lied; how the media lied; and how the courts were manipulated to pass a law that has since killed over 60 million Americans.\"\n",
      "\n",
      "Expand | Collapse (Photo: Reuters/Mary F. Calvert) Alveda King, founder of Alveda King Ministries, speaks during an \"I Have a Dream\" Gospel brunch at the Willard InterContinental Hotel in Washington, D.C., on August 25, 2013.\n",
      "\n",
      "\"There is a new movie coming out — 'Roe v. Wade.' I am one of the executive producers. Facebook has pulled down our ads, the paid ads and any mention of the non-paid ads,\" King said while addressing the topic of religious freedom. \"They do not want the message of the injustice of abortion broadcast and they are trying to block that.\"\n",
      "\n",
      "King is referring to Facebook's blocking of ads promoting the movie's Indiegogo crowdfunding account. Thus far, the movie has raised just under $44,000 out of its stated goal of $2 million.\n",
      "\n",
      "\"That is another violation of religious freedom. It's very discriminatory,\" she continued. \"So, when we are denied the opportunity and the right to proclaim the Gospel freely in this nation that was founded upon ... that right, it's a terrible injustice. My uncle did say injustice anywhere is a threat to justice everywhere. I know we can all agree. It's wrong to take the life of a baby in the womb. It's wrong to silence those voices of people who want to proclaim our faith and all of those aren't just civil rights injustices, but they are an injustice against God's will.\"\n",
      "\n",
      "According to an update on the crowdfunding page, \"Facebook has banned us from inviting friends to 'Like' our page and from 'Sharing' our PAID ads.\"\n",
      "\n",
      "The Christian Post has reached out to Facebook for comment on the situation. A response is pending.\n",
      "\n",
      "\"It is outrageous that Facebook purports to be apolitical when there have been trends of blocking pages of conservative causes, such as our 'Roe v. Wade' movie page,\" fellow executive producer Jalesia McQueen told Breitbart in a statement.\n",
      "\n",
      "The news comes as Facebook is frequently criticized for having bias against and censoring conservative Christians.\n",
      "\n",
      "Earlier this month, Facebook unpublished the popular Facebook page of Warriors for Christ ministry, which had over 225,000 followers and spoke critically of things like homosexuality, transgenderism and abortion. Facebook told The Christian Post that the page was removed because it violated its policies on hate speech and bullying.\n",
      "\n",
      "Additionally, Facebook refused to take action this week after popular Christian mommy blogger Elizabeth Johnston, best known as \"The Activist Mommy,\" voiced concern with a Facebook group that was titled \"I will find Activist Mommy and burn whoever runs it alive.\"\n",
      "\n",
      "Officials of the social media giant ruled that the group did not violate Facebook community standards because it was determined that the group was \"satirical.\"\n",
      "\n",
      "\"With 2 billion users, it can be argued that Facebook has become a public utility and thus cannot discriminate against users based upon their political or religious views,\" Johnston told CP on Tuesday. \"Conservative users who don't tow the liberal line on issues like Islam, abortion, and homosexuality are repeatedly banned and silenced in an Orwellian manner for expressing their valid concerns, thus causing conservatives to cry out for an alternative platform that welcomes the free exchange of ideas.\"\n"
     ]
    }
   ],
   "source": [
    "# Credible individual article print\n",
    "# rows used: 2, 3, 202 \n",
    "row = 3\n",
    "used_domains = [] #['christianpost.com', 'consortiumnews.com']\n",
    "try:\n",
    "    while credible_articles.iloc[row,2] in used_domains and row < len(credible_articles):\n",
    "        row +=1\n",
    "except:\n",
    "    pass\n",
    "if row < len(credible_articles):\n",
    "    print(\"row:\",row)\n",
    "    print(\"Website:\", credible_articles.iloc[row,2])\n",
    "    print(\"URL: \", credible_articles.iloc[row,4])                                                                                                                                                                                \n",
    "    print(\"Headline:\", credible_articles.iloc[row,9])\n",
    "    print(\"Author:\", credible_articles.iloc[row,10])\n",
    "    print(credible_articles.iloc[row,5])\n",
    "else:\n",
    "    print('Last article reached', row)\n",
    "    print('Total number articles:', len(credible_articles))"
   ]
  },
  {
   "cell_type": "code",
   "execution_count": null,
   "metadata": {},
   "outputs": [],
   "source": []
  }
 ],
 "metadata": {
  "kernelspec": {
   "display_name": "Python 3",
   "language": "python",
   "name": "python3"
  },
  "language_info": {
   "codemirror_mode": {
    "name": "ipython",
    "version": 3
   },
   "file_extension": ".py",
   "mimetype": "text/x-python",
   "name": "python",
   "nbconvert_exporter": "python",
   "pygments_lexer": "ipython3",
   "version": "3.7.1"
  }
 },
 "nbformat": 4,
 "nbformat_minor": 2
}
