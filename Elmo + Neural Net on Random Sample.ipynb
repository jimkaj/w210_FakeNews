{
 "cells": [
  {
   "cell_type": "code",
   "execution_count": 119,
   "metadata": {},
   "outputs": [],
   "source": [
    "import tensorflow_hub as hub\n",
    "import tensorflow as tf\n",
    "from tensorflow import keras\n",
    "import numpy as np\n",
    "import pandas as pd\n",
    "import re\n",
    "import os\n",
    "import seaborn\n",
    "import matplotlib.pyplot as plt\n",
    "%matplotlib inline\n",
    "from nltk.tokenize import sent_tokenize, word_tokenize\n",
    "from nltk.corpus import stopwords\n",
    "from keras.preprocessing.sequence import pad_sequences"
   ]
  },
  {
   "cell_type": "code",
   "execution_count": 22,
   "metadata": {},
   "outputs": [
    {
     "name": "stderr",
     "output_type": "stream",
     "text": [
      "Using TensorFlow backend.\n"
     ]
    }
   ],
   "source": [
    "import numpy as np\n",
    "import pandas as pd\n",
    "import keras\n",
    "from keras import backend as K\n",
    "from keras.utils import np_utils\n",
    "from keras.models import Sequential\n",
    "from keras.layers import Dense, Dropout, LSTM, Embedding, Input, RepeatVector\n",
    "from keras.optimizers import SGD\n",
    "from sklearn.preprocessing import LabelEncoder\n",
    "from sklearn.model_selection import train_test_split\n",
    "import scikitplot.plotters as skplt\n",
    "import os\n",
    "\n"
   ]
  },
  {
   "cell_type": "code",
   "execution_count": 16,
   "metadata": {},
   "outputs": [
    {
     "name": "stdout",
     "output_type": "stream",
     "text": [
      "  % Total    % Received % Xferd  Average Speed   Time    Time     Time  Current\n",
      "                                 Dload  Upload   Total   Spent    Left  Speed\n",
      "  0     0    0     0    0     0      0      0 --:--:--  0:00:01 --:--:--     0\n",
      "x assets/\n",
      "x saved_model.pb\n",
      "x tfhub_module.pb\n",
      "x variables/\n",
      "x variables/variables.index\n",
      "100  331M  100  331M    0     0  2076k      0  0:02:43  0:02:43 --:--:-- 1823kk      0  0:01:04  0:00:11  0:00:53 4845k89k      0  0:02:16  0:00:59  0:01:17 1847k56M    0     0  2419k      0  0:02:20  0:01:06  0:01:14 1833k0     0  2261k      0  0:02:29  0:01:31  0:00:58 1836k2135k      0  0:02:38  0:02:10  0:00:28 1989k\n",
      "\n"
     ]
    }
   ],
   "source": [
    "#download the model to local so it can be used again and again\n",
    "#!mkdir -p module/module_elmo2\n",
    "# Download the module, and uncompress it to the destination folder. \n",
    "#!curl -L \"https://tfhub.dev/google/elmo/2?tf-hub-format=compressed\" | tar -zxvC module/module_elmo2"
   ]
  },
  {
   "cell_type": "code",
   "execution_count": 23,
   "metadata": {},
   "outputs": [
    {
     "name": "stderr",
     "output_type": "stream",
     "text": [
      "/anaconda3/lib/python3.7/site-packages/IPython/core/interactiveshell.py:3020: DtypeWarning: Columns (18) have mixed types. Specify dtype option on import or set low_memory=False.\n",
      "  interactivity=interactivity, compiler=compiler, result=result)\n"
     ]
    }
   ],
   "source": [
    "FNC_Final= pd.read_csv('data/FNC_Final.csv')"
   ]
  },
  {
   "cell_type": "code",
   "execution_count": 24,
   "metadata": {},
   "outputs": [
    {
     "data": {
      "text/html": [
       "<div>\n",
       "<style scoped>\n",
       "    .dataframe tbody tr th:only-of-type {\n",
       "        vertical-align: middle;\n",
       "    }\n",
       "\n",
       "    .dataframe tbody tr th {\n",
       "        vertical-align: top;\n",
       "    }\n",
       "\n",
       "    .dataframe thead th {\n",
       "        text-align: right;\n",
       "    }\n",
       "</style>\n",
       "<table border=\"1\" class=\"dataframe\">\n",
       "  <thead>\n",
       "    <tr style=\"text-align: right;\">\n",
       "      <th></th>\n",
       "      <th>Unnamed: 0</th>\n",
       "      <th>Unnamed: 0.1</th>\n",
       "      <th>Unnamed: 0.1.1</th>\n",
       "      <th>id</th>\n",
       "      <th>domain</th>\n",
       "      <th>type</th>\n",
       "      <th>url</th>\n",
       "      <th>content</th>\n",
       "      <th>scraped_at</th>\n",
       "      <th>inserted_at</th>\n",
       "      <th>...</th>\n",
       "      <th>summary</th>\n",
       "      <th>source</th>\n",
       "      <th>len_content</th>\n",
       "      <th>len_title</th>\n",
       "      <th>num_exclaim_title</th>\n",
       "      <th>num_sentences_content</th>\n",
       "      <th>sentences_content</th>\n",
       "      <th>num_paras</th>\n",
       "      <th>num_punc_content</th>\n",
       "      <th>percent_punc_content_per_len</th>\n",
       "    </tr>\n",
       "  </thead>\n",
       "  <tbody>\n",
       "    <tr>\n",
       "      <th>0</th>\n",
       "      <td>2</td>\n",
       "      <td>2</td>\n",
       "      <td>114</td>\n",
       "      <td>138</td>\n",
       "      <td>coed.com</td>\n",
       "      <td>fake</td>\n",
       "      <td>https://coed.com/2018/01/23/boston-celtics-vs-...</td>\n",
       "      <td>VIEW GALLERY\\n\\nThe Boston Celtics are traveli...</td>\n",
       "      <td>2018-01-25 16:17:44.789555</td>\n",
       "      <td>2018-02-02 01:19:41.756632</td>\n",
       "      <td>...</td>\n",
       "      <td>NaN</td>\n",
       "      <td>NaN</td>\n",
       "      <td>694</td>\n",
       "      <td>7</td>\n",
       "      <td>0</td>\n",
       "      <td>31</td>\n",
       "      <td>['VIEW GALLERY\\n\\nThe Boston Celtics are trave...</td>\n",
       "      <td>37</td>\n",
       "      <td>149</td>\n",
       "      <td>21.469741</td>\n",
       "    </tr>\n",
       "    <tr>\n",
       "      <th>1</th>\n",
       "      <td>3</td>\n",
       "      <td>3</td>\n",
       "      <td>150</td>\n",
       "      <td>176</td>\n",
       "      <td>beforeitsnews.com</td>\n",
       "      <td>fake</td>\n",
       "      <td>http://beforeitsnews.com/prophecy/2018/01/the-...</td>\n",
       "      <td>The Truth About the Israel-Palestine Conflict\\...</td>\n",
       "      <td>2018-01-25 16:17:44.789555</td>\n",
       "      <td>2018-02-02 01:19:41.756632</td>\n",
       "      <td>...</td>\n",
       "      <td>NaN</td>\n",
       "      <td>NaN</td>\n",
       "      <td>2663</td>\n",
       "      <td>6</td>\n",
       "      <td>0</td>\n",
       "      <td>102</td>\n",
       "      <td>['The Truth About the Israel-Palestine Conflic...</td>\n",
       "      <td>165</td>\n",
       "      <td>565</td>\n",
       "      <td>21.216673</td>\n",
       "    </tr>\n",
       "    <tr>\n",
       "      <th>2</th>\n",
       "      <td>6</td>\n",
       "      <td>6</td>\n",
       "      <td>345</td>\n",
       "      <td>408</td>\n",
       "      <td>betootaadvocate.com</td>\n",
       "      <td>satire</td>\n",
       "      <td>http://www.betootaadvocate.com/humans-of-betoo...</td>\n",
       "      <td>ERROL PARKER | Editor-at-large | Contact\\n\\n“H...</td>\n",
       "      <td>2018-01-25 16:17:44.789555</td>\n",
       "      <td>2018-02-02 01:19:41.756632</td>\n",
       "      <td>...</td>\n",
       "      <td>NaN</td>\n",
       "      <td>NaN</td>\n",
       "      <td>406</td>\n",
       "      <td>11</td>\n",
       "      <td>0</td>\n",
       "      <td>29</td>\n",
       "      <td>['ERROL PARKER | Editor-at-large | Contact\\n\\n...</td>\n",
       "      <td>43</td>\n",
       "      <td>141</td>\n",
       "      <td>34.729064</td>\n",
       "    </tr>\n",
       "    <tr>\n",
       "      <th>3</th>\n",
       "      <td>7</td>\n",
       "      <td>7</td>\n",
       "      <td>369</td>\n",
       "      <td>433</td>\n",
       "      <td>beehivebugle.com</td>\n",
       "      <td>satire</td>\n",
       "      <td>http://beehivebugle.com/2013/11/18/american-fo...</td>\n",
       "      <td>American Fork’s East 17th Ward’s excitement er...</td>\n",
       "      <td>2018-01-25 16:17:44.789555</td>\n",
       "      <td>2018-02-02 01:19:41.756632</td>\n",
       "      <td>...</td>\n",
       "      <td>NaN</td>\n",
       "      <td>NaN</td>\n",
       "      <td>459</td>\n",
       "      <td>11</td>\n",
       "      <td>0</td>\n",
       "      <td>25</td>\n",
       "      <td>['American Fork’s East 17th Ward’s excitement ...</td>\n",
       "      <td>15</td>\n",
       "      <td>113</td>\n",
       "      <td>24.618736</td>\n",
       "    </tr>\n",
       "    <tr>\n",
       "      <th>4</th>\n",
       "      <td>12</td>\n",
       "      <td>12</td>\n",
       "      <td>603</td>\n",
       "      <td>685</td>\n",
       "      <td>beforeitsnews.com</td>\n",
       "      <td>fake</td>\n",
       "      <td>http://beforeitsnews.com/watercooler-topics/20...</td>\n",
       "      <td>Hobby Historian Claims to Have Discovered Forg...</td>\n",
       "      <td>2018-01-25 16:17:44.789555</td>\n",
       "      <td>2018-02-02 01:19:41.756632</td>\n",
       "      <td>...</td>\n",
       "      <td>NaN</td>\n",
       "      <td>NaN</td>\n",
       "      <td>172</td>\n",
       "      <td>13</td>\n",
       "      <td>0</td>\n",
       "      <td>9</td>\n",
       "      <td>['Hobby Historian Claims to Have Discovered Fo...</td>\n",
       "      <td>11</td>\n",
       "      <td>62</td>\n",
       "      <td>36.046512</td>\n",
       "    </tr>\n",
       "  </tbody>\n",
       "</table>\n",
       "<p>5 rows × 27 columns</p>\n",
       "</div>"
      ],
      "text/plain": [
       "   Unnamed: 0  Unnamed: 0.1  Unnamed: 0.1.1   id               domain    type  \\\n",
       "0           2             2             114  138             coed.com    fake   \n",
       "1           3             3             150  176    beforeitsnews.com    fake   \n",
       "2           6             6             345  408  betootaadvocate.com  satire   \n",
       "3           7             7             369  433     beehivebugle.com  satire   \n",
       "4          12            12             603  685    beforeitsnews.com    fake   \n",
       "\n",
       "                                                 url  \\\n",
       "0  https://coed.com/2018/01/23/boston-celtics-vs-...   \n",
       "1  http://beforeitsnews.com/prophecy/2018/01/the-...   \n",
       "2  http://www.betootaadvocate.com/humans-of-betoo...   \n",
       "3  http://beehivebugle.com/2013/11/18/american-fo...   \n",
       "4  http://beforeitsnews.com/watercooler-topics/20...   \n",
       "\n",
       "                                             content  \\\n",
       "0  VIEW GALLERY\\n\\nThe Boston Celtics are traveli...   \n",
       "1  The Truth About the Israel-Palestine Conflict\\...   \n",
       "2  ERROL PARKER | Editor-at-large | Contact\\n\\n“H...   \n",
       "3  American Fork’s East 17th Ward’s excitement er...   \n",
       "4  Hobby Historian Claims to Have Discovered Forg...   \n",
       "\n",
       "                   scraped_at                 inserted_at  \\\n",
       "0  2018-01-25 16:17:44.789555  2018-02-02 01:19:41.756632   \n",
       "1  2018-01-25 16:17:44.789555  2018-02-02 01:19:41.756632   \n",
       "2  2018-01-25 16:17:44.789555  2018-02-02 01:19:41.756632   \n",
       "3  2018-01-25 16:17:44.789555  2018-02-02 01:19:41.756632   \n",
       "4  2018-01-25 16:17:44.789555  2018-02-02 01:19:41.756632   \n",
       "\n",
       "               ...              summary source len_content  len_title  \\\n",
       "0              ...                  NaN    NaN         694          7   \n",
       "1              ...                  NaN    NaN        2663          6   \n",
       "2              ...                  NaN    NaN         406         11   \n",
       "3              ...                  NaN    NaN         459         11   \n",
       "4              ...                  NaN    NaN         172         13   \n",
       "\n",
       "  num_exclaim_title num_sentences_content  \\\n",
       "0                 0                    31   \n",
       "1                 0                   102   \n",
       "2                 0                    29   \n",
       "3                 0                    25   \n",
       "4                 0                     9   \n",
       "\n",
       "                                   sentences_content  num_paras  \\\n",
       "0  ['VIEW GALLERY\\n\\nThe Boston Celtics are trave...         37   \n",
       "1  ['The Truth About the Israel-Palestine Conflic...        165   \n",
       "2  ['ERROL PARKER | Editor-at-large | Contact\\n\\n...         43   \n",
       "3  ['American Fork’s East 17th Ward’s excitement ...         15   \n",
       "4  ['Hobby Historian Claims to Have Discovered Fo...         11   \n",
       "\n",
       "  num_punc_content  percent_punc_content_per_len  \n",
       "0              149                     21.469741  \n",
       "1              565                     21.216673  \n",
       "2              141                     34.729064  \n",
       "3              113                     24.618736  \n",
       "4               62                     36.046512  \n",
       "\n",
       "[5 rows x 27 columns]"
      ]
     },
     "execution_count": 24,
     "metadata": {},
     "output_type": "execute_result"
    }
   ],
   "source": [
    "FNC_Final.head()\n",
    "\n"
   ]
  },
  {
   "cell_type": "code",
   "execution_count": 115,
   "metadata": {},
   "outputs": [],
   "source": [
    "def cleanText(text):\n",
    "    #remove EOL \n",
    "    text = text.strip().replace(\"\\n\", \" \").replace(\"\\r\", \" \")\n",
    "    text= text.split(\" \")\n",
    "    \n",
    "    #remove stop words \n",
    "    stops = set(stopwords.words(\"english\"))\n",
    "    text = [w for w in text if not w in stops]\n",
    "    \n",
    "    # preprocess data to standardize lengths\n",
    "    text= text[0:999]\n",
    "        \n",
    "    text=' '.join(text)\n",
    "    \n",
    "#     text = replace_contraction(text)\n",
    "#     text = replace_links(text, \"link\")\n",
    "#     text = remove_numbers(text)\n",
    "#     text = re.sub(r'[,!@#$%^&*)(|/><\";:.?\\'\\\\}{]',\"\",text)\n",
    "#     text = text.lower()\n",
    "    return text"
   ]
  },
  {
   "cell_type": "code",
   "execution_count": 59,
   "metadata": {},
   "outputs": [
    {
     "data": {
      "text/plain": [
       "2878"
      ]
     },
     "execution_count": 59,
     "metadata": {},
     "output_type": "execute_result"
    }
   ],
   "source": [
    "sentence_input = cleanText(FNC_Final['content'][0:1][0])\n",
    "len (sentence_input)"
   ]
  },
  {
   "cell_type": "code",
   "execution_count": 63,
   "metadata": {},
   "outputs": [
    {
     "name": "stdout",
     "output_type": "stream",
     "text": [
      "[[ 0.25423464 -0.8940732  -0.02514392 ...  0.06810512 -0.41934192\n",
      "  -0.03616357]\n",
      " [-1.2254356  -0.5600414  -0.17601374 ...  0.22459243 -0.39447024\n",
      "  -0.13764521]\n",
      " [-0.5341146  -0.6158735  -0.56610096 ... -0.16593632 -0.35328364\n",
      "  -0.04602914]\n",
      " ...\n",
      " [-0.65281457  0.3607911  -0.15394424 ...  0.05694397  0.06642541\n",
      "   0.3493764 ]\n",
      " [ 0.12321749 -0.3254964  -0.46529466 ...  0.34293878  0.05647942\n",
      "   0.3826133 ]\n",
      " [-0.466352   -0.18451743 -0.12319481 ... -0.08025219  0.03607737\n",
      "   0.1128069 ]]\n",
      "(2878, 1024)\n"
     ]
    }
   ],
   "source": [
    "# create embeddings for one of the articles sentences from the FNC dataset\n",
    "elmo = hub.Module(\"module/module_elmo2/\", trainable=True)\n",
    "\n",
    "sentence_input = list(cleanText(FNC_Final['content'][0:1][0]))\n",
    "\n",
    "embeddings = elmo(\n",
    "sentence_input,\n",
    "signature=\"default\",\n",
    "as_dict=True)[\"elmo\"]\n",
    "\n",
    "embeddings = tf.reshape(embeddings,[-1,1024])\n",
    "\n",
    "with tf.Session() as session:\n",
    "    session.run([tf.global_variables_initializer(), tf.tables_initializer()])\n",
    "    LifeIllusion = session.run(embeddings)\n",
    "    \n",
    "print(LifeIllusion)\n",
    "print(LifeIllusion.shape)\n"
   ]
  },
  {
   "cell_type": "code",
   "execution_count": 28,
   "metadata": {},
   "outputs": [
    {
     "data": {
      "text/plain": [
       "142395"
      ]
     },
     "execution_count": 28,
     "metadata": {},
     "output_type": "execute_result"
    }
   ],
   "source": [
    "FNC_Final['type'].count()"
   ]
  },
  {
   "cell_type": "code",
   "execution_count": 64,
   "metadata": {},
   "outputs": [
    {
     "data": {
      "text/plain": [
       "<matplotlib.axes._subplots.AxesSubplot at 0x1a58c8e2b0>"
      ]
     },
     "execution_count": 64,
     "metadata": {},
     "output_type": "execute_result"
    },
    {
     "data": {
      "image/png": "[encoded data removed]",
      "text/plain": [
       "<Figure size 432x288 with 1 Axes>"
      ]
     },
     "metadata": {
      "needs_background": "light"
     },
     "output_type": "display_data"
    }
   ],
   "source": [
    "# change \"reliable\", \"nan\", and 'unkown' to 0\n",
    "# change \"rumor\",\"hate\",\"unreliable\", etc. to 1\n",
    "FNC_Final['label']= FNC_Final['type']\n",
    "FNC_Final.loc[FNC_Final['type'] == 'reliable', 'label'] = 0\n",
    "FNC_Final.loc[FNC_Final['type'] == 'satire', 'label'] = 1\n",
    "FNC_Final.loc[FNC_Final['type'] == 'fake', 'label'] = 1\n",
    "FNC_Final.loc[FNC_Final['type'] == 'bias', 'label'] = 1\n",
    "FNC_Final.loc[FNC_Final['type'] == 'political', 'label'] = 1\n",
    "\n",
    "# plot the distribution, as can be seen it is heavily skewed to fake news\n",
    "FNC_Final['label'].plot.hist()\n"
   ]
  },
  {
   "cell_type": "code",
   "execution_count": 116,
   "metadata": {
    "scrolled": true
   },
   "outputs": [
    {
     "name": "stdout",
     "output_type": "stream",
     "text": [
      "1\n",
      "VIEW GALLERY  The Boston Celtics traveling west coast battle longtime rival LA Lakers. The rivalry dates back days Magic vs. Bird grown Kobe vs. Big 3. Now time start new era Lakers Celtics rivalry names like Irving, Tatum, Ball, Ingram. This prove ’em game Lakers hot streak winning two row adding another big W C’s could wonders moving forward. The Celtics trying snap funk themselves, nice win LA might trick.  The Boston Celtics (34-13) currently three-game losing streak fly Staples Center. The Celtics coming four-game home stand went 1-3, west coast trip lot finish first half season. Boston lead Kyrie Irving who’s one heck season averaging 24.5 points! Al Horford low key leading Celtics assists, rebounds, steals per game, going show beat Lakers.  The Los Angeles Lakers (17-29) fresh second win row 5th straight home blowing Knicks 20! The Lakers might without 2nd overall pick Lonzo Ball one; Ball leads team 7.1 assists rebound per game. Lucky Lakers top two scorers Kyle Kuzman Brandon Ingram averaging 16.4 15.7 points per game respectively. Luke Walton trying best win extremely young roster true veteran Brook Lopez brought excellent leadership team. The Lakers future bright, want show Celtics aren’t going cellar league long.  Celtics vs. Lakers: Game Time, TV Channel & Viewing Details  Event: Celtics vs. Lakers  Date: Tuesday, January 23, 2018  Start Time: 10:30 P.M. EST  Location: Stapels Center Los Angeles, California  Broadcast: TNT  How Watch Celtics vs. Lakers Live Stream Online  Your best bet watching Skills Competition online via live stream WatchTNT need sign log password cable provider.  If don’t access cable satellite log-in, live stream game online DIRECTV NOW. DIRECTV offers free seven-day trial, you’ll receive full seven days free paid membership begins. If cancel subscription within week, charged. DIRECTV NOW available Desktop, Apple TV, Amazon Fire TV Chromecast.  If don’t access cable satellite log-in, watch show Sling TV. Sling TV service allows subscribers watch live on-demand TV channels TVs, computer mobile device monthly fee. It’s like cable satellite TV service, except it’s delivered internet. The service’s Orange package includes FOX costs $20 month, sign free seven-day trial. If cancel subscription within week, charged. Once signed up, simply download app computer start watching.  How Watch Celtics vs. Lakers On Your Tablet Or Mobile Device  You live stream game WatchTNT app.  You download FoxSportsGo app Google Play, Amazon, iTunes, Windows Store. The Fox Sports Go app also available following devices: Apple TV, Roku, Android TV Fire TV.  How To Live Celtics vs. Lakers Online Without Cable Subscription  You also live stream game Sling TV free trial. Just click Sling website click “Watch Now 7 Days Free” free trial. Choose Sling Orange package, costs $20 per month comes ESPN, along many sports channels.\n"
     ]
    }
   ],
   "source": [
    "x = np.array(FNC_Final[\"content\"].apply(cleanText))\n",
    "y = np.array(FNC_Final[\"label\"])\n",
    "\n",
    "print(y[0])\n",
    "print(x[0])"
   ]
  },
  {
   "cell_type": "code",
   "execution_count": 117,
   "metadata": {},
   "outputs": [
    {
     "data": {
      "text/plain": [
       "(142395,)"
      ]
     },
     "execution_count": 117,
     "metadata": {},
     "output_type": "execute_result"
    }
   ],
   "source": [
    "x.shape\n"
   ]
  },
  {
   "cell_type": "code",
   "execution_count": 120,
   "metadata": {},
   "outputs": [
    {
     "ename": "TypeError",
     "evalue": "len() of unsized object",
     "output_type": "error",
     "traceback": [
      "\u001b[0;31m---------------------------------------------------------------------------\u001b[0m",
      "\u001b[0;31mTypeError\u001b[0m                                 Traceback (most recent call last)",
      "\u001b[0;32m<ipython-input-120-ff22d9598180>\u001b[0m in \u001b[0;36m<module>\u001b[0;34m\u001b[0m\n\u001b[0;32m----> 1\u001b[0;31m \u001b[0mx\u001b[0m\u001b[0;34m=\u001b[0m \u001b[0mpad_sequences\u001b[0m\u001b[0;34m(\u001b[0m\u001b[0mx\u001b[0m\u001b[0;34m,\u001b[0m \u001b[0mvalue\u001b[0m\u001b[0;34m=\u001b[0m \u001b[0;34m\"PAD\"\u001b[0m\u001b[0;34m,\u001b[0m \u001b[0mdtype\u001b[0m \u001b[0;34m=\u001b[0m \u001b[0;34m'str'\u001b[0m\u001b[0;34m,\u001b[0m \u001b[0mpadding\u001b[0m\u001b[0;34m=\u001b[0m \u001b[0;34m'post'\u001b[0m\u001b[0;34m,\u001b[0m \u001b[0mtruncating\u001b[0m \u001b[0;34m=\u001b[0m \u001b[0;34m'post'\u001b[0m\u001b[0;34m,\u001b[0m \u001b[0mmaxlen\u001b[0m\u001b[0;34m=\u001b[0m\u001b[0;36m1000\u001b[0m\u001b[0;34m)\u001b[0m\u001b[0;34m\u001b[0m\u001b[0;34m\u001b[0m\u001b[0m\n\u001b[0m\u001b[1;32m      2\u001b[0m \u001b[0;34m\u001b[0m\u001b[0m\n",
      "\u001b[0;32m/anaconda3/lib/python3.7/site-packages/keras_preprocessing/sequence.py\u001b[0m in \u001b[0;36mpad_sequences\u001b[0;34m(sequences, maxlen, dtype, padding, truncating, value)\u001b[0m\n\u001b[1;32m     99\u001b[0m \u001b[0;34m\u001b[0m\u001b[0m\n\u001b[1;32m    100\u001b[0m         \u001b[0;32mif\u001b[0m \u001b[0mpadding\u001b[0m \u001b[0;34m==\u001b[0m \u001b[0;34m'post'\u001b[0m\u001b[0;34m:\u001b[0m\u001b[0;34m\u001b[0m\u001b[0;34m\u001b[0m\u001b[0m\n\u001b[0;32m--> 101\u001b[0;31m             \u001b[0mx\u001b[0m\u001b[0;34m[\u001b[0m\u001b[0midx\u001b[0m\u001b[0;34m,\u001b[0m \u001b[0;34m:\u001b[0m\u001b[0mlen\u001b[0m\u001b[0;34m(\u001b[0m\u001b[0mtrunc\u001b[0m\u001b[0;34m)\u001b[0m\u001b[0;34m]\u001b[0m \u001b[0;34m=\u001b[0m \u001b[0mtrunc\u001b[0m\u001b[0;34m\u001b[0m\u001b[0;34m\u001b[0m\u001b[0m\n\u001b[0m\u001b[1;32m    102\u001b[0m         \u001b[0;32melif\u001b[0m \u001b[0mpadding\u001b[0m \u001b[0;34m==\u001b[0m \u001b[0;34m'pre'\u001b[0m\u001b[0;34m:\u001b[0m\u001b[0;34m\u001b[0m\u001b[0;34m\u001b[0m\u001b[0m\n\u001b[1;32m    103\u001b[0m             \u001b[0mx\u001b[0m\u001b[0;34m[\u001b[0m\u001b[0midx\u001b[0m\u001b[0;34m,\u001b[0m \u001b[0;34m-\u001b[0m\u001b[0mlen\u001b[0m\u001b[0;34m(\u001b[0m\u001b[0mtrunc\u001b[0m\u001b[0;34m)\u001b[0m\u001b[0;34m:\u001b[0m\u001b[0;34m]\u001b[0m \u001b[0;34m=\u001b[0m \u001b[0mtrunc\u001b[0m\u001b[0;34m\u001b[0m\u001b[0;34m\u001b[0m\u001b[0m\n",
      "\u001b[0;31mTypeError\u001b[0m: len() of unsized object"
     ]
    }
   ],
   "source": [
    "x= pad_sequences(x, value= \"PAD\", dtype = 'str', padding= 'post', truncating = 'post', maxlen=1000)\n",
    "\n"
   ]
  },
  {
   "cell_type": "code",
   "execution_count": 118,
   "metadata": {},
   "outputs": [
    {
     "name": "stdout",
     "output_type": "stream",
     "text": [
      "2878\n"
     ]
    }
   ],
   "source": [
    "print(len(x[0]))\n",
    "\n"
   ]
  },
  {
   "cell_type": "code",
   "execution_count": 87,
   "metadata": {},
   "outputs": [
    {
     "name": "stdout",
     "output_type": "stream",
     "text": [
      "V G  T B C t w c b l r L L T r d b d M v B g K v B 3 N t s n e L C r n l I T B I T p ’ g L h s w t r a a b W C c w m f T C t s f t n w L m t  T B C ( c t l s f S C T C c f h s w 1 w c t l f f h s B l K I w o h s a 2 p A H l k l C a r s p g g s b L  T L A L ( f s w r 5 s h b K 2 T L m w 2 o p L B o B l t 7 a r p g L L t t s K K B I a 1 1 p p g r L W t b w e y r t v B L b e l t T L f b w s C a g c l l  C v L G T T C & V D  E C v L  D T J 2 2  S T 1 P E  L S C L A C  B T  H W C v L L S O  Y b b w S C o v l s W n s l p c p  I d a c s l l s g o D N D o f s t y r f s d f p m b I c s w w c D N a D A T A F T C  I d a c s l w s S T S T s a s w l o T c T c m d m f I l c s T s e i d i T s O p i F c $ m s f s t I c s w w c O s u s d a c s w  H W C v L O Y T O M D  Y l s g W a  Y d F a G P A i W S T F S G a a a f d A T R A T F T  H T L C v L O W C S  Y a l s g S T f t J c S w c “ N 7 D F f t C S O p c $ p m c E a m s c P P P P P P P P P P P P P P P P P P P P P P P P P P P P P P P P P P P P P P P P P P P P P P P P P P P P P P P P P P P P P P P P P P P P P P P P P P P P P P P P P P P P P P P P P P P P P P P P P P P P P P P P P P P P P P P P P P P P P P P P P P P P P P P P P P P P P P P P P P P P P P P P P P P P P P P P P P P P P P P P P P P P P P P P P P P P P P P P P P P P P P P P P P P P P P P P P P P P P P P P P P P P P P P P P P P P P P P P P P P P P P P P P P P P P P P P P P P P P P P P P P P P P P P P P P P P P P P P P P P P P P P P P P P P P P P P P P P P P P P P P P P P P P P P P P P P P P P P P P P P P P P P P P P P P P P P P P P P P P P P P P P P P P P P P P P P P P P P P P P P P P P P P P P P P P P P P P P P P P P P P P P P P P P P P P P P P P P P P P P P P P P P P P P P P P P P P P P P P P P P P P P P P P P P P P P P P P P P P P P P P P P P P P P P P P P P P P P P P P P P P P P P P P P P P P P P P P P P P P P P P P P P P P P P P P P P P P P P P P P P P P P P P P P P P P P P P P P P P P P P P P P P P P P P P P P P P P P P P P P P P P P P P P P P P P P\n"
     ]
    }
   ],
   "source": [
    "#get embeddings for x \n",
    "\n",
    "elmo = hub.Module(\"module/module_elmo2/\", trainable=True)\n",
    "\n",
    "sentence_input = tf.constant(shape=[1], name='sentence_input')\n",
    "embeddings = elmo(sentence_input,signature=\"default\",as_dict=True)[\"elmo\"]\n",
    "embeddings = tf.reshape(embeddings,[-1,1024])\n",
    "    \n",
    "\n",
    "with tf.Session() as session:\n",
    "    session.run([tf.global_variables_initializer(), tf.tables_initializer()])\n",
    "    x[i]= session.run(embeddings)\n",
    "    \n",
    "print(LifeIllusion)\n",
    "print(LifeIllusion.shape)"
   ]
  },
  {
   "cell_type": "code",
   "execution_count": 73,
   "metadata": {},
   "outputs": [
    {
     "name": "stdout",
     "output_type": "stream",
     "text": [
      "113918 113918\n",
      "28477 28477\n"
     ]
    }
   ],
   "source": [
    "# split data into train and test\n",
    "\n",
    "msk = np.random.rand(len(x)) < 0.8\n",
    "x_train = x[msk]\n",
    "x_test = x[~msk]\n",
    "\n",
    "y_train = y[msk]\n",
    "y_test = y[~msk]\n",
    "\n",
    "#train_data = train[['content','type']].copy()\n",
    "#test_data = test[['content','type']].copy()\n",
    "\n",
    "print(len(x_train), len(y_train))\n",
    "print(len(x_test), len(y_test))\n",
    "#print(train_data['type'].head(10))\n",
    "#print(train_data['content'][0])"
   ]
  },
  {
   "cell_type": "code",
   "execution_count": 74,
   "metadata": {},
   "outputs": [],
   "source": [
    "\n",
    "\n",
    "\n",
    "x_test = pad_sequences(x_test, value= \"PAD\", dtype = 'str', padding= 'post', truncating = 'post', maxlen=1000)\n"
   ]
  },
  {
   "cell_type": "code",
   "execution_count": 75,
   "metadata": {},
   "outputs": [
    {
     "data": {
      "text/plain": [
       "1000"
      ]
     },
     "execution_count": 75,
     "metadata": {},
     "output_type": "execute_result"
    }
   ],
   "source": [
    "    np.save('xtr_shuffled.npy',xtr)\n",
    "    np.save('xde_shuffled.npy',xde)\n",
    "    np.save('xte_shuffled.npy',xte)\n",
    "    np.save('yte_shuffled.npy',yte)\n",
    "    np.save('ytr_shuffled.npy',ytr)\n",
    "    np.save('yde_shuffled.npy',yde)"
   ]
  },
  {
   "cell_type": "code",
   "execution_count": null,
   "metadata": {},
   "outputs": [],
   "source": []
  },
  {
   "cell_type": "code",
   "execution_count": null,
   "metadata": {},
   "outputs": [],
   "source": []
  },
  {
   "cell_type": "code",
   "execution_count": null,
   "metadata": {},
   "outputs": [],
   "source": []
  },
  {
   "cell_type": "code",
   "execution_count": null,
   "metadata": {},
   "outputs": [],
   "source": []
  },
  {
   "cell_type": "code",
   "execution_count": null,
   "metadata": {},
   "outputs": [],
   "source": []
  },
  {
   "cell_type": "code",
   "execution_count": null,
   "metadata": {},
   "outputs": [],
   "source": []
  },
  {
   "cell_type": "code",
   "execution_count": null,
   "metadata": {},
   "outputs": [],
   "source": []
  },
  {
   "cell_type": "code",
   "execution_count": 7,
   "metadata": {},
   "outputs": [
    {
     "ename": "FileNotFoundError",
     "evalue": "[Errno 2] File b'sentences.csv' does not exist: b'sentences.csv'",
     "output_type": "error",
     "traceback": [
      "\u001b[0;31m---------------------------------------------------------------------------\u001b[0m",
      "\u001b[0;31mFileNotFoundError\u001b[0m                         Traceback (most recent call last)",
      "\u001b[0;32m<ipython-input-7-805c453de521>\u001b[0m in \u001b[0;36m<module>\u001b[0;34m\u001b[0m\n\u001b[0;32m----> 1\u001b[0;31m \u001b[0mdf\u001b[0m \u001b[0;34m=\u001b[0m \u001b[0mpd\u001b[0m\u001b[0;34m.\u001b[0m\u001b[0mread_csv\u001b[0m\u001b[0;34m(\u001b[0m\u001b[0;34m\"sentences.csv\"\u001b[0m\u001b[0;34m,\u001b[0m\u001b[0mencoding\u001b[0m\u001b[0;34m=\u001b[0m\u001b[0;34m\"latin\"\u001b[0m\u001b[0;34m)\u001b[0m\u001b[0;34m\u001b[0m\u001b[0;34m\u001b[0m\u001b[0m\n\u001b[0m\u001b[1;32m      2\u001b[0m \u001b[0mdf\u001b[0m \u001b[0;34m=\u001b[0m \u001b[0mdf\u001b[0m\u001b[0;34m[\u001b[0m\u001b[0mdf\u001b[0m\u001b[0;34m[\u001b[0m\u001b[0;34m\"sentiment\"\u001b[0m\u001b[0;34m]\u001b[0m\u001b[0;34m!=\u001b[0m\u001b[0;34m\"Neutral\"\u001b[0m\u001b[0;34m]\u001b[0m\u001b[0;34m\u001b[0m\u001b[0;34m\u001b[0m\u001b[0m\n\u001b[1;32m      3\u001b[0m \u001b[0mdf\u001b[0m\u001b[0;34m.\u001b[0m\u001b[0mloc\u001b[0m\u001b[0;34m[\u001b[0m\u001b[0mdf\u001b[0m\u001b[0;34m[\u001b[0m\u001b[0;34m\"sentiment\"\u001b[0m\u001b[0;34m]\u001b[0m\u001b[0;34m==\u001b[0m\u001b[0;34m'Negative'\u001b[0m\u001b[0;34m,\u001b[0m\u001b[0;34m\"sentiment\"\u001b[0m\u001b[0;34m]\u001b[0m\u001b[0;34m=\u001b[0m\u001b[0;36m0\u001b[0m\u001b[0;34m\u001b[0m\u001b[0;34m\u001b[0m\u001b[0m\n\u001b[1;32m      4\u001b[0m \u001b[0mdf\u001b[0m\u001b[0;34m.\u001b[0m\u001b[0mloc\u001b[0m\u001b[0;34m[\u001b[0m\u001b[0mdf\u001b[0m\u001b[0;34m[\u001b[0m\u001b[0;34m\"sentiment\"\u001b[0m\u001b[0;34m]\u001b[0m\u001b[0;34m==\u001b[0m\u001b[0;34m'Positive'\u001b[0m\u001b[0;34m,\u001b[0m\u001b[0;34m\"sentiment\"\u001b[0m\u001b[0;34m]\u001b[0m\u001b[0;34m=\u001b[0m\u001b[0;36m1\u001b[0m\u001b[0;34m\u001b[0m\u001b[0;34m\u001b[0m\u001b[0m\n",
      "\u001b[0;32m~/anaconda3/lib/python3.7/site-packages/pandas/io/parsers.py\u001b[0m in \u001b[0;36mparser_f\u001b[0;34m(filepath_or_buffer, sep, delimiter, header, names, index_col, usecols, squeeze, prefix, mangle_dupe_cols, dtype, engine, converters, true_values, false_values, skipinitialspace, skiprows, skipfooter, nrows, na_values, keep_default_na, na_filter, verbose, skip_blank_lines, parse_dates, infer_datetime_format, keep_date_col, date_parser, dayfirst, iterator, chunksize, compression, thousands, decimal, lineterminator, quotechar, quoting, doublequote, escapechar, comment, encoding, dialect, tupleize_cols, error_bad_lines, warn_bad_lines, delim_whitespace, low_memory, memory_map, float_precision)\u001b[0m\n\u001b[1;32m    700\u001b[0m                     skip_blank_lines=skip_blank_lines)\n\u001b[1;32m    701\u001b[0m \u001b[0;34m\u001b[0m\u001b[0m\n\u001b[0;32m--> 702\u001b[0;31m         \u001b[0;32mreturn\u001b[0m \u001b[0m_read\u001b[0m\u001b[0;34m(\u001b[0m\u001b[0mfilepath_or_buffer\u001b[0m\u001b[0;34m,\u001b[0m \u001b[0mkwds\u001b[0m\u001b[0;34m)\u001b[0m\u001b[0;34m\u001b[0m\u001b[0;34m\u001b[0m\u001b[0m\n\u001b[0m\u001b[1;32m    703\u001b[0m \u001b[0;34m\u001b[0m\u001b[0m\n\u001b[1;32m    704\u001b[0m     \u001b[0mparser_f\u001b[0m\u001b[0;34m.\u001b[0m\u001b[0m__name__\u001b[0m \u001b[0;34m=\u001b[0m \u001b[0mname\u001b[0m\u001b[0;34m\u001b[0m\u001b[0;34m\u001b[0m\u001b[0m\n",
      "\u001b[0;32m~/anaconda3/lib/python3.7/site-packages/pandas/io/parsers.py\u001b[0m in \u001b[0;36m_read\u001b[0;34m(filepath_or_buffer, kwds)\u001b[0m\n\u001b[1;32m    427\u001b[0m \u001b[0;34m\u001b[0m\u001b[0m\n\u001b[1;32m    428\u001b[0m     \u001b[0;31m# Create the parser.\u001b[0m\u001b[0;34m\u001b[0m\u001b[0;34m\u001b[0m\u001b[0;34m\u001b[0m\u001b[0m\n\u001b[0;32m--> 429\u001b[0;31m     \u001b[0mparser\u001b[0m \u001b[0;34m=\u001b[0m \u001b[0mTextFileReader\u001b[0m\u001b[0;34m(\u001b[0m\u001b[0mfilepath_or_buffer\u001b[0m\u001b[0;34m,\u001b[0m \u001b[0;34m**\u001b[0m\u001b[0mkwds\u001b[0m\u001b[0;34m)\u001b[0m\u001b[0;34m\u001b[0m\u001b[0;34m\u001b[0m\u001b[0m\n\u001b[0m\u001b[1;32m    430\u001b[0m \u001b[0;34m\u001b[0m\u001b[0m\n\u001b[1;32m    431\u001b[0m     \u001b[0;32mif\u001b[0m \u001b[0mchunksize\u001b[0m \u001b[0;32mor\u001b[0m \u001b[0miterator\u001b[0m\u001b[0;34m:\u001b[0m\u001b[0;34m\u001b[0m\u001b[0;34m\u001b[0m\u001b[0m\n",
      "\u001b[0;32m~/anaconda3/lib/python3.7/site-packages/pandas/io/parsers.py\u001b[0m in \u001b[0;36m__init__\u001b[0;34m(self, f, engine, **kwds)\u001b[0m\n\u001b[1;32m    893\u001b[0m             \u001b[0mself\u001b[0m\u001b[0;34m.\u001b[0m\u001b[0moptions\u001b[0m\u001b[0;34m[\u001b[0m\u001b[0;34m'has_index_names'\u001b[0m\u001b[0;34m]\u001b[0m \u001b[0;34m=\u001b[0m \u001b[0mkwds\u001b[0m\u001b[0;34m[\u001b[0m\u001b[0;34m'has_index_names'\u001b[0m\u001b[0;34m]\u001b[0m\u001b[0;34m\u001b[0m\u001b[0;34m\u001b[0m\u001b[0m\n\u001b[1;32m    894\u001b[0m \u001b[0;34m\u001b[0m\u001b[0m\n\u001b[0;32m--> 895\u001b[0;31m         \u001b[0mself\u001b[0m\u001b[0;34m.\u001b[0m\u001b[0m_make_engine\u001b[0m\u001b[0;34m(\u001b[0m\u001b[0mself\u001b[0m\u001b[0;34m.\u001b[0m\u001b[0mengine\u001b[0m\u001b[0;34m)\u001b[0m\u001b[0;34m\u001b[0m\u001b[0;34m\u001b[0m\u001b[0m\n\u001b[0m\u001b[1;32m    896\u001b[0m \u001b[0;34m\u001b[0m\u001b[0m\n\u001b[1;32m    897\u001b[0m     \u001b[0;32mdef\u001b[0m \u001b[0mclose\u001b[0m\u001b[0;34m(\u001b[0m\u001b[0mself\u001b[0m\u001b[0;34m)\u001b[0m\u001b[0;34m:\u001b[0m\u001b[0;34m\u001b[0m\u001b[0;34m\u001b[0m\u001b[0m\n",
      "\u001b[0;32m~/anaconda3/lib/python3.7/site-packages/pandas/io/parsers.py\u001b[0m in \u001b[0;36m_make_engine\u001b[0;34m(self, engine)\u001b[0m\n\u001b[1;32m   1120\u001b[0m     \u001b[0;32mdef\u001b[0m \u001b[0m_make_engine\u001b[0m\u001b[0;34m(\u001b[0m\u001b[0mself\u001b[0m\u001b[0;34m,\u001b[0m \u001b[0mengine\u001b[0m\u001b[0;34m=\u001b[0m\u001b[0;34m'c'\u001b[0m\u001b[0;34m)\u001b[0m\u001b[0;34m:\u001b[0m\u001b[0;34m\u001b[0m\u001b[0;34m\u001b[0m\u001b[0m\n\u001b[1;32m   1121\u001b[0m         \u001b[0;32mif\u001b[0m \u001b[0mengine\u001b[0m \u001b[0;34m==\u001b[0m \u001b[0;34m'c'\u001b[0m\u001b[0;34m:\u001b[0m\u001b[0;34m\u001b[0m\u001b[0;34m\u001b[0m\u001b[0m\n\u001b[0;32m-> 1122\u001b[0;31m             \u001b[0mself\u001b[0m\u001b[0;34m.\u001b[0m\u001b[0m_engine\u001b[0m \u001b[0;34m=\u001b[0m \u001b[0mCParserWrapper\u001b[0m\u001b[0;34m(\u001b[0m\u001b[0mself\u001b[0m\u001b[0;34m.\u001b[0m\u001b[0mf\u001b[0m\u001b[0;34m,\u001b[0m \u001b[0;34m**\u001b[0m\u001b[0mself\u001b[0m\u001b[0;34m.\u001b[0m\u001b[0moptions\u001b[0m\u001b[0;34m)\u001b[0m\u001b[0;34m\u001b[0m\u001b[0;34m\u001b[0m\u001b[0m\n\u001b[0m\u001b[1;32m   1123\u001b[0m         \u001b[0;32melse\u001b[0m\u001b[0;34m:\u001b[0m\u001b[0;34m\u001b[0m\u001b[0;34m\u001b[0m\u001b[0m\n\u001b[1;32m   1124\u001b[0m             \u001b[0;32mif\u001b[0m \u001b[0mengine\u001b[0m \u001b[0;34m==\u001b[0m \u001b[0;34m'python'\u001b[0m\u001b[0;34m:\u001b[0m\u001b[0;34m\u001b[0m\u001b[0;34m\u001b[0m\u001b[0m\n",
      "\u001b[0;32m~/anaconda3/lib/python3.7/site-packages/pandas/io/parsers.py\u001b[0m in \u001b[0;36m__init__\u001b[0;34m(self, src, **kwds)\u001b[0m\n\u001b[1;32m   1851\u001b[0m         \u001b[0mkwds\u001b[0m\u001b[0;34m[\u001b[0m\u001b[0;34m'usecols'\u001b[0m\u001b[0;34m]\u001b[0m \u001b[0;34m=\u001b[0m \u001b[0mself\u001b[0m\u001b[0;34m.\u001b[0m\u001b[0musecols\u001b[0m\u001b[0;34m\u001b[0m\u001b[0;34m\u001b[0m\u001b[0m\n\u001b[1;32m   1852\u001b[0m \u001b[0;34m\u001b[0m\u001b[0m\n\u001b[0;32m-> 1853\u001b[0;31m         \u001b[0mself\u001b[0m\u001b[0;34m.\u001b[0m\u001b[0m_reader\u001b[0m \u001b[0;34m=\u001b[0m \u001b[0mparsers\u001b[0m\u001b[0;34m.\u001b[0m\u001b[0mTextReader\u001b[0m\u001b[0;34m(\u001b[0m\u001b[0msrc\u001b[0m\u001b[0;34m,\u001b[0m \u001b[0;34m**\u001b[0m\u001b[0mkwds\u001b[0m\u001b[0;34m)\u001b[0m\u001b[0;34m\u001b[0m\u001b[0;34m\u001b[0m\u001b[0m\n\u001b[0m\u001b[1;32m   1854\u001b[0m         \u001b[0mself\u001b[0m\u001b[0;34m.\u001b[0m\u001b[0munnamed_cols\u001b[0m \u001b[0;34m=\u001b[0m \u001b[0mself\u001b[0m\u001b[0;34m.\u001b[0m\u001b[0m_reader\u001b[0m\u001b[0;34m.\u001b[0m\u001b[0munnamed_cols\u001b[0m\u001b[0;34m\u001b[0m\u001b[0;34m\u001b[0m\u001b[0m\n\u001b[1;32m   1855\u001b[0m \u001b[0;34m\u001b[0m\u001b[0m\n",
      "\u001b[0;32mpandas/_libs/parsers.pyx\u001b[0m in \u001b[0;36mpandas._libs.parsers.TextReader.__cinit__\u001b[0;34m()\u001b[0m\n",
      "\u001b[0;32mpandas/_libs/parsers.pyx\u001b[0m in \u001b[0;36mpandas._libs.parsers.TextReader._setup_parser_source\u001b[0;34m()\u001b[0m\n",
      "\u001b[0;31mFileNotFoundError\u001b[0m: [Errno 2] File b'sentences.csv' does not exist: b'sentences.csv'"
     ]
    }
   ],
   "source": [
    "# df = pd.read_csv(\"sentences.csv\",encoding=\"latin\")\n",
    "# df = df[df[\"sentiment\"]!=\"Neutral\"]\n",
    "# df.loc[df[\"sentiment\"]=='Negative',\"sentiment\"]=0\n",
    "# df.loc[df[\"sentiment\"]=='Positive',\"sentiment\"]=1"
   ]
  },
  {
   "cell_type": "code",
   "execution_count": null,
   "metadata": {},
   "outputs": [],
   "source": [
    "# import re\n",
    "# def cleanText(text):\n",
    "#     text = text.strip().replace(\"\\n\", \" \").replace(\"\\r\", \" \")\n",
    "#     text = replace_contraction(text)\n",
    "#     text = replace_links(text, \"link\")\n",
    "#     text = remove_numbers(text)\n",
    "#     text = re.sub(r'[,!@#$%^&*)(|/><\";:.?\\'\\\\}{]',\"\",text)\n",
    "#     text = text.lower()\n",
    "#     return text\n",
    "# X = np.array(df[\"text\"].apply(cleanText))\n",
    "# y = np.array(df[\"sentiment\"])"
   ]
  },
  {
   "cell_type": "code",
   "execution_count": null,
   "metadata": {},
   "outputs": [],
   "source": [
    "# embed = hub.Module(\"module/module_elmo2\")\n",
    "# def ELMoEmbedding(x):\n",
    "#     return embed(tf.squeeze(tf.cast(x, tf.string)), signature=\"default\", as_dict=True)[\"default\"]"
   ]
  },
  {
   "cell_type": "code",
   "execution_count": null,
   "metadata": {},
   "outputs": [],
   "source": [
    "# def build_model(): \n",
    "#     input_text = Input(shape=(1,), dtype=\"string\")\n",
    "#     embedding = Lambda(ELMoEmbedding, output_shape=(1024, ))(input_text)\n",
    "#     dense = Dense(256, activation='relu', kernel_regularizer=keras.regularizers.l2(0.001))(embedding)\n",
    "#     pred = Dense(1, activation='sigmoid')(dense)\n",
    "#     model = Model(inputs=[input_text], outputs=pred)\n",
    "#     model.compile(loss='binary_crossentropy', optimizer='rmsprop', metrics=['accuracy'])\n",
    "#     return model\n",
    "# model_elmo = build_model()"
   ]
  },
  {
   "cell_type": "code",
   "execution_count": null,
   "metadata": {},
   "outputs": [],
   "source": [
    "# with tf.Session() as session:\n",
    "#     K.set_session(session)\n",
    "#     session.run(tf.global_variables_initializer())  \n",
    "#     session.run(tf.tables_initializer())\n",
    "#     history = model_elmo.fit(X, y, epochs=5, batch_size=256, validation_split = 0.2)\n",
    "#     model_elmo.save_weights('./model_elmo_weights.h5')"
   ]
  },
  {
   "cell_type": "code",
   "execution_count": null,
   "metadata": {},
   "outputs": [],
   "source": []
  },
  {
   "cell_type": "code",
   "execution_count": null,
   "metadata": {},
   "outputs": [],
   "source": []
  },
  {
   "cell_type": "code",
   "execution_count": null,
   "metadata": {},
   "outputs": [],
   "source": []
  },
  {
   "cell_type": "code",
   "execution_count": null,
   "metadata": {},
   "outputs": [],
   "source": []
  },
  {
   "cell_type": "code",
   "execution_count": null,
   "metadata": {},
   "outputs": [],
   "source": []
  },
  {
   "cell_type": "code",
   "execution_count": null,
   "metadata": {},
   "outputs": [],
   "source": []
  },
  {
   "cell_type": "code",
   "execution_count": null,
   "metadata": {},
   "outputs": [],
   "source": []
  }
 ],
 "metadata": {
  "kernelspec": {
   "display_name": "Python 3",
   "language": "python",
   "name": "python3"
  },
  "language_info": {
   "codemirror_mode": {
    "name": "ipython",
    "version": 3
   },
   "file_extension": ".py",
   "mimetype": "text/x-python",
   "name": "python",
   "nbconvert_exporter": "python",
   "pygments_lexer": "ipython3",
   "version": "3.7.1"
  }
 },
 "nbformat": 4,
 "nbformat_minor": 2
}
