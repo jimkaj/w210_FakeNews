{
 "cells": [
  {
   "cell_type": "code",
   "execution_count": 2,
   "metadata": {},
   "outputs": [],
   "source": [
    "import tensorflow_hub as hub\n",
    "import tensorflow as tf\n",
    "from tensorflow import keras\n",
    "import numpy as np\n",
    "import pandas as pd\n",
    "import re\n",
    "import os\n",
    "import seaborn\n",
    "import matplotlib.pyplot as plt\n",
    "%matplotlib inline\n",
    "from nltk.tokenize import sent_tokenize, word_tokenize\n",
    "from nltk.corpus import stopwords\n",
    "from keras.preprocessing.sequence import pad_sequences"
   ]
  },
  {
   "cell_type": "code",
   "execution_count": 38,
   "metadata": {},
   "outputs": [],
   "source": [
    "import numpy as np\n",
    "import pandas as pd\n",
    "import keras\n",
    "from keras import backend as K\n",
    "from keras.utils import np_utils\n",
    "from keras.models import Sequential\n",
    "from keras.layers import Dense, Dropout, LSTM, Embedding, Input, RepeatVector\n",
    "from keras.optimizers import SGD\n",
    "from sklearn.preprocessing import LabelEncoder\n",
    "from sklearn.model_selection import train_test_split\n",
    "import scikitplot.plotters as skplt\n",
    "import os\n",
    "\n"
   ]
  },
  {
   "cell_type": "code",
   "execution_count": 4,
   "metadata": {},
   "outputs": [
    {
     "name": "stdout",
     "output_type": "stream",
     "text": [
      "  % Total    % Received % Xferd  Average Speed   Time    Time     Time  Current\n",
      "                                 Dload  Upload   Total   Spent    Left  Speed\n",
      "  0     0    0     0    0     0      0      0 --:--:-- --:--:-- --:--:--     0\n",
      "x assets/\n",
      "x saved_model.pb\n",
      "x tfhub_module.pb\n",
      "x variables/\n",
      "x variables/variables.index\n",
      "100  331M  100  331M    0     0  2061k      0  0:02:44  0:02:44 --:--:-- 1878k25.5M    0     0  6367k      0  0:00:53  0:00:04  0:00:49 8507k    0  6542k      0  0:00:51  0:00:05  0:00:46 8196k0     0  2927k      0  0:01:55  0:00:35  0:01:20 1818kk      0  0:02:12  0:00:52  0:01:20 1811k70k      0  0:02:43  0:02:38  0:00:05 1741kk      0  0:02:44  0:02:43  0:00:01 1848k\n",
      "\n"
     ]
    }
   ],
   "source": [
    "#download the model to local so it can be used again and again\n",
    "!mkdir -p module/module_elmo2\n",
    "# Download the module, and uncompress it to the destination folder. \n",
    "!curl -L \"https://tfhub.dev/google/elmo/2?tf-hub-format=compressed\" | tar -zxvC module/module_elmo2"
   ]
  },
  {
   "cell_type": "code",
   "execution_count": 39,
   "metadata": {},
   "outputs": [],
   "source": [
    "FNC_Final= pd.read_csv('data/FNC_Final.csv')"
   ]
  },
  {
   "cell_type": "code",
   "execution_count": 15,
   "metadata": {},
   "outputs": [
    {
     "data": {
      "text/plain": [
       "Unnamed: 0                      False\n",
       "Unnamed: 0.1                    False\n",
       "Unnamed: 0.1.1                  False\n",
       "id                              False\n",
       "domain                          False\n",
       "type                            False\n",
       "url                             False\n",
       "content                         False\n",
       "scraped_at                      False\n",
       "inserted_at                     False\n",
       "updated_at                      False\n",
       "title                            True\n",
       "authors                          True\n",
       "keywords                         True\n",
       "meta_keywords                    True\n",
       "meta_description                 True\n",
       "tags                             True\n",
       "summary                          True\n",
       "source                           True\n",
       "len_content                     False\n",
       "len_title                       False\n",
       "num_exclaim_title               False\n",
       "num_sentences_content           False\n",
       "sentences_content               False\n",
       "num_paras                       False\n",
       "num_punc_content                False\n",
       "percent_punc_content_per_len    False\n",
       "dtype: bool"
      ]
     },
     "execution_count": 15,
     "metadata": {},
     "output_type": "execute_result"
    }
   ],
   "source": [
    "FNC_Final.head()\n",
    "FNC_Final.isnull().any()\n",
    "\n"
   ]
  },
  {
   "cell_type": "code",
   "execution_count": 70,
   "metadata": {},
   "outputs": [],
   "source": [
    "def cleanText(text):\n",
    "    #remove EOL \n",
    "    text = text.strip().replace(\"\\n\", \" \").replace(\"\\r\", \" \")\n",
    "    text= text.split(\" \")\n",
    "    \n",
    "    #remove stop words \n",
    "    stops = set(stopwords.words(\"english\"))\n",
    "    text = [w for w in text if not w in stops]\n",
    "    arr= np.array(text)\n",
    "    # preprocess data to standardize lengths\n",
    "    #text= text[0:999]\n",
    "        \n",
    "    #text=' '.join(text)\n",
    "    \n",
    "#     text = replace_contraction(text)\n",
    "#     text = replace_links(text, \"link\")\n",
    "#     text = remove_numbers(text)\n",
    "#     text = re.sub(r'[,!@#$%^&*)(|/><\";:.?\\'\\\\}{]',\"\",text)\n",
    "#     text = text.lower()\n",
    "    return arr"
   ]
  },
  {
   "cell_type": "code",
   "execution_count": null,
   "metadata": {},
   "outputs": [],
   "source": [
    "sentence_input = cleanText(FNC_Final['content'][0:1][0])\n",
    "len (sentence_input)"
   ]
  },
  {
   "cell_type": "code",
   "execution_count": null,
   "metadata": {},
   "outputs": [],
   "source": [
    "# create embeddings for one of the articles sentences from the FNC dataset\n",
    "elmo = hub.Module(\"module/module_elmo2/\", trainable=True)\n",
    "\n",
    "sentence_input = list(cleanText(FNC_Final['content'][0:1][0]))\n",
    "\n",
    "embeddings = elmo(\n",
    "sentence_input,\n",
    "signature=\"default\",\n",
    "as_dict=True)[\"elmo\"]\n",
    "\n",
    "embeddings = tf.reshape(embeddings,[-1,1024])\n",
    "\n",
    "with tf.Session() as session:\n",
    "    session.run([tf.global_variables_initializer(), tf.tables_initializer()])\n",
    "    LifeIllusion = session.run(embeddings)\n",
    "    \n",
    "print(LifeIllusion)\n",
    "print(LifeIllusion.shape)\n"
   ]
  },
  {
   "cell_type": "code",
   "execution_count": 40,
   "metadata": {},
   "outputs": [
    {
     "data": {
      "text/plain": [
       "142395"
      ]
     },
     "execution_count": 40,
     "metadata": {},
     "output_type": "execute_result"
    }
   ],
   "source": [
    "FNC_Final['type'].count()\n"
   ]
  },
  {
   "cell_type": "code",
   "execution_count": 41,
   "metadata": {},
   "outputs": [
    {
     "data": {
      "text/plain": [
       "<matplotlib.axes._subplots.AxesSubplot at 0x1a82731ba8>"
      ]
     },
     "execution_count": 41,
     "metadata": {},
     "output_type": "execute_result"
    },
    {
     "data": {
      "image/png": "[encoded data removed]",
      "text/plain": [
       "<Figure size 432x288 with 1 Axes>"
      ]
     },
     "metadata": {
      "needs_background": "light"
     },
     "output_type": "display_data"
    }
   ],
   "source": [
    "# change \"reliable\", \"nan\", and 'unkown' to 0\n",
    "# change \"rumor\",\"hate\",\"unreliable\", etc. to 1\n",
    "FNC_Final['label']= FNC_Final['type']\n",
    "FNC_Final.loc[FNC_Final['type'] == 'reliable', 'label'] = 0\n",
    "FNC_Final.loc[FNC_Final['type'] == 'satire', 'label'] = 1\n",
    "FNC_Final.loc[FNC_Final['type'] == 'fake', 'label'] = 1\n",
    "FNC_Final.loc[FNC_Final['type'] == 'bias', 'label'] = 1\n",
    "FNC_Final.loc[FNC_Final['type'] == 'political', 'label'] = 1\n",
    "\n",
    "# plot the distribution, as can be seen it is heavily skewed to fake news\n",
    "FNC_Final['label'].plot.hist()\n"
   ]
  },
  {
   "cell_type": "code",
   "execution_count": 71,
   "metadata": {
    "scrolled": true
   },
   "outputs": [
    {
     "name": "stdout",
     "output_type": "stream",
     "text": [
      "1\n",
      "['VIEW' 'GALLERY' '' 'The' 'Boston' 'Celtics' 'traveling' 'west' 'coast'\n",
      " 'battle' 'longtime' 'rival' 'LA' 'Lakers.' 'The' 'rivalry' 'dates' 'back'\n",
      " 'days' 'Magic' 'vs.' 'Bird' 'grown' 'Kobe' 'vs.' 'Big' '3.' 'Now' 'time'\n",
      " 'start' 'new' 'era' 'Lakers' 'Celtics' 'rivalry' 'names' 'like' 'Irving,'\n",
      " 'Tatum,' 'Ball,' 'Ingram.' 'This' 'prove' '’em' 'game' 'Lakers' 'hot'\n",
      " 'streak' 'winning' 'two' 'row' 'adding' 'another' 'big' 'W' 'C’s' 'could'\n",
      " 'wonders' 'moving' 'forward.' 'The' 'Celtics' 'trying' 'snap' 'funk'\n",
      " 'themselves,' 'nice' 'win' 'LA' 'might' 'trick.' '' 'The' 'Boston'\n",
      " 'Celtics' '(34-13)' 'currently' 'three-game' 'losing' 'streak' 'fly'\n",
      " 'Staples' 'Center.' 'The' 'Celtics' 'coming' 'four-game' 'home' 'stand'\n",
      " 'went' '1-3,' 'west' 'coast' 'trip' 'lot' 'finish' 'first' 'half'\n",
      " 'season.' 'Boston' 'lead' 'Kyrie' 'Irving' 'who’s' 'one' 'heck' 'season'\n",
      " 'averaging' '24.5' 'points!' 'Al' 'Horford' 'low' 'key' 'leading'\n",
      " 'Celtics' 'assists,' 'rebounds,' 'steals' 'per' 'game,' 'going' 'show'\n",
      " 'beat' 'Lakers.' '' 'The' 'Los' 'Angeles' 'Lakers' '(17-29)' 'fresh'\n",
      " 'second' 'win' 'row' '5th' 'straight' 'home' 'blowing' 'Knicks' '20!'\n",
      " 'The' 'Lakers' 'might' 'without' '2nd' 'overall' 'pick' 'Lonzo' 'Ball'\n",
      " 'one;' 'Ball' 'leads' 'team' '7.1' 'assists' 'rebound' 'per' 'game.'\n",
      " 'Lucky' 'Lakers' 'top' 'two' 'scorers' 'Kyle' 'Kuzman' 'Brandon' 'Ingram'\n",
      " 'averaging' '16.4' '15.7' 'points' 'per' 'game' 'respectively.' 'Luke'\n",
      " 'Walton' 'trying' 'best' 'win' 'extremely' 'young' 'roster' 'true'\n",
      " 'veteran' 'Brook' 'Lopez' 'brought' 'excellent' 'leadership' 'team.'\n",
      " 'The' 'Lakers' 'future' 'bright,' 'want' 'show' 'Celtics' 'aren’t'\n",
      " 'going' 'cellar' 'league' 'long.' '' 'Celtics' 'vs.' 'Lakers:' 'Game'\n",
      " 'Time,' 'TV' 'Channel' '&' 'Viewing' 'Details' '' 'Event:' 'Celtics'\n",
      " 'vs.' 'Lakers' '' 'Date:' 'Tuesday,' 'January' '23,' '2018' '' 'Start'\n",
      " 'Time:' '10:30' 'P.M.' 'EST' '' 'Location:' 'Stapels' 'Center' 'Los'\n",
      " 'Angeles,' 'California' '' 'Broadcast:' 'TNT' '' 'How' 'Watch' 'Celtics'\n",
      " 'vs.' 'Lakers' 'Live' 'Stream' 'Online' '' 'Your' 'best' 'bet' 'watching'\n",
      " 'Skills' 'Competition' 'online' 'via' 'live' 'stream' 'WatchTNT' 'need'\n",
      " 'sign' 'log' 'password' 'cable' 'provider.' '' 'If' 'don’t' 'access'\n",
      " 'cable' 'satellite' 'log-in,' 'live' 'stream' 'game' 'online' 'DIRECTV'\n",
      " 'NOW.' 'DIRECTV' 'offers' 'free' 'seven-day' 'trial,' 'you’ll' 'receive'\n",
      " 'full' 'seven' 'days' 'free' 'paid' 'membership' 'begins.' 'If' 'cancel'\n",
      " 'subscription' 'within' 'week,' 'charged.' 'DIRECTV' 'NOW' 'available'\n",
      " 'Desktop,' 'Apple' 'TV,' 'Amazon' 'Fire' 'TV' 'Chromecast.' '' 'If'\n",
      " 'don’t' 'access' 'cable' 'satellite' 'log-in,' 'watch' 'show' 'Sling'\n",
      " 'TV.' 'Sling' 'TV' 'service' 'allows' 'subscribers' 'watch' 'live'\n",
      " 'on-demand' 'TV' 'channels' 'TVs,' 'computer' 'mobile' 'device' 'monthly'\n",
      " 'fee.' 'It’s' 'like' 'cable' 'satellite' 'TV' 'service,' 'except' 'it’s'\n",
      " 'delivered' 'internet.' 'The' 'service’s' 'Orange' 'package' 'includes'\n",
      " 'FOX' 'costs' '$20' 'month,' 'sign' 'free' 'seven-day' 'trial.' 'If'\n",
      " 'cancel' 'subscription' 'within' 'week,' 'charged.' 'Once' 'signed' 'up,'\n",
      " 'simply' 'download' 'app' 'computer' 'start' 'watching.' '' 'How' 'Watch'\n",
      " 'Celtics' 'vs.' 'Lakers' 'On' 'Your' 'Tablet' 'Or' 'Mobile' 'Device' ''\n",
      " 'You' 'live' 'stream' 'game' 'WatchTNT' 'app.' '' 'You' 'download'\n",
      " 'FoxSportsGo' 'app' 'Google' 'Play,' 'Amazon,' 'iTunes,' 'Windows'\n",
      " 'Store.' 'The' 'Fox' 'Sports' 'Go' 'app' 'also' 'available' 'following'\n",
      " 'devices:' 'Apple' 'TV,' 'Roku,' 'Android' 'TV' 'Fire' 'TV.' '' 'How'\n",
      " 'To' 'Live' 'Celtics' 'vs.' 'Lakers' 'Online' 'Without' 'Cable'\n",
      " 'Subscription' '' 'You' 'also' 'live' 'stream' 'game' 'Sling' 'TV' 'free'\n",
      " 'trial.' 'Just' 'click' 'Sling' 'website' 'click' '“Watch' 'Now' '7'\n",
      " 'Days' 'Free”' 'free' 'trial.' 'Choose' 'Sling' 'Orange' 'package,'\n",
      " 'costs' '$20' 'per' 'month' 'comes' 'ESPN,' 'along' 'many' 'sports'\n",
      " 'channels.']\n"
     ]
    }
   ],
   "source": [
    "x = np.array(FNC_Final[\"content\"].apply(cleanText))\n",
    "y = np.array(FNC_Final[\"label\"]) \n",
    "\n",
    "print(y[0])\n",
    "print(x[0])\n"
   ]
  },
  {
   "cell_type": "code",
   "execution_count": 77,
   "metadata": {},
   "outputs": [
    {
     "data": {
      "text/plain": [
       "array(['VIEW', 'GALLERY', '', 'The', 'Boston', 'Celtics', 'traveling',\n",
       "       'west', 'coast', 'battle', 'longtime', 'rival', 'LA', 'Lakers.',\n",
       "       'The', 'rivalry', 'dates', 'back', 'days', 'Magic', 'vs.', 'Bird',\n",
       "       'grown', 'Kobe', 'vs.', 'Big', '3.', 'Now', 'time', 'start', 'new',\n",
       "       'era', 'Lakers', 'Celtics', 'rivalry', 'names', 'like', 'Irving,',\n",
       "       'Tatum,', 'Ball,', 'Ingram.', 'This', 'prove', '’em', 'game',\n",
       "       'Lakers', 'hot', 'streak', 'winning', 'two', 'row', 'adding',\n",
       "       'another', 'big', 'W', 'C’s', 'could', 'wonders', 'moving',\n",
       "       'forward.', 'The', 'Celtics', 'trying', 'snap', 'funk',\n",
       "       'themselves,', 'nice', 'win', 'LA', 'might', 'trick.', '', 'The',\n",
       "       'Boston', 'Celtics', '(34-13)', 'currently', 'three-game',\n",
       "       'losing', 'streak', 'fly', 'Staples', 'Center.', 'The', 'Celtics',\n",
       "       'coming', 'four-game', 'home', 'stand', 'went', '1-3,', 'west',\n",
       "       'coast', 'trip', 'lot', 'finish', 'first', 'half', 'season.',\n",
       "       'Boston', 'lead', 'Kyrie', 'Irving', 'who’s', 'one', 'heck',\n",
       "       'season', 'averaging', '24.5', 'points!', 'Al', 'Horford', 'low',\n",
       "       'key', 'leading', 'Celtics', 'assists,', 'rebounds,', 'steals',\n",
       "       'per', 'game,', 'going', 'show', 'beat', 'Lakers.', '', 'The',\n",
       "       'Los', 'Angeles', 'Lakers', '(17-29)', 'fresh', 'second', 'win',\n",
       "       'row', '5th', 'straight', 'home', 'blowing', 'Knicks', '20!',\n",
       "       'The', 'Lakers', 'might', 'without', '2nd', 'overall', 'pick',\n",
       "       'Lonzo', 'Ball', 'one;', 'Ball', 'leads', 'team', '7.1', 'assists',\n",
       "       'rebound', 'per', 'game.', 'Lucky', 'Lakers', 'top', 'two',\n",
       "       'scorers', 'Kyle', 'Kuzman', 'Brandon', 'Ingram', 'averaging',\n",
       "       '16.4', '15.7', 'points', 'per', 'game', 'respectively.', 'Luke',\n",
       "       'Walton', 'trying', 'best', 'win', 'extremely', 'young', 'roster',\n",
       "       'true', 'veteran', 'Brook', 'Lopez', 'brought', 'excellent',\n",
       "       'leadership', 'team.', 'The', 'Lakers', 'future', 'bright,',\n",
       "       'want', 'show', 'Celtics', 'aren’t', 'going', 'cellar', 'league',\n",
       "       'long.', '', 'Celtics', 'vs.', 'Lakers:', 'Game', 'Time,', 'TV',\n",
       "       'Channel', '&', 'Viewing', 'Details', '', 'Event:', 'Celtics',\n",
       "       'vs.', 'Lakers', '', 'Date:', 'Tuesday,', 'January', '23,', '2018',\n",
       "       '', 'Start', 'Time:', '10:30', 'P.M.', 'EST', '', 'Location:',\n",
       "       'Stapels', 'Center', 'Los', 'Angeles,', 'California', '',\n",
       "       'Broadcast:', 'TNT', '', 'How', 'Watch', 'Celtics', 'vs.',\n",
       "       'Lakers', 'Live', 'Stream', 'Online', '', 'Your', 'best', 'bet',\n",
       "       'watching', 'Skills', 'Competition', 'online', 'via', 'live',\n",
       "       'stream', 'WatchTNT', 'need', 'sign', 'log', 'password', 'cable',\n",
       "       'provider.', '', 'If', 'don’t', 'access', 'cable', 'satellite',\n",
       "       'log-in,', 'live', 'stream', 'game', 'online', 'DIRECTV', 'NOW.',\n",
       "       'DIRECTV', 'offers', 'free', 'seven-day', 'trial,', 'you’ll',\n",
       "       'receive', 'full', 'seven', 'days', 'free', 'paid', 'membership',\n",
       "       'begins.', 'If', 'cancel', 'subscription', 'within', 'week,',\n",
       "       'charged.', 'DIRECTV', 'NOW', 'available', 'Desktop,', 'Apple',\n",
       "       'TV,', 'Amazon', 'Fire', 'TV', 'Chromecast.', '', 'If', 'don’t',\n",
       "       'access', 'cable', 'satellite', 'log-in,', 'watch', 'show',\n",
       "       'Sling', 'TV.', 'Sling', 'TV', 'service', 'allows', 'subscribers',\n",
       "       'watch', 'live', 'on-demand', 'TV', 'channels', 'TVs,', 'computer',\n",
       "       'mobile', 'device', 'monthly', 'fee.', 'It’s', 'like', 'cable',\n",
       "       'satellite', 'TV', 'service,', 'except', 'it’s', 'delivered',\n",
       "       'internet.', 'The', 'service’s', 'Orange', 'package', 'includes',\n",
       "       'FOX', 'costs', '$20', 'month,', 'sign', 'free', 'seven-day',\n",
       "       'trial.', 'If', 'cancel', 'subscription', 'within', 'week,',\n",
       "       'charged.', 'Once', 'signed', 'up,', 'simply', 'download', 'app',\n",
       "       'computer', 'start', 'watching.', '', 'How', 'Watch', 'Celtics',\n",
       "       'vs.', 'Lakers', 'On', 'Your', 'Tablet', 'Or', 'Mobile', 'Device',\n",
       "       '', 'You', 'live', 'stream', 'game', 'WatchTNT', 'app.', '', 'You',\n",
       "       'download', 'FoxSportsGo', 'app', 'Google', 'Play,', 'Amazon,',\n",
       "       'iTunes,', 'Windows', 'Store.', 'The', 'Fox', 'Sports', 'Go',\n",
       "       'app', 'also', 'available', 'following', 'devices:', 'Apple',\n",
       "       'TV,', 'Roku,', 'Android', 'TV', 'Fire', 'TV.', '', 'How', 'To',\n",
       "       'Live', 'Celtics', 'vs.', 'Lakers', 'Online', 'Without', 'Cable',\n",
       "       'Subscription', '', 'You', 'also', 'live', 'stream', 'game',\n",
       "       'Sling', 'TV', 'free', 'trial.', 'Just', 'click', 'Sling',\n",
       "       'website', 'click', '“Watch', 'Now', '7', 'Days', 'Free”', 'free',\n",
       "       'trial.', 'Choose', 'Sling', 'Orange', 'package,', 'costs', '$20',\n",
       "       'per', 'month', 'comes', 'ESPN,', 'along', 'many', 'sports',\n",
       "       'channels.', 'PAD', 'PAD', 'PAD', 'PAD', 'PAD', 'PAD', 'PAD',\n",
       "       'PAD', 'PAD', 'PAD', 'PAD', 'PAD', 'PAD', 'PAD', 'PAD', 'PAD',\n",
       "       'PAD', 'PAD', 'PAD', 'PAD', 'PAD', 'PAD', 'PAD', 'PAD', 'PAD',\n",
       "       'PAD', 'PAD', 'PAD', 'PAD', 'PAD', 'PAD', 'PAD', 'PAD', 'PAD',\n",
       "       'PAD', 'PAD', 'PAD', 'PAD', 'PAD', 'PAD', 'PAD', 'PAD', 'PAD',\n",
       "       'PAD', 'PAD', 'PAD', 'PAD', 'PAD', 'PAD', 'PAD', 'PAD', 'PAD',\n",
       "       'PAD', 'PAD', 'PAD', 'PAD', 'PAD', 'PAD', 'PAD', 'PAD', 'PAD',\n",
       "       'PAD', 'PAD', 'PAD', 'PAD', 'PAD', 'PAD', 'PAD', 'PAD', 'PAD',\n",
       "       'PAD', 'PAD', 'PAD', 'PAD', 'PAD', 'PAD', 'PAD', 'PAD', 'PAD',\n",
       "       'PAD', 'PAD', 'PAD', 'PAD', 'PAD', 'PAD', 'PAD', 'PAD', 'PAD',\n",
       "       'PAD', 'PAD', 'PAD', 'PAD', 'PAD', 'PAD', 'PAD', 'PAD', 'PAD',\n",
       "       'PAD', 'PAD', 'PAD', 'PAD', 'PAD', 'PAD', 'PAD', 'PAD', 'PAD',\n",
       "       'PAD', 'PAD', 'PAD', 'PAD', 'PAD', 'PAD', 'PAD', 'PAD', 'PAD',\n",
       "       'PAD', 'PAD', 'PAD', 'PAD', 'PAD', 'PAD', 'PAD', 'PAD', 'PAD',\n",
       "       'PAD', 'PAD', 'PAD', 'PAD', 'PAD', 'PAD', 'PAD', 'PAD', 'PAD',\n",
       "       'PAD', 'PAD', 'PAD', 'PAD', 'PAD', 'PAD', 'PAD', 'PAD', 'PAD',\n",
       "       'PAD', 'PAD', 'PAD', 'PAD', 'PAD', 'PAD', 'PAD', 'PAD', 'PAD',\n",
       "       'PAD', 'PAD', 'PAD', 'PAD', 'PAD', 'PAD', 'PAD', 'PAD', 'PAD',\n",
       "       'PAD', 'PAD', 'PAD', 'PAD', 'PAD', 'PAD', 'PAD', 'PAD', 'PAD',\n",
       "       'PAD', 'PAD', 'PAD', 'PAD', 'PAD', 'PAD', 'PAD', 'PAD', 'PAD',\n",
       "       'PAD', 'PAD', 'PAD', 'PAD', 'PAD', 'PAD', 'PAD', 'PAD', 'PAD',\n",
       "       'PAD', 'PAD', 'PAD', 'PAD', 'PAD', 'PAD', 'PAD', 'PAD', 'PAD',\n",
       "       'PAD', 'PAD', 'PAD', 'PAD', 'PAD', 'PAD', 'PAD', 'PAD', 'PAD',\n",
       "       'PAD', 'PAD', 'PAD', 'PAD', 'PAD', 'PAD', 'PAD', 'PAD', 'PAD',\n",
       "       'PAD', 'PAD', 'PAD', 'PAD', 'PAD', 'PAD', 'PAD', 'PAD', 'PAD',\n",
       "       'PAD', 'PAD', 'PAD', 'PAD', 'PAD', 'PAD', 'PAD', 'PAD', 'PAD',\n",
       "       'PAD', 'PAD', 'PAD', 'PAD', 'PAD', 'PAD', 'PAD', 'PAD', 'PAD',\n",
       "       'PAD', 'PAD', 'PAD', 'PAD', 'PAD', 'PAD', 'PAD', 'PAD', 'PAD',\n",
       "       'PAD', 'PAD', 'PAD', 'PAD', 'PAD', 'PAD', 'PAD', 'PAD', 'PAD',\n",
       "       'PAD', 'PAD', 'PAD', 'PAD', 'PAD', 'PAD', 'PAD', 'PAD', 'PAD',\n",
       "       'PAD', 'PAD', 'PAD', 'PAD', 'PAD', 'PAD', 'PAD', 'PAD', 'PAD',\n",
       "       'PAD', 'PAD', 'PAD', 'PAD', 'PAD', 'PAD', 'PAD', 'PAD', 'PAD',\n",
       "       'PAD', 'PAD', 'PAD', 'PAD', 'PAD', 'PAD', 'PAD', 'PAD', 'PAD',\n",
       "       'PAD', 'PAD', 'PAD', 'PAD', 'PAD', 'PAD', 'PAD', 'PAD', 'PAD',\n",
       "       'PAD', 'PAD', 'PAD', 'PAD', 'PAD', 'PAD', 'PAD', 'PAD', 'PAD',\n",
       "       'PAD', 'PAD', 'PAD', 'PAD', 'PAD', 'PAD', 'PAD', 'PAD', 'PAD',\n",
       "       'PAD', 'PAD', 'PAD', 'PAD', 'PAD', 'PAD', 'PAD', 'PAD', 'PAD',\n",
       "       'PAD', 'PAD', 'PAD', 'PAD', 'PAD', 'PAD', 'PAD', 'PAD', 'PAD',\n",
       "       'PAD', 'PAD', 'PAD', 'PAD', 'PAD', 'PAD', 'PAD', 'PAD', 'PAD',\n",
       "       'PAD', 'PAD', 'PAD', 'PAD', 'PAD', 'PAD', 'PAD', 'PAD', 'PAD',\n",
       "       'PAD', 'PAD', 'PAD', 'PAD', 'PAD', 'PAD', 'PAD', 'PAD', 'PAD',\n",
       "       'PAD', 'PAD', 'PAD', 'PAD', 'PAD', 'PAD', 'PAD', 'PAD', 'PAD',\n",
       "       'PAD', 'PAD', 'PAD', 'PAD', 'PAD', 'PAD', 'PAD', 'PAD', 'PAD',\n",
       "       'PAD', 'PAD', 'PAD', 'PAD', 'PAD', 'PAD', 'PAD', 'PAD', 'PAD',\n",
       "       'PAD', 'PAD', 'PAD', 'PAD', 'PAD', 'PAD', 'PAD', 'PAD', 'PAD',\n",
       "       'PAD', 'PAD', 'PAD', 'PAD', 'PAD', 'PAD', 'PAD', 'PAD', 'PAD',\n",
       "       'PAD', 'PAD', 'PAD', 'PAD', 'PAD', 'PAD', 'PAD', 'PAD', 'PAD',\n",
       "       'PAD', 'PAD', 'PAD', 'PAD', 'PAD', 'PAD', 'PAD', 'PAD', 'PAD',\n",
       "       'PAD', 'PAD', 'PAD', 'PAD', 'PAD', 'PAD', 'PAD', 'PAD', 'PAD',\n",
       "       'PAD', 'PAD', 'PAD', 'PAD', 'PAD', 'PAD', 'PAD', 'PAD', 'PAD',\n",
       "       'PAD', 'PAD', 'PAD', 'PAD', 'PAD', 'PAD', 'PAD', 'PAD', 'PAD',\n",
       "       'PAD', 'PAD', 'PAD', 'PAD', 'PAD', 'PAD', 'PAD', 'PAD', 'PAD',\n",
       "       'PAD', 'PAD', 'PAD', 'PAD', 'PAD', 'PAD', 'PAD', 'PAD', 'PAD',\n",
       "       'PAD', 'PAD', 'PAD', 'PAD', 'PAD', 'PAD', 'PAD', 'PAD', 'PAD',\n",
       "       'PAD', 'PAD', 'PAD', 'PAD', 'PAD', 'PAD', 'PAD', 'PAD', 'PAD',\n",
       "       'PAD', 'PAD', 'PAD', 'PAD', 'PAD', 'PAD', 'PAD', 'PAD', 'PAD',\n",
       "       'PAD', 'PAD', 'PAD', 'PAD', 'PAD', 'PAD', 'PAD', 'PAD', 'PAD',\n",
       "       'PAD', 'PAD', 'PAD', 'PAD', 'PAD', 'PAD', 'PAD', 'PAD', 'PAD',\n",
       "       'PAD', 'PAD', 'PAD', 'PAD', 'PAD', 'PAD', 'PAD', 'PAD', 'PAD',\n",
       "       'PAD', 'PAD'], dtype=object)"
      ]
     },
     "execution_count": 77,
     "metadata": {},
     "output_type": "execute_result"
    }
   ],
   "source": [
    "x[0]\n",
    "\n",
    "\n"
   ]
  },
  {
   "cell_type": "code",
   "execution_count": 75,
   "metadata": {},
   "outputs": [],
   "source": [
    "x= pad_sequences(x, value= \"PAD\", dtype=object, padding= 'post', truncating = 'post', maxlen=1000)\n",
    "\n"
   ]
  },
  {
   "cell_type": "code",
   "execution_count": 76,
   "metadata": {},
   "outputs": [
    {
     "name": "stdout",
     "output_type": "stream",
     "text": [
      "1000\n",
      "(142395, 1000)\n"
     ]
    }
   ],
   "source": [
    "print(len(x[0]))\n",
    "print(x.shape)\n"
   ]
  },
  {
   "cell_type": "code",
   "execution_count": 78,
   "metadata": {},
   "outputs": [
    {
     "name": "stdout",
     "output_type": "stream",
     "text": [
      "114036 114036\n",
      "28359 28359\n"
     ]
    }
   ],
   "source": [
    "# split data into train and test\n",
    "\n",
    "msk = np.random.rand(len(x)) < 0.8\n",
    "x_train = x[msk]\n",
    "x_test = x[~msk]\n",
    "\n",
    "y_train = y[msk]\n",
    "y_test = y[~msk]\n",
    "\n",
    "#train_data = train[['content','type']].copy()\n",
    "#test_data = test[['content','type']].copy()\n",
    "\n",
    "print(len(x_train), len(y_train))\n",
    "print(len(x_test), len(y_test))\n",
    "#print(train_data['type'].head(10))\n",
    "#print(train_data['content'][0])"
   ]
  },
  {
   "cell_type": "code",
   "execution_count": null,
   "metadata": {},
   "outputs": [],
   "source": [
    "#get embeddings for x \n",
    "\n",
    "elmo = hub.Module(\"module/module_elmo2/\", trainable=True)\n",
    "\n",
    "sentence_input = tf.constant(shape=[1], name='sentence_input')\n",
    "embeddings = elmo(sentence_input,signature=\"default\",as_dict=True)[\"elmo\"]\n",
    "embeddings = tf.reshape(embeddings,[-1,1024])\n",
    "    \n",
    "\n",
    "with tf.Session() as session:\n",
    "    session.run([tf.global_variables_initializer(), tf.tables_initializer()])\n",
    "    x[i]= session.run(embeddings)\n",
    "    \n",
    "print(LifeIllusion)\n",
    "print(LifeIllusion.shape)"
   ]
  },
  {
   "cell_type": "code",
   "execution_count": null,
   "metadata": {},
   "outputs": [],
   "source": [
    "\n",
    "\n",
    "\n",
    "x_test = pad_sequences(x_test, value= \"PAD\", dtype = 'str', padding= 'post', truncating = 'post', maxlen=1000)\n"
   ]
  },
  {
   "cell_type": "code",
   "execution_count": null,
   "metadata": {},
   "outputs": [],
   "source": [
    "    np.save('xtr_shuffled.npy',xtr)\n",
    "    np.save('xde_shuffled.npy',xde)\n",
    "    np.save('xte_shuffled.npy',xte)\n",
    "    np.save('yte_shuffled.npy',yte)\n",
    "    np.save('ytr_shuffled.npy',ytr)\n",
    "    np.save('yde_shuffled.npy',yde)"
   ]
  },
  {
   "cell_type": "code",
   "execution_count": null,
   "metadata": {},
   "outputs": [],
   "source": []
  },
  {
   "cell_type": "code",
   "execution_count": null,
   "metadata": {},
   "outputs": [],
   "source": []
  },
  {
   "cell_type": "code",
   "execution_count": null,
   "metadata": {},
   "outputs": [],
   "source": []
  },
  {
   "cell_type": "code",
   "execution_count": null,
   "metadata": {},
   "outputs": [],
   "source": []
  },
  {
   "cell_type": "code",
   "execution_count": null,
   "metadata": {},
   "outputs": [],
   "source": []
  },
  {
   "cell_type": "code",
   "execution_count": null,
   "metadata": {},
   "outputs": [],
   "source": []
  },
  {
   "cell_type": "code",
   "execution_count": null,
   "metadata": {},
   "outputs": [],
   "source": []
  },
  {
   "cell_type": "code",
   "execution_count": null,
   "metadata": {},
   "outputs": [],
   "source": [
    "# df = pd.read_csv(\"sentences.csv\",encoding=\"latin\")\n",
    "# df = df[df[\"sentiment\"]!=\"Neutral\"]\n",
    "# df.loc[df[\"sentiment\"]=='Negative',\"sentiment\"]=0\n",
    "# df.loc[df[\"sentiment\"]=='Positive',\"sentiment\"]=1"
   ]
  },
  {
   "cell_type": "code",
   "execution_count": null,
   "metadata": {},
   "outputs": [],
   "source": [
    "# import re\n",
    "# def cleanText(text):\n",
    "#     text = text.strip().replace(\"\\n\", \" \").replace(\"\\r\", \" \")\n",
    "#     text = replace_contraction(text)\n",
    "#     text = replace_links(text, \"link\")\n",
    "#     text = remove_numbers(text)\n",
    "#     text = re.sub(r'[,!@#$%^&*)(|/><\";:.?\\'\\\\}{]',\"\",text)\n",
    "#     text = text.lower()\n",
    "#     return text\n",
    "# X = np.array(df[\"text\"].apply(cleanText))\n",
    "# y = np.array(df[\"sentiment\"])"
   ]
  },
  {
   "cell_type": "code",
   "execution_count": null,
   "metadata": {},
   "outputs": [],
   "source": [
    "# embed = hub.Module(\"module/module_elmo2\")\n",
    "# def ELMoEmbedding(x):\n",
    "#     return embed(tf.squeeze(tf.cast(x, tf.string)), signature=\"default\", as_dict=True)[\"default\"]"
   ]
  },
  {
   "cell_type": "code",
   "execution_count": null,
   "metadata": {},
   "outputs": [],
   "source": [
    "# def build_model(): \n",
    "#     input_text = Input(shape=(1,), dtype=\"string\")\n",
    "#     embedding = Lambda(ELMoEmbedding, output_shape=(1024, ))(input_text)\n",
    "#     dense = Dense(256, activation='relu', kernel_regularizer=keras.regularizers.l2(0.001))(embedding)\n",
    "#     pred = Dense(1, activation='sigmoid')(dense)\n",
    "#     model = Model(inputs=[input_text], outputs=pred)\n",
    "#     model.compile(loss='binary_crossentropy', optimizer='rmsprop', metrics=['accuracy'])\n",
    "#     return model\n",
    "# model_elmo = build_model()"
   ]
  },
  {
   "cell_type": "code",
   "execution_count": null,
   "metadata": {},
   "outputs": [],
   "source": [
    "# with tf.Session() as session:\n",
    "#     K.set_session(session)\n",
    "#     session.run(tf.global_variables_initializer())  \n",
    "#     session.run(tf.tables_initializer())\n",
    "#     history = model_elmo.fit(X, y, epochs=5, batch_size=256, validation_split = 0.2)\n",
    "#     model_elmo.save_weights('./model_elmo_weights.h5')"
   ]
  },
  {
   "cell_type": "code",
   "execution_count": null,
   "metadata": {},
   "outputs": [],
   "source": []
  },
  {
   "cell_type": "code",
   "execution_count": null,
   "metadata": {},
   "outputs": [],
   "source": []
  },
  {
   "cell_type": "code",
   "execution_count": null,
   "metadata": {},
   "outputs": [],
   "source": []
  },
  {
   "cell_type": "code",
   "execution_count": null,
   "metadata": {},
   "outputs": [],
   "source": []
  },
  {
   "cell_type": "code",
   "execution_count": null,
   "metadata": {},
   "outputs": [],
   "source": []
  },
  {
   "cell_type": "code",
   "execution_count": null,
   "metadata": {},
   "outputs": [],
   "source": []
  },
  {
   "cell_type": "code",
   "execution_count": null,
   "metadata": {},
   "outputs": [],
   "source": []
  }
 ],
 "metadata": {
  "kernelspec": {
   "display_name": "Python 3",
   "language": "python",
   "name": "python3"
  },
  "language_info": {
   "codemirror_mode": {
    "name": "ipython",
    "version": 3
   },
   "file_extension": ".py",
   "mimetype": "text/x-python",
   "name": "python",
   "nbconvert_exporter": "python",
   "pygments_lexer": "ipython3",
   "version": "3.7.1"
  }
 },
 "nbformat": 4,
 "nbformat_minor": 2
}
