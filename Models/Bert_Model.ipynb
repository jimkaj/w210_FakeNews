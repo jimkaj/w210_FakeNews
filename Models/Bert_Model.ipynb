{
 "cells": [
  {
   "cell_type": "markdown",
   "metadata": {},
   "source": [
    "# Fake News Detection"
   ]
  },
  {
   "cell_type": "markdown",
   "metadata": {},
   "source": [
    "### Packages used"
   ]
  },
  {
   "cell_type": "code",
   "execution_count": 28,
   "metadata": {},
   "outputs": [],
   "source": [
    "from sklearn.model_selection import train_test_split\n",
    "import pandas as pd\n",
    "import numpy as np\n",
    "import tensorflow as tf\n",
    "import tensorflow_hub as hub\n",
    "from datetime import datetime\n",
    "\n",
    "import matplotlib.pyplot as plt\n",
    "from nltk.tokenize import sent_tokenize, word_tokenize\n",
    "%matplotlib inline\n",
    "import time\n",
    "from nltk.corpus import stopwords\n",
    "from nltk.tokenize.treebank import TreebankWordDetokenizer\n",
    "\n",
    "import bert\n",
    "from bert import run_classifier\n",
    "from bert import optimization\n",
    "from bert import tokenization\n",
    "\n",
    "import sklearn.metrics as skm #import confusion_matrix\n",
    "import os\n",
    "import re"
   ]
  },
  {
   "cell_type": "code",
   "execution_count": 4,
   "metadata": {},
   "outputs": [
    {
     "name": "stdout",
     "output_type": "stream",
     "text": [
      "[_DeviceAttributes(/job:localhost/replica:0/task:0/device:CPU:0, CPU, 268435456, 13375102977402078622), _DeviceAttributes(/job:localhost/replica:0/task:0/device:XLA_GPU:0, XLA_GPU, 17179869184, 16862762594651198801), _DeviceAttributes(/job:localhost/replica:0/task:0/device:XLA_GPU:1, XLA_GPU, 17179869184, 14776505528608291433), _DeviceAttributes(/job:localhost/replica:0/task:0/device:XLA_CPU:0, XLA_CPU, 17179869184, 624207633021903897), _DeviceAttributes(/job:localhost/replica:0/task:0/device:GPU:0, GPU, 11273958196, 1149063495108294064), _DeviceAttributes(/job:localhost/replica:0/task:0/device:GPU:1, GPU, 11273958196, 15259445200950350939)]\n",
      "[[22. 28.]\n",
      " [49. 64.]]\n"
     ]
    }
   ],
   "source": [
    "# tests to see if gpu is working\n",
    "# sess = tf.Session(config=tf.ConfigProto(log_device_placement=True))\n",
    "\n",
    "with tf.Session() as sess:\n",
    "    devices = sess.list_devices()\n",
    "    print(devices)\n",
    "\n",
    "with tf.device('/gpu:0'):\n",
    "    a = tf.constant([1.0, 2.0, 3.0, 4.0, 5.0, 6.0], shape=[2, 3], name='a')\n",
    "    b = tf.constant([1.0, 2.0, 3.0, 4.0, 5.0, 6.0], shape=[3, 2], name='b')\n",
    "    c = tf.matmul(a, b)\n",
    "\n",
    "with tf.Session() as sess:\n",
    "    print (sess.run(c))\n"
   ]
  },
  {
   "cell_type": "code",
   "execution_count": 5,
   "metadata": {},
   "outputs": [
    {
     "name": "stdout",
     "output_type": "stream",
     "text": [
      "(142395, 27)\n",
      "count       142395\n",
      "unique           5\n",
      "top       reliable\n",
      "freq         47753\n",
      "Name: type, dtype: object\n",
      "['fake' 'satire' 'reliable' 'political' 'bias']\n",
      "count       142395\n",
      "unique           5\n",
      "top       reliable\n",
      "freq         47753\n",
      "Name: type, dtype: object\n",
      "['fake' 'satire' 'reliable' 'political' 'bias']\n"
     ]
    }
   ],
   "source": [
    "data = pd.read_csv(\"FNC_Final.csv\", engine=\"python\", error_bad_lines= False)\n",
    "data.head()\n",
    "\n",
    "# examine summary stats for 'type' column\n",
    "\n",
    "print(data.shape)\n",
    "print(data['type'].describe())\n",
    "print(data['type'].unique())\n",
    "\n",
    "data['type'].fillna('unknown',inplace = True)\n",
    "print(data['type'].describe())\n",
    "print(data['type'].unique())"
   ]
  },
  {
   "cell_type": "code",
   "execution_count": 6,
   "metadata": {},
   "outputs": [
    {
     "data": {
      "text/html": [
       "<div>\n",
       "<style scoped>\n",
       "    .dataframe tbody tr th:only-of-type {\n",
       "        vertical-align: middle;\n",
       "    }\n",
       "\n",
       "    .dataframe tbody tr th {\n",
       "        vertical-align: top;\n",
       "    }\n",
       "\n",
       "    .dataframe thead th {\n",
       "        text-align: right;\n",
       "    }\n",
       "</style>\n",
       "<table border=\"1\" class=\"dataframe\">\n",
       "  <thead>\n",
       "    <tr style=\"text-align: right;\">\n",
       "      <th></th>\n",
       "      <th>Unnamed: 0</th>\n",
       "      <th>Unnamed: 0.1</th>\n",
       "      <th>Unnamed: 0.1.1</th>\n",
       "      <th>id</th>\n",
       "      <th>domain</th>\n",
       "      <th>type</th>\n",
       "      <th>url</th>\n",
       "      <th>content</th>\n",
       "      <th>scraped_at</th>\n",
       "      <th>inserted_at</th>\n",
       "      <th>...</th>\n",
       "      <th>summary</th>\n",
       "      <th>source</th>\n",
       "      <th>len_content</th>\n",
       "      <th>len_title</th>\n",
       "      <th>num_exclaim_title</th>\n",
       "      <th>num_sentences_content</th>\n",
       "      <th>sentences_content</th>\n",
       "      <th>num_paras</th>\n",
       "      <th>num_punc_content</th>\n",
       "      <th>percent_punc_content_per_len</th>\n",
       "    </tr>\n",
       "  </thead>\n",
       "  <tbody>\n",
       "  </tbody>\n",
       "</table>\n",
       "<p>0 rows × 27 columns</p>\n",
       "</div>"
      ],
      "text/plain": [
       "Empty DataFrame\n",
       "Columns: [Unnamed: 0, Unnamed: 0.1, Unnamed: 0.1.1, id, domain, type, url, content, scraped_at, inserted_at, updated_at, title, authors, keywords, meta_keywords, meta_description, tags, summary, source, len_content, len_title, num_exclaim_title, num_sentences_content, sentences_content, num_paras, num_punc_content, percent_punc_content_per_len]\n",
       "Index: []\n",
       "\n",
       "[0 rows x 27 columns]"
      ]
     },
     "execution_count": 6,
     "metadata": {},
     "output_type": "execute_result"
    }
   ],
   "source": [
    "# Remove articles from survey\n",
    "\n",
    "survey_articles = pd.read_csv('survey_articles.csv')\n",
    "survey_list = list(survey_articles['id'])\n",
    "to_delete = list(data[data.id.isin(survey_list)].index)\n",
    "data[data.id.isin(survey_list)]\n",
    "\n",
    "# Remove articles from survey\n",
    "data=data.drop(to_delete,axis=0)\n",
    "data[data.id.isin(survey_list)]"
   ]
  },
  {
   "cell_type": "code",
   "execution_count": 7,
   "metadata": {},
   "outputs": [
    {
     "name": "stdout",
     "output_type": "stream",
     "text": [
      "<class 'pandas.core.series.Series'>\n",
      "47753\n",
      "<class 'pandas.core.series.Series'>\n",
      "22280\n",
      "2863\n",
      "41166\n",
      "28332\n"
     ]
    }
   ],
   "source": [
    "# examine reliable, satire, fake, etc. articles\n",
    "\n",
    "reliable = data.loc[data['type'] == 'reliable']\n",
    "satire = data.loc[data['type'] == 'satire']\n",
    "fake = data.loc[data['type'] == 'fake']\n",
    "political = data.loc[data['type'] == 'political']\n",
    "bias = data.loc[data['type'] == 'bias']\n",
    "\n",
    "print(type(reliable['type']))\n",
    "print(len(reliable['type']))\n",
    "print(type(fake['type']))\n",
    "print(len(fake['type']))\n",
    "\n",
    "print(len(satire['type']))\n",
    "print(len(political['type']))\n",
    "print(len(bias['type']))"
   ]
  },
  {
   "cell_type": "code",
   "execution_count": 8,
   "metadata": {},
   "outputs": [
    {
     "data": {
      "text/html": [
       "<div>\n",
       "<style scoped>\n",
       "    .dataframe tbody tr th:only-of-type {\n",
       "        vertical-align: middle;\n",
       "    }\n",
       "\n",
       "    .dataframe tbody tr th {\n",
       "        vertical-align: top;\n",
       "    }\n",
       "\n",
       "    .dataframe thead th {\n",
       "        text-align: right;\n",
       "    }\n",
       "</style>\n",
       "<table border=\"1\" class=\"dataframe\">\n",
       "  <thead>\n",
       "    <tr style=\"text-align: right;\">\n",
       "      <th></th>\n",
       "      <th>Unnamed: 0</th>\n",
       "      <th>Unnamed: 0.1</th>\n",
       "      <th>Unnamed: 0.1.1</th>\n",
       "      <th>id</th>\n",
       "      <th>domain</th>\n",
       "      <th>type</th>\n",
       "      <th>url</th>\n",
       "      <th>content</th>\n",
       "      <th>scraped_at</th>\n",
       "      <th>inserted_at</th>\n",
       "      <th>...</th>\n",
       "      <th>summary</th>\n",
       "      <th>source</th>\n",
       "      <th>len_content</th>\n",
       "      <th>len_title</th>\n",
       "      <th>num_exclaim_title</th>\n",
       "      <th>num_sentences_content</th>\n",
       "      <th>sentences_content</th>\n",
       "      <th>num_paras</th>\n",
       "      <th>num_punc_content</th>\n",
       "      <th>percent_punc_content_per_len</th>\n",
       "    </tr>\n",
       "  </thead>\n",
       "  <tbody>\n",
       "    <tr>\n",
       "      <th>0</th>\n",
       "      <td>152248</td>\n",
       "      <td>152248</td>\n",
       "      <td>703</td>\n",
       "      <td>7353652</td>\n",
       "      <td>beforeitsnews.com</td>\n",
       "      <td>fake</td>\n",
       "      <td>http://beforeitsnews.com/alternative/2016/03/p...</td>\n",
       "      <td>Police Reform Fight in Chicago Just Beginning ...</td>\n",
       "      <td>2017-11-27T01:14:08.7454</td>\n",
       "      <td>2018-02-08 19:18:34.468038</td>\n",
       "      <td>...</td>\n",
       "      <td>NaN</td>\n",
       "      <td>NaN</td>\n",
       "      <td>62</td>\n",
       "      <td>14</td>\n",
       "      <td>0</td>\n",
       "      <td>5</td>\n",
       "      <td>['Police Reform Fight in Chicago Just Beginnin...</td>\n",
       "      <td>11</td>\n",
       "      <td>38</td>\n",
       "      <td>61.290323</td>\n",
       "    </tr>\n",
       "    <tr>\n",
       "      <th>1</th>\n",
       "      <td>159787</td>\n",
       "      <td>159787</td>\n",
       "      <td>2086</td>\n",
       "      <td>7726159</td>\n",
       "      <td>lifenews.com</td>\n",
       "      <td>bias</td>\n",
       "      <td>https://consciouslifenews.com/tag/okinawan-cen...</td>\n",
       "      <td>FAIR USE NOTICE. Many of the stories on this s...</td>\n",
       "      <td>2017-12-09T22:10:06.021376</td>\n",
       "      <td>2018-02-08 19:18:34.468038</td>\n",
       "      <td>...</td>\n",
       "      <td>NaN</td>\n",
       "      <td>NaN</td>\n",
       "      <td>242</td>\n",
       "      <td>4</td>\n",
       "      <td>0</td>\n",
       "      <td>12</td>\n",
       "      <td>['FAIR USE NOTICE.', 'Many of the stories on t...</td>\n",
       "      <td>9</td>\n",
       "      <td>41</td>\n",
       "      <td>16.942149</td>\n",
       "    </tr>\n",
       "    <tr>\n",
       "      <th>2</th>\n",
       "      <td>172814</td>\n",
       "      <td>172814</td>\n",
       "      <td>9375</td>\n",
       "      <td>8297735</td>\n",
       "      <td>au.finance.yahoo.com</td>\n",
       "      <td>reliable</td>\n",
       "      <td>https://au.finance.yahoo.com/news/confidence-g...</td>\n",
       "      <td>Tue, Nov 15, 2016, 4:08 AM AEDT - Australia Ma...</td>\n",
       "      <td>2016-11-14T19:12:09.467+02:00</td>\n",
       "      <td>2018-02-10 13:43:39.521661</td>\n",
       "      <td>...</td>\n",
       "      <td>NaN</td>\n",
       "      <td>webhose</td>\n",
       "      <td>212</td>\n",
       "      <td>7</td>\n",
       "      <td>0</td>\n",
       "      <td>7</td>\n",
       "      <td>[\"Tue, Nov 15, 2016, 4:08 AM AEDT - Australia ...</td>\n",
       "      <td>7</td>\n",
       "      <td>31</td>\n",
       "      <td>14.622642</td>\n",
       "    </tr>\n",
       "    <tr>\n",
       "      <th>3</th>\n",
       "      <td>77429</td>\n",
       "      <td>77429</td>\n",
       "      <td>5568</td>\n",
       "      <td>3624184</td>\n",
       "      <td>beforeitsnews.com</td>\n",
       "      <td>fake</td>\n",
       "      <td>http://beforeitsnews.com/politics/2015/02/indi...</td>\n",
       "      <td>(Before It's News)\\n\\nA 2006 government survey...</td>\n",
       "      <td>2017-11-21T12:56:35.440396</td>\n",
       "      <td>2018-02-07 23:39:33.852671</td>\n",
       "      <td>...</td>\n",
       "      <td>NaN</td>\n",
       "      <td>NaN</td>\n",
       "      <td>298</td>\n",
       "      <td>5</td>\n",
       "      <td>0</td>\n",
       "      <td>11</td>\n",
       "      <td>[\"(Before It's News)\\n\\nA 2006 government surv...</td>\n",
       "      <td>15</td>\n",
       "      <td>83</td>\n",
       "      <td>27.852349</td>\n",
       "    </tr>\n",
       "    <tr>\n",
       "      <th>4</th>\n",
       "      <td>196579</td>\n",
       "      <td>196579</td>\n",
       "      <td>5488</td>\n",
       "      <td>9244550</td>\n",
       "      <td>nytimes.com</td>\n",
       "      <td>reliable</td>\n",
       "      <td>https://www.nytimes.com/2009/05/31/style/tmaga...</td>\n",
       "      <td>3. Arrange the potatoes on a serving dish. Top...</td>\n",
       "      <td>2018-02-11 00:43:31.535705</td>\n",
       "      <td>2018-02-11 00:14:20.346838</td>\n",
       "      <td>...</td>\n",
       "      <td>NaN</td>\n",
       "      <td>nytimes</td>\n",
       "      <td>235</td>\n",
       "      <td>7</td>\n",
       "      <td>0</td>\n",
       "      <td>31</td>\n",
       "      <td>['3.', 'Arrange the potatoes on a serving dish...</td>\n",
       "      <td>39</td>\n",
       "      <td>87</td>\n",
       "      <td>37.021277</td>\n",
       "    </tr>\n",
       "  </tbody>\n",
       "</table>\n",
       "<p>5 rows × 27 columns</p>\n",
       "</div>"
      ],
      "text/plain": [
       "   Unnamed: 0  Unnamed: 0.1  Unnamed: 0.1.1       id                domain  \\\n",
       "0      152248        152248             703  7353652     beforeitsnews.com   \n",
       "1      159787        159787            2086  7726159          lifenews.com   \n",
       "2      172814        172814            9375  8297735  au.finance.yahoo.com   \n",
       "3       77429         77429            5568  3624184     beforeitsnews.com   \n",
       "4      196579        196579            5488  9244550           nytimes.com   \n",
       "\n",
       "       type                                                url  \\\n",
       "0      fake  http://beforeitsnews.com/alternative/2016/03/p...   \n",
       "1      bias  https://consciouslifenews.com/tag/okinawan-cen...   \n",
       "2  reliable  https://au.finance.yahoo.com/news/confidence-g...   \n",
       "3      fake  http://beforeitsnews.com/politics/2015/02/indi...   \n",
       "4  reliable  https://www.nytimes.com/2009/05/31/style/tmaga...   \n",
       "\n",
       "                                             content  \\\n",
       "0  Police Reform Fight in Chicago Just Beginning ...   \n",
       "1  FAIR USE NOTICE. Many of the stories on this s...   \n",
       "2  Tue, Nov 15, 2016, 4:08 AM AEDT - Australia Ma...   \n",
       "3  (Before It's News)\\n\\nA 2006 government survey...   \n",
       "4  3. Arrange the potatoes on a serving dish. Top...   \n",
       "\n",
       "                      scraped_at                 inserted_at  ... summary  \\\n",
       "0       2017-11-27T01:14:08.7454  2018-02-08 19:18:34.468038  ...     NaN   \n",
       "1     2017-12-09T22:10:06.021376  2018-02-08 19:18:34.468038  ...     NaN   \n",
       "2  2016-11-14T19:12:09.467+02:00  2018-02-10 13:43:39.521661  ...     NaN   \n",
       "3     2017-11-21T12:56:35.440396  2018-02-07 23:39:33.852671  ...     NaN   \n",
       "4     2018-02-11 00:43:31.535705  2018-02-11 00:14:20.346838  ...     NaN   \n",
       "\n",
       "    source len_content  len_title num_exclaim_title num_sentences_content  \\\n",
       "0      NaN          62         14                 0                     5   \n",
       "1      NaN         242          4                 0                    12   \n",
       "2  webhose         212          7                 0                     7   \n",
       "3      NaN         298          5                 0                    11   \n",
       "4  nytimes         235          7                 0                    31   \n",
       "\n",
       "                                   sentences_content  num_paras  \\\n",
       "0  ['Police Reform Fight in Chicago Just Beginnin...         11   \n",
       "1  ['FAIR USE NOTICE.', 'Many of the stories on t...          9   \n",
       "2  [\"Tue, Nov 15, 2016, 4:08 AM AEDT - Australia ...          7   \n",
       "3  [\"(Before It's News)\\n\\nA 2006 government surv...         15   \n",
       "4  ['3.', 'Arrange the potatoes on a serving dish...         39   \n",
       "\n",
       "  num_punc_content  percent_punc_content_per_len  \n",
       "0               38                     61.290323  \n",
       "1               41                     16.942149  \n",
       "2               31                     14.622642  \n",
       "3               83                     27.852349  \n",
       "4               87                     37.021277  \n",
       "\n",
       "[5 rows x 27 columns]"
      ]
     },
     "execution_count": 8,
     "metadata": {},
     "output_type": "execute_result"
    }
   ],
   "source": [
    "# select random sample from reliable, fake, etc, then combine in a new dataframe\n",
    "\n",
    "fake = fake.sample(n=10000)\n",
    "reliable = reliable.sample(n=10000)\n",
    "satire = satire.sample (n=2863)\n",
    "political = political.sample(n=10000)\n",
    "bias = bias.sample(n=10000)\n",
    "# print(type(fake))\n",
    "# print(fake.head())\n",
    "\n",
    "data = reliable.append(fake)\n",
    "data = data.append(satire)\n",
    "data = data.append(political)\n",
    "data = data.append(bias)\n",
    "\n",
    "# shuffle the new dataset\n",
    "data = data.sample(frac=1).reset_index(drop=True)\n",
    "\n",
    "data.head()"
   ]
  },
  {
   "cell_type": "code",
   "execution_count": 9,
   "metadata": {},
   "outputs": [
    {
     "data": {
      "text/plain": [
       "<matplotlib.axes._subplots.AxesSubplot at 0x7fa1866a9a58>"
      ]
     },
     "execution_count": 9,
     "metadata": {},
     "output_type": "execute_result"
    },
    {
     "data": {
      "image/png": "[encoded data removed]",
      "text/plain": [
       "<Figure size 432x288 with 1 Axes>"
      ]
     },
     "metadata": {
      "needs_background": "light"
     },
     "output_type": "display_data"
    }
   ],
   "source": [
    "# change \"reliable\", \"satire\", \"fake\", etc. to 0,1,2,etc.\n",
    "\n",
    "data.loc[data['type'] == 'reliable', 'type'] = 0.0\n",
    "data.loc[data['type'] == 'political', 'type'] = 4.0\n",
    "data.loc[data['type'] == 'bias', 'type'] = 3.0\n",
    "data.loc[data['type'] == 'satire', 'type'] = 1.0\n",
    "data.loc[data['type'] == 'fake', 'type'] = 2.0\n",
    "\n",
    "data['content'] = data['title']+'\\n'+data['content']\n",
    "# plot the distribution,\n",
    "data['type'].plot.hist()\n"
   ]
  },
  {
   "cell_type": "code",
   "execution_count": 10,
   "metadata": {},
   "outputs": [
    {
     "name": "stdout",
     "output_type": "stream",
     "text": [
      "30014\n",
      "9010\n",
      "3839\n"
     ]
    }
   ],
   "source": [
    "# split data into train and test\n",
    "\n",
    "msk = np.random.rand(len(data)) < 0.7\n",
    "\n",
    "train = data[msk]\n",
    "validation = data[~msk]\n",
    "\n",
    "msk2 = np.random.rand(len(validation)) < 0.7\n",
    "\n",
    "val = validation[msk2]\n",
    "test = validation[~msk2]\n",
    "\n",
    "\n",
    "train_data = train[['content','type']].copy()\n",
    "val_data = val[['content','type']].copy()\n",
    "test_data = test[['content','type']].copy()\n",
    "\n",
    "\n",
    "print(len(train_data))\n",
    "print(len(val_data))\n",
    "print(len(test_data))\n",
    "\n",
    "# print(train_data['type'])\n",
    "# print(train_data['content'])"
   ]
  },
  {
   "cell_type": "code",
   "execution_count": 11,
   "metadata": {},
   "outputs": [
    {
     "data": {
      "text/plain": [
       "<matplotlib.axes._subplots.AxesSubplot at 0x7fa138570128>"
      ]
     },
     "execution_count": 11,
     "metadata": {},
     "output_type": "execute_result"
    },
    {
     "data": {
      "image/png": "[encoded data removed]",
      "text/plain": [
       "<Figure size 432x288 with 1 Axes>"
      ]
     },
     "metadata": {
      "needs_background": "light"
     },
     "output_type": "display_data"
    }
   ],
   "source": [
    "# plot the distribution of train_data\n",
    "train_data['type'].plot.hist()\n",
    "\n",
    "# plot the distribution of val_data\n",
    "val_data['type'].plot.hist()\n",
    "\n",
    "# plot the distribution of test_data\n",
    "test_data['type'].plot.hist()"
   ]
  },
  {
   "cell_type": "code",
   "execution_count": 12,
   "metadata": {},
   "outputs": [
    {
     "name": "stdout",
     "output_type": "stream",
     "text": [
      "0    Police Reform Fight in Chicago Just Beginning ...\n",
      "1    Okinawan centenarian study Archives FAIR USE N...\n",
      "2    Confidence gauge to give view on Trump Tue, No...\n",
      "4    Galician-style Lobster With Pimentón And Olive...\n",
      "5    New Car Show & a Ferrari – FMV261 If Satan Is ...\n",
      "Name: content, dtype: object\n"
     ]
    }
   ],
   "source": [
    "def cleanText(text):\n",
    "    #remove EOL \n",
    "    text = str(text).strip().replace(\"\\n\", \" \").replace(\"\\r\", \" \")\n",
    "#     text= text.split(\" \")\n",
    "    #remove stop words \n",
    "#     stops = set(stopwords.words(\"english\"))\n",
    "#     text = [w for w in text if not w in stops and len(w)>0]\n",
    "    arr= text\n",
    "    # preprocess data to standardize lengths\n",
    "    #text= text[0:999]\n",
    "        \n",
    "    #text=' '.join(text)\n",
    "    \n",
    "#     text = replace_contraction(text)\n",
    "#     text = replace_links(text, \"link\")\n",
    "#     text = remove_numbers(text)\n",
    "#     text = re.sub(r'[,!@#$%^&*)(|/><\";:.?\\'\\\\}{]',\"\",text)\n",
    "#     text = text.lower()\n",
    "    return arr\n",
    "\n",
    "train_data[\"content\"] = train_data[\"content\"].apply(cleanText)\n",
    "test_data[\"content\"] = test_data[\"content\"].apply(cleanText)\n",
    "val_data[\"content\"] = val_data[\"content\"].apply(cleanText)\n",
    "\n",
    "print(train_data[\"content\"].head())"
   ]
  },
  {
   "cell_type": "markdown",
   "metadata": {},
   "source": [
    "# Data preprocessing"
   ]
  },
  {
   "cell_type": "code",
   "execution_count": 13,
   "metadata": {},
   "outputs": [],
   "source": [
    "DATA_COLUMN = 'content'\n",
    "LABEL_COLUMN = 'type'\n",
    "# label_list is the list of labels, i.e. True, False or 0, 1 or 'dog', 'cat'\n",
    "label_list = [0, 1, 2, 3, 4]"
   ]
  },
  {
   "cell_type": "code",
   "execution_count": 14,
   "metadata": {},
   "outputs": [],
   "source": [
    "# Use the InputExample class from BERT's run_classifier code to create examples from the data\n",
    "train_InputExamples = train_data.apply(lambda x: bert.run_classifier.InputExample(guid=None, # Globally unique ID for bookkeeping, unused in this example\n",
    "                                                                   text_a = x[DATA_COLUMN], \n",
    "                                                                   text_b = None, \n",
    "                                                                   label = x[LABEL_COLUMN]), axis = 1)\n",
    "\n",
    "val_InputExamples = val_data.apply(lambda x: bert.run_classifier.InputExample(guid=None, # Globally unique ID for bookkeeping, unused in this example\n",
    "                                                                   text_a = x[DATA_COLUMN], \n",
    "                                                                   text_b = None, \n",
    "                                                                   label = x[LABEL_COLUMN]), axis = 1)\n",
    "\n",
    "test_InputExamples = test_data.apply(lambda x: bert.run_classifier.InputExample(guid=None, \n",
    "                                                                   text_a = x[DATA_COLUMN], \n",
    "                                                                   text_b = None, \n",
    "                                                                   label = x[LABEL_COLUMN]), axis = 1)"
   ]
  },
  {
   "cell_type": "code",
   "execution_count": 15,
   "metadata": {},
   "outputs": [
    {
     "name": "stderr",
     "output_type": "stream",
     "text": [
      "W0805 14:37:04.037805 140334574135040 deprecation_wrapper.py:119] From /home/jupyter/src/FakeNews/bert/tokenization.py:125: The name tf.gfile.GFile is deprecated. Please use tf.io.gfile.GFile instead.\n",
      "\n"
     ]
    }
   ],
   "source": [
    "# This is a path to an uncased (all lowercase) version of BERT\n",
    "BERT_MODEL_HUB = \"https://tfhub.dev/google/bert_uncased_L-12_H-768_A-12/1\"\n",
    "\n",
    "def create_tokenizer_from_hub_module():\n",
    "    \"\"\"Get the vocab file and casing info from the Hub module.\"\"\"\n",
    "    with tf.Graph().as_default():\n",
    "        bert_module = hub.Module(BERT_MODEL_HUB)\n",
    "        tokenization_info = bert_module(signature=\"tokenization_info\", as_dict=True)\n",
    "        with tf.Session() as sess:\n",
    "            vocab_file, do_lower_case = sess.run([tokenization_info[\"vocab_file\"],\n",
    "                                            tokenization_info[\"do_lower_case\"]])\n",
    "      \n",
    "    return bert.tokenization.FullTokenizer(\n",
    "        vocab_file=vocab_file, do_lower_case=do_lower_case)\n",
    "\n",
    "tokenizer = create_tokenizer_from_hub_module()"
   ]
  },
  {
   "cell_type": "code",
   "execution_count": 16,
   "metadata": {},
   "outputs": [
    {
     "data": {
      "text/plain": [
       "['this',\n",
       " 'here',\n",
       " \"'\",\n",
       " 's',\n",
       " 'an',\n",
       " 'example',\n",
       " 'of',\n",
       " 'using',\n",
       " 'the',\n",
       " 'bert',\n",
       " 'token',\n",
       " '##izer']"
      ]
     },
     "execution_count": 16,
     "metadata": {},
     "output_type": "execute_result"
    }
   ],
   "source": [
    "tokenizer.tokenize(\"This here's an example of using the BERT tokenizer\")"
   ]
  },
  {
   "cell_type": "code",
   "execution_count": 17,
   "metadata": {},
   "outputs": [
    {
     "name": "stderr",
     "output_type": "stream",
     "text": [
      "W0805 14:37:10.580774 140334574135040 deprecation_wrapper.py:119] From /home/jupyter/src/FakeNews/bert/run_classifier.py:774: The name tf.logging.info is deprecated. Please use tf.compat.v1.logging.info instead.\n",
      "\n"
     ]
    }
   ],
   "source": [
    "# We'll set sequences to be at most 128 tokens long.\n",
    "MAX_SEQ_LENGTH = 128\n",
    "# Convert our train and test features to InputFeatures that BERT understands.\n",
    "train_features = bert.run_classifier.convert_examples_to_features(train_InputExamples, label_list, MAX_SEQ_LENGTH, tokenizer)\n",
    "val_features = bert.run_classifier.convert_examples_to_features(val_InputExamples, label_list, MAX_SEQ_LENGTH, tokenizer)\n",
    "test_features = bert.run_classifier.convert_examples_to_features(test_InputExamples, label_list, MAX_SEQ_LENGTH, tokenizer)"
   ]
  },
  {
   "cell_type": "markdown",
   "metadata": {},
   "source": [
    "# Creating a model\n",
    "Now that we've prepared our data, let's focus on building a model. create_model does just this below. First, it loads the BERT tf hub module again (this time to extract the computation graph). Next, it creates a single new layer that will be trained to adapt BERT to our  task. This strategy of using a mostly trained model is called fine-tuning."
   ]
  },
  {
   "cell_type": "code",
   "execution_count": 18,
   "metadata": {},
   "outputs": [],
   "source": [
    "def create_model(is_predicting, input_ids, input_mask, segment_ids, labels,\n",
    "                 num_labels):\n",
    "    \"\"\"Creates a classification model.\"\"\"\n",
    "\n",
    "    bert_module = hub.Module(\n",
    "        BERT_MODEL_HUB,\n",
    "        trainable=True)\n",
    "    bert_inputs = dict(\n",
    "        input_ids=input_ids,\n",
    "        input_mask=input_mask,\n",
    "        segment_ids=segment_ids)\n",
    "    bert_outputs = bert_module(\n",
    "        inputs=bert_inputs,\n",
    "        signature=\"tokens\",\n",
    "        as_dict=True)\n",
    "\n",
    "    # Use \"pooled_output\" for classification tasks on an entire sentence.\n",
    "    # Use \"sequence_outputs\" for token-level output.\n",
    "    output_layer = bert_outputs[\"pooled_output\"]\n",
    "\n",
    "    hidden_size = output_layer.shape[-1].value\n",
    "\n",
    "    # Create our own layer to tune for politeness data.\n",
    "    output_weights = tf.get_variable(\n",
    "        \"output_weights\", [num_labels, hidden_size],\n",
    "        initializer=tf.truncated_normal_initializer(stddev=0.02))\n",
    "\n",
    "    output_bias = tf.get_variable(\n",
    "        \"output_bias\", [num_labels], initializer=tf.zeros_initializer())\n",
    "\n",
    "    with tf.variable_scope(\"loss\"):\n",
    "\n",
    "        # Dropout helps prevent overfitting\n",
    "        output_layer = tf.nn.dropout(output_layer, keep_prob=0.9)\n",
    "\n",
    "        logits = tf.matmul(output_layer, output_weights, transpose_b=True)\n",
    "        logits = tf.nn.bias_add(logits, output_bias)\n",
    "        log_probs = tf.nn.log_softmax(logits, axis=-1)\n",
    "\n",
    "        # Convert labels into one-hot encoding\n",
    "        one_hot_labels = tf.one_hot(labels, depth=num_labels, dtype=tf.float32)\n",
    "\n",
    "        predicted_labels = tf.squeeze(tf.argmax(log_probs, axis=-1, output_type=tf.int32))\n",
    "        # If we're predicting, we want predicted labels and the probabiltiies.\n",
    "        if is_predicting:\n",
    "            return (predicted_labels, log_probs)\n",
    "\n",
    "        # If we're train/eval, compute loss between predicted and actual label\n",
    "        per_example_loss = -tf.reduce_sum(one_hot_labels * log_probs, axis=-1)\n",
    "        loss = tf.reduce_mean(per_example_loss)\n",
    "        return (loss, predicted_labels, log_probs)"
   ]
  },
  {
   "cell_type": "code",
   "execution_count": 19,
   "metadata": {},
   "outputs": [],
   "source": [
    "# model_fn_builder actually creates our model function\n",
    "# using the passed parameters for num_labels, learning_rate, etc.\n",
    "def model_fn_builder(num_labels, learning_rate, num_train_steps,\n",
    "                     num_warmup_steps):\n",
    "    \"\"\"Returns `model_fn` closure for TPUEstimator.\"\"\"\n",
    "    def model_fn(features, labels, mode, params):  # pylint: disable=unused-argument\n",
    "        \"\"\"The `model_fn` for TPUEstimator.\"\"\"\n",
    "\n",
    "        input_ids = features[\"input_ids\"]\n",
    "        input_mask = features[\"input_mask\"]\n",
    "        segment_ids = features[\"segment_ids\"]\n",
    "        label_ids = features[\"label_ids\"]\n",
    "\n",
    "        is_predicting = (mode == tf.estimator.ModeKeys.PREDICT)\n",
    "    \n",
    "        # TRAIN and EVAL\n",
    "        if not is_predicting:\n",
    "\n",
    "            (loss, predicted_labels, log_probs) = create_model(\n",
    "              is_predicting, input_ids, input_mask, segment_ids, label_ids, num_labels)\n",
    "\n",
    "            train_op = bert.optimization.create_optimizer(\n",
    "              loss, learning_rate, num_train_steps, num_warmup_steps, use_tpu=False)\n",
    "\n",
    "            # Calculate evaluation metrics. \n",
    "            def metric_fn(label_ids, predicted_labels):\n",
    "                accuracy = tf.metrics.accuracy(label_ids, predicted_labels)\n",
    "#                 f1_score = tf.contrib.metrics.f1_score(\n",
    "#                   label_ids,\n",
    "#                   predicted_labels)\n",
    "#                 auc = tf.metrics.auc(\n",
    "#                   label_ids,\n",
    "#                   predicted_labels)\n",
    "#                 recall = tf.metrics.recall(\n",
    "#                   label_ids,\n",
    "#                   predicted_labels)\n",
    "#                 precision = tf.metrics.precision(\n",
    "#                   label_ids,\n",
    "#                   predicted_labels) \n",
    "#                 true_pos = tf.metrics.true_positives(\n",
    "#                   label_ids,\n",
    "#                   predicted_labels)\n",
    "#                 true_neg = tf.metrics.true_negatives(\n",
    "#                   label_ids,\n",
    "#                   predicted_labels)   \n",
    "#                 false_pos = tf.metrics.false_positives(\n",
    "#                   label_ids,\n",
    "#                   predicted_labels)  \n",
    "#                 false_neg = tf.metrics.false_negatives(\n",
    "#                   label_ids,\n",
    "#                   predicted_labels)\n",
    "                return {\n",
    "                  \"eval_accuracy\": accuracy,\n",
    "#                   \"f1_score\": f1_score,\n",
    "#                   \"auc\": auc,\n",
    "#                   \"precision\": precision,\n",
    "#                   \"recall\": recall,\n",
    "#                   \"true_positives\": true_pos,\n",
    "#                   \"true_negatives\": true_neg,\n",
    "#                   \"false_positives\": false_pos,\n",
    "#                   \"false_negatives\": false_neg\n",
    "                  }\n",
    "\n",
    "            eval_metrics = metric_fn(label_ids, predicted_labels)\n",
    "\n",
    "            if mode == tf.estimator.ModeKeys.TRAIN:\n",
    "                return tf.estimator.EstimatorSpec(mode=mode,\n",
    "                  loss=loss,\n",
    "                  train_op=train_op)\n",
    "            else:\n",
    "                return tf.estimator.EstimatorSpec(mode=mode,\n",
    "                  loss=loss,\n",
    "                  eval_metric_ops=eval_metrics)\n",
    "        else:\n",
    "            (predicted_labels, log_probs) = create_model(\n",
    "              is_predicting, input_ids, input_mask, segment_ids, label_ids, num_labels)\n",
    "\n",
    "            predictions = {\n",
    "              'probabilities': log_probs,\n",
    "              'labels': predicted_labels\n",
    "              }\n",
    "            return tf.estimator.EstimatorSpec(mode, predictions=predictions)\n",
    "\n",
    "    # Return the actual model function in the closure\n",
    "    return model_fn\n"
   ]
  },
  {
   "cell_type": "code",
   "execution_count": 20,
   "metadata": {},
   "outputs": [],
   "source": [
    "# Compute train and warmup steps from batch size\n",
    "# These hyperparameters are copied from this colab notebook (https://colab.sandbox.google.com/github/tensorflow/tpu/blob/master/tools/colab/bert_finetuning_with_cloud_tpus.ipynb)\n",
    "BATCH_SIZE = 32\n",
    "LEARNING_RATE = 2e-5\n",
    "NUM_TRAIN_EPOCHS = 3.0\n",
    "# Warmup is a period of time where hte learning rate \n",
    "# is small and gradually increases--usually helps training.\n",
    "WARMUP_PROPORTION = 0.1\n",
    "# Model configs\n",
    "SAVE_CHECKPOINTS_STEPS = 500\n",
    "SAVE_SUMMARY_STEPS = 100"
   ]
  },
  {
   "cell_type": "code",
   "execution_count": 21,
   "metadata": {},
   "outputs": [],
   "source": [
    "# Compute # train and warmup steps from batch size\n",
    "num_train_steps = int(len(train_features) / BATCH_SIZE * NUM_TRAIN_EPOCHS)\n",
    "num_warmup_steps = int(num_train_steps * WARMUP_PROPORTION)"
   ]
  },
  {
   "cell_type": "code",
   "execution_count": 22,
   "metadata": {},
   "outputs": [],
   "source": [
    "# Specify outpit directory and number of checkpoint steps to save\n",
    "run_config = tf.estimator.RunConfig(\n",
    "    model_dir='./model',\n",
    "    save_summary_steps=SAVE_SUMMARY_STEPS,\n",
    "    save_checkpoints_steps=SAVE_CHECKPOINTS_STEPS)"
   ]
  },
  {
   "cell_type": "code",
   "execution_count": 23,
   "metadata": {},
   "outputs": [],
   "source": [
    "model_fn = model_fn_builder(\n",
    "  num_labels=len(label_list),\n",
    "  learning_rate=LEARNING_RATE,\n",
    "  num_train_steps=num_train_steps,\n",
    "  num_warmup_steps=num_warmup_steps)\n",
    "\n",
    "estimator = tf.estimator.Estimator(\n",
    "  model_fn=model_fn,\n",
    "  config=run_config,\n",
    "  params={\"batch_size\": BATCH_SIZE})\n"
   ]
  },
  {
   "cell_type": "code",
   "execution_count": 24,
   "metadata": {},
   "outputs": [],
   "source": [
    "# Create an input function for training. drop_remainder = True for using TPUs.\n",
    "train_input_fn = bert.run_classifier.input_fn_builder(\n",
    "    features=train_features,\n",
    "    seq_length=MAX_SEQ_LENGTH,\n",
    "    is_training=True,\n",
    "    drop_remainder=False)"
   ]
  },
  {
   "cell_type": "code",
   "execution_count": 25,
   "metadata": {},
   "outputs": [
    {
     "name": "stdout",
     "output_type": "stream",
     "text": [
      "Beginning Training!\n",
      "Training took time  0:00:00.009230\n"
     ]
    }
   ],
   "source": [
    "print('Beginning Training!')\n",
    "current_time = datetime.now()\n",
    "estimator.train(input_fn=train_input_fn, max_steps=num_train_steps)\n",
    "print(\"Training took time \", datetime.now() - current_time)"
   ]
  },
  {
   "cell_type": "code",
   "execution_count": 26,
   "metadata": {},
   "outputs": [],
   "source": [
    "val_input_fn = run_classifier.input_fn_builder(\n",
    "    features=val_features,\n",
    "    seq_length=MAX_SEQ_LENGTH,\n",
    "    is_training=False,\n",
    "    drop_remainder=False)"
   ]
  },
  {
   "cell_type": "code",
   "execution_count": 27,
   "metadata": {},
   "outputs": [
    {
     "name": "stderr",
     "output_type": "stream",
     "text": [
      "W0805 14:44:26.057124 140334574135040 deprecation.py:506] From <ipython-input-18-4d5a7eab809a>:34: calling dropout (from tensorflow.python.ops.nn_ops) with keep_prob is deprecated and will be removed in a future version.\n",
      "Instructions for updating:\n",
      "Please use `rate` instead of `keep_prob`. Rate should be set to `rate = 1 - keep_prob`.\n",
      "W0805 14:44:26.101669 140334574135040 deprecation_wrapper.py:119] From /home/jupyter/src/FakeNews/bert/optimization.py:27: The name tf.train.get_or_create_global_step is deprecated. Please use tf.compat.v1.train.get_or_create_global_step instead.\n",
      "\n",
      "W0805 14:44:26.115610 140334574135040 deprecation_wrapper.py:119] From /home/jupyter/src/FakeNews/bert/optimization.py:32: The name tf.train.polynomial_decay is deprecated. Please use tf.compat.v1.train.polynomial_decay instead.\n",
      "\n",
      "W0805 14:44:26.123687 140334574135040 deprecation.py:323] From /usr/local/lib/python3.5/dist-packages/tensorflow/python/keras/optimizer_v2/learning_rate_schedule.py:409: div (from tensorflow.python.ops.math_ops) is deprecated and will be removed in a future version.\n",
      "Instructions for updating:\n",
      "Deprecated in favor of operator or tf.math.divide.\n",
      "W0805 14:44:26.143195 140334574135040 deprecation_wrapper.py:119] From /home/jupyter/src/FakeNews/bert/optimization.py:70: The name tf.trainable_variables is deprecated. Please use tf.compat.v1.trainable_variables instead.\n",
      "\n",
      "W0805 14:44:26.441303 140334574135040 deprecation.py:323] From /usr/local/lib/python3.5/dist-packages/tensorflow/python/ops/math_grad.py:1205: add_dispatch_support.<locals>.wrapper (from tensorflow.python.ops.array_ops) is deprecated and will be removed in a future version.\n",
      "Instructions for updating:\n",
      "Use tf.where in 2.0, which has the same broadcast rule as np.where\n",
      "W0805 14:44:31.961220 140334574135040 deprecation_wrapper.py:119] From /home/jupyter/src/FakeNews/bert/optimization.py:117: The name tf.get_variable is deprecated. Please use tf.compat.v1.get_variable instead.\n",
      "\n",
      "/usr/local/lib/python3.5/dist-packages/tensorflow/python/ops/gradients_util.py:93: UserWarning: Converting sparse IndexedSlices to a dense Tensor of unknown shape. This may consume a large amount of memory.\n",
      "  \"Converting sparse IndexedSlices to a dense Tensor of unknown shape. \"\n",
      "W0805 14:44:39.868170 140334574135040 deprecation.py:323] From /usr/local/lib/python3.5/dist-packages/tensorflow/python/training/saver.py:1276: checkpoint_exists (from tensorflow.python.training.checkpoint_management) is deprecated and will be removed in a future version.\n",
      "Instructions for updating:\n",
      "Use standard file APIs to check for files with this prefix.\n"
     ]
    },
    {
     "data": {
      "text/plain": [
       "{'eval_accuracy': 0.88690346, 'global_step': 2829, 'loss': 0.35353985}"
      ]
     },
     "execution_count": 27,
     "metadata": {},
     "output_type": "execute_result"
    }
   ],
   "source": [
    "estimator.evaluate(input_fn=val_input_fn, steps=None)"
   ]
  },
  {
   "cell_type": "code",
   "execution_count": 30,
   "metadata": {},
   "outputs": [],
   "source": [
    "preds = estimator.predict(input_fn= val_input_fn)\n",
    "y_preds=[]\n",
    "for y in preds:\n",
    "    y_preds.append(y[\"labels\"])\n",
    "y_true=list(val_data['type'])"
   ]
  },
  {
   "cell_type": "code",
   "execution_count": 35,
   "metadata": {},
   "outputs": [],
   "source": [
    "from sklearn.metrics import confusion_matrix\n",
    "def plot_confusion_matrix(cm, classes,\n",
    "                          normalize=False,\n",
    "                          title=None,\n",
    "                          cmap=plt.cm.Blues):\n",
    "    \"\"\"\n",
    "    This function prints and plots the confusion matrix.\n",
    "    Normalization can be applied by setting `normalize=True`.\n",
    "    \"\"\"\n",
    "    if not title:\n",
    "        if normalize:\n",
    "            title = 'Normalized confusion matrix'\n",
    "        else:\n",
    "            title = 'Confusion matrix, without normalization'\n",
    "\n",
    "    # Compute confusion matrix\n",
    "   # cm = confusion_matrix(y_true, y_pred)\n",
    "    # Only use the labels that appear in the data\n",
    "    #classes = classes[unique_labels(y_true, y_pred)]\n",
    "    if normalize:\n",
    "        cm = cm.astype('float') / cm.sum(axis=1)[:, np.newaxis]\n",
    "     #   print(\"Normalized confusion matrix\")\n",
    "\n",
    "    #print('')\n",
    "\n",
    "    #print(cm)\n",
    "\n",
    "    fig, ax = plt.subplots()\n",
    "    im = ax.imshow(cm, interpolation='nearest', cmap=cmap)\n",
    "    ax.figure.colorbar(im, ax=ax)\n",
    "    # We want to show all ticks...\n",
    "    ax.set(xticks=np.arange(cm.shape[1]),\n",
    "           yticks=np.arange(cm.shape[0]),\n",
    "           # ... and label them with the respective list entries\n",
    "           xticklabels=classes, yticklabels=classes,\n",
    "           title=title,\n",
    "           ylabel='True label',\n",
    "           xlabel='Predicted label')\n",
    "\n",
    "    # Rotate the tick labels and set their alignment.\n",
    "    plt.setp(ax.get_xticklabels(), rotation=45, ha=\"right\",\n",
    "             rotation_mode=\"anchor\")\n",
    "\n",
    "    # Loop over data dimensions and create text annotations.\n",
    "    fmt = '.2f' if normalize else 'd'\n",
    "    thresh = cm.max() / 2.\n",
    "    for i in range(cm.shape[0]):\n",
    "        for j in range(cm.shape[1]):\n",
    "            ax.text(j, i, format(cm[i, j], fmt),\n",
    "                    ha=\"center\", va=\"center\",\n",
    "                    color=\"white\" if cm[i, j] > thresh else \"black\")\n",
    "    fig.tight_layout()\n",
    "    return ax\n",
    "\n",
    "\n",
    "np.set_printoptions(precision=2)\n",
    "\n",
    "class_names = np.array(['reliable','satire','fake','bias','political'])\n"
   ]
  },
  {
   "cell_type": "code",
   "execution_count": 36,
   "metadata": {},
   "outputs": [
    {
     "data": {
      "text/plain": [
       "<matplotlib.axes._subplots.AxesSubplot at 0x7fa0355b3c50>"
      ]
     },
     "execution_count": 36,
     "metadata": {},
     "output_type": "execute_result"
    },
    {
     "data": {
      "image/png": "[encoded data removed]",
      "text/plain": [
       "<Figure size 432x288 with 2 Axes>"
      ]
     },
     "metadata": {
      "needs_background": "light"
     },
     "output_type": "display_data"
    }
   ],
   "source": [
    "# Plot non-normalized confusion matrix\n",
    "cm =skm.confusion_matrix(y_true,y_preds)\n",
    "plot_confusion_matrix(cm, classes=class_names,normalize=False,\n",
    "                      title='Learning to Spot Fake News, Val Set Performance')"
   ]
  },
  {
   "cell_type": "markdown",
   "metadata": {},
   "source": [
    "# Run on Final Test Set"
   ]
  },
  {
   "cell_type": "code",
   "execution_count": 179,
   "metadata": {},
   "outputs": [],
   "source": [
    "test_input_fn = run_classifier.input_fn_builder(\n",
    "    features=test_features,\n",
    "    seq_length=MAX_SEQ_LENGTH,\n",
    "    is_training=False,\n",
    "    drop_remainder=False)"
   ]
  },
  {
   "cell_type": "code",
   "execution_count": 180,
   "metadata": {},
   "outputs": [
    {
     "name": "stderr",
     "output_type": "stream",
     "text": [
      "/usr/local/lib/python3.5/dist-packages/tensorflow/python/ops/gradients_util.py:93: UserWarning: Converting sparse IndexedSlices to a dense Tensor of unknown shape. This may consume a large amount of memory.\n",
      "  \"Converting sparse IndexedSlices to a dense Tensor of unknown shape. \"\n"
     ]
    },
    {
     "data": {
      "text/plain": [
       "{'eval_accuracy': 0.8806981, 'global_step': 2829, 'loss': 0.37222502}"
      ]
     },
     "execution_count": 180,
     "metadata": {},
     "output_type": "execute_result"
    }
   ],
   "source": [
    "estimator.evaluate(input_fn=test_input_fn, steps=None)"
   ]
  },
  {
   "cell_type": "code",
   "execution_count": 181,
   "metadata": {},
   "outputs": [],
   "source": [
    "preds = estimator.predict(input_fn=test_input_fn)\n",
    "y_preds=[]\n",
    "for y in preds:\n",
    "    y_preds.append(y[\"labels\"])\n",
    "y_true=list(test_data['type'])\n"
   ]
  },
  {
   "cell_type": "code",
   "execution_count": 182,
   "metadata": {},
   "outputs": [
    {
     "data": {
      "text/plain": [
       "<matplotlib.axes._subplots.AxesSubplot at 0x7f9fcdb47860>"
      ]
     },
     "execution_count": 182,
     "metadata": {},
     "output_type": "execute_result"
    },
    {
     "data": {
      "image/png": "[encoded data removed]",
      "text/plain": [
       "<Figure size 432x288 with 2 Axes>"
      ]
     },
     "metadata": {
      "needs_background": "light"
     },
     "output_type": "display_data"
    }
   ],
   "source": [
    "# Plot non-normalized confusion matrix\n",
    "\n",
    "class_names = np.array(['reliable','satire','fake','bias','political'])\n",
    "cm =skm.confusion_matrix(y_true,y_preds)\n",
    "plot_confusion_matrix(cm, classes=class_names,normalize=False,\n",
    "                      title='Confusion Matrix on Test Set - Multiclass, Bert')"
   ]
  },
  {
   "cell_type": "code",
   "execution_count": 166,
   "metadata": {},
   "outputs": [],
   "source": [
    "rel_as_fake=[]\n",
    "fake_as_rel=[]\n",
    "sat_as_rel=[]\n",
    "rel_as_sat=[]\n",
    "fake_as_fake=[]\n",
    "sat_as_sat=[]\n",
    "for i in range(len(y_preds)):\n",
    "    if y_preds[i]==2 and y_true[i]==0:\n",
    "        rel_as_fake.append(i)\n",
    "    elif y_preds[i]==0 and y_true[i]==2:\n",
    "        fake_as_rel.append(i)\n",
    "    elif y_preds[i]==1 and y_true[i]==0:\n",
    "        rel_as_sat.append(i)\n",
    "    elif y_preds[i]==0 and y_true[i]==1:\n",
    "        sat_as_rel.append(i)\n",
    "    elif y_preds[i]==2 and y_true[i]==2:\n",
    "        fake_as_fake.append(i)\n",
    "    elif y_preds[i]==1 and y_true[i]==1:\n",
    "        sat_as_sat.append(i)\n",
    "\n",
    "        \n",
    "        \n",
    "    "
   ]
  },
  {
   "cell_type": "code",
   "execution_count": 146,
   "metadata": {},
   "outputs": [
    {
     "name": "stdout",
     "output_type": "stream",
     "text": [
      "real as fake: [733, 867, 2266, 3441]\n",
      "fake as real: [1674, 1836, 2094, 2779, 3834]\n",
      "real as satire: [1069, 2529]\n",
      "satire as real: [2142, 2476, 3177]\n"
     ]
    }
   ],
   "source": [
    "print('real as fake:',rel_as_fake)\n",
    "print('fake as real:',fake_as_rel)\n",
    "print('real as satire:',rel_as_sat)\n",
    "print('satire as real:',sat_as_rel)\n",
    "#print('fake as fake:',fake_as_fake)\n",
    "#print('satire as satire:',sat_as_sat)"
   ]
  },
  {
   "cell_type": "code",
   "execution_count": 99,
   "metadata": {},
   "outputs": [],
   "source": [
    "test_data_2=test_data.reset_index()\n",
    "\n"
   ]
  },
  {
   "cell_type": "markdown",
   "metadata": {},
   "source": [
    "# Fake as Real"
   ]
  },
  {
   "cell_type": "code",
   "execution_count": 121,
   "metadata": {},
   "outputs": [
    {
     "data": {
      "text/plain": [
       "'New Restaurant Gets Consult Last week, we took some friends to a new restaurant, ‘Steve’s Place,’ and noticed that the waiter who took our order carried a spoon in his shirt pocket.  It seemed a little strange. When the busboy brought our water and utensils, I observed that he also had a spoon in his shirt pocket.  Then I looked around and saw that all the staff had spoons in their pockets. When the waiter came back to serve our soup I inquired, ‘Why the spoon?’  ‘Well, ‘he explained, ‘the restaurant’s owner hired Andersen Consulting to revamp all of our processes. After several months of analysis, they concluded that the spoon was the most frequently dropped utensil. It represents a drop frequency of approximately 3 spoons per table per hour.  If our personnel are better prepared, we can reduce the number of trips back to the kitchen and save 15 man-hours per shift.’  As luck would have it, I dropped my spoon and he replaced it with his spare. ‘I’ll get another spoon next time I go to the kitchen instead of making an extra trip to get it right now…’ I was impressed.  I also noticed that there was a string hanging out of the waiter’s fly.  Looking around, I saw that all of the waiters had the same string hanging from their flies. So, before he walked off, I asked the waiter, ‘Excuse me, but can you tell me why you have that string right there?’  ‘Oh, certainly!’ Then he lowered his voice. ‘Not everyone is so observant. That consulting firm I mentioned also learned that we can save time in the restroom.  By tying this string to the tip of our you-know-what, we can pull it out without touching it and eliminate the need to wash our hands, shortening the time spent in the restroom by 76.39%.’  I asked quietly, ‘After you get it out, how do you put it back?’  ‘Well,’ he whispered, ‘I don’t know about the others, but I use the spoon.’'"
      ]
     },
     "execution_count": 121,
     "metadata": {},
     "output_type": "execute_result"
    }
   ],
   "source": [
    "test_data_2.iloc[3834,:]['content']"
   ]
  },
  {
   "cell_type": "code",
   "execution_count": 110,
   "metadata": {},
   "outputs": [
    {
     "data": {
      "text/plain": [
       "'Bill O’Brien says Texans have discussed signing Kaepernick - Boston.com “Is that a problem? Isn’t that the way most teams do it? People seem shocked by that.”'"
      ]
     },
     "execution_count": 110,
     "metadata": {},
     "output_type": "execute_result"
    }
   ],
   "source": [
    "test_data_2.iloc[1836,:]['content']"
   ]
  },
  {
   "cell_type": "markdown",
   "metadata": {},
   "source": [
    "# Fake as Fake"
   ]
  },
  {
   "cell_type": "code",
   "execution_count": 112,
   "metadata": {},
   "outputs": [
    {
     "data": {
      "text/plain": [
       "'BREAKING: Trump Is Donating Entire Salary To Special Charity… President Trump has often said that he won’t take a dime of taxpayer money while he’s the commander-in-chief.  However, he’s legally required to take his yearly salary of $$400,000 — so he’s going to give it away.  The charity he’s donating to will be special, as White House Press Secretary Sean Spicer said that Trump has been gracious enough to let the media help decide where that money will go.  CNBC reports:  Trump had said during the campaign that he planned to donate his $$400,000 annual salary to charity.  Press Secretary Sean Spicer told journalists the president will give the money at the end of the year and would “love your help” to determine where it goes.  He said, “The way that we can avoid scrutiny is to let the press corps” help decide.  SHARE on Facebook and Twitter and let us know where you think he should donate to!  http://www.wedgies.com/question/should-trumps-department-of-justice-investigate-obamas-wire-tapping-and-slush-fund-fkzmjvz87c'"
      ]
     },
     "execution_count": 112,
     "metadata": {},
     "output_type": "execute_result"
    }
   ],
   "source": [
    "test_data_2.iloc[1925,:]['content']"
   ]
  },
  {
   "cell_type": "markdown",
   "metadata": {},
   "source": [
    "# Real as Satire"
   ]
  },
  {
   "cell_type": "code",
   "execution_count": 106,
   "metadata": {},
   "outputs": [
    {
     "data": {
      "text/plain": [
       "'France\\'s Marine Le Pen: Trump Win Shows Power Slipping From \\'Elites\\' PARIS, France - The leader of France\\'s far-right National Front party said Monday she believes Donald Trump\\'s victory shows power is slipping from global \"elites\" who have \"acted like carnivores\" and \"used the world to enrich only themselves. Marine Le Pen, who is running to be France\\'s next president, told CNBC she is \"very happy\" about Trump\\'s election and welcomed America\\'s \"courageous and advantageous\" decision. \"I think that the elites have lived too long among themselves. We are in a world where globalization, which is an ideology, has forgotten, and put aside the people, the people\\'s interests, aspirations, and dreams,\" she said. CNBC: Trump Victory Shows Power is Slipping From Elites — Le Pen \"They have acted like carnivores, who used the world to enrich only themselves, and whether it\\'s the election of Donald Trump, or Brexit, the elites have realized that the people have stopped listening to them, that the people want to determine their futures and in a perfectly democratic framework, regain control of their destiny. And that panics them, because they are losing the power that they had given themselves,\" she added. She also said that Trump\\'s victory would bring about an image overhaul for the U.S. abroad. \"I think that the United States will regain its image which had become very damaged, especially by the administration for which Hillary Clinton worked,\" she said. \"The United States cannot have the image of warmongers, with all the potential consequences it could have for our respective countries.\" She said this had been reversed with Trump\\'s election. \"So, that the United States has once again regained an image as an organization of peace is beneficial for us all,\" she said. Turing to her own electoral chances next year, she said there are similarities between Trump\\'s platform and that of her own party. She said both share a refusal to stomach mass immigration, to support factors which drive the growth of ISIS and to allow free trade and regulations which would \"ravage\" France and the European Union. She made clear she sees now as the time for opportunity, with Brexit, the rise of the far-right in Austria and Trump\\'s win demonstrating that power is slipping from the hands of people she described as \"the elites.\" Asked whether this dynamic boded well for her own presidential ambitions, Le Pen said within a certain framework it could do. Related: Far-Right Leaders Celebrate Trump\\'s \\'Political Revolution\\' \"If the French people too wish to regain their independence, wish to regain control of their country, and wish to reinforce the elements of security, the borders, the rule of law, economic patriotism, then I will be elected president,\" she predicted. Le Pen confirmed that if elected she would call a referendum on France\\'s use of the euro currency and even the E.U. itself. She also claimed that German Chancellor Angela Merkel , who confirmed on Sunday she would run for a fourth term in 2017, did not fit the mood of the times. She warned her days are numbered given the pace of change currently underway in Europe.'"
      ]
     },
     "execution_count": 106,
     "metadata": {},
     "output_type": "execute_result"
    }
   ],
   "source": [
    "test_data_2.iloc[1069,:]['content']"
   ]
  },
  {
   "cell_type": "markdown",
   "metadata": {},
   "source": [
    "# Satire as Real"
   ]
  },
  {
   "cell_type": "code",
   "execution_count": 98,
   "metadata": {},
   "outputs": [
    {
     "data": {
      "text/plain": [
       "\"Post-Sept. 11 Changes In the wake of last month's terrorist attacks, a number of books, films, and other products have been altered or shelved. Among the changes:  In the wake of last month's terrorist attacks, a number of books, films, and other products have been altered or shelved. Among the changes:\""
      ]
     },
     "execution_count": 98,
     "metadata": {},
     "output_type": "execute_result"
    }
   ],
   "source": [
    "test_data_2.iloc[2476,:]['content']"
   ]
  },
  {
   "cell_type": "code",
   "execution_count": 101,
   "metadata": {},
   "outputs": [
    {
     "data": {
      "text/plain": [
       "\"India vs Bangladesh T20 World Cup 2016: Star Sports live streaming info Tamim Iqbal's absence will affect Bangladesh's performance a lot when they play against India to keep their chances alive for T20 World Cup semi-final berth.  From now, the points matter the most, and the hosts will be trying hard to fetch some valuable points as they will lock horns with Bangladesh on a Super 10 encounter on Mar. 23, 2016, at the Chinnaswamy Stadium in Bangalore.  India will continue the lineup that won the first two matches.  Taskin Ahmed and Sunny will not be playing the game for Bangladesh, and it adds up salt to the wound. Another woo of skipper Mortaza is regarding the poor form of Soumya Sarkar.  In the midst of these problems, batsmen Rahman, Mahmudullah, and S Al Hasan will be leading the Tigers from the front.  Advertisements  Advertisements  Unlike previous times, the climate in Bangalore is much hot this year, and the temperature will inevitably cross 30 degree Celsius.  Bangaloreans carry cricket in their blood, and in all probabilities, we will witness a packed Chinnaswamy today.  The pitch is expected to be a perfect paradise for batsmen, and the team who wins the toss will not have any hesitation to bat first.  After a superb victory over #PAK, can #IND do the same against #BAN? Tune in on 23rd March to find out! #WT20https://t.co/MoAL4WtBQG — Star Sports (@StarSportsIndia) March 20, 2016  The live streaming on official Star Sports Website will start at 2:00 p.m. GMT. Gazi TV telecasts the match live in Bangladesh.  Sky Sports and Willow Cricket will show the game live in the United Kingdom and in the U.S respectively.  India is totally relying on Virat Kohli in the batting department, as other members of the brigade are failing continuously to make any impacts.  Advertisements  Dhawan and Raina are completely out of form, and this is one of the major tensions in the Indian dressing room.  Yuvraj Singh and captain Dhoni are giving small yet valuable contributions to the team. The bowling line-up of India is more robust and stable than never before.  Ravi Ashwin and pacer Nehra are leading the bowling attack from the front, and they are being supported strongly by Bumrah and Pandya.  India is favorite to reach the semis. But. Bangladesh fans will be eager to have one their way.  Who do think will win today? #News\""
      ]
     },
     "execution_count": 101,
     "metadata": {},
     "output_type": "execute_result"
    }
   ],
   "source": [
    "test_data_2.iloc[2142,:]['content']"
   ]
  },
  {
   "cell_type": "code",
   "execution_count": 102,
   "metadata": {},
   "outputs": [
    {
     "data": {
      "text/plain": [
       "\"Asia Cup 2016: Star Sports live streaming India vs Bangladesh 1st t20 Indian skipper MS Dhoni is doubtful for the first match of the Asia Cup 2016 against hosts Bangladesh. Dhoni suffered an onset of back spasms just two days ahead of the 1st t20 game.  The first game scheduled for Wednesday, February 24, 2016, will be played at Mirpur.  Parthiv Patel has been called in as backup wicket-keeper in case Dhoni is ruled out of the game.  It is still not clear if Patel will open the innings or bat in the middle-order if he gets a chance to play in the playing eleven.  The big match of the Asia Cup between arch rivals India and Pakistan is on Feb 27 in Dhaka. The Cricket live score and ball-by-ball commentary can be followed at Cricinfo or Cricbuzz.  Advertisements  Advertisements  The Indian selectors have sent a full-fledged squad for the Asia Cup as they cannot underestimate hosts Bangladesh at home, particularly after they won a series of games lately.  Weather forecast and pitch report:  The pitch assisted the Pacers very well during the recently concluded Under-19 World Cup.  The pitch is green and raring to go.  There is a slight chance of rain disrupting the game on Wednesday, but it is unlikely that the game might be called off.  Asia’s top four teams all have talismanic all-rounders! Who will rule the roost in the Micromax #AsiaCup T20 2016? pic.twitter.com/X7YEYTOg7n — Star Sports (@StarSportsIndia) February 23, 2016  TV telecast and live streaming details.  Star India has bagged the broadcasting rights of the Asia Cup Cricket Tournament until 2023 and has roped in 13 sponsors for the same.  Advertisements  The sponsors include Micromax, CEAT Tyres, Gillette March III, Britannia, Idea, Raymond and Royal Stag.  The advertisement rates are said to be close to around Rs 4 lakh ($$6000). But for the India-Pakistan match, the rates are much higher.  The list of TV channels that will telecast the series live in various countries is as below:  India - Star Cricket, Star Sports, DD National.  Sri Lanka - MTV  Pakistan: PTV Sports, Geo Super.  Bangladesh: Channel 9 and Star Life OK.  Canada: ATN Network  Australia and NZ.  Fox Sports  South Africa: Supersport  U.K: Sky Sports  The live streaming online can be viewed at the official website of Star Sports starsports.com from 1:30 GMT onwards.  The squads of both teams as below:  India: Parthiv Patel, Hardik Pandya, Shikhar Dhawan, Suresh Raina, Yuvraj Singh, R Jadeja, Rohit Sharma, Virat Kohli, Ashwin, Jasprit Bumrah and Ashish Nehra.  Bangladesh: Mahmudullah, Mushfiqur Rahim, Shakib Al Hasan, Soumya Sarkar, Arafat Sunny, Nurul Hasan, Mashrafe Mortaza, Mohammad Mithun, Sabbir Rahman, Mustafizur Rahman and Al-Amin Hossain.  MS Dhoni's press conference video ahead of the Asia Cup 2016.\""
      ]
     },
     "execution_count": 102,
     "metadata": {},
     "output_type": "execute_result"
    }
   ],
   "source": [
    "test_data_2.iloc[3177,:]['content']"
   ]
  },
  {
   "cell_type": "markdown",
   "metadata": {},
   "source": [
    "# Satire as Satire"
   ]
  },
  {
   "cell_type": "code",
   "execution_count": 120,
   "metadata": {},
   "outputs": [
    {
     "data": {
      "text/plain": [
       "'GOP Bashes Minimum Wage, Backs ‘Black Teenage Unemployment Act’ WASHINGTON – Following the congressional winter break, the GOP has introduced its first major piece of legislation, which is aimed at increasing unemployment among black teenagers in America.  The National Economic Growth-Related Opportunities, Progression, Lengthened Employment And Social Equality Act (colloquially known as the “Negro Please” Act) came at the behest of former Reagan economic adviser Art Laffer, who recently said that the federal minimum wage is essentially the ‘the black teenage unemployment teenage act’.  “Once he said it out loud, a piece of legislation designed to make sure that black teenagers were legally prohibited from working just seemed to make sense,” said Rep. Paul Ryan (R-Wis.), who took a stance against the minimum wage last year. Laffer was arguing that the federal minimum wage means higher unemployment among black teenagers, which incorrectly assumes that the majority people on the minimum wage are young and black—actually, 84% are over the age of 20 and 57% are white.  However, many members of Laffer’s party – including House Speaker John Boehner (R-Ohio) – did not understand it that way. “It’s simple economics,” Boehner said, “because the more unemployed black teenagers there are, the less money there is being drained from hardworking businesses who would otherwise be legally required to pay those teenagers for work they did in those businesses.” Boehner specifically stated his opposition to increasing the minimum wage last year.  Meanwhile, bill sponsor Rep. Lamar Alexander (R-Tenn.), who wants to completely abolish the minimum wage, was adamant that the bill would not target black teenagers specifically, saying: “We want to make sure that teenagers of all hues – from mocha to ebony – will be dissuaded from trying to find jobs that pay them some kind of wage.” Alexander added that he was sure Tennessee had many positions black teenagers could fill if they worked for free, something with which the state has a history.'"
      ]
     },
     "execution_count": 120,
     "metadata": {},
     "output_type": "execute_result"
    }
   ],
   "source": [
    "test_data_2.iloc[2086,:]['content']"
   ]
  },
  {
   "cell_type": "markdown",
   "metadata": {},
   "source": [
    "## Binary Accuracy on Test Set \n",
    "\n",
    "\n"
   ]
  },
  {
   "cell_type": "code",
   "execution_count": 187,
   "metadata": {},
   "outputs": [
    {
     "name": "stdout",
     "output_type": "stream",
     "text": [
      "Binary Accuracy:96.77\n"
     ]
    },
    {
     "data": {
      "image/png": "[encoded data removed]",
      "text/plain": [
       "<Figure size 432x288 with 2 Axes>"
      ]
     },
     "metadata": {
      "needs_background": "light"
     },
     "output_type": "display_data"
    }
   ],
   "source": [
    "def binarize(x):\n",
    "    if x in (1,2,3,4):\n",
    "        x=1\n",
    "    else:\n",
    "        x=0\n",
    "    return x\n",
    "\n",
    "y_preds_bin =[binarize(x) for x in y_preds]\n",
    "y_true_bin = [binarize(x) for x in y_true]\n",
    "\n",
    "class_names = ['reliable','fake']\n",
    "\n",
    "# Plot non-normalized confusion matrix\n",
    "cm =skm.confusion_matrix(y_true_bin,y_preds_bin)\n",
    "plot_confusion_matrix(cm, classes=class_names,normalize=False,\n",
    "                      title='Confusion Matrix on Test Set- Binary, Bert')\n",
    "\n",
    "bin_accuracy= skm.accuracy_score(y_true_bin,y_preds_bin)\n",
    "\n",
    "print(\"Binary Accuracy:\" + str((bin_accuracy*100).round(2)))"
   ]
  },
  {
   "cell_type": "markdown",
   "metadata": {},
   "source": [
    "# Run Predictions on Survey Articles (for Comparison with Humans)"
   ]
  },
  {
   "cell_type": "code",
   "execution_count": 184,
   "metadata": {},
   "outputs": [],
   "source": [
    "surveydata= pd.read_csv('survey_articles.csv')\n",
    "\n",
    "surveydata.loc[surveydata['type'] == 'reliable', 'type'] = 0.0\n",
    "surveydata.loc[surveydata['type'] == 'political', 'type'] = 4.0\n",
    "surveydata.loc[surveydata['type'] == 'bias', 'type'] = 3.0\n",
    "surveydata.loc[surveydata['type'] == 'satire', 'type'] = 1.0\n",
    "surveydata.loc[surveydata['type'] == 'fake', 'type'] = 2.0\n",
    "\n",
    "surveydata['content'] = surveydata['title']+'\\n'+surveydata['content']\n",
    "surveydata = surveydata[['content','type']].copy()"
   ]
  },
  {
   "cell_type": "code",
   "execution_count": 185,
   "metadata": {},
   "outputs": [],
   "source": [
    "surveydata[\"content\"] = surveydata[\"content\"].apply(cleanText)"
   ]
  },
  {
   "cell_type": "code",
   "execution_count": 186,
   "metadata": {},
   "outputs": [],
   "source": [
    "surveydata_Examples = surveydata.apply(lambda x: bert.run_classifier.InputExample(guid=None, \n",
    "                                                                   text_a = x[DATA_COLUMN], \n",
    "                                                                   text_b = None, \n",
    "                                                                   label = x[LABEL_COLUMN]), axis = 1)\n",
    "\n",
    "survey_features = bert.run_classifier.convert_examples_to_features(surveydata_Examples, label_list, MAX_SEQ_LENGTH, tokenizer)"
   ]
  },
  {
   "cell_type": "code",
   "execution_count": 188,
   "metadata": {},
   "outputs": [],
   "source": [
    "survey_input_fn = run_classifier.input_fn_builder(\n",
    "    features=survey_features,\n",
    "    seq_length=MAX_SEQ_LENGTH,\n",
    "    is_training=False,\n",
    "    drop_remainder=False)"
   ]
  },
  {
   "cell_type": "code",
   "execution_count": 189,
   "metadata": {},
   "outputs": [
    {
     "name": "stderr",
     "output_type": "stream",
     "text": [
      "/usr/local/lib/python3.5/dist-packages/tensorflow/python/ops/gradients_util.py:93: UserWarning: Converting sparse IndexedSlices to a dense Tensor of unknown shape. This may consume a large amount of memory.\n",
      "  \"Converting sparse IndexedSlices to a dense Tensor of unknown shape. \"\n"
     ]
    },
    {
     "data": {
      "text/plain": [
       "{'eval_accuracy': 0.47368422, 'global_step': 2829, 'loss': 1.5469476}"
      ]
     },
     "execution_count": 189,
     "metadata": {},
     "output_type": "execute_result"
    }
   ],
   "source": [
    "estimator.evaluate(input_fn=survey_input_fn, steps=None)"
   ]
  },
  {
   "cell_type": "code",
   "execution_count": 190,
   "metadata": {},
   "outputs": [],
   "source": [
    "preds = estimator.predict(input_fn=survey_input_fn)\n",
    "y_preds=[]\n",
    "for y in preds:\n",
    "    y_preds.append(y[\"labels\"])\n",
    "y_true=list(surveydata['type'])"
   ]
  },
  {
   "cell_type": "code",
   "execution_count": 191,
   "metadata": {},
   "outputs": [
    {
     "data": {
      "text/plain": [
       "<matplotlib.axes._subplots.AxesSubplot at 0x7fa028cac7f0>"
      ]
     },
     "execution_count": 191,
     "metadata": {},
     "output_type": "execute_result"
    },
    {
     "data": {
      "image/png": "[encoded data removed]",
      "text/plain": [
       "<Figure size 432x288 with 2 Axes>"
      ]
     },
     "metadata": {
      "needs_background": "light"
     },
     "output_type": "display_data"
    }
   ],
   "source": [
    "# Plot non-normalized confusion matrix\n",
    "class_names = np.array(['reliable','satire','fake','bias','political'])\n",
    "cm =skm.confusion_matrix(y_true,y_preds)\n",
    "plot_confusion_matrix(cm, classes=class_names,normalize=False,\n",
    "                      title='Confusion Matrix on Survey Data, Multiclass, Bert, Normalized')"
   ]
  },
  {
   "cell_type": "code",
   "execution_count": 194,
   "metadata": {},
   "outputs": [
    {
     "data": {
      "text/plain": [
       "<matplotlib.axes._subplots.AxesSubplot at 0x7fa02ab91eb8>"
      ]
     },
     "execution_count": 194,
     "metadata": {},
     "output_type": "execute_result"
    },
    {
     "data": {
      "image/png": "[encoded data removed]",
      "text/plain": [
       "<Figure size 432x288 with 2 Axes>"
      ]
     },
     "metadata": {
      "needs_background": "light"
     },
     "output_type": "display_data"
    }
   ],
   "source": [
    "y_preds_bin =[binarize(x) for x in y_preds]\n",
    "y_true_bin = [binarize(x) for x in y_true]\n",
    "class_names = np.array(['reliable','suspicious'])\n",
    "cm =skm.confusion_matrix(y_true_bin,y_preds_bin)\n",
    "plot_confusion_matrix(cm, classes=class_names,normalize=True,\n",
    "                      title='Confusion Matrix on Survey Data - Binary,Bert,Normalized')"
   ]
  },
  {
   "cell_type": "markdown",
   "metadata": {},
   "source": [
    "## Run Predictions on Test Set (Final)"
   ]
  },
  {
   "cell_type": "code",
   "execution_count": null,
   "metadata": {},
   "outputs": [],
   "source": [
    "def getPrediction(in_sentences):\n",
    "    labels = [0, 1, 2, 3, 4]\n",
    "    input_examples = [run_classifier.InputExample(guid=\"\", text_a = x, text_b = None, label = 0) for x in in_sentences] # here, \"\" is just a dummy label\n",
    "    input_features = run_classifier.convert_examples_to_features(input_examples, label_list, MAX_SEQ_LENGTH, tokenizer)\n",
    "    predict_input_fn = run_classifier.input_fn_builder(features=input_features, seq_length=MAX_SEQ_LENGTH, is_training=False, drop_remainder=False)\n",
    "    predictions = estimator.predict(predict_input_fn)\n",
    "    return [(sentence, prediction['probabilities'], labels[prediction['labels']]) for sentence, prediction in zip(in_sentences, predictions)]"
   ]
  },
  {
   "cell_type": "code",
   "execution_count": null,
   "metadata": {},
   "outputs": [],
   "source": [
    "print(val_data[\"content\"].head())"
   ]
  },
  {
   "cell_type": "code",
   "execution_count": null,
   "metadata": {},
   "outputs": [],
   "source": [
    "print(val_data[\"type\"][2])\n",
    "print(val_data[\"type\"][4])\n",
    "print(val_data[\"type\"][6])\n",
    "print(val_data[\"type\"][8])\n",
    "print(val_data[\"type\"][17])\n",
    "\n",
    "print(val_data[\"content\"][2])\n",
    "print(val_data[\"content\"][4])\n",
    "print(val_data[\"content\"][6])\n",
    "print(val_data[\"content\"][8])\n",
    "print(val_data[\"content\"][17])"
   ]
  },
  {
   "cell_type": "code",
   "execution_count": null,
   "metadata": {},
   "outputs": [],
   "source": [
    "# pred_sentences = [\n",
    "#   \"That movie was absolutely awful\",\n",
    "#   \"The acting was a bit lacking\",\n",
    "#   \"The film was creative and surprising\",\n",
    "#   \"Absolutely fantastic!\"\n",
    "# ]"
   ]
  },
  {
   "cell_type": "code",
   "execution_count": null,
   "metadata": {},
   "outputs": [],
   "source": [
    "pred_labels = [2, 3, 2, 2]\n",
    "pred_sentences = [\n",
    "    \"BBC Guilty of Further Subliminal Advertising of Chemtrails at Wimbledon (Before It's News)  http://www.youtube.com/watch?v=a9LTvStFz0E  Published on 4 Jul 2013  It is not a new thing, for MSM and other entities to subliminally normalize the abnormal practice of chemtrail spraying, but rarely has it been so completely blatant as to feature in every single shot of the sky. Note that they even feature an aircraft spraying the material into the air at 0:18 and again in slow motion at 1:04.  Other examples of the normalization agenda can be viewed at:  http://www.youtube.com/watch?v=5Zx2pE…  The BBC are clearly complicit with the ‘hidden in plain sight’ Chemtrail agenda. They do not cover it in their news, they speak occasionally of Geoengineering as if it is a matter that may be needed in the future, but they bombard you with their images of it constantly and especially within children’s programmes and films. Question why that would be.  TV Ark is an excellent website whereby you can look at past Wimbledon opening credits from 1981 to 2010. There it is clear to see that they have decided to include subliminal Chemtrail images only this year:  http://www2.tv-ark.org.uk/sport/bbc_w…  You Tube Video of past opening credits from 2007:  http://www.youtube.com/watch?v=m6bWTT…  Other subliminal Chemtrail images that have been exposed:  http://www.chemtrailplanet.com/Sublim…  http://www.chemtrailplanet.com/MCDB.htm  For Educational Purposes Only. Claim “fair use” in copyright under Section 107 of the copyright act 1976.\",\n",
    "    \"Defend Democracy Press by James Petras Introduction: Eight months will have passed since the election of Syriza on January 25 up to the snap elections in September. During that...\",\n",
    "    \"Work Days Are Here Again Work Days Are Here Again  (Before It's News)  It’s spring, and I know people want to get their hands dirty. I know my hands are dirty. So, how about these days for volunteer days:  March 29 (Yes, this Saturday), 10am-2pm  April 19, 10am-2pm  May 10, 10am-2pm  Right at 10, I’ll do a little tour, then we’ll get down to work. This Saturday will be a tomato planting day, and I’ll have starts to give away to volunteers. April 19 will be a bed prepping day, and I’ll do a worm composting demonstration. I might have some yummy snacks, too.  Garden is at 2727 Martin Luther King Jr Way, at 28th Street. Entrance is on 28th Street. Bring gloves, water, sun hats.  Also, there’s only one person signed up for the chicken class. It’s on April 26, and will be lots of fun. If you want to sign up, email me at novellacarpenter at gmail.  Source: https://ghosttownfarm.wordpress.com/2014/03/25/work-days-are-here-again/\",\n",
    "    \"US orders embassy workers out of Beirut ahead of possible Syria strike US orders embassy workers out of Beirut ahead of possible Syria strike  % of readers think this story is Fact. Add your two cents.  (Before It's News)  The United States has withdrawn all non-emergency embassy workers and their families from Beirut and warned Americans against travel to Lebanon amid looming military strikes on Syria, the State Department said Friday.  Read more >>\"\n",
    "]"
   ]
  },
  {
   "cell_type": "code",
   "execution_count": null,
   "metadata": {},
   "outputs": [],
   "source": [
    "predictions = getPrediction(pred_sentences)"
   ]
  },
  {
   "cell_type": "code",
   "execution_count": null,
   "metadata": {},
   "outputs": [],
   "source": [
    "predictions"
   ]
  },
  {
   "cell_type": "markdown",
   "metadata": {},
   "source": [
    "# Test on Survey Articles"
   ]
  },
  {
   "cell_type": "code",
   "execution_count": null,
   "metadata": {},
   "outputs": [],
   "source": [
    "data2 = pd.read_csv(\"FNC_Final.csv\", engine=\"python\", error_bad_lines= False)\n",
    "data2.head()"
   ]
  },
  {
   "cell_type": "code",
   "execution_count": null,
   "metadata": {},
   "outputs": [],
   "source": [
    "print(len(data2[data2.id.isin(survey_list)]['content']))\n",
    "print(data2[data2.id.isin(survey_list)]['content'])"
   ]
  },
  {
   "cell_type": "code",
   "execution_count": null,
   "metadata": {},
   "outputs": [],
   "source": [
    "test_input_fn = run_classifier.input_fn_builder(\n",
    "    features=val_features,\n",
    "    seq_length=MAX_SEQ_LENGTH,\n",
    "    is_training=False,\n",
    "    drop_remainder=False)"
   ]
  }
 ],
 "metadata": {
  "kernelspec": {
   "display_name": "Python 3",
   "language": "python",
   "name": "python3"
  },
  "language_info": {
   "codemirror_mode": {
    "name": "ipython",
    "version": 3
   },
   "file_extension": ".py",
   "mimetype": "text/x-python",
   "name": "python",
   "nbconvert_exporter": "python",
   "pygments_lexer": "ipython3",
   "version": "3.5.3"
  }
 },
 "nbformat": 4,
 "nbformat_minor": 2
}
