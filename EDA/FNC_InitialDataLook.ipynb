{
 "cells": [
  {
   "cell_type": "markdown",
   "metadata": {},
   "source": [
    "# Fake News Corpus"
   ]
  },
  {
   "cell_type": "markdown",
   "metadata": {},
   "source": [
    "### Import Libraries"
   ]
  },
  {
   "cell_type": "code",
   "execution_count": 2,
   "metadata": {},
   "outputs": [],
   "source": [
    "import numpy as np\n",
    "import pandas as pd\n",
    "import matplotlib as plt"
   ]
  },
  {
   "cell_type": "markdown",
   "metadata": {},
   "source": [
    "### Downloading the data\n",
    "The file \"FNC_Subset.csv\" is a subset of the full data set. The full dataset is too large to put on GitHub. To download the full dataset:\n",
    "\n",
    "1) Click on https://storage.googleapis.com/researchably-fake-news-recognition/news_cleaned_2018_02_13.csv.zip to download the zipped Fake News Corpus (about 10GB)\n",
    "\n",
    "2) Unzip the file into the 'Data' subfolder.\n",
    "\n",
    "The code below should now work!"
   ]
  },
  {
   "cell_type": "markdown",
   "metadata": {},
   "source": [
    "### Create subset of data"
   ]
  },
  {
   "cell_type": "code",
   "execution_count": 8,
   "metadata": {},
   "outputs": [],
   "source": [
    "FNC_subset = pd.read_csv('data/news_cleaned_2018_02_13.csv', nrows=60000, low_memory=False, memory_map=True)\n",
    "FNC_subset.to_csv('data/FNC_Subset.csv')\n",
    "#print(FNC_subset.iloc[1,:])"
   ]
  },
  {
   "cell_type": "markdown",
   "metadata": {},
   "source": [
    "### Create Fake news subset"
   ]
  },
  {
   "cell_type": "code",
   "execution_count": 9,
   "metadata": {},
   "outputs": [
    {
     "name": "stdout",
     "output_type": "stream",
     "text": [
      "Fake News Articles:  29510\n"
     ]
    }
   ],
   "source": [
    "# Fake News Examples\n",
    "fake_bolean = FNC_subset['type'] == 'fake'\n",
    "fake_articles = FNC_subset[fake_bolean]\n",
    "print('Fake News Articles: ', len(fake_articles))"
   ]
  },
  {
   "cell_type": "markdown",
   "metadata": {},
   "source": [
    "### View Fake News Article"
   ]
  },
  {
   "cell_type": "code",
   "execution_count": 23,
   "metadata": {},
   "outputs": [
    {
     "name": "stdout",
     "output_type": "stream",
     "text": [
      "row: 1917\n",
      "Website: thecommonsenseshow.com\n",
      "URL:  http://www.thecommonsenseshow.com/2018/01/24/google-facebook-twitter-and-communist-china-are-assigning-a-threat-matrix-score-to-all-internet-users/\n",
      "Headline: Google, Facebook, Twitter and Communist China Are Assigning a Threat Matrix Score to All Internet Users\n",
      "Author: Dave Hodges\n",
      "Google, Facebook, Twitter and Communist China Are Assigning a Threat Matrix Score to All Internet Users\n",
      "\n",
      "Grave Social Media Developments\n",
      "\n",
      "Two top Democratic Senators, both in the House and Senate, are demanding Facebook and Twitter investigate another Russian-Collusion-Delusion connection to President Trump.\n",
      "\n",
      "Feinstein and Schiff want these social media giants to investigate whether or not Russian bots and trolls are conspiring in a social media plot to get Americans to call for the release of the memo detailing what republicans are saying is the Democratic abuse of power with regard to the FISA warrants issued to spy on candidate Trump, his family and his staff. Americans are increasingly demanding the release of these FISA documentes in campaign calling for the release of a memo detailing criminal behavior by Obama and key members of the Democratic Party.\n",
      "\n",
      "Sen. Dianne Feinstein, D-Calif., the top Democrat on the Senate Judiciary Committee, and Rep. Adam Schiff, D-Calif., the top Democrat, and according to Trevor Louden’s Enemies Within, have ties to front groups for the American Communist Party and the Muslim Brotherhood, are calling for the concealment of the documents and they are also demanding the social media censor any social media posts on the topic. Schiff serves on the House Intelligence Committee, and he and Feinstein have sent letters to Facebook CEO Mark Zuckerberg and Twitter CEO Jack Dorsey asking them to look into whether accounts tied to Russia were involved in the #ReleaseTheMemo social media campaign. THE COMMON SENSE SHOW IS CALLING FOR EVERYONE WITH A FACEBOOK, YOUTUBE AND TWITTER ACCOUNT TO SEND OUT A #RELEASETHEMEMO social media message.\n",
      "\n",
      "Schiff, who has gonge completely insane stated the following:\n",
      "\n",
      "“These Russian efforts are intended to influence congressional action and undermine Special Counsel Mueller’s investigation, which has already resulted in the indictments of two Trump campaign officials and guilty pleas from two others, who are both now cooperating with prosecutors…”“It is critically important that the Special Counsel’s investigation be allowed to proceed without interference from inside or outside the United States.”\n",
      "\n",
      "Here we go again America, anytime the Democrats are caught committing felonies for which they should go to jail, they blame the Russians.\n",
      "\n",
      "The #ReleaseTheMemo hashtag spread on social media after Republican lawmakers calls for the release of a four-page memo they said showed FISA abuses.\n",
      "\n",
      "The House Intelligence Committee voted along party lines to allow all House members to read the memo, but some Republicans wanted the document released to the public.\n",
      "\n",
      "Feinstein and Schiff have asked Twitter and Facebook to determine the Russian connection of postings on #ReleaseTheMemo and their russian connections. The two lawmakers have also called for social media censorship over accounts that would chamption #ReleaseTheMemo. In other words, Feinstein and Schiff are calling for more censorship of the truth. Feinstein and Schiff are clearly attempting to conceal very serious criminal activity. Why are the American people putting up with this obstruction of justice?\n",
      "\n",
      "It is clear that Twitter, Facebook and Google are aiding and abetting a criminal conspiracy with regard to the FISA surveillance issue. However, this social media criminal behavior goes much further than the concealment of multiple felonies by key members of the Democratic Party. The following video I produced on Youtube was demonitized, by title, before it was even uploaded. The video dealt with topic of assigning a threat matrix score to all Internet users. This is clearly a naughty list that could be used to send people to FEMA camps in the event of a coup.\n",
      "\n",
      "How Far Will This Tyranny Extend?\n",
      "\n",
      "Professor Margaret Hu from the Washington and Lee University School of Law states that “The implementation of a universal digitalized biometric ID system risks normalizing and integrating mass cybersurveillance into the daily lives of ordinary citizens”.\n",
      "\n",
      "Professor Hu explains that the FBI’s Next Generation Identification project will institute the following:\n",
      "\n",
      "“A comprehensive, centralized, and technologically interoperable biometric database that spans across military and national security agencies, as well as all other state and federal government agencies. Once complete, NGI will strive to centralize whatever biometric data is available on all citizens and noncitizens in the United States and abroad, including information on fingerprints, DNA, iris scans, voice recognition, and facial recognition data captured through digitalized photos, such as U.S. passport photos and REAL ID driver’s licenses. The NGI Interstate Photo System, for instance, aims to aggregate digital photos from not only federal, state, and local law enforcement, but also digital photos from private businesses, social networking sites, government agencies, and foreign and international entities, as well as acquaintances, friends, and family members”. Biometric ID cybersurveillance might be used to assign risk assessment scores and to take action based on those scores“.\n",
      "\n",
      "The healthy side of your paranoia is about to emerge as we consider the fact that Professor Hu describes a DHS program known as FAST, which is a DHS tested program and has been described as a “precrime” program. FAST will gather upon complex statistical algorithms that will compile data from multiple databases and will subsequently “predict” future criminal or terrorist acts.\n",
      "\n",
      "The “precrime” data will be gathered” through cybersurveillance and stealth data monitoring of ordinary citizens. The FAST program purports to assess whether an individual might pose a “precrime” threat through the capture of a range of data, including biometric data. In other words, FAST accuses non-convicted individuals as being a security threat risk of becoming future criminals and terrorists through data analysis. No charges, no police interviews, the system is designed to become “judge, jury and executioner“.\n",
      "\n",
      "Under the Future Attribute Screening Technology (FAST), criminal cues are captured through the following types of biometric data including body and eye movements, eye blink rate and pupil variation, body heat changes, and breathing patterns. Various linguistic cues include the analysis of voice pitch changes, alterations in voce rhythm patterns, and changes in intonations of speech. Hu notes that in documents released by DHS clearly show that individuals could be arrested and face serious consequences based upon statistical algorithms and predictive analytical assessments.\n",
      "\n",
      "Professor Hu issued the following warning:\n",
      "\n",
      "“The prognostications of FAST can range from none to being temporarily detained to deportation, prison, or death“.\n",
      "\n",
      "These developments, plus the increased participation of social media in this type of tyranny is making the Internet experience a dangerous endeavor.\n",
      "\n",
      "DHS Wants to Know Everything About You\n",
      "\n",
      "DHS has funded a multi-billion dollar spy tool and it is called FirstNet. This is a citizen information gathering device like no other. A company called New World Systems (do they really mean New World Order Systems?) is in charge of implementing this system.\n",
      "\n",
      "The Radio Access Network (RAN) part of this elaborate network consists of the radio base station infrastructure that connects to user devices including cell towers and mobile hotspots embedded in vehicles which connects to the satellite network or other types of wireless infrastructure. This is a “search and destroy system” as FirstNet is designed to hunt you down in remote areas. Take a look at the map below along with the embedded graphics from the FirstNet website. They have developed the technology to track you and find you should you be a fugitive from their own special brand of justice. RAN has the ability to track you anywhere on the planet. Soon, there will be nowhere for people with high threat matrix scores to run and hide without being found by this system. And now, Facebook, Twitter and Google are a major part of this tyranny and they are partnering with Communist China.\n",
      "\n",
      "There Is No End to the Madness\n",
      "\n",
      "A company called PredPol claims that it possesses proprietary software which can actually predict times and places for likely future crimes. Intrado has the capability to data mine all social media and create your personal profile based on your Internet chatter. Subsequently, if you are pulled over for a speeding violation, you could find yourself face down on the pavement because you have written something negative about the police who murdered Eric Garner. Or, you might just end up like Eric Garner.\n",
      "\n",
      "Does anyone else have a problem with this police state surveillance grid? Some might intimate, it is time for a revolution. For those who are so inclined, the authorities, the minions for the banksters, have that possibility covered as well and that will be the topic of a future article. Meanwhile, take a pill, your paranoia is about to get worse because your friendly communists in China and your social media are partnering to label you for the dangerous dissident that you are.\n",
      "\n",
      "For more stories like these, visit The Common Sense Show\n",
      "\n",
      "Please donate to offset the costs of The Common Sense Show\n",
      "\n",
      "PLEASE SUBSCRIBE TO OUR YOUTUBE CHANNEL AND DON’T FORGET TO “LIKE” US\n",
      "\n",
      "CLICK HERE TO FIND OUT MORE- USE THE COUPON CODE 5COMMON TO TAKE 5% OFF\n"
     ]
    }
   ],
   "source": [
    "# Fake News individual article print\n",
    "# rows used: 18, 51, 1917, 16621, 16683, 18034, 33194, 45839\n",
    "row = 1917\n",
    "used_domains = ['beforeitsnews.com', 'conservativefighters.com', 'thecommonsenseshow.com', 'newswithviews.com', \\\n",
    "               'americannews.com', 'vigilantcitizen.com', 'gopthedailydose.com', 'conservativedailypost.com']\n",
    "try:\n",
    "    while fake_articles.iloc[row,2] in used_domains and row < len(fake_articles):\n",
    "        row +=1\n",
    "except:\n",
    "    pass\n",
    "if row < len(fake_articles):\n",
    "    print(\"row:\",row)\n",
    "    print(\"Website:\", fake_articles.iloc[row,2])\n",
    "    print(\"URL: \", fake_articles.iloc[row,4])                                                                                                                                                                                \n",
    "    print(\"Headline:\", fake_articles.iloc[row,9])\n",
    "    print(\"Author:\", fake_articles.iloc[row,10])\n",
    "    print(fake_articles.iloc[row,5])\n",
    "else:\n",
    "    print('Last article reached', row)\n",
    "    print('Total number articles:', len(fake_articles))"
   ]
  },
  {
   "cell_type": "markdown",
   "metadata": {},
   "source": [
    "### Create Satire Subset"
   ]
  },
  {
   "cell_type": "code",
   "execution_count": 14,
   "metadata": {},
   "outputs": [
    {
     "name": "stdout",
     "output_type": "stream",
     "text": [
      "Satire Articles:  383\n"
     ]
    }
   ],
   "source": [
    "# Satire Examples\n",
    "satire_bolean = FNC_subset['type'] == 'satire'\n",
    "satire_articles = FNC_subset[satire_bolean]\n",
    "print('Satire Articles: ', len(satire_articles))"
   ]
  },
  {
   "cell_type": "markdown",
   "metadata": {},
   "source": [
    "### View Satire Articles"
   ]
  },
  {
   "cell_type": "code",
   "execution_count": 25,
   "metadata": {},
   "outputs": [
    {
     "name": "stdout",
     "output_type": "stream",
     "text": [
      "row: 20\n",
      "Website: burrardstreetjournal.com\n",
      "URL:  http://www.burrardstreetjournal.com/adam-johnson-freddy-adu-peaked-15/\n",
      "Headline: Adam Johnson: ‘Freddy Adu Peaked At 15’\n",
      "Author: nan\n",
      "During a heated discussion on footballers failing to realise their potential, ex-England international Adam Johnson singled out Freddy Adu, saying the former wonderkid “peaked at 15”.\n",
      "\n",
      "In a rare interview, speaking exclusively to Richard Keys and Andy Gray, Johnson said he followed the career of the player once dubbed “the new Pele” early on, but admits he eventually just lost interest.\n",
      "\n",
      "Johnson said via Skype from HM Prison Moorland. “He ticked all the right boxes for me.”\n",
      "\n",
      "Devoting a surprisingly large amount of his time discussing the teenage sensation’s early years, he continued discussing Adu’s debut at 12:\n",
      "\n",
      "“In some ways he was just a kid back then but he certainly didn’t look it. I thought he was at least 14. He looked absolutely amazing, but inevitably went completely off the boil once he hit puberty,” Johnson lamented, “isn’t that always the way?”\n",
      "\n",
      "In a wide ranging interview, the former Sunderland star also spoke of his old club’s recent fortunes and England’s chances at the World Cup, but unfortunately left no time to discuss his present conviction for child molestation.\n",
      "\n",
      "As the interview came to a close both Keys and Gray expressed their dismay at Johnson’s current situation saying the football world has hung him “out to dry” and assured him there will be a job waiting for him with BEIN Sports in Qatar when he gets out.\n",
      "\n",
      "For the ONLY honest football news site going, follow BS Football on Facebook and Twitter…\n"
     ]
    }
   ],
   "source": [
    "# Satire individual article print\n",
    "# rows used: 4,8, 10 \n",
    "row = 8\n",
    "used_domains = ['clickhole.com', 'theshovel.com.au', 'betootaadvocate.com']\n",
    "try:\n",
    "    while satire_articles.iloc[row,2] in used_domains and row < len(satire_articles):\n",
    "        row +=1\n",
    "except:\n",
    "    pass\n",
    "if row < len(satire_articles):\n",
    "    print(\"row:\",row)\n",
    "    print(\"Website:\", satire_articles.iloc[row,2])\n",
    "    print(\"URL: \", satire_articles.iloc[row,4])                                                                                                                                                                                \n",
    "    print(\"Headline:\", satire_articles.iloc[row,9])\n",
    "    print(\"Author:\", satire_articles.iloc[row,10])\n",
    "    print(satire_articles.iloc[row,5])\n",
    "else:\n",
    "    print('Last article reached', row)\n",
    "    print('Total number articles:', len(satire_articles))"
   ]
  },
  {
   "cell_type": "markdown",
   "metadata": {},
   "source": [
    "### Create Extreme Bias Subset"
   ]
  },
  {
   "cell_type": "code",
   "execution_count": 26,
   "metadata": {},
   "outputs": [
    {
     "name": "stdout",
     "output_type": "stream",
     "text": [
      "Extreme Bias Articles:  10141\n"
     ]
    }
   ],
   "source": [
    "# Extreme Bias Examples\n",
    "bias_bolean = FNC_subset['type'] == 'bias'\n",
    "bias_articles = FNC_subset[bias_bolean]\n",
    "print('Extreme Bias Articles: ', len(bias_articles))"
   ]
  },
  {
   "cell_type": "markdown",
   "metadata": {},
   "source": [
    "### View Extreme Bias Articles"
   ]
  },
  {
   "cell_type": "code",
   "execution_count": 29,
   "metadata": {},
   "outputs": [
    {
     "name": "stdout",
     "output_type": "stream",
     "text": [
      "row: 8\n",
      "Website: dailysignal.com\n",
      "URL:  http://dailysignal.com/2017/12/11/fewer-blacks-hispanics-go-jobless-trump/\n",
      "Headline: Fewer Blacks, Hispanics Go Jobless Under Trump\n",
      "Author: nan\n",
      "More black and Hispanic Americans are getting jobs on President Donald Trump’s watch, the latest employment numbers show, although critics accuse him of ignoring such minority populations.\n",
      "\n",
      "The White House, not surprisingly, is happy to tout the results.\n",
      "\n",
      "Unemployment among blacks declined from 8 percent one year ago to 7.3 percent in November, according to the Bureau of Labor Statistics. Blacks’ labor force participation rate rose slightly over the past year, from 61.9 percent in November 2016 to 62.2 percent last month.\n",
      "\n",
      "Unemployment among Hispanics fell by a percentage point, from 5.7 percent to 4.7 percent, over the year. Hispanics’ labor force participation rate held steady, dipping from 65.7 percent to 65.6 percent.\n",
      "\n",
      "The labor force participation rate reflects the percentage of Americans working or actively looking for work, while the unemployment rate is the percentage of jobless Americans still looking for work, as opposed to having given up.\n",
      "\n",
      "“All Americans continue to see results from the president’s bold economic agenda,” White House spokeswoman Lindsay Walters told The Daily Signal in a written statement, adding:\n",
      "\n",
      "While overall unemployment in November remained at a nearly 17-year low, the rate is also at historic lows among several groups, including Hispanics—where it is the lowest in at least 44 years—and African-Americans—where it is at its lowest levels since 2000.\n",
      "\n",
      "The overall unemployment rate fell to 4.1 percent, a 17-year low. It was 3.6 percent among whites and 3 percent among Asians, about the same for both as a year ago.\n",
      "\n",
      "Teen unemployment, measured from ages 16 to 19, was the dark lining. Though it dropped nominally from November 2016, from 26.6 to 25.5 percent, that’s up from 23.3 in July.\n",
      "\n",
      "Limiting taxes and curbing unnecessary government regulation makes it easier for workers and entrepreneurs to succeed, said Daniel Garza, president of the Libre Initiative, a conservative Hispanic group.\n",
      "\n",
      "“The Hispanic community is beginning to see the benefits of an improving economy. Lawmakers in Washington have a critical opportunity to deliver on tax reform that lowers rates, closes loopholes, and enhances competitiveness—which families and entrepreneurs are counting on,” Garza told The Daily Signal in an email statement, adding:\n",
      "\n",
      "By locking these reforms in place for the long term, Congress and the president will help to ensure a stable environment that encourages greater economic opportunity and wage growth. Reducing the tax rate on American businesses to 20 percent—without creating new tax burdens—will be particularly helpful in ensuring the U.S. economy is competitive with those of our major trading partners, boosting the prospects of American workers and families. Hispanic families stand to gain a great deal if lawmakers deliver on these promises in the days ahead.\n",
      "\n",
      "The economy has surpassed 3 percent growth for several months.\n",
      "\n",
      "When President Barack Obama was in the White House, critics of candidate Trump said 3 percent growth would be impossible, noted Stephen Moore, an economist who is a distinguished visiting fellow at The Heritage Foundation.\n",
      "\n",
      "“The left’s problem is that they said there is no way to grow the economy at 3 percent, and now they say it’s because of Obama,” Moore, who advised the Trump campaign on economics, told The Daily Signal. “Every economic indicator, with no exceptions, shows we are looking at forward growth. It’s very positive, and a dramatic improvement.”\n"
     ]
    }
   ],
   "source": [
    "# Extreme Bias individual article print\n",
    "# rows used: 0, 4, 8  \n",
    "row = 0\n",
    "used_domains = ['wnd.com', 'lifenews.com', 'dailysignal.com']\n",
    "try:\n",
    "    while bias_articles.iloc[row,2] in used_domains and row < len(bias_articles):\n",
    "        row +=1\n",
    "except:\n",
    "    pass\n",
    "if row < len(bias_articles):\n",
    "    print(\"row:\",row)\n",
    "    print(\"Website:\", bias_articles.iloc[row,2])\n",
    "    print(\"URL: \", bias_articles.iloc[row,4])                                                                                                                                                                                \n",
    "    print(\"Headline:\", bias_articles.iloc[row,9])\n",
    "    print(\"Author:\", bias_articles.iloc[row,10])\n",
    "    print(bias_articles.iloc[row,5])\n",
    "else:\n",
    "    print('Last article reached', row)\n",
    "    print('Total number articles:', len(bias_articles))"
   ]
  },
  {
   "cell_type": "markdown",
   "metadata": {},
   "source": [
    "### Create Political Articles Subset"
   ]
  },
  {
   "cell_type": "code",
   "execution_count": 30,
   "metadata": {},
   "outputs": [
    {
     "name": "stdout",
     "output_type": "stream",
     "text": [
      "Political Articles:  65759\n"
     ]
    }
   ],
   "source": [
    "# Political Examples\n",
    "political_bolean = FNC_subset['type'] == 'political'\n",
    "political_articles = FNC_subset[political_bolean]\n",
    "print('Political Articles: ', len(political_articles))"
   ]
  },
  {
   "cell_type": "markdown",
   "metadata": {},
   "source": [
    "### View Political Articles"
   ]
  },
  {
   "cell_type": "code",
   "execution_count": 33,
   "metadata": {},
   "outputs": [
    {
     "name": "stdout",
     "output_type": "stream",
     "text": [
      "row: 30\n",
      "Website: dailycaller.com\n",
      "URL:  http://dailycaller.com/2018/01/09/googles-new-fact-check-feature-almost-exclusively-targets-conservative-sites/\n",
      "Headline: Google’s New Fact-Check Feature Almost Exclusively Targets Conservative Sites\n",
      "Author: Tech, Law Reporter\n",
      "Google, the most powerful search engine in the world, is now displaying fact checks for conservative publications in its results.\n",
      "\n",
      "No prominent liberal site receives the same treatment.\n",
      "\n",
      "And not only is Google’s fact-checking highly partisan — perhaps reflecting the sentiments of its leaders — it is also blatantly wrong, asserting sites made “claims” they demonstrably never made.\n",
      "\n",
      "When searching for a media outlet that leans right, like The Daily Caller (TheDC), Google gives users details on the sidebar, including what topics the site typically writes about, as well as a section titled “Reviewed Claims.”\n",
      "\n",
      "Vox, and other left-wing outlets and blogs like Gizmodo, are not given the same fact-check treatment. When searching their names, a “Topics they write about” section appears, but there are no “Reviewed Claims.”\n",
      "\n",
      "In fact, a review of mainstream outlets, as well as other outlets associated with liberal and conservative audiences, shows that only conservative sites feature the highly misleading, subjective analysis. Several conservative-leaning outlets like TheDC are “vetted,” while equally partisan sites like Vox, ThinkProgress, Slate, The Huffington Post, Daily Kos, Salon, Vice and Mother Jones are spared.\n",
      "\n",
      "Occupy Democrats is apparently the only popular content provider from that end of the political spectrum with a fact-checking section.\n",
      "\n",
      "Big name publications like The New York Times, The Washington Post, and the Los Angeles Times are even given a column showcasing all of the awards they have earned over the years.\n",
      "\n",
      "\n",
      "\n",
      "The Robert Mueller fact check (pictured above) is a case in point for Google’s new feature.\n",
      "\n",
      "Ostensibly trying to sum up the crux of the post, the third-party “fact-checking” organization says the “claim” in a DC article that special Counsel Robert Mueller is hiring people that “are all Hillary Clinton supporters” is misleading, if not false.\n",
      "\n",
      "The problem is that TheDC’s article makes no such claim. Their cited language doesn’t even appear in the article. Worse yet, there was no language trying to make it seem that the investigation into the Trump administration and Russia is entirely comprised of Clinton donors. The story simply contained the news: Mueller hired a Hillary Clinton donor to aid the investigation into President Donald Trump.\n",
      "\n",
      "Still, the Washington Post gave the claim, which came from Trump himself, its official “Three Pinocchios” rating. The method applies to several other checks. Claims concocted or adulterated by someone outside the TheDC are attributed to TheDC, in what appears to be a feature that only applies to conservative sites.\n",
      "\n",
      "Examples of such misattribution and misrepresentation are aplenty.\n",
      "\n",
      "For instance, using Snopes.com, an organization with highly dubious fact-checking capabilities, Google’s platform shows an article by TheDC to have a so-called “mixture” of truth.\n",
      "\n",
      "\n",
      "\n",
      "The “claim” made, according to Snopes.com and Google, is “a transgender woman raped a young girl in a women’s bathroom because bills were passed…”\n",
      "\n",
      "A quick read of the news piece shows that there was no mention of a bill or any form of legislation. The story was merely a straightforward reporting of a disturbing incident originally reported on by a local outlet. (RELATED: Why is Google CEO Eric Schmidt Technically Serving In The Department Of Defense?)\n",
      "\n",
      "And like Snopes, another one of Google’s fact-checking partners, Climate Feedback, is not usually regarded as objective.\n",
      "\n",
      "\n",
      "\n",
      "Snopes and Google also decided to “fact-check” an obviously tongue-in-cheek article in which a writer for TheDC pokes fun at a professor saying the solar eclipse in 2017 was naturally racist.\n",
      "\n",
      "Even Vox pointed out the absurdity of the educator’s literary tirade on Mother Nature’s purported racial prejudice, and the damage it might have done to real arguments of apparent racism. While Snopes got some flak for its choice, no one seems to have noticed the absurdity of the world’s go-to search engine providing fact-checks to purposefully irreverent content, rather than hard news stories.\n",
      "\n",
      "Overall, such inclusion embodies Google’s fact-checking services, which, as many presciently feared, are biased, if not also downright libelous. (RELATED: Silicon Valley Seems To Love Burying Conservative News)\n",
      "\n",
      "Google acknowledged it received an inquiry from TheDCNF, but did not fully respond by time of publication.\n",
      "\n",
      "Follow Eric on Twitter\n",
      "\n",
      "Send tips to [email protected].\n",
      "\n",
      "Freedom of Speech Isn’t Free\n",
      "\n",
      "The Daily Caller News Foundation is working hard to balance out the biased American media. For as little as $3, you can help us. Make a one-time donation to support the quality, independent journalism of TheDCNF. We’re not dependent on commercial or political support and we do not accept any government funding.\n"
     ]
    }
   ],
   "source": [
    "# Political individual article print\n",
    "# rows used: 0, 29 \n",
    "row = 0\n",
    "used_domains = ['baptistnews.com', 'nationalreview.com', 'dailycaller.com']\n",
    "try:\n",
    "    while political_articles.iloc[row,2] in used_domains and row < len(political_articles):\n",
    "        row +=1\n",
    "except:\n",
    "    pass\n",
    "if row < len(political_articles):\n",
    "    print(\"row:\",row)\n",
    "    print(\"Website:\", political_articles.iloc[row,2])\n",
    "    print(\"URL: \", political_articles.iloc[row,4])                                                                                                                                                                                \n",
    "    print(\"Headline:\", political_articles.iloc[row,9])\n",
    "    print(\"Author:\", political_articles.iloc[row,10])\n",
    "    print(political_articles.iloc[row,5])\n",
    "else:\n",
    "    print('Last article reached', row)\n",
    "    print('Total number articles:', len(political_articles))"
   ]
  },
  {
   "cell_type": "markdown",
   "metadata": {},
   "source": [
    "### Create Credible Articles Subset"
   ]
  },
  {
   "cell_type": "code",
   "execution_count": 12,
   "metadata": {},
   "outputs": [
    {
     "name": "stdout",
     "output_type": "stream",
     "text": [
      "Credible Articles:  202\n"
     ]
    }
   ],
   "source": [
    "# Credible Examples\n",
    "credible_bolean = FNC_subset['type'] == 'reliable'\n",
    "credible_articles = FNC_subset[credible_bolean]\n",
    "print('Credible Articles: ', len(credible_articles))"
   ]
  },
  {
   "cell_type": "markdown",
   "metadata": {},
   "source": [
    "### View Credible Artciles"
   ]
  },
  {
   "cell_type": "code",
   "execution_count": 19,
   "metadata": {},
   "outputs": [
    {
     "name": "stdout",
     "output_type": "stream",
     "text": [
      "row: 3\n",
      "Website: christianpost.com\n",
      "URL:  https://www.christianpost.com/news/facebook-bans-paid-ads-pro-life-film-produced-by-mlk-niece-214143/\n",
      "Headline: Facebook Lifts Ban on Paid Ads for Pro-Life Film Produced by MLK's Niece After Appeal\n",
      "Author: nan\n",
      "(Photo: Reuters/Dado Ruvic) Facebook.\n",
      "\n",
      "UPDATE 11:40 a.m. ET Jan. 18: Facebook said Thursday that it has lifted its ban on paid ads for a fundraising effort connected to Alveda King's upcoming documentary that highlights the \"real untold story\" of abortion in the United States and the history of eugenics associated with Planned Parenthood.\n",
      "\n",
      "In an emailed statement to The Christian Post, Facebook said the pro-life ad was originally disapproved in error and was correctly approved upon appeal. At this time, all ads connected to the \"Roe v. Wade\" movie page are running.\n",
      "\n",
      "Facebook also said that abilities of all the administrators for the page will be fully restored after being temporarily blocked for so-called \"spam behavior.\"\n",
      "\n",
      "Original report:\n",
      "\n",
      "Martin Luther King Jr.'s niece is speaking out against Facebook's decision to ban paid ads for a fundraising effort connected to her upcoming documentary that highlights the \"real untold story\" of abortion in the United States and the history of eugenics associated with Planned Parenthood.\n",
      "\n",
      "Alveda King, a prominent Christian conservative and pro-life activist who serves as director of civil rights for the unborn at Priests for Life, spoke with Family Research Council's Tony Perkins during a special National Religious Freedom Day broadcast of his radio show on Tuesday and explained that Facebook pulled down paid ads and is blocking shares for her upcoming film, \"Roe v, Wade.\"\n",
      "\n",
      "Named after the 1973 U.S. Supreme Court decision that legalized elective abortions, the documentary stars Hollywood actor Jon Voight and is said to be the first movie ever to expose \"the real untold story of how people lied; how the media lied; and how the courts were manipulated to pass a law that has since killed over 60 million Americans.\"\n",
      "\n",
      "Expand | Collapse (Photo: Reuters/Mary F. Calvert) Alveda King, founder of Alveda King Ministries, speaks during an \"I Have a Dream\" Gospel brunch at the Willard InterContinental Hotel in Washington, D.C., on August 25, 2013.\n",
      "\n",
      "\"There is a new movie coming out — 'Roe v. Wade.' I am one of the executive producers. Facebook has pulled down our ads, the paid ads and any mention of the non-paid ads,\" King said while addressing the topic of religious freedom. \"They do not want the message of the injustice of abortion broadcast and they are trying to block that.\"\n",
      "\n",
      "King is referring to Facebook's blocking of ads promoting the movie's Indiegogo crowdfunding account. Thus far, the movie has raised just under $44,000 out of its stated goal of $2 million.\n",
      "\n",
      "\"That is another violation of religious freedom. It's very discriminatory,\" she continued. \"So, when we are denied the opportunity and the right to proclaim the Gospel freely in this nation that was founded upon ... that right, it's a terrible injustice. My uncle did say injustice anywhere is a threat to justice everywhere. I know we can all agree. It's wrong to take the life of a baby in the womb. It's wrong to silence those voices of people who want to proclaim our faith and all of those aren't just civil rights injustices, but they are an injustice against God's will.\"\n",
      "\n",
      "According to an update on the crowdfunding page, \"Facebook has banned us from inviting friends to 'Like' our page and from 'Sharing' our PAID ads.\"\n",
      "\n",
      "The Christian Post has reached out to Facebook for comment on the situation. A response is pending.\n",
      "\n",
      "\"It is outrageous that Facebook purports to be apolitical when there have been trends of blocking pages of conservative causes, such as our 'Roe v. Wade' movie page,\" fellow executive producer Jalesia McQueen told Breitbart in a statement.\n",
      "\n",
      "The news comes as Facebook is frequently criticized for having bias against and censoring conservative Christians.\n",
      "\n",
      "Earlier this month, Facebook unpublished the popular Facebook page of Warriors for Christ ministry, which had over 225,000 followers and spoke critically of things like homosexuality, transgenderism and abortion. Facebook told The Christian Post that the page was removed because it violated its policies on hate speech and bullying.\n",
      "\n",
      "Additionally, Facebook refused to take action this week after popular Christian mommy blogger Elizabeth Johnston, best known as \"The Activist Mommy,\" voiced concern with a Facebook group that was titled \"I will find Activist Mommy and burn whoever runs it alive.\"\n",
      "\n",
      "Officials of the social media giant ruled that the group did not violate Facebook community standards because it was determined that the group was \"satirical.\"\n",
      "\n",
      "\"With 2 billion users, it can be argued that Facebook has become a public utility and thus cannot discriminate against users based upon their political or religious views,\" Johnston told CP on Tuesday. \"Conservative users who don't tow the liberal line on issues like Islam, abortion, and homosexuality are repeatedly banned and silenced in an Orwellian manner for expressing their valid concerns, thus causing conservatives to cry out for an alternative platform that welcomes the free exchange of ideas.\"\n"
     ]
    }
   ],
   "source": [
    "# Credible individual article print\n",
    "# rows used: 2, 3, 202 \n",
    "row = 3\n",
    "used_domains = [] #['christianpost.com', 'consortiumnews.com']\n",
    "try:\n",
    "    while credible_articles.iloc[row,2] in used_domains and row < len(credible_articles):\n",
    "        row +=1\n",
    "except:\n",
    "    pass\n",
    "if row < len(credible_articles):\n",
    "    print(\"row:\",row)\n",
    "    print(\"Website:\", credible_articles.iloc[row,2])\n",
    "    print(\"URL: \", credible_articles.iloc[row,4])                                                                                                                                                                                \n",
    "    print(\"Headline:\", credible_articles.iloc[row,9])\n",
    "    print(\"Author:\", credible_articles.iloc[row,10])\n",
    "    print(credible_articles.iloc[row,5])\n",
    "else:\n",
    "    print('Last article reached', row)\n",
    "    print('Total number articles:', len(credible_articles))"
   ]
  },
  {
   "cell_type": "code",
   "execution_count": null,
   "metadata": {},
   "outputs": [],
   "source": []
  }
 ],
 "metadata": {
  "kernelspec": {
   "display_name": "Python 3",
   "language": "python",
   "name": "python3"
  },
  "language_info": {
   "codemirror_mode": {
    "name": "ipython",
    "version": 3
   },
   "file_extension": ".py",
   "mimetype": "text/x-python",
   "name": "python",
   "nbconvert_exporter": "python",
   "pygments_lexer": "ipython3",
   "version": "3.6.4"
  }
 },
 "nbformat": 4,
 "nbformat_minor": 2
}
