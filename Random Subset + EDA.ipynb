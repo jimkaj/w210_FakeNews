{
 "cells": [
  {
   "cell_type": "markdown",
   "metadata": {},
   "source": [
    "# Fake News Corpus"
   ]
  },
  {
   "cell_type": "markdown",
   "metadata": {},
   "source": [
    "### Import Libraries"
   ]
  },
  {
   "cell_type": "code",
   "execution_count": 58,
   "metadata": {},
   "outputs": [],
   "source": [
    "import numpy as np\n",
    "import pandas as pd\n",
    "import matplotlib.pyplot as plt\n",
    "%matplotlib inline\n",
    "from nltk.tokenize import sent_tokenize, word_tokenize\n",
    "import re\n"
   ]
  },
  {
   "cell_type": "markdown",
   "metadata": {},
   "source": [
    "### Create subset of data"
   ]
  },
  {
   "cell_type": "code",
   "execution_count": 46,
   "metadata": {},
   "outputs": [
    {
     "name": "stderr",
     "output_type": "stream",
     "text": [
      "/anaconda3/lib/python3.7/site-packages/IPython/core/interactiveshell.py:3020: DtypeWarning: Columns (16) have mixed types. Specify dtype option on import or set low_memory=False.\n",
      "  interactivity=interactivity, compiler=compiler, result=result)\n"
     ]
    }
   ],
   "source": [
    "import pandas as pd\n",
    "import random\n",
    "p = 0.025  # 1% of the lines\n",
    "# keep the header, then take only 1% of lines\n",
    "# if random from [0,1] interval is greater than 0.01 the row will be skipped\n",
    "df = pd.read_csv(\n",
    "         \"data/news_cleaned_2018_02_13.csv\",\n",
    "         header=0, \n",
    "         skiprows=lambda i: i>0 and random.random() > p\n",
    "    \n",
    "FNC_subset.to_csv('data/FNC_Subset.csv'))\n",
    "\n",
    "\n",
    "\n"
   ]
  },
  {
   "cell_type": "code",
   "execution_count": 19,
   "metadata": {},
   "outputs": [],
   "source": [
    "FNC_subset = pd.read_csv('data/FNC_Subset.csv')\n"
   ]
  },
  {
   "cell_type": "code",
   "execution_count": 4,
   "metadata": {},
   "outputs": [
    {
     "data": {
      "text/html": [
       "<div>\n",
       "<style scoped>\n",
       "    .dataframe tbody tr th:only-of-type {\n",
       "        vertical-align: middle;\n",
       "    }\n",
       "\n",
       "    .dataframe tbody tr th {\n",
       "        vertical-align: top;\n",
       "    }\n",
       "\n",
       "    .dataframe thead th {\n",
       "        text-align: right;\n",
       "    }\n",
       "</style>\n",
       "<table border=\"1\" class=\"dataframe\">\n",
       "  <thead>\n",
       "    <tr style=\"text-align: right;\">\n",
       "      <th></th>\n",
       "      <th>Unnamed: 0</th>\n",
       "      <th>Unnamed: 0.1</th>\n",
       "      <th>id</th>\n",
       "      <th>domain</th>\n",
       "      <th>type</th>\n",
       "      <th>url</th>\n",
       "      <th>content</th>\n",
       "      <th>scraped_at</th>\n",
       "      <th>inserted_at</th>\n",
       "      <th>updated_at</th>\n",
       "      <th>title</th>\n",
       "      <th>authors</th>\n",
       "      <th>keywords</th>\n",
       "      <th>meta_keywords</th>\n",
       "      <th>meta_description</th>\n",
       "      <th>tags</th>\n",
       "      <th>summary</th>\n",
       "      <th>source</th>\n",
       "    </tr>\n",
       "  </thead>\n",
       "  <tbody>\n",
       "    <tr>\n",
       "      <th>0</th>\n",
       "      <td>0</td>\n",
       "      <td>1</td>\n",
       "      <td>6</td>\n",
       "      <td>barenakedislam.com</td>\n",
       "      <td>hate</td>\n",
       "      <td>http://barenakedislam.com/category/donald-trum...</td>\n",
       "      <td>Unfortunately, he hasn’t yet attacked her for ...</td>\n",
       "      <td>2018-01-25 16:17:44.789555</td>\n",
       "      <td>2018-02-02 01:19:41.756632</td>\n",
       "      <td>2018-02-02 01:19:41.756664</td>\n",
       "      <td>Donald Trump</td>\n",
       "      <td>Linda Rivera, Conrad Calvano, Az Gal, Lincoln ...</td>\n",
       "      <td>NaN</td>\n",
       "      <td>['']</td>\n",
       "      <td>NaN</td>\n",
       "      <td>NaN</td>\n",
       "      <td>NaN</td>\n",
       "      <td>NaN</td>\n",
       "    </tr>\n",
       "    <tr>\n",
       "      <th>1</th>\n",
       "      <td>1</td>\n",
       "      <td>50</td>\n",
       "      <td>60</td>\n",
       "      <td>barenakedislam.com</td>\n",
       "      <td>hate</td>\n",
       "      <td>http://barenakedislam.com/2018/01/06/off-topic...</td>\n",
       "      <td>We appreciate your help! Click here to donate\\...</td>\n",
       "      <td>2018-01-25 16:17:44.789555</td>\n",
       "      <td>2018-02-02 01:19:41.756632</td>\n",
       "      <td>2018-02-02 01:19:41.756664</td>\n",
       "      <td>OFF TOPIC: Topless ‘feminist’ goes all ‘nuclea...</td>\n",
       "      <td>Don Spilman, Mike S Goodmann, Cleavis Nowell, ...</td>\n",
       "      <td>NaN</td>\n",
       "      <td>['']</td>\n",
       "      <td>NaN</td>\n",
       "      <td>NaN</td>\n",
       "      <td>NaN</td>\n",
       "      <td>NaN</td>\n",
       "    </tr>\n",
       "    <tr>\n",
       "      <th>2</th>\n",
       "      <td>2</td>\n",
       "      <td>114</td>\n",
       "      <td>138</td>\n",
       "      <td>coed.com</td>\n",
       "      <td>fake</td>\n",
       "      <td>https://coed.com/2018/01/23/boston-celtics-vs-...</td>\n",
       "      <td>VIEW GALLERY\\n\\nThe Boston Celtics are traveli...</td>\n",
       "      <td>2018-01-25 16:17:44.789555</td>\n",
       "      <td>2018-02-02 01:19:41.756632</td>\n",
       "      <td>2018-02-02 01:19:41.756664</td>\n",
       "      <td>Celtics vs. Lakers Live Stream: Watch Online</td>\n",
       "      <td>Who Is Jesse Tully, A Hard Working, Diligent, ...</td>\n",
       "      <td>NaN</td>\n",
       "      <td>['', 'Sports', 'Boston Celtics', 'los angeles ...</td>\n",
       "      <td>The Celtics will be traveling to the Staples C...</td>\n",
       "      <td>los angeles lakers, NBA, Videos, Boston Celtics</td>\n",
       "      <td>NaN</td>\n",
       "      <td>NaN</td>\n",
       "    </tr>\n",
       "    <tr>\n",
       "      <th>3</th>\n",
       "      <td>3</td>\n",
       "      <td>150</td>\n",
       "      <td>176</td>\n",
       "      <td>beforeitsnews.com</td>\n",
       "      <td>fake</td>\n",
       "      <td>http://beforeitsnews.com/prophecy/2018/01/the-...</td>\n",
       "      <td>The Truth About the Israel-Palestine Conflict\\...</td>\n",
       "      <td>2018-01-25 16:17:44.789555</td>\n",
       "      <td>2018-02-02 01:19:41.756632</td>\n",
       "      <td>2018-02-02 01:19:41.756664</td>\n",
       "      <td>The Truth About the Israel-Palestine Conflict</td>\n",
       "      <td>Tng Christians</td>\n",
       "      <td>NaN</td>\n",
       "      <td>['']</td>\n",
       "      <td>NaN</td>\n",
       "      <td>NaN</td>\n",
       "      <td>NaN</td>\n",
       "      <td>NaN</td>\n",
       "    </tr>\n",
       "    <tr>\n",
       "      <th>4</th>\n",
       "      <td>4</td>\n",
       "      <td>234</td>\n",
       "      <td>273</td>\n",
       "      <td>barenakedislam.com</td>\n",
       "      <td>hate</td>\n",
       "      <td>http://barenakedislam.com/2018/01/20/is-your-l...</td>\n",
       "      <td>Surely, if you live in the capitals of Sweden ...</td>\n",
       "      <td>2018-01-25 16:17:44.789555</td>\n",
       "      <td>2018-02-02 01:19:41.756632</td>\n",
       "      <td>2018-02-02 01:19:41.756664</td>\n",
       "      <td>Is your lovely Western country being turned in...</td>\n",
       "      <td>Don Spilman, Richard S., Cleavis Nowell, Gene ...</td>\n",
       "      <td>NaN</td>\n",
       "      <td>['']</td>\n",
       "      <td>NaN</td>\n",
       "      <td>NaN</td>\n",
       "      <td>NaN</td>\n",
       "      <td>NaN</td>\n",
       "    </tr>\n",
       "  </tbody>\n",
       "</table>\n",
       "</div>"
      ],
      "text/plain": [
       "   Unnamed: 0  Unnamed: 0.1   id              domain  type  \\\n",
       "0           0             1    6  barenakedislam.com  hate   \n",
       "1           1            50   60  barenakedislam.com  hate   \n",
       "2           2           114  138            coed.com  fake   \n",
       "3           3           150  176   beforeitsnews.com  fake   \n",
       "4           4           234  273  barenakedislam.com  hate   \n",
       "\n",
       "                                                 url  \\\n",
       "0  http://barenakedislam.com/category/donald-trum...   \n",
       "1  http://barenakedislam.com/2018/01/06/off-topic...   \n",
       "2  https://coed.com/2018/01/23/boston-celtics-vs-...   \n",
       "3  http://beforeitsnews.com/prophecy/2018/01/the-...   \n",
       "4  http://barenakedislam.com/2018/01/20/is-your-l...   \n",
       "\n",
       "                                             content  \\\n",
       "0  Unfortunately, he hasn’t yet attacked her for ...   \n",
       "1  We appreciate your help! Click here to donate\\...   \n",
       "2  VIEW GALLERY\\n\\nThe Boston Celtics are traveli...   \n",
       "3  The Truth About the Israel-Palestine Conflict\\...   \n",
       "4  Surely, if you live in the capitals of Sweden ...   \n",
       "\n",
       "                   scraped_at                 inserted_at  \\\n",
       "0  2018-01-25 16:17:44.789555  2018-02-02 01:19:41.756632   \n",
       "1  2018-01-25 16:17:44.789555  2018-02-02 01:19:41.756632   \n",
       "2  2018-01-25 16:17:44.789555  2018-02-02 01:19:41.756632   \n",
       "3  2018-01-25 16:17:44.789555  2018-02-02 01:19:41.756632   \n",
       "4  2018-01-25 16:17:44.789555  2018-02-02 01:19:41.756632   \n",
       "\n",
       "                   updated_at  \\\n",
       "0  2018-02-02 01:19:41.756664   \n",
       "1  2018-02-02 01:19:41.756664   \n",
       "2  2018-02-02 01:19:41.756664   \n",
       "3  2018-02-02 01:19:41.756664   \n",
       "4  2018-02-02 01:19:41.756664   \n",
       "\n",
       "                                               title  \\\n",
       "0                                       Donald Trump   \n",
       "1  OFF TOPIC: Topless ‘feminist’ goes all ‘nuclea...   \n",
       "2       Celtics vs. Lakers Live Stream: Watch Online   \n",
       "3      The Truth About the Israel-Palestine Conflict   \n",
       "4  Is your lovely Western country being turned in...   \n",
       "\n",
       "                                             authors  keywords  \\\n",
       "0  Linda Rivera, Conrad Calvano, Az Gal, Lincoln ...       NaN   \n",
       "1  Don Spilman, Mike S Goodmann, Cleavis Nowell, ...       NaN   \n",
       "2  Who Is Jesse Tully, A Hard Working, Diligent, ...       NaN   \n",
       "3                                     Tng Christians       NaN   \n",
       "4  Don Spilman, Richard S., Cleavis Nowell, Gene ...       NaN   \n",
       "\n",
       "                                       meta_keywords  \\\n",
       "0                                               ['']   \n",
       "1                                               ['']   \n",
       "2  ['', 'Sports', 'Boston Celtics', 'los angeles ...   \n",
       "3                                               ['']   \n",
       "4                                               ['']   \n",
       "\n",
       "                                    meta_description  \\\n",
       "0                                                NaN   \n",
       "1                                                NaN   \n",
       "2  The Celtics will be traveling to the Staples C...   \n",
       "3                                                NaN   \n",
       "4                                                NaN   \n",
       "\n",
       "                                              tags  summary source  \n",
       "0                                              NaN      NaN    NaN  \n",
       "1                                              NaN      NaN    NaN  \n",
       "2  los angeles lakers, NBA, Videos, Boston Celtics      NaN    NaN  \n",
       "3                                              NaN      NaN    NaN  \n",
       "4                                              NaN      NaN    NaN  "
      ]
     },
     "execution_count": 4,
     "metadata": {},
     "output_type": "execute_result"
    }
   ],
   "source": [
    "#df.to_csv('data/FNC_Subset.csv')\n",
    "FNC_subset.head()\n"
   ]
  },
  {
   "cell_type": "code",
   "execution_count": 5,
   "metadata": {},
   "outputs": [],
   "source": [
    "\n",
    "#FNC_subset['len_content']=FNC_subset['content'].map(lambda x:len(x.split(' ')))\n",
    "#FNC_subset['len_title']= FNC_subset['title'].map(lambda x: len(str(x).split(' ')))"
   ]
  },
  {
   "cell_type": "code",
   "execution_count": 6,
   "metadata": {},
   "outputs": [],
   "source": [
    "#FNC_subset['type'].value_counts().plot(kind='bar')"
   ]
  },
  {
   "cell_type": "code",
   "execution_count": 7,
   "metadata": {},
   "outputs": [],
   "source": [
    "#bin_edges = [100,500,1000,1500,2000,2500,3000,5000]\n",
    "\n",
    "#_ = plt.hist(FNC_subset['len_content'], bins =bin_edges)\n",
    "\n",
    "#plt.show()\n"
   ]
  },
  {
   "cell_type": "code",
   "execution_count": 8,
   "metadata": {},
   "outputs": [],
   "source": [
    "#bin_edges = [10,20,30,40,50]\n",
    "\n",
    "#_ = plt.hist(FNC_subset['len_title'], bins=bin_edges)"
   ]
  },
  {
   "cell_type": "code",
   "execution_count": 45,
   "metadata": {},
   "outputs": [],
   "source": [
    "#FNC_subset['num_exclaim_content']= FNC_subset['content'].map(lambda x: len(re.findall('!', x)))\n",
    "#FNC_subset['num_exclaim_content_per_len']=FNC_subset['num_exclaim_content']/FNC_subset['len_content']"
   ]
  },
  {
   "cell_type": "code",
   "execution_count": 20,
   "metadata": {},
   "outputs": [],
   "source": [
    "\n",
    "classes= ['reliable', 'political', 'satire', 'fake','bias']\n",
    "\n",
    "FNC_Final= FNC_subset[FNC_subset['type'].isin(classes) ]\n",
    "\n"
   ]
  },
  {
   "cell_type": "code",
   "execution_count": 21,
   "metadata": {},
   "outputs": [
    {
     "data": {
      "text/html": [
       "<div>\n",
       "<style scoped>\n",
       "    .dataframe tbody tr th:only-of-type {\n",
       "        vertical-align: middle;\n",
       "    }\n",
       "\n",
       "    .dataframe tbody tr th {\n",
       "        vertical-align: top;\n",
       "    }\n",
       "\n",
       "    .dataframe thead th {\n",
       "        text-align: right;\n",
       "    }\n",
       "</style>\n",
       "<table border=\"1\" class=\"dataframe\">\n",
       "  <thead>\n",
       "    <tr style=\"text-align: right;\">\n",
       "      <th></th>\n",
       "      <th>Unnamed: 0</th>\n",
       "      <th>Unnamed: 0.1</th>\n",
       "      <th>id</th>\n",
       "      <th>domain</th>\n",
       "      <th>type</th>\n",
       "      <th>url</th>\n",
       "      <th>content</th>\n",
       "      <th>scraped_at</th>\n",
       "      <th>inserted_at</th>\n",
       "      <th>updated_at</th>\n",
       "      <th>title</th>\n",
       "      <th>authors</th>\n",
       "      <th>keywords</th>\n",
       "      <th>meta_keywords</th>\n",
       "      <th>meta_description</th>\n",
       "      <th>tags</th>\n",
       "      <th>summary</th>\n",
       "      <th>source</th>\n",
       "    </tr>\n",
       "  </thead>\n",
       "  <tbody>\n",
       "    <tr>\n",
       "      <th>2</th>\n",
       "      <td>2</td>\n",
       "      <td>114</td>\n",
       "      <td>138</td>\n",
       "      <td>coed.com</td>\n",
       "      <td>fake</td>\n",
       "      <td>https://coed.com/2018/01/23/boston-celtics-vs-...</td>\n",
       "      <td>VIEW GALLERY\\n\\nThe Boston Celtics are traveli...</td>\n",
       "      <td>2018-01-25 16:17:44.789555</td>\n",
       "      <td>2018-02-02 01:19:41.756632</td>\n",
       "      <td>2018-02-02 01:19:41.756664</td>\n",
       "      <td>Celtics vs. Lakers Live Stream: Watch Online</td>\n",
       "      <td>Who Is Jesse Tully, A Hard Working, Diligent, ...</td>\n",
       "      <td>NaN</td>\n",
       "      <td>['', 'Sports', 'Boston Celtics', 'los angeles ...</td>\n",
       "      <td>The Celtics will be traveling to the Staples C...</td>\n",
       "      <td>los angeles lakers, NBA, Videos, Boston Celtics</td>\n",
       "      <td>NaN</td>\n",
       "      <td>NaN</td>\n",
       "    </tr>\n",
       "    <tr>\n",
       "      <th>3</th>\n",
       "      <td>3</td>\n",
       "      <td>150</td>\n",
       "      <td>176</td>\n",
       "      <td>beforeitsnews.com</td>\n",
       "      <td>fake</td>\n",
       "      <td>http://beforeitsnews.com/prophecy/2018/01/the-...</td>\n",
       "      <td>The Truth About the Israel-Palestine Conflict\\...</td>\n",
       "      <td>2018-01-25 16:17:44.789555</td>\n",
       "      <td>2018-02-02 01:19:41.756632</td>\n",
       "      <td>2018-02-02 01:19:41.756664</td>\n",
       "      <td>The Truth About the Israel-Palestine Conflict</td>\n",
       "      <td>Tng Christians</td>\n",
       "      <td>NaN</td>\n",
       "      <td>['']</td>\n",
       "      <td>NaN</td>\n",
       "      <td>NaN</td>\n",
       "      <td>NaN</td>\n",
       "      <td>NaN</td>\n",
       "    </tr>\n",
       "    <tr>\n",
       "      <th>6</th>\n",
       "      <td>6</td>\n",
       "      <td>345</td>\n",
       "      <td>408</td>\n",
       "      <td>betootaadvocate.com</td>\n",
       "      <td>satire</td>\n",
       "      <td>http://www.betootaadvocate.com/humans-of-betoo...</td>\n",
       "      <td>ERROL PARKER | Editor-at-large | Contact\\n\\n“H...</td>\n",
       "      <td>2018-01-25 16:17:44.789555</td>\n",
       "      <td>2018-02-02 01:19:41.756632</td>\n",
       "      <td>2018-02-02 01:19:41.756664</td>\n",
       "      <td>Study: Two Vegans Whining At Barbeque Can Canc...</td>\n",
       "      <td>NaN</td>\n",
       "      <td>NaN</td>\n",
       "      <td>['']</td>\n",
       "      <td>NaN</td>\n",
       "      <td>NaN</td>\n",
       "      <td>NaN</td>\n",
       "      <td>NaN</td>\n",
       "    </tr>\n",
       "    <tr>\n",
       "      <th>7</th>\n",
       "      <td>7</td>\n",
       "      <td>369</td>\n",
       "      <td>433</td>\n",
       "      <td>beehivebugle.com</td>\n",
       "      <td>satire</td>\n",
       "      <td>http://beehivebugle.com/2013/11/18/american-fo...</td>\n",
       "      <td>American Fork’s East 17th Ward’s excitement er...</td>\n",
       "      <td>2018-01-25 16:17:44.789555</td>\n",
       "      <td>2018-02-02 01:19:41.756632</td>\n",
       "      <td>2018-02-02 01:19:41.756664</td>\n",
       "      <td>American Fork East 17th Ward Offers Hand to ‘O...</td>\n",
       "      <td>Timothy Mcfoster, View All Posts Timothy Mcfos...</td>\n",
       "      <td>NaN</td>\n",
       "      <td>['']</td>\n",
       "      <td>American Fork’s East 17th Ward’s excitement er...</td>\n",
       "      <td>Jesus, Pornography, Entertainment, Church, The...</td>\n",
       "      <td>NaN</td>\n",
       "      <td>NaN</td>\n",
       "    </tr>\n",
       "    <tr>\n",
       "      <th>12</th>\n",
       "      <td>12</td>\n",
       "      <td>603</td>\n",
       "      <td>685</td>\n",
       "      <td>beforeitsnews.com</td>\n",
       "      <td>fake</td>\n",
       "      <td>http://beforeitsnews.com/watercooler-topics/20...</td>\n",
       "      <td>Hobby Historian Claims to Have Discovered Forg...</td>\n",
       "      <td>2018-01-25 16:17:44.789555</td>\n",
       "      <td>2018-02-02 01:19:41.756632</td>\n",
       "      <td>2018-02-02 01:19:41.756664</td>\n",
       "      <td>Hobby Historian Claims to Have Discovered Forg...</td>\n",
       "      <td>Oddity Central</td>\n",
       "      <td>NaN</td>\n",
       "      <td>['']</td>\n",
       "      <td>NaN</td>\n",
       "      <td>NaN</td>\n",
       "      <td>NaN</td>\n",
       "      <td>NaN</td>\n",
       "    </tr>\n",
       "  </tbody>\n",
       "</table>\n",
       "</div>"
      ],
      "text/plain": [
       "    Unnamed: 0  Unnamed: 0.1   id               domain    type  \\\n",
       "2            2           114  138             coed.com    fake   \n",
       "3            3           150  176    beforeitsnews.com    fake   \n",
       "6            6           345  408  betootaadvocate.com  satire   \n",
       "7            7           369  433     beehivebugle.com  satire   \n",
       "12          12           603  685    beforeitsnews.com    fake   \n",
       "\n",
       "                                                  url  \\\n",
       "2   https://coed.com/2018/01/23/boston-celtics-vs-...   \n",
       "3   http://beforeitsnews.com/prophecy/2018/01/the-...   \n",
       "6   http://www.betootaadvocate.com/humans-of-betoo...   \n",
       "7   http://beehivebugle.com/2013/11/18/american-fo...   \n",
       "12  http://beforeitsnews.com/watercooler-topics/20...   \n",
       "\n",
       "                                              content  \\\n",
       "2   VIEW GALLERY\\n\\nThe Boston Celtics are traveli...   \n",
       "3   The Truth About the Israel-Palestine Conflict\\...   \n",
       "6   ERROL PARKER | Editor-at-large | Contact\\n\\n“H...   \n",
       "7   American Fork’s East 17th Ward’s excitement er...   \n",
       "12  Hobby Historian Claims to Have Discovered Forg...   \n",
       "\n",
       "                    scraped_at                 inserted_at  \\\n",
       "2   2018-01-25 16:17:44.789555  2018-02-02 01:19:41.756632   \n",
       "3   2018-01-25 16:17:44.789555  2018-02-02 01:19:41.756632   \n",
       "6   2018-01-25 16:17:44.789555  2018-02-02 01:19:41.756632   \n",
       "7   2018-01-25 16:17:44.789555  2018-02-02 01:19:41.756632   \n",
       "12  2018-01-25 16:17:44.789555  2018-02-02 01:19:41.756632   \n",
       "\n",
       "                    updated_at  \\\n",
       "2   2018-02-02 01:19:41.756664   \n",
       "3   2018-02-02 01:19:41.756664   \n",
       "6   2018-02-02 01:19:41.756664   \n",
       "7   2018-02-02 01:19:41.756664   \n",
       "12  2018-02-02 01:19:41.756664   \n",
       "\n",
       "                                                title  \\\n",
       "2        Celtics vs. Lakers Live Stream: Watch Online   \n",
       "3       The Truth About the Israel-Palestine Conflict   \n",
       "6   Study: Two Vegans Whining At Barbeque Can Canc...   \n",
       "7   American Fork East 17th Ward Offers Hand to ‘O...   \n",
       "12  Hobby Historian Claims to Have Discovered Forg...   \n",
       "\n",
       "                                              authors  keywords  \\\n",
       "2   Who Is Jesse Tully, A Hard Working, Diligent, ...       NaN   \n",
       "3                                      Tng Christians       NaN   \n",
       "6                                                 NaN       NaN   \n",
       "7   Timothy Mcfoster, View All Posts Timothy Mcfos...       NaN   \n",
       "12                                     Oddity Central       NaN   \n",
       "\n",
       "                                        meta_keywords  \\\n",
       "2   ['', 'Sports', 'Boston Celtics', 'los angeles ...   \n",
       "3                                                ['']   \n",
       "6                                                ['']   \n",
       "7                                                ['']   \n",
       "12                                               ['']   \n",
       "\n",
       "                                     meta_description  \\\n",
       "2   The Celtics will be traveling to the Staples C...   \n",
       "3                                                 NaN   \n",
       "6                                                 NaN   \n",
       "7   American Fork’s East 17th Ward’s excitement er...   \n",
       "12                                                NaN   \n",
       "\n",
       "                                                 tags  summary source  \n",
       "2     los angeles lakers, NBA, Videos, Boston Celtics      NaN    NaN  \n",
       "3                                                 NaN      NaN    NaN  \n",
       "6                                                 NaN      NaN    NaN  \n",
       "7   Jesus, Pornography, Entertainment, Church, The...      NaN    NaN  \n",
       "12                                                NaN      NaN    NaN  "
      ]
     },
     "execution_count": 21,
     "metadata": {},
     "output_type": "execute_result"
    }
   ],
   "source": [
    "FNC_Final.head()"
   ]
  },
  {
   "cell_type": "code",
   "execution_count": 22,
   "metadata": {},
   "outputs": [
    {
     "data": {
      "text/plain": [
       "<matplotlib.axes._subplots.AxesSubplot at 0x1a33826dd8>"
      ]
     },
     "execution_count": 22,
     "metadata": {},
     "output_type": "execute_result"
    },
    {
     "data": {
      "image/png": "[encoded data removed]",
      "text/plain": [
       "<Figure size 432x288 with 1 Axes>"
      ]
     },
     "metadata": {
      "needs_background": "light"
     },
     "output_type": "display_data"
    }
   ],
   "source": [
    "FNC_Final['type'].value_counts().plot(kind='bar')\n"
   ]
  },
  {
   "cell_type": "markdown",
   "metadata": {},
   "source": [
    "# EDA Linguistic Features"
   ]
  },
  {
   "cell_type": "code",
   "execution_count": 23,
   "metadata": {},
   "outputs": [
    {
     "name": "stderr",
     "output_type": "stream",
     "text": [
      "/anaconda3/lib/python3.7/site-packages/ipykernel_launcher.py:1: SettingWithCopyWarning: \n",
      "A value is trying to be set on a copy of a slice from a DataFrame.\n",
      "Try using .loc[row_indexer,col_indexer] = value instead\n",
      "\n",
      "See the caveats in the documentation: http://pandas.pydata.org/pandas-docs/stable/indexing.html#indexing-view-versus-copy\n",
      "  \"\"\"Entry point for launching an IPython kernel.\n",
      "/anaconda3/lib/python3.7/site-packages/ipykernel_launcher.py:2: SettingWithCopyWarning: \n",
      "A value is trying to be set on a copy of a slice from a DataFrame.\n",
      "Try using .loc[row_indexer,col_indexer] = value instead\n",
      "\n",
      "See the caveats in the documentation: http://pandas.pydata.org/pandas-docs/stable/indexing.html#indexing-view-versus-copy\n",
      "  \n"
     ]
    }
   ],
   "source": [
    "FNC_Final['len_content']=FNC_Final['content'].map(lambda x:len(x.split(' ')))\n",
    "FNC_Final['len_title']= FNC_Final['title'].map(lambda x: len(str(x).split(' ')))\n"
   ]
  },
  {
   "cell_type": "code",
   "execution_count": 24,
   "metadata": {},
   "outputs": [
    {
     "data": {
      "image/png": "[encoded data removed]",
      "text/plain": [
       "<Figure size 432x288 with 1 Axes>"
      ]
     },
     "metadata": {
      "needs_background": "light"
     },
     "output_type": "display_data"
    }
   ],
   "source": [
    "bin_edges = [100,500,1000,1500,2000,2500,3000,5000]\n",
    "\n",
    "_ = plt.hist(FNC_Final['len_content'], bins =bin_edges)\n",
    "\n",
    "plt.show()"
   ]
  },
  {
   "cell_type": "code",
   "execution_count": 31,
   "metadata": {},
   "outputs": [
    {
     "data": {
      "image/png": "[encoded data removed]",
      "text/plain": [
       "<Figure size 432x288 with 1 Axes>"
      ]
     },
     "metadata": {
      "needs_background": "light"
     },
     "output_type": "display_data"
    }
   ],
   "source": [
    "bin_edges = [2,5,7,10,12,15,17,20,30,40,50]\n",
    "\n",
    "_ = plt.hist(FNC_Final['len_title'], bins=bin_edges)\n"
   ]
  },
  {
   "cell_type": "code",
   "execution_count": 42,
   "metadata": {},
   "outputs": [
    {
     "data": {
      "text/plain": [
       "<matplotlib.axes._subplots.AxesSubplot at 0x101514080>"
      ]
     },
     "execution_count": 42,
     "metadata": {},
     "output_type": "execute_result"
    },
    {
     "data": {
      "image/png": "[encoded data removed]",
      "text/plain": [
       "<Figure size 432x288 with 1 Axes>"
      ]
     },
     "metadata": {
      "needs_background": "light"
     },
     "output_type": "display_data"
    }
   ],
   "source": [
    "Title_len_ByType= FNC_Final.groupby('type')['len_title'].mean()\n",
    "Title_len_ByType.plot(kind='bar')"
   ]
  },
  {
   "cell_type": "code",
   "execution_count": 43,
   "metadata": {},
   "outputs": [
    {
     "data": {
      "text/plain": [
       "<matplotlib.axes._subplots.AxesSubplot at 0x1a161c7fd0>"
      ]
     },
     "execution_count": 43,
     "metadata": {},
     "output_type": "execute_result"
    },
    {
     "data": {
      "image/png": "[encoded data removed]",
      "text/plain": [
       "<Figure size 432x288 with 1 Axes>"
      ]
     },
     "metadata": {
      "needs_background": "light"
     },
     "output_type": "display_data"
    }
   ],
   "source": [
    "Con_len_ByType= FNC_Final.groupby('type')['len_content'].mean()\n",
    "Con_len_ByType.plot(kind='bar')"
   ]
  },
  {
   "cell_type": "code",
   "execution_count": 67,
   "metadata": {},
   "outputs": [
    {
     "name": "stderr",
     "output_type": "stream",
     "text": [
      "/anaconda3/lib/python3.7/site-packages/ipykernel_launcher.py:2: SettingWithCopyWarning: \n",
      "A value is trying to be set on a copy of a slice from a DataFrame.\n",
      "Try using .loc[row_indexer,col_indexer] = value instead\n",
      "\n",
      "See the caveats in the documentation: http://pandas.pydata.org/pandas-docs/stable/indexing.html#indexing-view-versus-copy\n",
      "  \n",
      "/anaconda3/lib/python3.7/site-packages/ipykernel_launcher.py:5: SettingWithCopyWarning: \n",
      "A value is trying to be set on a copy of a slice from a DataFrame.\n",
      "Try using .loc[row_indexer,col_indexer] = value instead\n",
      "\n",
      "See the caveats in the documentation: http://pandas.pydata.org/pandas-docs/stable/indexing.html#indexing-view-versus-copy\n",
      "  \"\"\"\n"
     ]
    }
   ],
   "source": [
    "# number of exclamation marks in Title \n",
    "FNC_Final['num_exclaim_title']= FNC_Final['title'].map(lambda x: len(re.findall(r'!', str(x))))\n",
    "\n",
    "#  sentences in content \n",
    "FNC_Final['sentences_content']= FNC_Final['content'].map(lambda x: sent_tokenize(x))\n"
   ]
  },
  {
   "cell_type": "code",
   "execution_count": 83,
   "metadata": {},
   "outputs": [
    {
     "data": {
      "text/plain": [
       "<matplotlib.axes._subplots.AxesSubplot at 0x1a1bf8c908>"
      ]
     },
     "execution_count": 83,
     "metadata": {},
     "output_type": "execute_result"
    },
    {
     "data": {
      "image/png": "[encoded data removed]",
      "text/plain": [
       "<Figure size 432x288 with 1 Axes>"
      ]
     },
     "metadata": {
      "needs_background": "light"
     },
     "output_type": "display_data"
    }
   ],
   "source": [
    "Exclaim_Title_ByType= FNC_Final.groupby('type')['num_exclaim_title'].mean()\n",
    "Exclaim_Title_ByType.plot(kind='bar')"
   ]
  },
  {
   "cell_type": "code",
   "execution_count": 75,
   "metadata": {},
   "outputs": [
    {
     "name": "stderr",
     "output_type": "stream",
     "text": [
      "/anaconda3/lib/python3.7/site-packages/ipykernel_launcher.py:3: SettingWithCopyWarning: \n",
      "A value is trying to be set on a copy of a slice from a DataFrame.\n",
      "Try using .loc[row_indexer,col_indexer] = value instead\n",
      "\n",
      "See the caveats in the documentation: http://pandas.pydata.org/pandas-docs/stable/indexing.html#indexing-view-versus-copy\n",
      "  This is separate from the ipykernel package so we can avoid doing imports until\n",
      "/anaconda3/lib/python3.7/site-packages/ipykernel_launcher.py:6: SettingWithCopyWarning: \n",
      "A value is trying to be set on a copy of a slice from a DataFrame.\n",
      "Try using .loc[row_indexer,col_indexer] = value instead\n",
      "\n",
      "See the caveats in the documentation: http://pandas.pydata.org/pandas-docs/stable/indexing.html#indexing-view-versus-copy\n",
      "  \n"
     ]
    }
   ],
   "source": [
    "# number of sentences in content \n",
    "\n",
    "FNC_Final['num_sentences_content']= FNC_Final['sentences_content'].map(lambda x: len(x))\n",
    "\n",
    "# number of paragraphs \n",
    "FNC_Final['num_paras']= FNC_Final['content'].map(lambda x: len(x.split('\\n')))  "
   ]
  },
  {
   "cell_type": "code",
   "execution_count": 84,
   "metadata": {},
   "outputs": [
    {
     "data": {
      "text/plain": [
       "<matplotlib.axes._subplots.AxesSubplot at 0x1a1bf7e3c8>"
      ]
     },
     "execution_count": 84,
     "metadata": {},
     "output_type": "execute_result"
    },
    {
     "data": {
      "image/png": "[encoded data removed]",
      "text/plain": [
       "<Figure size 432x288 with 1 Axes>"
      ]
     },
     "metadata": {
      "needs_background": "light"
     },
     "output_type": "display_data"
    }
   ],
   "source": [
    "Num_Sentences_ByType= FNC_Final.groupby('type')['num_sentences_content'].mean()\n",
    "Num_Sentences_ByType.plot(kind='bar')"
   ]
  },
  {
   "cell_type": "code",
   "execution_count": 85,
   "metadata": {},
   "outputs": [
    {
     "data": {
      "text/plain": [
       "<matplotlib.axes._subplots.AxesSubplot at 0x1a1bffff98>"
      ]
     },
     "execution_count": 85,
     "metadata": {},
     "output_type": "execute_result"
    },
    {
     "data": {
      "image/png": "[encoded data removed]",
      "text/plain": [
       "<Figure size 432x288 with 1 Axes>"
      ]
     },
     "metadata": {
      "needs_background": "light"
     },
     "output_type": "display_data"
    }
   ],
   "source": [
    "Num_Paras_ByType= FNC_Final.groupby('type')['num_paras'].mean()\n",
    "Num_Paras_ByType.plot(kind='bar')"
   ]
  },
  {
   "cell_type": "code",
   "execution_count": 102,
   "metadata": {},
   "outputs": [
    {
     "name": "stderr",
     "output_type": "stream",
     "text": [
      "/anaconda3/lib/python3.7/site-packages/ipykernel_launcher.py:4: SettingWithCopyWarning: \n",
      "A value is trying to be set on a copy of a slice from a DataFrame.\n",
      "Try using .loc[row_indexer,col_indexer] = value instead\n",
      "\n",
      "See the caveats in the documentation: http://pandas.pydata.org/pandas-docs/stable/indexing.html#indexing-view-versus-copy\n",
      "  after removing the cwd from sys.path.\n",
      "/anaconda3/lib/python3.7/site-packages/ipykernel_launcher.py:5: SettingWithCopyWarning: \n",
      "A value is trying to be set on a copy of a slice from a DataFrame.\n",
      "Try using .loc[row_indexer,col_indexer] = value instead\n",
      "\n",
      "See the caveats in the documentation: http://pandas.pydata.org/pandas-docs/stable/indexing.html#indexing-view-versus-copy\n",
      "  \"\"\"\n"
     ]
    }
   ],
   "source": [
    "#number of punc in content \n",
    "\n",
    "\n",
    "FNC_Final['num_punc_content']= FNC_Final['content'].map(lambda x: len(re.findall(r'[^ \\\\ a-zA-Z0-9]', x)))\n",
    "FNC_Final['percent_punc_content_per_len']=FNC_Final['num_punc_content']*100/FNC_Final['len_content']\n"
   ]
  },
  {
   "cell_type": "code",
   "execution_count": 101,
   "metadata": {},
   "outputs": [
    {
     "data": {
      "text/plain": [
       "['.', '.', '.', '\\n', ':', ',', ':']"
      ]
     },
     "execution_count": 101,
     "metadata": {},
     "output_type": "execute_result"
    }
   ],
   "source": [
    "\n",
    "a=str(FNC_Final['content'][0:1])\n",
    "re.findall(r'[^ \\\\ a-zA-Z0-9]',a)\n",
    "\n"
   ]
  },
  {
   "cell_type": "code",
   "execution_count": 105,
   "metadata": {},
   "outputs": [
    {
     "data": {
      "text/plain": [
       "<matplotlib.axes._subplots.AxesSubplot at 0x1a2eea3048>"
      ]
     },
     "execution_count": 105,
     "metadata": {},
     "output_type": "execute_result"
    },
    {
     "data": {
      "image/png": "[encoded data removed]",
      "text/plain": [
       "<Figure size 432x288 with 1 Axes>"
      ]
     },
     "metadata": {
      "needs_background": "light"
     },
     "output_type": "display_data"
    }
   ],
   "source": [
    "percent_punc_content_ByType= FNC_Final.groupby('type')['percent_punc_content_per_len'].mean()\n",
    "percent_punc_content_ByType.plot(kind='bar')\n",
    "\n"
   ]
  },
  {
   "cell_type": "code",
   "execution_count": 106,
   "metadata": {},
   "outputs": [],
   "source": [
    "FNC_Final.to_csv('data/FNC_Final.csv')\n"
   ]
  },
  {
   "cell_type": "code",
   "execution_count": 103,
   "metadata": {
    "scrolled": true
   },
   "outputs": [
    {
     "data": {
      "text/plain": [
       "<matplotlib.axes._subplots.AxesSubplot at 0x1a1623b550>"
      ]
     },
     "execution_count": 103,
     "metadata": {},
     "output_type": "execute_result"
    },
    {
     "data": {
      "image/png": "[encoded data removed]",
      "text/plain": [
       "<Figure size 432x288 with 1 Axes>"
      ]
     },
     "metadata": {
      "needs_background": "light"
     },
     "output_type": "display_data"
    }
   ],
   "source": [
    "num_punc_content_By_type= FNC_Final.groupby('type')['num_punc_content'].mean()\n",
    "num_punc_content_By_type.plot(kind='bar')\n"
   ]
  },
  {
   "cell_type": "code",
   "execution_count": null,
   "metadata": {},
   "outputs": [],
   "source": [
    "FNC_Final.describe()\n"
   ]
  },
  {
   "cell_type": "code",
   "execution_count": 110,
   "metadata": {},
   "outputs": [
    {
     "data": {
      "text/plain": [
       "1017.0"
      ]
     },
     "execution_count": 110,
     "metadata": {},
     "output_type": "execute_result"
    }
   ],
   "source": [
    "FNC_Final['len_content'].quantile(0.9)\n"
   ]
  },
  {
   "cell_type": "markdown",
   "metadata": {},
   "source": [
    "### Create Fake news subset\n"
   ]
  },
  {
   "cell_type": "code",
   "execution_count": 46,
   "metadata": {},
   "outputs": [
    {
     "name": "stdout",
     "output_type": "stream",
     "text": [
      "Fake News Articles:  22281\n"
     ]
    }
   ],
   "source": [
    "# Fake News Examples\n",
    "fake_bolean = FNC_Final['type'] == 'fake'\n",
    "fake_articles = FNC_Final[fake_bolean]\n",
    "print('Fake News Articles: ', len(fake_articles))"
   ]
  },
  {
   "cell_type": "markdown",
   "metadata": {},
   "source": [
    "### View Fake News Article"
   ]
  },
  {
   "cell_type": "code",
   "execution_count": 47,
   "metadata": {},
   "outputs": [
    {
     "name": "stdout",
     "output_type": "stream",
     "text": [
      "Last article reached 35000\n",
      "Total number articles: 22281\n"
     ]
    }
   ],
   "source": [
    "# Fake News individual article print\n",
    "# rows used: 0, 11, 49, 16621, 16683, 18034, 33194, 45839\n",
    "row = 35000\n",
    "used_domains = ['beforeitsnews.com', 'conservativefighters.com', 'coed.com', 'thecommonsenseshow.com', 'newswithviews.com', \\\n",
    "               'americannews.com', 'vigilantcitizen.com', 'therightscoop.com', 'gopthedailydose.com', 'teaparty.org']\n",
    "try:\n",
    "    while fake_articles.iloc[row,2] in used_domains and row < len(fake_articles):\n",
    "        row +=1\n",
    "except:\n",
    "    pass\n",
    "if row < len(fake_articles):\n",
    "    print(\"row:\",row)\n",
    "    print(\"Website:\", fake_articles.iloc[row,2])\n",
    "    print(\"URL: \", fake_articles.iloc[row,4])                                                                                                                                                                                \n",
    "    print(\"Headline:\", fake_articles.iloc[row,9])\n",
    "    print(\"Author:\", fake_articles.iloc[row,10])\n",
    "    print(fake_articles.iloc[row,5])\n",
    "else:\n",
    "    print('Last article reached', row)\n",
    "    print('Total number articles:', len(fake_articles))"
   ]
  },
  {
   "cell_type": "markdown",
   "metadata": {},
   "source": [
    "### Create Satire Subset"
   ]
  },
  {
   "cell_type": "code",
   "execution_count": 48,
   "metadata": {},
   "outputs": [
    {
     "name": "stdout",
     "output_type": "stream",
     "text": [
      "Satire Articles:  2863\n"
     ]
    }
   ],
   "source": [
    "# Satire Examples\n",
    "satire_bolean = FNC_subset['type'] == 'satire'\n",
    "satire_articles = FNC_subset[satire_bolean]\n",
    "print('Satire Articles: ', len(satire_articles))"
   ]
  },
  {
   "cell_type": "markdown",
   "metadata": {},
   "source": [
    "### View Satire Articles"
   ]
  },
  {
   "cell_type": "code",
   "execution_count": 49,
   "metadata": {},
   "outputs": [
    {
     "name": "stdout",
     "output_type": "stream",
     "text": [
      "row: 8\n",
      "Website: 32675\n",
      "URL:  satire\n",
      "Headline: 2018-02-02 01:19:41.756664\n",
      "Author: Whoreouse\n",
      "https://aceflashman.wordpress.com/tag/whoreouse/\n"
     ]
    }
   ],
   "source": [
    "# Satire individual article print\n",
    "# rows used: 4,8, 10 \n",
    "row = 8\n",
    "used_domains = ['clickhole.com', 'theshovel.com.au', 'betootaadvocate.com']\n",
    "try:\n",
    "    while satire_articles.iloc[row,2] in used_domains and row < len(satire_articles):\n",
    "        row +=1\n",
    "except:\n",
    "    pass\n",
    "if row < len(satire_articles):\n",
    "    print(\"row:\",row)\n",
    "    print(\"Website:\", satire_articles.iloc[row,2])\n",
    "    print(\"URL: \", satire_articles.iloc[row,4])                                                                                                                                                                                \n",
    "    print(\"Headline:\", satire_articles.iloc[row,9])\n",
    "    print(\"Author:\", satire_articles.iloc[row,10])\n",
    "    print(satire_articles.iloc[row,5])\n",
    "else:\n",
    "    print('Last article reached', row)\n",
    "    print('Total number articles:', len(satire_articles))"
   ]
  },
  {
   "cell_type": "markdown",
   "metadata": {},
   "source": [
    "### Create Extreme Bias Subset"
   ]
  },
  {
   "cell_type": "code",
   "execution_count": 50,
   "metadata": {},
   "outputs": [
    {
     "name": "stdout",
     "output_type": "stream",
     "text": [
      "Extreme Bias Articles:  28332\n"
     ]
    }
   ],
   "source": [
    "# Extreme Bias Examples\n",
    "bias_bolean = FNC_subset['type'] == 'bias'\n",
    "bias_articles = FNC_subset[bias_bolean]\n",
    "print('Extreme Bias Articles: ', len(bias_articles))"
   ]
  },
  {
   "cell_type": "markdown",
   "metadata": {},
   "source": [
    "### View Extreme Bias Articles"
   ]
  },
  {
   "cell_type": "code",
   "execution_count": 51,
   "metadata": {},
   "outputs": [
    {
     "name": "stdout",
     "output_type": "stream",
     "text": [
      "row: 0\n",
      "Website: 2834\n",
      "URL:  bias\n",
      "Headline: 2018-02-02 01:19:41.756664\n",
      "Author: Mike Pence Breaks the Tie to Confirm Sam Brownback as Religious Freedom Ambassador\n",
      "https://charismanews.com/politics/elections/69296-mike-pence-breaks-the-tie-to-confirm-sam-brownback-as-religious-freedom-ambassador\n"
     ]
    }
   ],
   "source": [
    "# Extreme Bias individual article print\n",
    "# rows used: 0, 4, 8  \n",
    "row = 0\n",
    "used_domains = ['wnd.com', 'lifenews.com', 'dailysignal.com']\n",
    "try:\n",
    "    while bias_articles.iloc[row,2] in used_domains and row < len(bias_articles):\n",
    "        row +=1\n",
    "except:\n",
    "    pass\n",
    "if row < len(bias_articles):\n",
    "    print(\"row:\",row)\n",
    "    print(\"Website:\", bias_articles.iloc[row,2])\n",
    "    print(\"URL: \", bias_articles.iloc[row,4])                                                                                                                                                                                \n",
    "    print(\"Headline:\", bias_articles.iloc[row,9])\n",
    "    print(\"Author:\", bias_articles.iloc[row,10])\n",
    "    print(bias_articles.iloc[row,5])\n",
    "else:\n",
    "    print('Last article reached', row)\n",
    "    print('Total number articles:', len(bias_articles))"
   ]
  },
  {
   "cell_type": "markdown",
   "metadata": {},
   "source": [
    "### Create Political Articles Subset"
   ]
  },
  {
   "cell_type": "code",
   "execution_count": 52,
   "metadata": {},
   "outputs": [
    {
     "name": "stdout",
     "output_type": "stream",
     "text": [
      "Political Articles:  41166\n"
     ]
    }
   ],
   "source": [
    "# Political Examples\n",
    "political_bolean = FNC_subset['type'] == 'political'\n",
    "political_articles = FNC_subset[political_bolean]\n",
    "print('Political Articles: ', len(political_articles))"
   ]
  },
  {
   "cell_type": "markdown",
   "metadata": {},
   "source": [
    "### View Political Articles"
   ]
  },
  {
   "cell_type": "code",
   "execution_count": 53,
   "metadata": {},
   "outputs": [
    {
     "name": "stdout",
     "output_type": "stream",
     "text": [
      "row: 0\n",
      "Website: 1429\n",
      "URL:  political\n",
      "Headline: 2018-02-02 01:19:41.756664\n",
      "Author: Curated Archives – Baptist News Global\n",
      "https://baptistnews.com/category/curated/\n"
     ]
    }
   ],
   "source": [
    "# Political individual article print\n",
    "# rows used: 0, 29 \n",
    "row = 0\n",
    "used_domains = ['baptistnews.com', 'nationalreview.com', 'dailycaller.com']\n",
    "try:\n",
    "    while political_articles.iloc[row,2] in used_domains and row < len(political_articles):\n",
    "        row +=1\n",
    "except:\n",
    "    pass\n",
    "if row < len(political_articles):\n",
    "    print(\"row:\",row)\n",
    "    print(\"Website:\", political_articles.iloc[row,2])\n",
    "    print(\"URL: \", political_articles.iloc[row,4])                                                                                                                                                                                \n",
    "    print(\"Headline:\", political_articles.iloc[row,9])\n",
    "    print(\"Author:\", political_articles.iloc[row,10])\n",
    "    print(political_articles.iloc[row,5])\n",
    "else:\n",
    "    print('Last article reached', row)\n",
    "    print('Total number articles:', len(political_articles))"
   ]
  },
  {
   "cell_type": "markdown",
   "metadata": {},
   "source": [
    "### Create Credible Articles Subset"
   ]
  },
  {
   "cell_type": "code",
   "execution_count": 54,
   "metadata": {},
   "outputs": [
    {
     "name": "stdout",
     "output_type": "stream",
     "text": [
      "Credible Articles:  47753\n"
     ]
    }
   ],
   "source": [
    "# Credible Examples\n",
    "credible_bolean = FNC_subset['type'] == 'reliable'\n",
    "credible_articles = FNC_subset[credible_bolean]\n",
    "print('Credible Articles: ', len(credible_articles))"
   ]
  },
  {
   "cell_type": "markdown",
   "metadata": {},
   "source": [
    "### View Credible Artciles"
   ]
  },
  {
   "cell_type": "code",
   "execution_count": 55,
   "metadata": {},
   "outputs": [
    {
     "name": "stdout",
     "output_type": "stream",
     "text": [
      "row: 3\n",
      "Website: 2866\n",
      "URL:  reliable\n",
      "Headline: 2018-02-02 01:19:41.756664\n",
      "Author: Christian Churches 'Under Attack' Amid Turkey's Bombardment of Syrian Region\n",
      "https://www.christianpost.com/news/christian-churches-under-attack-amid-turkeys-bombardment-syrian-region-214838/\n"
     ]
    }
   ],
   "source": [
    "# Credible individual article print\n",
    "# rows used: 2, 3, 202 \n",
    "row = 3\n",
    "used_domains = [] #['christianpost.com', 'consortiumnews.com']\n",
    "try:\n",
    "    while credible_articles.iloc[row,2] in used_domains and row < len(credible_articles):\n",
    "        row +=1\n",
    "except:\n",
    "    pass\n",
    "if row < len(credible_articles):\n",
    "    print(\"row:\",row)\n",
    "    print(\"Website:\", credible_articles.iloc[row,2])\n",
    "    print(\"URL: \", credible_articles.iloc[row,4])                                                                                                                                                                                \n",
    "    print(\"Headline:\", credible_articles.iloc[row,9])\n",
    "    print(\"Author:\", credible_articles.iloc[row,10])\n",
    "    print(credible_articles.iloc[row,5])\n",
    "else:\n",
    "    print('Last article reached', row)\n",
    "    print('Total number articles:', len(credible_articles))"
   ]
  },
  {
   "cell_type": "code",
   "execution_count": null,
   "metadata": {},
   "outputs": [],
   "source": []
  },
  {
   "cell_type": "code",
   "execution_count": null,
   "metadata": {},
   "outputs": [],
   "source": []
  },
  {
   "cell_type": "code",
   "execution_count": null,
   "metadata": {},
   "outputs": [],
   "source": []
  }
 ],
 "metadata": {
  "kernelspec": {
   "display_name": "Python 3",
   "language": "python",
   "name": "python3"
  },
  "language_info": {
   "codemirror_mode": {
    "name": "ipython",
    "version": 3
   },
   "file_extension": ".py",
   "mimetype": "text/x-python",
   "name": "python",
   "nbconvert_exporter": "python",
   "pygments_lexer": "ipython3",
   "version": "3.7.1"
  }
 },
 "nbformat": 4,
 "nbformat_minor": 2
}
