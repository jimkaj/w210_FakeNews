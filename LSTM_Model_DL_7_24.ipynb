{
 "cells": [
  {
   "cell_type": "code",
   "execution_count": 36,
   "metadata": {},
   "outputs": [],
   "source": [
    "import numpy as np\n",
    "import re\n",
    "import string\n",
    "import pandas as pd\n",
    "\n",
    "import tensorflow as tf\n",
    "from keras import backend as K\n",
    "from keras.utils import np_utils\n",
    "from keras.models import Sequential\n",
    "from keras.layers import Dense, Dropout, LSTM, Embedding, Input, RepeatVector\n",
    "from keras.optimizers import SGD\n",
    "from keras.preprocessing.sequence import pad_sequences\n",
    "from sklearn.preprocessing import LabelEncoder\n",
    "from sklearn.model_selection import train_test_split\n",
    "\n",
    "import nltk\n",
    "from nltk.tokenize import sent_tokenize, word_tokenize\n",
    "from nltk.corpus import stopwords\n",
    "from nltk.tokenize.treebank import TreebankWordDetokenizer\n",
    "\n",
    "from keras.datasets import imdb\n",
    "from keras.layers import Dense\n",
    "from keras.layers import LSTM\n",
    "from keras.layers.embeddings import Embedding\n",
    "from keras.preprocessing import sequence\n",
    "from collections import Counter\n",
    "import os\n",
    "import getEmbeddings\n",
    "import matplotlib.pyplot as plt\n",
    "import scikitplot.plotters as skplt"
   ]
  },
  {
   "cell_type": "code",
   "execution_count": 37,
   "metadata": {},
   "outputs": [
    {
     "name": "stdout",
     "output_type": "stream",
     "text": [
      "count       142395\n",
      "unique           5\n",
      "top       reliable\n",
      "freq         47753\n",
      "Name: type, dtype: object\n",
      "(142395, 27)\n",
      "count       142395\n",
      "unique           5\n",
      "top       reliable\n",
      "freq         47753\n",
      "Name: type, dtype: object\n",
      "['fake' 'satire' 'reliable' 'political' 'bias']\n",
      "count       142395\n",
      "unique           5\n",
      "top       reliable\n",
      "freq         47753\n",
      "Name: type, dtype: object\n",
      "['fake' 'satire' 'reliable' 'political' 'bias']\n"
     ]
    }
   ],
   "source": [
    "# Load and inspect data\n",
    "\n",
    "# load full/subset of the FNC dataset\n",
    "\n",
    "data = pd.read_csv(\"FNC_Final.csv\", engine = \"python\", error_bad_lines=False)\n",
    "# data = pd.read_csv(\"FNC_Subset.csv\")\n",
    "data.head()\n",
    "\n",
    "# fill in missing values\n",
    "data['type'].fillna('unknown',inplace = True)\n",
    "print(data['type'].describe())\n",
    "\n",
    "# examine summary stats for 'type' column\n",
    "\n",
    "print(data.shape)\n",
    "print(data['type'].describe())\n",
    "print(data['type'].unique())\n",
    "\n",
    "data['type'].fillna('unknown',inplace = True)\n",
    "print(data['type'].describe())\n",
    "print(data['type'].unique())"
   ]
  },
  {
   "cell_type": "code",
   "execution_count": 38,
   "metadata": {},
   "outputs": [
    {
     "data": {
      "text/html": [
       "<div>\n",
       "<style scoped>\n",
       "    .dataframe tbody tr th:only-of-type {\n",
       "        vertical-align: middle;\n",
       "    }\n",
       "\n",
       "    .dataframe tbody tr th {\n",
       "        vertical-align: top;\n",
       "    }\n",
       "\n",
       "    .dataframe thead th {\n",
       "        text-align: right;\n",
       "    }\n",
       "</style>\n",
       "<table border=\"1\" class=\"dataframe\">\n",
       "  <thead>\n",
       "    <tr style=\"text-align: right;\">\n",
       "      <th></th>\n",
       "      <th>Unnamed: 0</th>\n",
       "      <th>Unnamed: 0.1</th>\n",
       "      <th>Unnamed: 0.1.1</th>\n",
       "      <th>id</th>\n",
       "      <th>domain</th>\n",
       "      <th>type</th>\n",
       "      <th>url</th>\n",
       "      <th>content</th>\n",
       "      <th>scraped_at</th>\n",
       "      <th>inserted_at</th>\n",
       "      <th>...</th>\n",
       "      <th>summary</th>\n",
       "      <th>source</th>\n",
       "      <th>len_content</th>\n",
       "      <th>len_title</th>\n",
       "      <th>num_exclaim_title</th>\n",
       "      <th>num_sentences_content</th>\n",
       "      <th>sentences_content</th>\n",
       "      <th>num_paras</th>\n",
       "      <th>num_punc_content</th>\n",
       "      <th>percent_punc_content_per_len</th>\n",
       "    </tr>\n",
       "  </thead>\n",
       "  <tbody>\n",
       "  </tbody>\n",
       "</table>\n",
       "<p>0 rows × 27 columns</p>\n",
       "</div>"
      ],
      "text/plain": [
       "Empty DataFrame\n",
       "Columns: [Unnamed: 0, Unnamed: 0.1, Unnamed: 0.1.1, id, domain, type, url, content, scraped_at, inserted_at, updated_at, title, authors, keywords, meta_keywords, meta_description, tags, summary, source, len_content, len_title, num_exclaim_title, num_sentences_content, sentences_content, num_paras, num_punc_content, percent_punc_content_per_len]\n",
       "Index: []\n",
       "\n",
       "[0 rows x 27 columns]"
      ]
     },
     "execution_count": 38,
     "metadata": {},
     "output_type": "execute_result"
    }
   ],
   "source": [
    "# Remove articles from survey\n",
    "\n",
    "survey_articles= pd.read_csv('survey_articles.csv')\n",
    "survey_list= list(survey_articles['id'])\n",
    "to_delete= list(data[data.id.isin(survey_list)].index)\n",
    "data[data.id.isin(survey_list)]\n",
    "\n",
    "# Remove articles from survey\n",
    "\n",
    "data=data.drop(to_delete,axis=0)\n",
    "data[data.id.isin(survey_list)]"
   ]
  },
  {
   "cell_type": "code",
   "execution_count": 39,
   "metadata": {},
   "outputs": [
    {
     "name": "stdout",
     "output_type": "stream",
     "text": [
      "<class 'pandas.core.series.Series'>\n",
      "47753\n",
      "<class 'pandas.core.series.Series'>\n",
      "22280\n",
      "2863\n",
      "41166\n",
      "28332\n"
     ]
    }
   ],
   "source": [
    "# examine reliable, satire, fake, etc. articles\n",
    "\n",
    "reliable = data.loc[data['type'] == 'reliable']\n",
    "satire = data.loc[data['type'] == 'satire']\n",
    "fake = data.loc[data['type'] == 'fake']\n",
    "political = data.loc[data['type'] == 'political']\n",
    "bias = data.loc[data['type'] == 'bias']\n",
    "\n",
    "print(type(reliable['type']))\n",
    "print(len(reliable['type']))\n",
    "print(type(fake['type']))\n",
    "print(len(fake['type']))\n",
    "\n",
    "print(len(satire['type']))\n",
    "print(len(political['type']))\n",
    "print(len(bias['type']))"
   ]
  },
  {
   "cell_type": "code",
   "execution_count": 40,
   "metadata": {},
   "outputs": [
    {
     "name": "stdout",
     "output_type": "stream",
     "text": [
      "<class 'pandas.core.frame.DataFrame'>\n",
      "       Unnamed: 0  Unnamed: 0.1  Unnamed: 0.1.1       id             domain  \\\n",
      "43829       80470         80470            1477  3752971  beforeitsnews.com   \n",
      "26850       53960         53960            3041  2502021  beforeitsnews.com   \n",
      "80188      142512        142512            3399  6857631  beforeitsnews.com   \n",
      "54588       99837         99837            9034  4638490  beforeitsnews.com   \n",
      "74718      135239        135239            3834  6491320  beforeitsnews.com   \n",
      "\n",
      "       type                                                url  \\\n",
      "43829  fake  http://beforeitsnews.com/gold-and-precious-met...   \n",
      "26850  fake  http://beforeitsnews.com/alternative/2013/10/a...   \n",
      "80188  fake  http://beforeitsnews.com/obama-birthplace-cont...   \n",
      "54588  fake  http://beforeitsnews.com/spirit/2012/04/we-are...   \n",
      "74718  fake  http://beforeitsnews.com/opinion-conservative/...   \n",
      "\n",
      "                                                 content  \\\n",
      "43829  Gold Video of the Day: China Gold Internationa...   \n",
      "26850  GFP Note: We are presenting this for\\n\\nyour a...   \n",
      "80188  Anonymous: Warning! We Told You Something Is C...   \n",
      "54588  We Are Keys To Each Other\\n\\n(Before It's News...   \n",
      "74718  Damn the media…there are eight candidates not ...   \n",
      "\n",
      "                       scraped_at                 inserted_at  ... summary  \\\n",
      "43829  2017-11-21T12:56:35.440396  2018-02-07 23:39:33.852671  ...     NaN   \n",
      "26850  2017-11-13T18:09:27.760857  2018-02-07 23:39:33.852671  ...     NaN   \n",
      "80188    2017-11-27T01:14:08.7454  2018-02-08 19:18:34.468038  ...     NaN   \n",
      "54588    2017-11-27T01:14:08.7454  2018-02-07 23:39:33.852671  ...     NaN   \n",
      "74718    2017-11-27T01:14:08.7454  2018-02-08 19:18:34.468038  ...     NaN   \n",
      "\n",
      "      source len_content  len_title num_exclaim_title num_sentences_content  \\\n",
      "43829    NaN          99          8                 0                     9   \n",
      "26850    NaN          59          6                 0                     6   \n",
      "80188    NaN          13         18                 0                     2   \n",
      "54588    NaN         145          6                 0                     8   \n",
      "74718    NaN         327          8                 0                    13   \n",
      "\n",
      "                                       sentences_content  num_paras  \\\n",
      "43829  [\"Gold Video of the Day: China Gold Internatio...         17   \n",
      "26850  ['GFP Note: We are presenting this for\\n\\nyour...         17   \n",
      "80188  ['Anonymous: Warning!', \"We Told You Something...          1   \n",
      "54588  [\"We Are Keys To Each Other\\n\\n(Before It's Ne...          9   \n",
      "74718  [\"Damn the media…there are eight candidates no...         11   \n",
      "\n",
      "      num_punc_content  percent_punc_content_per_len  \n",
      "43829               47                     47.474747  \n",
      "26850               34                     57.627119  \n",
      "80188                5                     38.461538  \n",
      "54588               22                     15.172414  \n",
      "74718               45                     13.761468  \n",
      "\n",
      "[5 rows x 27 columns]\n",
      "10000\n",
      "10000\n",
      "2863\n",
      "10000\n",
      "10000\n"
     ]
    }
   ],
   "source": [
    "# select random sample from fake news, then combine reliable and fake news in a new dataframe\n",
    "import random\n",
    "fake = fake.sample(n=10000)\n",
    "reliable = reliable.sample(n=10000)\n",
    "satire = satire.sample(n=2863)\n",
    "political = political.sample(n=10000)\n",
    "bias = bias.sample(n=10000)\n",
    "print(type(fake))\n",
    "print(fake.head())\n",
    "\n",
    "data = reliable.append(fake)\n",
    "data = data.append(satire)\n",
    "data = data.append(political)\n",
    "data = data.append(bias)\n",
    "data.head()\n",
    "\n",
    "print(len(reliable['type']))\n",
    "print(len(fake['type']))\n",
    "print(len(satire['type']))\n",
    "print(len(political['type']))\n",
    "print(len(bias['type']))"
   ]
  },
  {
   "cell_type": "code",
   "execution_count": 41,
   "metadata": {},
   "outputs": [
    {
     "data": {
      "text/plain": [
       "<matplotlib.axes._subplots.AxesSubplot at 0x7fa13a3d14a8>"
      ]
     },
     "execution_count": 41,
     "metadata": {},
     "output_type": "execute_result"
    },
    {
     "data": {
      "image/png": "[encoded data removed]",
      "text/plain": [
       "<Figure size 432x288 with 1 Axes>"
      ]
     },
     "metadata": {
      "needs_background": "light"
     },
     "output_type": "display_data"
    }
   ],
   "source": [
    "# change \"reliable\" to 0, change \"satire\" to 1\n",
    "\n",
    "data.loc[data['type'] == 'reliable', 'type'] = 0.0\n",
    "data.loc[data['type'] == 'political', 'type'] = 1.0\n",
    "data.loc[data['type'] == 'bias', 'type'] = 2.0\n",
    "data.loc[data['type'] == 'satire', 'type'] = 3.0\n",
    "data.loc[data['type'] == 'fake', 'type'] = 4.0\n",
    "\n",
    "#plot the distribution\n",
    "data['type'].plot.hist()\n"
   ]
  },
  {
   "cell_type": "code",
   "execution_count": 42,
   "metadata": {},
   "outputs": [
    {
     "name": "stdout",
     "output_type": "stream",
     "text": [
      "34413\n",
      "8450\n"
     ]
    }
   ],
   "source": [
    "# split data into train and test\n",
    "\n",
    "msk = np.random.rand(len(data)) < 0.8\n",
    "train = data[msk]\n",
    "test = data[~msk]\n",
    "\n",
    "train_data = train[['content','type']].copy()\n",
    "test_data = test[['content','type']].copy()\n",
    "\n",
    "print(len(train_data))\n",
    "print(len(test_data))\n",
    "# print(train_data['type'])\n",
    "# print(train_data['content'])"
   ]
  },
  {
   "cell_type": "code",
   "execution_count": 43,
   "metadata": {},
   "outputs": [
    {
     "name": "stdout",
     "output_type": "stream",
     "text": [
      "['Baahubali' 'released' 'Tamil' 'Telugu' 'July' '2015' 'became' \"India's\"\n",
      " 'biggest-ever' 'hit.' 'The' 'producers' 'blockbuster' 'hit' 'Baahubali'\n",
      " 'raided' 'homes' 'Hyderabad.' 'Baahubali' ',' 'historical' 'fiction'\n",
      " 'epic,' 'released' 'simultaneously' 'Tamil' 'Telugu' 'July' '2015'\n",
      " 'became' \"India's\" 'biggest-ever' 'hit.' 'The' 'sequel' 'already'\n",
      " 'announced' 'distribution' 'rights' 'sold' 'whopping' 'amount.The'\n",
      " 'producers,' 'Shobu' 'Yarlagadda' 'Prasad' 'Devineni,' 'raided' 'today,'\n",
      " 'allegedly' 'large' 'amounts' 'cash' 'discontinued' 'Rs' '500' 'Rs'\n",
      " '1,000' 'notes' 'believed' 'hoarded' 'home.The' 'high-denomination'\n",
      " 'currency' 'declared' 'illegal' 'Tuesday' 'transactions' 'shock' 'move'\n",
      " 'Prime' 'Minister' 'Narendra' 'Modi' 'seen' 'audacious' 'attempt' 'check'\n",
      " 'rampant' 'use' 'black' 'money.Yesterday,' 'raids' 'held' 'four'\n",
      " 'different' 'cities' 'including' 'Mumbai' 'Delhi,' 'officials'\n",
      " 'targeting' 'shops' 'jewelers' 'private' 'operators' 'money-launder'\n",
      " 'illicitly' 'exchange' 'rupees' 'foreign' 'currencies.The' 'discontinued'\n",
      " 'notes' 'turned' 'banks' 'till' 'end' 'year.' 'Millions' 'across'\n",
      " 'country' 'scrambling' 'access' 'new' 'Rs' '500' 'Rs' '2,000' 'notes'\n",
      " 'introduced' 'banks' 'yesterday' 'ATMs' 'today.' 'Trending']\n",
      "[0 0 0 ... 2 2 2]\n",
      "<class 'numpy.ndarray'>\n"
     ]
    }
   ],
   "source": [
    "def cleanText(text):\n",
    "    #remove EOL \n",
    "    text = text.strip().replace(\"\\n\", \" \").replace(\"\\r\", \" \")\n",
    "    text= text.split(\" \")\n",
    "    \n",
    "    #remove stop words \n",
    "    stops = set(stopwords.words(\"english\"))\n",
    "    text = [w for w in text if not w in stops]\n",
    "    arr= np.array(text)\n",
    "    # preprocess data to standardize lengths\n",
    "    #text= text[0:999]\n",
    "        \n",
    "    #text=' '.join(text)\n",
    "    \n",
    "#     text = replace_contraction(text)\n",
    "#     text = replace_links(text, \"link\")\n",
    "#     text = remove_numbers(text)\n",
    "#     text = re.sub(r'[,!@#$%^&*)(|/><\";:.?\\'\\\\}{]',\"\",text)\n",
    "#     text = text.lower()\n",
    "    return arr\n",
    "\n",
    "# remove EOL, stopwords\n",
    "\n",
    "x_train = np.array(train_data[\"content\"].apply(cleanText))\n",
    "y_train = np.array(train_data[\"type\"])\n",
    "\n",
    "x_test = np.array(test_data[\"content\"].apply(cleanText))\n",
    "y_test = np.array(test_data[\"type\"])\n",
    "    \n",
    "print(x_train[0])\n",
    "print(y_train)\n",
    "print(type(y_train))"
   ]
  },
  {
   "cell_type": "code",
   "execution_count": 44,
   "metadata": {},
   "outputs": [
    {
     "name": "stdout",
     "output_type": "stream",
     "text": [
      "128\n",
      "34413\n",
      "['On' 'Thursday,' 'Feast' 'Immaculate' 'Conception,' 'alternate-side'\n",
      " 'street-cleaning' 'regulations' 'New' 'York' 'City' 'suspended.' 'Other'\n",
      " 'regulations' 'remain' 'effect.' 'PAD' 'PAD' 'PAD' 'PAD' 'PAD' 'PAD'\n",
      " 'PAD' 'PAD' 'PAD' 'PAD' 'PAD' 'PAD' 'PAD' 'PAD' 'PAD' 'PAD' 'PAD' 'PAD'\n",
      " 'PAD' 'PAD' 'PAD' 'PAD' 'PAD' 'PAD' 'PAD' 'PAD' 'PAD' 'PAD' 'PAD' 'PAD'\n",
      " 'PAD' 'PAD' 'PAD' 'PAD' 'PAD' 'PAD' 'PAD' 'PAD' 'PAD' 'PAD' 'PAD' 'PAD'\n",
      " 'PAD' 'PAD' 'PAD' 'PAD' 'PAD' 'PAD' 'PAD' 'PAD' 'PAD' 'PAD' 'PAD' 'PAD'\n",
      " 'PAD' 'PAD' 'PAD' 'PAD' 'PAD' 'PAD' 'PAD' 'PAD' 'PAD' 'PAD' 'PAD' 'PAD'\n",
      " 'PAD' 'PAD' 'PAD' 'PAD' 'PAD' 'PAD' 'PAD' 'PAD' 'PAD' 'PAD' 'PAD' 'PAD'\n",
      " 'PAD' 'PAD' 'PAD' 'PAD' 'PAD' 'PAD' 'PAD' 'PAD' 'PAD' 'PAD' 'PAD' 'PAD'\n",
      " 'PAD' 'PAD' 'PAD' 'PAD' 'PAD' 'PAD' 'PAD' 'PAD' 'PAD' 'PAD' 'PAD' 'PAD'\n",
      " 'PAD' 'PAD' 'PAD' 'PAD' 'PAD' 'PAD' 'PAD' 'PAD' 'PAD' 'PAD']\n"
     ]
    }
   ],
   "source": [
    "# pad/truncate the sequences\n",
    "x_train = pad_sequences(x_train, value= \"PAD\", dtype=object, padding= 'post', truncating = 'post', maxlen=128)\n",
    "x_test = pad_sequences(x_test, value= \"PAD\", dtype=object, padding= 'post', truncating = 'post', maxlen=128)\n",
    "\n",
    "print(len(x_train[1]))\n",
    "print(len(x_train))\n",
    "print(x_train[1])"
   ]
  },
  {
   "cell_type": "code",
   "execution_count": 45,
   "metadata": {},
   "outputs": [
    {
     "name": "stdout",
     "output_type": "stream",
     "text": [
      "34413\n",
      "On Thursday, Feast Immaculate Conception, alternate-side street-cleaning regulations New York City suspended. Other regulations remain effect. PAD PAD PAD PAD PAD PAD PAD PAD PAD PAD PAD PAD PAD PAD PAD PAD PAD PAD PAD PAD PAD PAD PAD PAD PAD PAD PAD PAD PAD PAD PAD PAD PAD PAD PAD PAD PAD PAD PAD PAD PAD PAD PAD PAD PAD PAD PAD PAD PAD PAD PAD PAD PAD PAD PAD PAD PAD PAD PAD PAD PAD PAD PAD PAD PAD PAD PAD PAD PAD PAD PAD PAD PAD PAD PAD PAD PAD PAD PAD PAD PAD PAD PAD PAD PAD PAD PAD PAD PAD PAD PAD PAD PAD PAD PAD PAD PAD PAD PAD PAD PAD PAD PAD PAD PAD PAD PAD PAD PAD PAD PAD PAD\n"
     ]
    }
   ],
   "source": [
    "# convert list of tokens, to list of strings\n",
    "\n",
    "def tok_to_str(tokens):\n",
    "    text = []\n",
    "    for x in tokens:\n",
    "        text.append(TreebankWordDetokenizer().detokenize(x))\n",
    "    return text\n",
    "    \n",
    "x_train = tok_to_str(x_train)\n",
    "x_test = tok_to_str(x_test)\n",
    "\n",
    "print(len(x_train))\n",
    "print(x_train[1])"
   ]
  },
  {
   "cell_type": "code",
   "execution_count": 46,
   "metadata": {},
   "outputs": [],
   "source": [
    "# save files\n",
    "np.save('xtr_shuffled.npy',x_train)\n",
    "np.save('xte_shuffled.npy',x_test)\n",
    "np.save('ytr_shuffled.npy',y_train)\n",
    "np.save('yte_shuffled.npy',y_test)"
   ]
  },
  {
   "cell_type": "code",
   "execution_count": 47,
   "metadata": {},
   "outputs": [],
   "source": [
    "top_words = 5000\n",
    "epoch_num = 10\n",
    "batch_size = 128"
   ]
  },
  {
   "cell_type": "code",
   "execution_count": 48,
   "metadata": {},
   "outputs": [],
   "source": [
    "# Read the text data\n",
    "# if not os.path.isfile('./xtr_shuffled.npy') or \\\n",
    "#     not os.path.isfile('./xte_shuffled.npy') or \\\n",
    "#     not os.path.isfile('./ytr_shuffled.npy') or \\\n",
    "#     not os.path.isfile('./yte_shuffled.npy'):\n",
    "#     getEmbeddings.clean_data()"
   ]
  },
  {
   "cell_type": "code",
   "execution_count": 49,
   "metadata": {},
   "outputs": [],
   "source": [
    "xtr = np.load('./xtr_shuffled.npy')\n",
    "xte = np.load('./xte_shuffled.npy')\n",
    "y_train = np.load('./ytr_shuffled.npy')\n",
    "y_test = np.load('./yte_shuffled.npy')"
   ]
  },
  {
   "cell_type": "code",
   "execution_count": 50,
   "metadata": {},
   "outputs": [],
   "source": [
    "cnt = Counter()\n",
    "x_train = []\n",
    "for x in xtr:\n",
    "    x_train.append(x.split())\n",
    "    for word in x_train[-1]:\n",
    "        cnt[word] += 1  "
   ]
  },
  {
   "cell_type": "code",
   "execution_count": 51,
   "metadata": {},
   "outputs": [],
   "source": [
    "# Storing most common words\n",
    "\n",
    "most_common = cnt.most_common(top_words + 1)\n",
    "word_bank = {}\n",
    "id_num = 1\n",
    "for word, freq in most_common:\n",
    "    word_bank[word] = id_num\n",
    "    id_num += 1"
   ]
  },
  {
   "cell_type": "code",
   "execution_count": 52,
   "metadata": {},
   "outputs": [],
   "source": [
    "# Encode train sentences\n",
    "\n",
    "for news in x_train:\n",
    "    i = 0\n",
    "    while i < len(news):\n",
    "        if news[i] in word_bank:\n",
    "            news[i] = word_bank[news[i]]\n",
    "            i += 1\n",
    "        else:\n",
    "            del news[i]\n",
    "\n",
    "y_train = list(y_train)\n",
    "y_test = list(y_test)"
   ]
  },
  {
   "cell_type": "code",
   "execution_count": 53,
   "metadata": {},
   "outputs": [],
   "source": [
    "# Delete the short news\n",
    "\n",
    "i = 0\n",
    "while i < len(x_train):\n",
    "    if len(x_train[i]) > 10:\n",
    "        i += 1\n",
    "    else:\n",
    "        del x_train[i]\n",
    "        del y_train[i]"
   ]
  },
  {
   "cell_type": "code",
   "execution_count": 54,
   "metadata": {},
   "outputs": [],
   "source": [
    "# Generate test data\n",
    "\n",
    "x_test = []\n",
    "for x in xte:\n",
    "    x_test.append(x.split())"
   ]
  },
  {
   "cell_type": "code",
   "execution_count": 55,
   "metadata": {},
   "outputs": [],
   "source": [
    "# Encode test sentences\n",
    "\n",
    "for news in x_test:\n",
    "    i = 0\n",
    "    while i < len(news):\n",
    "        if news[i] in word_bank:\n",
    "            news[i] = word_bank[news[i]]\n",
    "            i += 1\n",
    "        else:\n",
    "            del news[i]"
   ]
  },
  {
   "cell_type": "code",
   "execution_count": 56,
   "metadata": {},
   "outputs": [
    {
     "name": "stdout",
     "output_type": "stream",
     "text": [
      "[   0    0    0    0    0    0    0    0    0    0    0    0    0    0\n",
      "    0    0    0    0    0    0    0    0    0    0    0    0    0    0\n",
      "    0    0    0    0    0    0    0    0    0    0    0    0    0    0\n",
      "    0    0    0    0    0    0    0    0    0    0    0    0    0    0\n",
      "    0    0    0    0    0  425  488 1029  609    2 4761  599 2505 2549\n",
      "  425  488 1029  609    2  216  352  581 1346 1368 1981  526 3792 1701\n",
      " 2081 3539 2887 1534 3228 1752  875  475 3941  521  890  520  364 1064\n",
      " 1405   60  496  399  206  401 2011   43  326 4257  587 1956  109 2887\n",
      "  683 1359  139  531  349  197  979   11 2081 2887 1925 1359 1056 1259\n",
      "    1    1]\n"
     ]
    }
   ],
   "source": [
    "# Truncate and pad input sequences\n",
    "\n",
    "max_review_length = 128\n",
    "X_train = sequence.pad_sequences(x_train, maxlen=max_review_length)\n",
    "X_test = sequence.pad_sequences(x_test, maxlen=max_review_length)\n",
    "\n",
    "print(X_train[0])"
   ]
  },
  {
   "cell_type": "code",
   "execution_count": 57,
   "metadata": {},
   "outputs": [
    {
     "name": "stdout",
     "output_type": "stream",
     "text": [
      "[0 0 0 0 0]\n"
     ]
    }
   ],
   "source": [
    "# Convert to numpy arrays\n",
    "\n",
    "y_train = np.array(y_train)\n",
    "y_test = np.array(y_test)\n",
    "\n",
    "print(y_train[0:5])"
   ]
  },
  {
   "cell_type": "markdown",
   "metadata": {},
   "source": [
    "# create attention layer"
   ]
  },
  {
   "cell_type": "code",
   "execution_count": 58,
   "metadata": {},
   "outputs": [],
   "source": [
    "class Attention(tf.keras.Model):\n",
    "    def __init__(self, units):\n",
    "        super(Attention, self).__init__()\n",
    "        self.W = tf.keras.layers.Dense(max_review_length)\n",
    "        self.V = tf.keras.layers.Dense(1)\n",
    " \n",
    "    def call(self, features):\n",
    "        score = tf.nn.tanh(self.W(features))\n",
    "        attention_weights = tf.nn.softmax(self.V(score), axis=1)\n",
    "        context_vector = attention_weights * features\n",
    "        context_vector = tf.reduce_sum(context_vector, axis=1)\n",
    " \n",
    "        return context_vector, attention_weights"
   ]
  },
  {
   "cell_type": "code",
   "execution_count": 59,
   "metadata": {},
   "outputs": [
    {
     "ename": "TypeError",
     "evalue": "'Attention' object is not iterable",
     "output_type": "error",
     "traceback": [
      "\u001b[0;31m---------------------------------------------------------------------------\u001b[0m",
      "\u001b[0;31mTypeError\u001b[0m                                 Traceback (most recent call last)",
      "\u001b[0;32m<ipython-input-59-c07913ce52e2>\u001b[0m in \u001b[0;36m<module>\u001b[0;34m\u001b[0m\n\u001b[0;32m----> 1\u001b[0;31m \u001b[0mcontext_vector\u001b[0m\u001b[0;34m,\u001b[0m \u001b[0mattention_weights\u001b[0m \u001b[0;34m=\u001b[0m \u001b[0mAttention\u001b[0m\u001b[0;34m(\u001b[0m\u001b[0mx_train\u001b[0m\u001b[0;34m)\u001b[0m\u001b[0;34m\u001b[0m\u001b[0m\n\u001b[0m",
      "\u001b[0;31mTypeError\u001b[0m: 'Attention' object is not iterable"
     ]
    }
   ],
   "source": [
    "context_vector, attention_weights = Attention(x_train)"
   ]
  },
  {
   "cell_type": "code",
   "execution_count": 60,
   "metadata": {},
   "outputs": [
    {
     "name": "stderr",
     "output_type": "stream",
     "text": [
      "W0805 05:17:16.574238 140333765494528 deprecation_wrapper.py:119] From /usr/local/lib/python3.5/dist-packages/keras/backend/tensorflow_backend.py:74: The name tf.get_default_graph is deprecated. Please use tf.compat.v1.get_default_graph instead.\n",
      "\n",
      "W0805 05:17:16.576295 140333765494528 deprecation_wrapper.py:119] From /usr/local/lib/python3.5/dist-packages/keras/backend/tensorflow_backend.py:517: The name tf.placeholder is deprecated. Please use tf.compat.v1.placeholder instead.\n",
      "\n",
      "W0805 05:17:16.579938 140333765494528 deprecation_wrapper.py:119] From /usr/local/lib/python3.5/dist-packages/keras/backend/tensorflow_backend.py:4138: The name tf.random_uniform is deprecated. Please use tf.random.uniform instead.\n",
      "\n",
      "W0805 05:17:16.903016 140333765494528 deprecation_wrapper.py:119] From /usr/local/lib/python3.5/dist-packages/keras/optimizers.py:790: The name tf.train.Optimizer is deprecated. Please use tf.compat.v1.train.Optimizer instead.\n",
      "\n",
      "W0805 05:17:16.927062 140333765494528 deprecation_wrapper.py:119] From /usr/local/lib/python3.5/dist-packages/keras/backend/tensorflow_backend.py:3341: The name tf.log is deprecated. Please use tf.math.log instead.\n",
      "\n",
      "W0805 05:17:17.053014 140333765494528 deprecation.py:323] From /usr/local/lib/python3.5/dist-packages/tensorflow/python/ops/math_grad.py:1250: add_dispatch_support.<locals>.wrapper (from tensorflow.python.ops.array_ops) is deprecated and will be removed in a future version.\n",
      "Instructions for updating:\n",
      "Use tf.where in 2.0, which has the same broadcast rule as np.where\n"
     ]
    },
    {
     "name": "stdout",
     "output_type": "stream",
     "text": [
      "_________________________________________________________________\n",
      "Layer (type)                 Output Shape              Param #   \n",
      "=================================================================\n",
      "embedding_1 (Embedding)      (None, 128, 32)           160064    \n",
      "_________________________________________________________________\n",
      "lstm_1 (LSTM)                (None, 100)               53200     \n",
      "_________________________________________________________________\n",
      "dense_1 (Dense)              (None, 5)                 505       \n",
      "=================================================================\n",
      "Total params: 213,769\n",
      "Trainable params: 213,769\n",
      "Non-trainable params: 0\n",
      "_________________________________________________________________\n",
      "None\n"
     ]
    },
    {
     "name": "stderr",
     "output_type": "stream",
     "text": [
      "W0805 05:17:18.020229 140333765494528 deprecation_wrapper.py:119] From /usr/local/lib/python3.5/dist-packages/keras/backend/tensorflow_backend.py:986: The name tf.assign_add is deprecated. Please use tf.compat.v1.assign_add instead.\n",
      "\n"
     ]
    },
    {
     "name": "stdout",
     "output_type": "stream",
     "text": [
      "Train on 34383 samples, validate on 8450 samples\n",
      "Epoch 1/10\n",
      "34383/34383 [==============================] - 73s 2ms/step - loss: 1.3264 - acc: 0.4171 - val_loss: 1.0108 - val_acc: 0.5893\n",
      "Epoch 2/10\n",
      "34383/34383 [==============================] - 73s 2ms/step - loss: 0.8898 - acc: 0.6410 - val_loss: 0.8603 - val_acc: 0.6812\n",
      "Epoch 3/10\n",
      "34383/34383 [==============================] - 71s 2ms/step - loss: 0.7424 - acc: 0.7246 - val_loss: 0.7754 - val_acc: 0.7130\n",
      "Epoch 4/10\n",
      "34383/34383 [==============================] - 70s 2ms/step - loss: 0.6309 - acc: 0.7551 - val_loss: 0.7378 - val_acc: 0.7140\n",
      "Epoch 5/10\n",
      "34383/34383 [==============================] - 69s 2ms/step - loss: 0.6196 - acc: 0.7581 - val_loss: 0.7787 - val_acc: 0.6820\n",
      "Epoch 6/10\n",
      "34383/34383 [==============================] - 69s 2ms/step - loss: 0.5599 - acc: 0.7829 - val_loss: 0.7100 - val_acc: 0.7421\n",
      "Epoch 7/10\n",
      "34383/34383 [==============================] - 72s 2ms/step - loss: 0.5072 - acc: 0.8019 - val_loss: 0.6697 - val_acc: 0.7406\n",
      "Epoch 8/10\n",
      "34383/34383 [==============================] - 69s 2ms/step - loss: 0.4565 - acc: 0.8232 - val_loss: 0.6641 - val_acc: 0.7475\n",
      "Epoch 9/10\n",
      "34383/34383 [==============================] - 72s 2ms/step - loss: 0.4189 - acc: 0.8388 - val_loss: 0.6967 - val_acc: 0.7467\n",
      "Epoch 10/10\n",
      "34383/34383 [==============================] - 73s 2ms/step - loss: 0.4145 - acc: 0.8391 - val_loss: 0.7517 - val_acc: 0.7535\n"
     ]
    },
    {
     "data": {
      "text/plain": [
       "<keras.callbacks.History at 0x7fa150a01d68>"
      ]
     },
     "execution_count": 60,
     "metadata": {},
     "output_type": "execute_result"
    }
   ],
   "source": [
    "# Create the model\n",
    "\n",
    "embedding_vector_length = 32\n",
    "model = Sequential()\n",
    "model.add(Embedding(top_words+2, embedding_vector_length, input_length=max_review_length))\n",
    "model.add(LSTM(100))\n",
    "model.add(Dense(5, activation='softmax'))\n",
    "model.compile(loss='sparse_categorical_crossentropy', optimizer='adam', metrics=['accuracy'])\n",
    "print(model.summary())\n",
    "model.fit(X_train, y_train, validation_data=(X_test, y_test), epochs=epoch_num, batch_size=batch_size)\n"
   ]
  },
  {
   "cell_type": "code",
   "execution_count": 61,
   "metadata": {},
   "outputs": [
    {
     "name": "stdout",
     "output_type": "stream",
     "text": [
      "Accuracy= 75.35%\n"
     ]
    }
   ],
   "source": [
    "# Final evaluation of the model\n",
    "scores = model.evaluate(X_test, y_test, verbose=0)\n",
    "print(\"Accuracy= %.2f%%\" % (scores[1]*100))"
   ]
  },
  {
   "cell_type": "code",
   "execution_count": 62,
   "metadata": {},
   "outputs": [
    {
     "name": "stderr",
     "output_type": "stream",
     "text": [
      "/home/jupyter/.local/lib/python3.5/site-packages/sklearn/utils/deprecation.py:85: DeprecationWarning: Function plot_confusion_matrix is deprecated; This will be removed in v0.4.0. Please use scikitplot.metrics.plot_confusion_matrix instead.\n",
      "  warnings.warn(msg, category=DeprecationWarning)\n",
      "/home/jupyter/.local/lib/python3.5/site-packages/matplotlib/cbook/__init__.py:424: MatplotlibDeprecationWarning: \n",
      "Passing one of 'on', 'true', 'off', 'false' as a boolean is deprecated; use an actual boolean (True/False) instead.\n",
      "  warn_deprecated(\"2.2\", \"Passing one of 'on', 'true', 'off', 'false' as a \"\n"
     ]
    },
    {
     "data": {
      "image/png": "[encoded data removed]",
      "text/plain": [
       "<Figure size 432x288 with 2 Axes>"
      ]
     },
     "metadata": {
      "needs_background": "light"
     },
     "output_type": "display_data"
    }
   ],
   "source": [
    "# Draw the confusion matrix\n",
    "\n",
    "def plot_cmat(yte, ypred):\n",
    "    '''Plotting confusion matrix'''\n",
    "    skplt.plot_confusion_matrix(yte, ypred)\n",
    "    plt.show()\n",
    "\n",
    "    \n",
    "y_pred = model.predict_classes(X_test)\n",
    "plot_cmat(y_test, y_pred)"
   ]
  },
  {
   "cell_type": "code",
   "execution_count": null,
   "metadata": {},
   "outputs": [],
   "source": []
  },
  {
   "cell_type": "code",
   "execution_count": null,
   "metadata": {},
   "outputs": [],
   "source": []
  },
  {
   "cell_type": "code",
   "execution_count": null,
   "metadata": {},
   "outputs": [],
   "source": []
  },
  {
   "cell_type": "code",
   "execution_count": 58,
   "metadata": {},
   "outputs": [],
   "source": []
  },
  {
   "cell_type": "code",
   "execution_count": 69,
   "metadata": {},
   "outputs": [],
   "source": []
  },
  {
   "cell_type": "code",
   "execution_count": null,
   "metadata": {},
   "outputs": [],
   "source": []
  },
  {
   "cell_type": "code",
   "execution_count": null,
   "metadata": {},
   "outputs": [],
   "source": []
  },
  {
   "cell_type": "code",
   "execution_count": null,
   "metadata": {},
   "outputs": [],
   "source": []
  }
 ],
 "metadata": {
  "kernelspec": {
   "display_name": "Python 3",
   "language": "python",
   "name": "python3"
  },
  "language_info": {
   "codemirror_mode": {
    "name": "ipython",
    "version": 3
   },
   "file_extension": ".py",
   "mimetype": "text/x-python",
   "name": "python",
   "nbconvert_exporter": "python",
   "pygments_lexer": "ipython3",
   "version": "3.5.3"
  }
 },
 "nbformat": 4,
 "nbformat_minor": 2
}
