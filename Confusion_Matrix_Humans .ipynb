{
 "cells": [
  {
   "cell_type": "code",
   "execution_count": 47,
   "metadata": {},
   "outputs": [],
   "source": [
    "import pandas as pd \n",
    "import numpy as np \n",
    "from sklearn.metrics import confusion_matrix\n",
    "import matplotlib.pyplot as plt\n",
    "from sklearn.utils.multiclass import unique_labels"
   ]
  },
  {
   "cell_type": "code",
   "execution_count": 275,
   "metadata": {},
   "outputs": [],
   "source": [
    "\n",
    "data= pd.read_csv('data/CleanExpData.csv')\n"
   ]
  },
  {
   "cell_type": "code",
   "execution_count": 276,
   "metadata": {},
   "outputs": [
    {
     "data": {
      "text/html": [
       "<div>\n",
       "<style scoped>\n",
       "    .dataframe tbody tr th:only-of-type {\n",
       "        vertical-align: middle;\n",
       "    }\n",
       "\n",
       "    .dataframe tbody tr th {\n",
       "        vertical-align: top;\n",
       "    }\n",
       "\n",
       "    .dataframe thead th {\n",
       "        text-align: right;\n",
       "    }\n",
       "</style>\n",
       "<table border=\"1\" class=\"dataframe\">\n",
       "  <thead>\n",
       "    <tr style=\"text-align: right;\">\n",
       "      <th></th>\n",
       "      <th>Unnamed: 0</th>\n",
       "      <th>ID</th>\n",
       "      <th>Cond</th>\n",
       "      <th>Sex</th>\n",
       "      <th>Age</th>\n",
       "      <th>Pol</th>\n",
       "      <th>Art01</th>\n",
       "      <th>Art02</th>\n",
       "      <th>Art03</th>\n",
       "      <th>Art04</th>\n",
       "      <th>...</th>\n",
       "      <th>Cor12</th>\n",
       "      <th>Cor13</th>\n",
       "      <th>Cor14</th>\n",
       "      <th>Cor15</th>\n",
       "      <th>Cor16</th>\n",
       "      <th>Cor17</th>\n",
       "      <th>Cor18</th>\n",
       "      <th>Cor19</th>\n",
       "      <th>Cor20</th>\n",
       "      <th>TotCor</th>\n",
       "    </tr>\n",
       "  </thead>\n",
       "  <tbody>\n",
       "    <tr>\n",
       "      <th>0</th>\n",
       "      <td>0</td>\n",
       "      <td>A2BW6WD7LZ9EGV</td>\n",
       "      <td>T1</td>\n",
       "      <td>1.0</td>\n",
       "      <td>29.0</td>\n",
       "      <td>5.0</td>\n",
       "      <td>2.0</td>\n",
       "      <td>3.0</td>\n",
       "      <td>2.0</td>\n",
       "      <td>3.0</td>\n",
       "      <td>...</td>\n",
       "      <td>0</td>\n",
       "      <td>1</td>\n",
       "      <td>0</td>\n",
       "      <td>1</td>\n",
       "      <td>1</td>\n",
       "      <td>0</td>\n",
       "      <td>0</td>\n",
       "      <td>0</td>\n",
       "      <td>0</td>\n",
       "      <td>11</td>\n",
       "    </tr>\n",
       "    <tr>\n",
       "      <th>1</th>\n",
       "      <td>1</td>\n",
       "      <td>AXMPSUNKUBEIL</td>\n",
       "      <td>C</td>\n",
       "      <td>1.0</td>\n",
       "      <td>37.0</td>\n",
       "      <td>4.0</td>\n",
       "      <td>2.0</td>\n",
       "      <td>3.0</td>\n",
       "      <td>2.0</td>\n",
       "      <td>2.0</td>\n",
       "      <td>...</td>\n",
       "      <td>0</td>\n",
       "      <td>0</td>\n",
       "      <td>0</td>\n",
       "      <td>1</td>\n",
       "      <td>0</td>\n",
       "      <td>0</td>\n",
       "      <td>1</td>\n",
       "      <td>0</td>\n",
       "      <td>1</td>\n",
       "      <td>11</td>\n",
       "    </tr>\n",
       "    <tr>\n",
       "      <th>2</th>\n",
       "      <td>2</td>\n",
       "      <td>A2JP8W265WCC35</td>\n",
       "      <td>T1</td>\n",
       "      <td>2.0</td>\n",
       "      <td>49.0</td>\n",
       "      <td>5.0</td>\n",
       "      <td>1.0</td>\n",
       "      <td>2.0</td>\n",
       "      <td>2.0</td>\n",
       "      <td>2.0</td>\n",
       "      <td>...</td>\n",
       "      <td>1</td>\n",
       "      <td>0</td>\n",
       "      <td>0</td>\n",
       "      <td>0</td>\n",
       "      <td>1</td>\n",
       "      <td>0</td>\n",
       "      <td>1</td>\n",
       "      <td>1</td>\n",
       "      <td>0</td>\n",
       "      <td>13</td>\n",
       "    </tr>\n",
       "    <tr>\n",
       "      <th>3</th>\n",
       "      <td>3</td>\n",
       "      <td>A207IHY6GERCFO</td>\n",
       "      <td>C</td>\n",
       "      <td>1.0</td>\n",
       "      <td>36.0</td>\n",
       "      <td>1.0</td>\n",
       "      <td>2.0</td>\n",
       "      <td>4.0</td>\n",
       "      <td>3.0</td>\n",
       "      <td>3.0</td>\n",
       "      <td>...</td>\n",
       "      <td>0</td>\n",
       "      <td>0</td>\n",
       "      <td>0</td>\n",
       "      <td>0</td>\n",
       "      <td>0</td>\n",
       "      <td>0</td>\n",
       "      <td>0</td>\n",
       "      <td>1</td>\n",
       "      <td>0</td>\n",
       "      <td>6</td>\n",
       "    </tr>\n",
       "    <tr>\n",
       "      <th>4</th>\n",
       "      <td>4</td>\n",
       "      <td>A1V2H0UF94ATWY</td>\n",
       "      <td>C</td>\n",
       "      <td>1.0</td>\n",
       "      <td>59.0</td>\n",
       "      <td>4.0</td>\n",
       "      <td>5.0</td>\n",
       "      <td>3.0</td>\n",
       "      <td>2.0</td>\n",
       "      <td>2.0</td>\n",
       "      <td>...</td>\n",
       "      <td>1</td>\n",
       "      <td>1</td>\n",
       "      <td>0</td>\n",
       "      <td>0</td>\n",
       "      <td>0</td>\n",
       "      <td>1</td>\n",
       "      <td>1</td>\n",
       "      <td>0</td>\n",
       "      <td>0</td>\n",
       "      <td>12</td>\n",
       "    </tr>\n",
       "  </tbody>\n",
       "</table>\n",
       "<p>5 rows × 47 columns</p>\n",
       "</div>"
      ],
      "text/plain": [
       "   Unnamed: 0              ID Cond  Sex   Age  Pol  Art01  Art02  Art03  \\\n",
       "0           0  A2BW6WD7LZ9EGV   T1  1.0  29.0  5.0    2.0    3.0    2.0   \n",
       "1           1   AXMPSUNKUBEIL    C  1.0  37.0  4.0    2.0    3.0    2.0   \n",
       "2           2  A2JP8W265WCC35   T1  2.0  49.0  5.0    1.0    2.0    2.0   \n",
       "3           3  A207IHY6GERCFO    C  1.0  36.0  1.0    2.0    4.0    3.0   \n",
       "4           4  A1V2H0UF94ATWY    C  1.0  59.0  4.0    5.0    3.0    2.0   \n",
       "\n",
       "   Art04   ...    Cor12  Cor13  Cor14  Cor15  Cor16  Cor17  Cor18  Cor19  \\\n",
       "0    3.0   ...        0      1      0      1      1      0      0      0   \n",
       "1    2.0   ...        0      0      0      1      0      0      1      0   \n",
       "2    2.0   ...        1      0      0      0      1      0      1      1   \n",
       "3    3.0   ...        0      0      0      0      0      0      0      1   \n",
       "4    2.0   ...        1      1      0      0      0      1      1      0   \n",
       "\n",
       "   Cor20  TotCor  \n",
       "0      0      11  \n",
       "1      1      11  \n",
       "2      0      13  \n",
       "3      0       6  \n",
       "4      0      12  \n",
       "\n",
       "[5 rows x 47 columns]"
      ]
     },
     "execution_count": 276,
     "metadata": {},
     "output_type": "execute_result"
    }
   ],
   "source": [
    "\n",
    "data.head()\n"
   ]
  },
  {
   "cell_type": "code",
   "execution_count": 21,
   "metadata": {},
   "outputs": [
    {
     "data": {
      "text/plain": [
       "Index(['Unnamed: 0', 'ID', 'Cond', 'Sex', 'Age', 'Pol', 'Art01', 'Art02',\n",
       "       'Art03', 'Art04', 'Art05', 'Art06', 'Art07', 'Art08', 'Art09', 'Art10',\n",
       "       'Art11', 'Art12', 'Art13', 'Art14', 'Art15', 'Art16', 'Art17', 'Art18',\n",
       "       'Art19', 'Art20', 'Cor01', 'Cor02', 'Cor03', 'Cor04', 'Cor05', 'Cor06',\n",
       "       'Cor07', 'Cor08', 'Cor09', 'Cor10', 'Cor11', 'Cor12', 'Cor13', 'Cor14',\n",
       "       'Cor15', 'Cor16', 'Cor17', 'Cor18', 'Cor19', 'Cor20', 'TotCor'],\n",
       "      dtype='object')"
      ]
     },
     "execution_count": 21,
     "metadata": {},
     "output_type": "execute_result"
    }
   ],
   "source": [
    "data.columns"
   ]
  },
  {
   "cell_type": "code",
   "execution_count": 22,
   "metadata": {},
   "outputs": [
    {
     "data": {
      "text/plain": [
       "(291, 47)"
      ]
     },
     "execution_count": 22,
     "metadata": {},
     "output_type": "execute_result"
    }
   ],
   "source": [
    "\n",
    "data.shape"
   ]
  },
  {
   "cell_type": "code",
   "execution_count": 65,
   "metadata": {},
   "outputs": [],
   "source": [
    "responses = data.values[:,6:26]\n"
   ]
  },
  {
   "cell_type": "code",
   "execution_count": 97,
   "metadata": {},
   "outputs": [],
   "source": [
    "responses= np.array(responses, dtype=int)"
   ]
  },
  {
   "cell_type": "code",
   "execution_count": 8,
   "metadata": {},
   "outputs": [
    {
     "data": {
      "text/plain": [
       "20"
      ]
     },
     "execution_count": 8,
     "metadata": {},
     "output_type": "execute_result"
    }
   ],
   "source": [
    "cor_labels = [2,2,2,2,2,2,2,2,1,1,1,3,3,3,4,4,4,5,5,5]\n"
   ]
  },
  {
   "cell_type": "code",
   "execution_count": 70,
   "metadata": {},
   "outputs": [
    {
     "name": "stdout",
     "output_type": "stream",
     "text": [
      "[[578 138  50  25  82]\n",
      " [102 952 600 353 321]\n",
      " [ 19 112 298 256 188]\n",
      " [ 57 112 373 171 160]\n",
      " [ 20 129 157 250 317]]\n"
     ]
    }
   ],
   "source": [
    "conf_total= np.zeros([5,5],dtype=int)\n",
    "for i in responses:\n",
    "    conf_i= confusion_matrix(cor_labels,list(i))\n",
    "    #print(conf_i)\n",
    "    conf_total= np.add(conf_total, conf_i)\n",
    "print(conf_total)\n",
    "    "
   ]
  },
  {
   "cell_type": "code",
   "execution_count": 243,
   "metadata": {},
   "outputs": [
    {
     "data": {
      "text/plain": [
       "<matplotlib.axes._subplots.AxesSubplot at 0x1a1ae3de48>"
      ]
     },
     "execution_count": 243,
     "metadata": {},
     "output_type": "execute_result"
    },
    {
     "data": {
      "image/png": "[encoded data removed]",
      "text/plain": [
       "<Figure size 432x288 with 2 Axes>"
      ]
     },
     "metadata": {
      "needs_background": "light"
     },
     "output_type": "display_data"
    }
   ],
   "source": [
    "def plot_confusion_matrix(cm, classes,\n",
    "                          normalize=False,\n",
    "                          title=None,\n",
    "                          cmap=plt.cm.Blues):\n",
    "    \"\"\"\n",
    "    This function prints and plots the confusion matrix.\n",
    "    Normalization can be applied by setting `normalize=True`.\n",
    "    \"\"\"\n",
    "    if not title:\n",
    "        if normalize:\n",
    "            title = 'Normalized confusion matrix'\n",
    "        else:\n",
    "            title = 'Confusion matrix, without normalization'\n",
    "\n",
    "    # Compute confusion matrix\n",
    "   # cm = confusion_matrix(y_true, y_pred)\n",
    "    # Only use the labels that appear in the data\n",
    "    #classes = classes[unique_labels(y_true, y_pred)]\n",
    "    if normalize:\n",
    "        cm = cm.astype('float') / cm.sum(axis=1)[:, np.newaxis]\n",
    "     #   print(\"Normalized confusion matrix\")\n",
    "\n",
    "    #print('')\n",
    "\n",
    "    #print(cm)\n",
    "\n",
    "    fig, ax = plt.subplots()\n",
    "    im = ax.imshow(cm, interpolation='nearest', cmap=cmap)\n",
    "    ax.figure.colorbar(im, ax=ax)\n",
    "    # We want to show all ticks...\n",
    "    ax.set(xticks=np.arange(cm.shape[1]),\n",
    "           yticks=np.arange(cm.shape[0]),\n",
    "           # ... and label them with the respective list entries\n",
    "           xticklabels=classes, yticklabels=classes,\n",
    "           title=title,\n",
    "           ylabel='True label',\n",
    "           xlabel='Predicted label')\n",
    "\n",
    "    # Rotate the tick labels and set their alignment.\n",
    "    plt.setp(ax.get_xticklabels(), rotation=45, ha=\"right\",\n",
    "             rotation_mode=\"anchor\")\n",
    "\n",
    "    # Loop over data dimensions and create text annotations.\n",
    "    fmt = '.2f' if normalize else 'd'\n",
    "    thresh = cm.max() / 2.\n",
    "    for i in range(cm.shape[0]):\n",
    "        for j in range(cm.shape[1]):\n",
    "            ax.text(j, i, format(cm[i, j], fmt),\n",
    "                    ha=\"center\", va=\"center\",\n",
    "                    color=\"white\" if cm[i, j] > thresh else \"black\")\n",
    "    fig.tight_layout()\n",
    "    return ax\n",
    "\n",
    "\n",
    "np.set_printoptions(precision=2)\n",
    "\n",
    "class_names = np.array(['satire','fake','bias','political','reliable'])\n",
    "# Plot non-normalized confusion matrix\n",
    "plot_confusion_matrix(conf_total, classes=class_names,normalize=False,\n",
    "                      title='Confusion Matrix Survey Data - Humans, Multiclass')\n",
    "\n"
   ]
  },
  {
   "cell_type": "code",
   "execution_count": 224,
   "metadata": {},
   "outputs": [
    {
     "name": "stdout",
     "output_type": "stream",
     "text": [
      "[[ 317  556]\n",
      " [ 751 4196]]\n"
     ]
    }
   ],
   "source": [
    "cor_labels_bin =[1,1,1,1,1,1,1,1,1,1,1,1,1,1,1,1,1,0,0,0]\n",
    "responses_bin = data.values[:,6:26]\n",
    "\n",
    "for i in range(responses_bin.shape[1]):\n",
    "    for j in range(responses_bin.shape[0]):\n",
    "        if responses_bin[j,i] in ([1,2,3,4]):\n",
    "            responses_bin[j,i]= 1  \n",
    "        else:\n",
    "            responses_bin[j,i]= 0\n",
    "\n",
    "conf_total_bin= np.zeros([2,2],dtype=int)\n",
    "for i in responses_bin:\n",
    "    conf_i= confusion_matrix(cor_labels_bin,list(i))\n",
    "    #print(conf_i)\n",
    "    conf_total_bin= np.add(conf_total_bin, conf_i)\n",
    "print(conf_total_bin)\n",
    "    "
   ]
  },
  {
   "cell_type": "code",
   "execution_count": 245,
   "metadata": {},
   "outputs": [
    {
     "data": {
      "text/plain": [
       "<matplotlib.axes._subplots.AxesSubplot at 0x1a1b1175f8>"
      ]
     },
     "execution_count": 245,
     "metadata": {},
     "output_type": "execute_result"
    },
    {
     "data": {
      "image/png": "[encoded data removed]",
      "text/plain": [
       "<Figure size 432x288 with 2 Axes>"
      ]
     },
     "metadata": {
      "needs_background": "light"
     },
     "output_type": "display_data"
    }
   ],
   "source": [
    "class_names = np.array(['reliable','suspicious'])\n",
    "# Plot non-normalized confusion matrix\n",
    "plot_confusion_matrix(conf_total_bin, classes=class_names,normalize=True,\n",
    "                      title='Confusion Matrix Survey Data - Humans, Binary,Normalized')"
   ]
  },
  {
   "cell_type": "code",
   "execution_count": 226,
   "metadata": {},
   "outputs": [
    {
     "data": {
      "text/html": [
       "<div>\n",
       "<style scoped>\n",
       "    .dataframe tbody tr th:only-of-type {\n",
       "        vertical-align: middle;\n",
       "    }\n",
       "\n",
       "    .dataframe tbody tr th {\n",
       "        vertical-align: top;\n",
       "    }\n",
       "\n",
       "    .dataframe thead th {\n",
       "        text-align: right;\n",
       "    }\n",
       "</style>\n",
       "<table border=\"1\" class=\"dataframe\">\n",
       "  <thead>\n",
       "    <tr style=\"text-align: right;\">\n",
       "      <th></th>\n",
       "      <th>Unnamed: 0</th>\n",
       "      <th>Unnamed: 0.1</th>\n",
       "      <th>Unnamed: 0.1.1</th>\n",
       "      <th>id</th>\n",
       "      <th>domain</th>\n",
       "      <th>type</th>\n",
       "      <th>url</th>\n",
       "      <th>content</th>\n",
       "      <th>scraped_at</th>\n",
       "      <th>inserted_at</th>\n",
       "      <th>updated_at</th>\n",
       "      <th>title</th>\n",
       "      <th>authors</th>\n",
       "      <th>keywords</th>\n",
       "      <th>meta_keywords</th>\n",
       "      <th>meta_description</th>\n",
       "      <th>tags</th>\n",
       "      <th>summary</th>\n",
       "      <th>source</th>\n",
       "    </tr>\n",
       "  </thead>\n",
       "  <tbody>\n",
       "    <tr>\n",
       "      <th>0</th>\n",
       "      <td>208</td>\n",
       "      <td>208</td>\n",
       "      <td>208</td>\n",
       "      <td>245</td>\n",
       "      <td>beforeitsnews.com</td>\n",
       "      <td>fake</td>\n",
       "      <td>http://beforeitsnews.com/awakening-start-here/...</td>\n",
       "      <td>Alabama declares flu outbreak emergency as vac...</td>\n",
       "      <td>2018-01-25 16:17:44.789555</td>\n",
       "      <td>2018-02-02 01:19:41.756632</td>\n",
       "      <td>2018-02-02 01:19:41.756664</td>\n",
       "      <td>Alabama declares flu outbreak emergency as vac...</td>\n",
       "      <td>NaN</td>\n",
       "      <td>NaN</td>\n",
       "      <td>['']</td>\n",
       "      <td>NaN</td>\n",
       "      <td>vaccine failure, influenza, Heavy metals, Flu ...</td>\n",
       "      <td>NaN</td>\n",
       "      <td>NaN</td>\n",
       "    </tr>\n",
       "    <tr>\n",
       "      <th>1</th>\n",
       "      <td>426</td>\n",
       "      <td>426</td>\n",
       "      <td>426</td>\n",
       "      <td>495</td>\n",
       "      <td>conservativefighters.com</td>\n",
       "      <td>fake</td>\n",
       "      <td>http://conservativefighters.com/news/8-years-o...</td>\n",
       "      <td>Despite the claim of Iranian Revolutionary Gua...</td>\n",
       "      <td>2018-01-25 16:17:44.789555</td>\n",
       "      <td>2018-02-02 01:19:41.756632</td>\n",
       "      <td>2018-02-02 01:19:41.756664</td>\n",
       "      <td>After 8 Years with Obama, Iran Protesters Reve...</td>\n",
       "      <td>NaN</td>\n",
       "      <td>NaN</td>\n",
       "      <td>['']</td>\n",
       "      <td>NaN</td>\n",
       "      <td>News</td>\n",
       "      <td>NaN</td>\n",
       "      <td>NaN</td>\n",
       "    </tr>\n",
       "    <tr>\n",
       "      <th>2</th>\n",
       "      <td>5986</td>\n",
       "      <td>5986</td>\n",
       "      <td>5986</td>\n",
       "      <td>6840</td>\n",
       "      <td>thecommonsenseshow.com</td>\n",
       "      <td>fake</td>\n",
       "      <td>http://www.thecommonsenseshow.com/2018/01/24/g...</td>\n",
       "      <td>Google, Facebook, Twitter and Communist China ...</td>\n",
       "      <td>2018-01-25 16:17:44.789555</td>\n",
       "      <td>2018-02-02 01:19:41.756632</td>\n",
       "      <td>2018-02-02 01:19:41.756664</td>\n",
       "      <td>Google, Facebook, Twitter and Communist China ...</td>\n",
       "      <td>Dave Hodges</td>\n",
       "      <td>NaN</td>\n",
       "      <td>['']</td>\n",
       "      <td>NaN</td>\n",
       "      <td>NaN</td>\n",
       "      <td>NaN</td>\n",
       "      <td>NaN</td>\n",
       "    </tr>\n",
       "    <tr>\n",
       "      <th>3</th>\n",
       "      <td>27599</td>\n",
       "      <td>27599</td>\n",
       "      <td>7599</td>\n",
       "      <td>30264</td>\n",
       "      <td>newswithviews.com</td>\n",
       "      <td>fake</td>\n",
       "      <td>http://www.newswithviews.com/Smith/jeffrey125.htm</td>\n",
       "      <td>DOCTORS WARN: AVOID GENETICALLY MODIFIED FOODS...</td>\n",
       "      <td>2018-01-25 16:17:44.789555</td>\n",
       "      <td>2018-02-02 01:19:41.756632</td>\n",
       "      <td>2018-02-02 01:19:41.756664</td>\n",
       "      <td>Jeffrey Smith -- Doctors Warn: Avoid Genetical...</td>\n",
       "      <td>NaN</td>\n",
       "      <td>NaN</td>\n",
       "      <td>['']</td>\n",
       "      <td>NaN</td>\n",
       "      <td>NaN</td>\n",
       "      <td>NaN</td>\n",
       "      <td>NaN</td>\n",
       "    </tr>\n",
       "    <tr>\n",
       "      <th>4</th>\n",
       "      <td>31198</td>\n",
       "      <td>31198</td>\n",
       "      <td>1198</td>\n",
       "      <td>35324</td>\n",
       "      <td>vigilantcitizen.com</td>\n",
       "      <td>fake</td>\n",
       "      <td>https://vigilantcitizen.com/latestnews/amanda-...</td>\n",
       "      <td>\\n\\n\\n\\n\\n\\n\\n\\n\\n\\n\\n\\n\\n\\nAmanda Bynes poste...</td>\n",
       "      <td>2018-01-25 20:13:50.426130</td>\n",
       "      <td>2018-02-02 01:19:41.756632</td>\n",
       "      <td>2018-02-02 01:19:41.756664</td>\n",
       "      <td>Amanda Bynes Tweets About Father’s Abuse and M...</td>\n",
       "      <td>Lucy Cohen, Birth Son, Alex Jones, Many In The...</td>\n",
       "      <td>NaN</td>\n",
       "      <td>['']</td>\n",
       "      <td>Amanda Bynes posted a series of tweets about h...</td>\n",
       "      <td>breakdown, amanda bynes</td>\n",
       "      <td>NaN</td>\n",
       "      <td>NaN</td>\n",
       "    </tr>\n",
       "  </tbody>\n",
       "</table>\n",
       "</div>"
      ],
      "text/plain": [
       "   Unnamed: 0  Unnamed: 0.1  Unnamed: 0.1.1     id                    domain  \\\n",
       "0         208           208             208    245         beforeitsnews.com   \n",
       "1         426           426             426    495  conservativefighters.com   \n",
       "2        5986          5986            5986   6840    thecommonsenseshow.com   \n",
       "3       27599         27599            7599  30264         newswithviews.com   \n",
       "4       31198         31198            1198  35324       vigilantcitizen.com   \n",
       "\n",
       "   type                                                url  \\\n",
       "0  fake  http://beforeitsnews.com/awakening-start-here/...   \n",
       "1  fake  http://conservativefighters.com/news/8-years-o...   \n",
       "2  fake  http://www.thecommonsenseshow.com/2018/01/24/g...   \n",
       "3  fake  http://www.newswithviews.com/Smith/jeffrey125.htm   \n",
       "4  fake  https://vigilantcitizen.com/latestnews/amanda-...   \n",
       "\n",
       "                                             content  \\\n",
       "0  Alabama declares flu outbreak emergency as vac...   \n",
       "1  Despite the claim of Iranian Revolutionary Gua...   \n",
       "2  Google, Facebook, Twitter and Communist China ...   \n",
       "3  DOCTORS WARN: AVOID GENETICALLY MODIFIED FOODS...   \n",
       "4  \\n\\n\\n\\n\\n\\n\\n\\n\\n\\n\\n\\n\\n\\nAmanda Bynes poste...   \n",
       "\n",
       "                   scraped_at                 inserted_at  \\\n",
       "0  2018-01-25 16:17:44.789555  2018-02-02 01:19:41.756632   \n",
       "1  2018-01-25 16:17:44.789555  2018-02-02 01:19:41.756632   \n",
       "2  2018-01-25 16:17:44.789555  2018-02-02 01:19:41.756632   \n",
       "3  2018-01-25 16:17:44.789555  2018-02-02 01:19:41.756632   \n",
       "4  2018-01-25 20:13:50.426130  2018-02-02 01:19:41.756632   \n",
       "\n",
       "                   updated_at  \\\n",
       "0  2018-02-02 01:19:41.756664   \n",
       "1  2018-02-02 01:19:41.756664   \n",
       "2  2018-02-02 01:19:41.756664   \n",
       "3  2018-02-02 01:19:41.756664   \n",
       "4  2018-02-02 01:19:41.756664   \n",
       "\n",
       "                                               title  \\\n",
       "0  Alabama declares flu outbreak emergency as vac...   \n",
       "1  After 8 Years with Obama, Iran Protesters Reve...   \n",
       "2  Google, Facebook, Twitter and Communist China ...   \n",
       "3  Jeffrey Smith -- Doctors Warn: Avoid Genetical...   \n",
       "4  Amanda Bynes Tweets About Father’s Abuse and M...   \n",
       "\n",
       "                                             authors  keywords meta_keywords  \\\n",
       "0                                                NaN       NaN          ['']   \n",
       "1                                                NaN       NaN          ['']   \n",
       "2                                        Dave Hodges       NaN          ['']   \n",
       "3                                                NaN       NaN          ['']   \n",
       "4  Lucy Cohen, Birth Son, Alex Jones, Many In The...       NaN          ['']   \n",
       "\n",
       "                                    meta_description  \\\n",
       "0                                                NaN   \n",
       "1                                                NaN   \n",
       "2                                                NaN   \n",
       "3                                                NaN   \n",
       "4  Amanda Bynes posted a series of tweets about h...   \n",
       "\n",
       "                                                tags  summary  source  \n",
       "0  vaccine failure, influenza, Heavy metals, Flu ...      NaN     NaN  \n",
       "1                                               News      NaN     NaN  \n",
       "2                                                NaN      NaN     NaN  \n",
       "3                                                NaN      NaN     NaN  \n",
       "4                            breakdown, amanda bynes      NaN     NaN  "
      ]
     },
     "execution_count": 226,
     "metadata": {},
     "output_type": "execute_result"
    }
   ],
   "source": [
    "survey_articles = pd.read_csv('data/survey_articles.csv')\n",
    "survey_articles.head()"
   ]
  },
  {
   "cell_type": "code",
   "execution_count": 227,
   "metadata": {},
   "outputs": [],
   "source": [
    "#fake as reliable \n",
    "\n",
    "reliable = 5 \n",
    "pos = range(8)\n",
    "values = np.zeros([8,], dtype=int)\n",
    "dict_fake = dict(zip(pos,values))\n",
    "\n",
    "fake_0=[]\n",
    "\n",
    "for i in range(len(responses)):\n",
    "    if reliable in responses[i][0:8]:\n",
    "        for j in range(8):\n",
    "            if responses[i][j]== reliable:\n",
    "                dict_fake[j]+=1\n",
    "                if j== 0:\n",
    "                    fake_0.append(i)\n",
    "    "
   ]
  },
  {
   "cell_type": "code",
   "execution_count": 228,
   "metadata": {},
   "outputs": [
    {
     "name": "stdout",
     "output_type": "stream",
     "text": [
      "{0: 107, 1: 23, 2: 18, 3: 67, 4: 28, 5: 45, 6: 18, 7: 15}\n"
     ]
    }
   ],
   "source": [
    "print(dict_fake)"
   ]
  },
  {
   "cell_type": "code",
   "execution_count": 235,
   "metadata": {},
   "outputs": [
    {
     "data": {
      "text/plain": [
       "'Alabama declares flu outbreak emergency as vaccine failure becomes obvious to everyone\\n\\n% of readers think this story is Fact. Add your two cents.\\n\\nHeadline: Bitcoin & Blockchain Searches Exceed Trump! Blockchain Stocks Are Next!\\n\\nAlabama declares flu outbreak emergency as vaccine failure becomes obvious to everyone\\n\\nTuesday, January 16, 2018 by: Isabelle Z.\\n\\nTags: Alabama, badhealth, badmedicine, flu outbreak, Flu shots, Flu vaccine, Heavy metals, influenza, junk science, mercury, prevent flu, vaccine failure\\n\\n0VIEWS\\n\\n(Natural News) A State Public Health Emergency has been issued in Alabama by Governor Kay Ivey as a flu outbreak grips the state. Schools are closing and hospitals are filling up as the flu vaccine proves to be a spectacular failure yet again this year.\\n\\nHospital emergency rooms and outpatient clinics are reporting a very high volume of patients. Children’s of Alabama has issued a diversion protocol as they’ve run out of beds, instead requesting that patients are diverted to a different pediatric hospital. In addition, they’ve announced that they may transfer some of their patients to other hospitals to provide everyone with the best care possible.\\n\\nUAB Hospital, meanwhile, is rescheduling elective, non-emergency surgeries because it is over capacity with flu patients.\\n\\nhttps://naturalnews.com/2018-01-16-alabama-declare-flu-outbreak-emergency-as-vaccine-failure-becomes-obvious-to-everyone.html?utm_referrer=https%3A%2F%2Fzen.yandex.com'"
      ]
     },
     "execution_count": 235,
     "metadata": {},
     "output_type": "execute_result"
    }
   ],
   "source": [
    "survey_articles.content[0]"
   ]
  },
  {
   "cell_type": "code",
   "execution_count": 240,
   "metadata": {},
   "outputs": [],
   "source": [
    "#reliable as fake \n",
    "\n",
    "fake = 2 \n",
    "pos = [17,18,19]\n",
    "values = np.zeros([3,], dtype=int)\n",
    "dict_fake = dict(zip(pos,values))\n",
    "\n",
    "\n",
    "for i in range(len(responses)):\n",
    "    if reliable in responses[i][17:20]:\n",
    "        for j in [17,18,19]:\n",
    "            if responses[i][j]== fake:\n",
    "                dict_fake[j]+=1"
   ]
  },
  {
   "cell_type": "code",
   "execution_count": 241,
   "metadata": {},
   "outputs": [
    {
     "name": "stdout",
     "output_type": "stream",
     "text": [
      "{17: 25, 18: 12, 19: 17}\n"
     ]
    }
   ],
   "source": [
    "print(dict_fake)"
   ]
  },
  {
   "cell_type": "code",
   "execution_count": 234,
   "metadata": {},
   "outputs": [
    {
     "data": {
      "text/plain": [
       "'The announcement came on Saturday. Just three days before the Alabama special election that transfixed the nation, and on the same day that President Trump fact-checked the Washington Post’s Dave Weigel, Iraq’s prime minister declared victory in the war against ISIS. Iraq — with indispensable American help — has regained control of its cities and its border with Syria. ISIS has been reduced to a shadow of its former self.\\n\\nThe victory isn’t confined to Iraq. American-allied forces control ISIS’s former capital in Syria, and the world’s largest jihadist army is gone. Bands of insurgents still prowl the countryside, and ISIS cells exist across the world, but the war against the “caliphate” is over. It’s been won.\\n\\nSo why does no one seem to care?\\n\\nIt was exactly three years ago that the Middle East was in crisis. The ISIS blitzkrieg had brought Iraq to its knees. Jihadists controlled immense sections of Iraq and Syria. Abu Bakr al-Baghdadi spoke from Mosul’s Great Mosque, declared himself “Caliph Ibrahim,” and called on Muslims across the world to join him in his jihad.\\n\\nThey answered his call by the thousands. They flocked to Syria and Iraq from North Africa, Europe, and Asia. Britain was rocked by reports that more of its Muslim residents had joined ISIS than joined the British military. ISIS initiated genocide. It threatened the Kurds. It threatened Baghdad. Americans old enough to remember the fall of Saigon began to wonder: Was history repeating itself?\\n\\nx\\n\\nFor veterans of the Iraq War like me, these were extraordinarily painful months. Friends died over there. Others lost limbs or suffered terrible wounds. Every man and woman who served in Iraq sacrificed something, even if it was “only” a year of their life. And now our nation looked like a bystander to a calamity. Through withdrawal, we’d squandered the military victory of the Surge. Through withdrawal, we’d empowered our enemies.\\n\\nEven after the Obama administration intervened to stave off total defeat, ISIS still dominated the narrative. It helped unleash a wave of terror in Europe. Terror investigations and attempted terror attacks spiked in the U.S. Even while under American and allied aerial assault, ISIS still held territory. It still controlled major cities.\\n\\nRemember how debates about ISIS dominated the presidential primaries? Remember how Donald Trump and Ted Cruz ratcheted up their rhetoric until they both seemed to promise that they’d commit war crimes like carpet bombing and torture to defeat the deadly threat? ISIS was often the most important and most prominent story in the world.\\n\\nNow, however, the caliphate is a smoking ruin. It courted conflict with the great powers. It craved Armageddon, and it got its wish. No one knows ISIS’s exact casualty figures, but its fighters have died by the tens of thousands. I’ve spoken to men who were directly involved in the air campaign, and they have told me that the public doesn’t yet understand the sheer scale and ultimate effectiveness of the American attacks.\\n\\nYes, we withdrew from Iraq too soon. Yes, our counteroffensive against ISIS unfolded slowly. But we fought back, we trained and equipped allies, and we won.\\n\\nThis is one of the best stories of the young Trump administration. While many of the battles were fought under Obama, Trump pursued the enemy relentlessly. He delegated decision-making to commanders in the field, they fought within the laws of war, and they prevailed. Trump promised to defeat ISIS, and he has delivered a tremendous victory.\\n\\nPart of the blame still rests with us. Let’s be honest: Panic and fear make for a better story than victory and peace.\\n\\nSo why isn’t this bigger news?\\n\\nPart of the blame, of course, rests with Trump himself. Peruse his Twitter feed for a moment. Aside from the occasional boast about the economy, Trump uses his favorite instrument to wage war on “fake news” and to pursue personal vendettas. It’s hard to blame the press for not reporting more extensively on the war when the president himself is directing its attention elsewhere. He’s the first president in my lifetime who somehow seems determined to distract the public from good news by creating his own bad news.\\n\\nWe’re also understandably wary of “mission accomplished” moments. Jihadists, including ISIS jihadists, are still out there seeking to kill Americans. And we shouldn’t minimize that reality in acknowledging the momentous accomplishment of the Caliphate’s defeat.\\n\\nBut part of the blame still rests with us. Let’s be honest: Panic and fear make for a better story than victory and peace. I hear all the time from friends who ask me to “write more about good news.” Yet I write about good news all the time, and those pieces are often among my least-read articles. Perhaps I’m simply bad at writing about good things. Or perhaps the public has less appetite for the positive.\\n\\nEither way, it’s time for this to change. Americans died in the fight against ISIS. They restored American military victory in Iraq, preserving the gains of the men and women who fought there years before. In the process, they defeated one of most vicious and evil enemies our nation has ever faced. They helped retake cities and liberate the oppressed. They won a war. It’s a victory worth a celebration.\\n\\nREAD MORE:\\n\\nDid Trump Beat ISIS?\\n\\nThe Fall of Raqqa Is a Marvelous, Bipartisan American Victory\\n\\nAs ISIS Falls, Don’t Forget the Lessons of the Recent Past\\n\\n— David French is a senior writer for National Review, a senior fellow at the National Review Institute, an attorney, and a veteran of Operation Iraqi Freedom.'"
      ]
     },
     "execution_count": 234,
     "metadata": {},
     "output_type": "execute_result"
    }
   ],
   "source": [
    "survey_articles.content[17]"
   ]
  },
  {
   "cell_type": "code",
   "execution_count": 161,
   "metadata": {},
   "outputs": [],
   "source": [
    "#  satire as reliable\n",
    "\n",
    "reliable = 5\n",
    "pos = [8,9,10]\n",
    "values = np.zeros([3,], dtype=int)\n",
    "dict_fake = dict(zip(pos,values))\n",
    "\n",
    "\n",
    "for i in range(len(responses)):\n",
    "    if reliable in responses[i][8:11]:\n",
    "        for j in [8,9,10]:\n",
    "            if responses[i][j]== reliable :\n",
    "                dict_fake[j]+=1\n",
    "          "
   ]
  },
  {
   "cell_type": "code",
   "execution_count": 162,
   "metadata": {},
   "outputs": [
    {
     "name": "stdout",
     "output_type": "stream",
     "text": [
      "{8: 17, 9: 35, 10: 30}\n"
     ]
    }
   ],
   "source": [
    "print(dict_fake)"
   ]
  },
  {
   "cell_type": "code",
   "execution_count": 233,
   "metadata": {},
   "outputs": [
    {
     "data": {
      "text/plain": [
       "\"Lila Rose, president of the pro-life group Live Action, says President Trump is off to a “promising” start on pro-life issues, but she says the president and Congress must do what it takes to defund Planned Parenthood at a time when Democrats are voting in favor of “infanticide.”\\n\\nStill in her 20s, Rose has been a leading pro-life activist for a decade, starting when she was 15. She gained notoriety for videotaping her experiences posing as a pregnant teenager at various Planned Parenthood facilities.\\n\\nOne year into the Trump presidency and 45 years since the Supreme Court legalized abortion, Rose gives the administration a decent grade on pro-life issues.\\n\\n“I think the last year has been promising. I would use that word, especially the folks that he’s surrounded himself with, and the appointments he’s made, and the confirming of Justice Gorsuch. These are good signs,” said Rose.\\n\\n“I think it’s good that he showed up to speak from the Rose Garden at the March for Life. I think his appointments are good on [Health and Human Services]. The head of the Department of Justice is now investigating Planned Parenthood. These are good things, but we really have to achieve the biggest thing, which is stopping the government forcing of taxpayers to fund abortion chains,” said Rose.\\n\\n“We are urging to administration to really lean on Congress to make sure they get that bill to ensure that we’re not funding the biggest abortion chain (Planned Parenthood) $1.5 million every day,” added Rose.\\n\\nRepublicans did try to include defunding of Planned Parenthood in various forms of Obamacare repeal or reform legislation, only to be thwarted by the likes of Republican Sens. Susan Collins, R-Maine, and Lisa Murkowski, R-Alaska.\\n\\nRose worries Congress members may be more eager to promise defunding Planned Parenthood than to actually do it.\\n\\n“I am concerned about lip service and I think others in the movement are concerned. This is a really hard thing to do. You basically have to break 50 votes. Depending on how the rules are changed or amended, you could get the vice president to weigh in and be the tiebreaker in the Senate.\\n\\n“There is a path to do it. It’s a matter of is this going to be the most important thing for the administration when it comes to upholding the first human right and protecting human life in this country,” said Rose.\\n\\nThe interview:\\n\\nWhile Rose and other pro-life activists pressure lawmakers to make defunding Planned Parenthood a priority, she is appalled by how Democrats approached Friday’s House vote on the Born Alive Infant Protection Act.\\n\\nThe legislation would require medical personnel to do whatever is possible to save the life of a baby if he or she emerges alive from the mother’s womb following an attempted abortion. It reinforces existing policy but also adds criminal penalties, including up to five years in prison for failing to pursue life-saving measures.\\n\\nThe bill passed, with all Republicans voting for it, but 183 of 189 Democrats opposed it.\\n\\nPlanned Parenthood denounced the bill.\\n\\n“Medical guidelines and ethics already compel physicians facing life-threatening circumstances to respond. Doctors and clinicians oppose this law because it prevents them from giving the best care to their patients. The American College of Obstetricians and Gynecologists strongly opposes this legislation, calling it a ‘gross interference in the practice of medicine,'” said a Planned Parenthood statement.\\n\\nPlanned Parenthood official Dana Singiser took it even further.\\n\\n“The political agenda here is clear: to take away access to safe, legal abortion,” said Singiser in the same statement.\\n\\nBut Rose says the vote just shows how radical Democrats are on abortion now.\\n\\n“I think it just shows the insanity of the Democratic Party today, which is really going to hurt them in elections the more word gets out. This bill, the Born Alive Infant Protection Act, wasn’t even about abortion. It was about infanticide. It was about protecting children who have been born and who deserve to be protected,” said Rose.\\n\\n“The fact that Democrats in a huge voting bloc, tried to reject a bill that would protect against infanticide is extremely troubling. Look, most of the electorate – including in the Democratic Party – want at least some restrictions on abortion. That’s the majority of Democrats, including Democrat women,” said Rose.\\n\\nRose says Democrats are increasingly marching to whatever tune Planned Parenthood is playing.\\n\\n“They help elect these people so even though these folks try to mislead voters to say that they were more moderate or they cared about human rights or do what was best once in office, their elections are being funded by Planned Parenthood.\\n\\n“They’re going to march to the beat of their drum, even if that beat ultimately includes shooting down protections against infanticide,” said Rose.\\n\\nOne of the major themes at Friday’s March for Life was how science is on the side of the pro-life movement, especially with the advancements in ultrasound technology. Rose says the assertions that life begins at birth or that viability should determine personhood are relics.\\n\\n“If you create an arbitrary line at birth, then you are killing children who are viable before birth, children that are separated by inches of a birth canal from human rights protections. It’s arbitrary. It doesn’t make sense,” said Rose.\\n\\nAnd she says science changing beliefs about viability as well.\\n\\n“Viability is being increasingly moved backwards. Children can now survive outside the womb with medical assistance a little past 21 weeks. That’s incredible. The more we develop our medical technology, the more and more that viability line will change. People are realizing it’s an arbitrary line and that life, as science reveals, begins at the moment of conception,” said Rose.\\n\\nRose says the pro-life movement has a lot of momentum both politically and to some extent in the courts. However, she contends Congress needs to seize the momentum and end taxpayer subsidies for Planned Parenthood to be a true success.\\n\\nShe also claims cultural momentum, pointing out that more Americans are pro-life, and young people a major reason why. Rose also says the personal stories of mothers who carry difficult pregnancies to term and the testimonies of former abortion clinic workers are changing minds around the nation.\\n\\n\""
      ]
     },
     "execution_count": 233,
     "metadata": {},
     "output_type": "execute_result"
    }
   ],
   "source": [
    "survey_articles.content[10]"
   ]
  },
  {
   "cell_type": "code",
   "execution_count": 277,
   "metadata": {},
   "outputs": [
    {
     "data": {
      "text/plain": [
       "Index(['Unnamed: 0', 'ID', 'Cond', 'Sex', 'Age', 'Pol', 'Art01', 'Art02',\n",
       "       'Art03', 'Art04', 'Art05', 'Art06', 'Art07', 'Art08', 'Art09', 'Art10',\n",
       "       'Art11', 'Art12', 'Art13', 'Art14', 'Art15', 'Art16', 'Art17', 'Art18',\n",
       "       'Art19', 'Art20', 'Cor01', 'Cor02', 'Cor03', 'Cor04', 'Cor05', 'Cor06',\n",
       "       'Cor07', 'Cor08', 'Cor09', 'Cor10', 'Cor11', 'Cor12', 'Cor13', 'Cor14',\n",
       "       'Cor15', 'Cor16', 'Cor17', 'Cor18', 'Cor19', 'Cor20', 'TotCor'],\n",
       "      dtype='object')"
      ]
     },
     "execution_count": 277,
     "metadata": {},
     "output_type": "execute_result"
    }
   ],
   "source": [
    "data.columns\n"
   ]
  },
  {
   "cell_type": "code",
   "execution_count": 305,
   "metadata": {},
   "outputs": [],
   "source": [
    "\n",
    "\n",
    "data_2=pd.melt(data, ['ID', 'Cond', 'Sex', 'Age', 'Pol','TotCor'], ['Cor01', 'Cor02', 'Cor03', 'Cor04', 'Cor05', 'Cor06',\n",
    "       'Cor07', 'Cor08', 'Cor09', 'Cor10', 'Cor11', 'Cor12', 'Cor13', 'Cor14',\n",
    "       'Cor15', 'Cor16', 'Cor17', 'Cor18', 'Cor19', 'Cor20'])\n",
    "    "
   ]
  },
  {
   "cell_type": "code",
   "execution_count": 306,
   "metadata": {},
   "outputs": [
    {
     "data": {
      "text/plain": [
       "(5820, 8)"
      ]
     },
     "execution_count": 306,
     "metadata": {},
     "output_type": "execute_result"
    }
   ],
   "source": [
    "data_2.shape\n"
   ]
  },
  {
   "cell_type": "code",
   "execution_count": 307,
   "metadata": {},
   "outputs": [
    {
     "data": {
      "text/html": [
       "<div>\n",
       "<style scoped>\n",
       "    .dataframe tbody tr th:only-of-type {\n",
       "        vertical-align: middle;\n",
       "    }\n",
       "\n",
       "    .dataframe tbody tr th {\n",
       "        vertical-align: top;\n",
       "    }\n",
       "\n",
       "    .dataframe thead th {\n",
       "        text-align: right;\n",
       "    }\n",
       "</style>\n",
       "<table border=\"1\" class=\"dataframe\">\n",
       "  <thead>\n",
       "    <tr style=\"text-align: right;\">\n",
       "      <th></th>\n",
       "      <th>ID</th>\n",
       "      <th>Cond</th>\n",
       "      <th>Sex</th>\n",
       "      <th>Age</th>\n",
       "      <th>Pol</th>\n",
       "      <th>TotCor</th>\n",
       "      <th>variable</th>\n",
       "      <th>value</th>\n",
       "    </tr>\n",
       "  </thead>\n",
       "  <tbody>\n",
       "    <tr>\n",
       "      <th>0</th>\n",
       "      <td>A2BW6WD7LZ9EGV</td>\n",
       "      <td>T1</td>\n",
       "      <td>1.0</td>\n",
       "      <td>29.0</td>\n",
       "      <td>5.0</td>\n",
       "      <td>11</td>\n",
       "      <td>Cor01</td>\n",
       "      <td>1</td>\n",
       "    </tr>\n",
       "    <tr>\n",
       "      <th>1</th>\n",
       "      <td>AXMPSUNKUBEIL</td>\n",
       "      <td>C</td>\n",
       "      <td>1.0</td>\n",
       "      <td>37.0</td>\n",
       "      <td>4.0</td>\n",
       "      <td>11</td>\n",
       "      <td>Cor01</td>\n",
       "      <td>1</td>\n",
       "    </tr>\n",
       "    <tr>\n",
       "      <th>2</th>\n",
       "      <td>A2JP8W265WCC35</td>\n",
       "      <td>T1</td>\n",
       "      <td>2.0</td>\n",
       "      <td>49.0</td>\n",
       "      <td>5.0</td>\n",
       "      <td>13</td>\n",
       "      <td>Cor01</td>\n",
       "      <td>0</td>\n",
       "    </tr>\n",
       "    <tr>\n",
       "      <th>3</th>\n",
       "      <td>A207IHY6GERCFO</td>\n",
       "      <td>C</td>\n",
       "      <td>1.0</td>\n",
       "      <td>36.0</td>\n",
       "      <td>1.0</td>\n",
       "      <td>6</td>\n",
       "      <td>Cor01</td>\n",
       "      <td>1</td>\n",
       "    </tr>\n",
       "    <tr>\n",
       "      <th>4</th>\n",
       "      <td>A1V2H0UF94ATWY</td>\n",
       "      <td>C</td>\n",
       "      <td>1.0</td>\n",
       "      <td>59.0</td>\n",
       "      <td>4.0</td>\n",
       "      <td>12</td>\n",
       "      <td>Cor01</td>\n",
       "      <td>0</td>\n",
       "    </tr>\n",
       "  </tbody>\n",
       "</table>\n",
       "</div>"
      ],
      "text/plain": [
       "               ID Cond  Sex   Age  Pol  TotCor variable  value\n",
       "0  A2BW6WD7LZ9EGV   T1  1.0  29.0  5.0      11    Cor01      1\n",
       "1   AXMPSUNKUBEIL    C  1.0  37.0  4.0      11    Cor01      1\n",
       "2  A2JP8W265WCC35   T1  2.0  49.0  5.0      13    Cor01      0\n",
       "3  A207IHY6GERCFO    C  1.0  36.0  1.0       6    Cor01      1\n",
       "4  A1V2H0UF94ATWY    C  1.0  59.0  4.0      12    Cor01      0"
      ]
     },
     "execution_count": 307,
     "metadata": {},
     "output_type": "execute_result"
    }
   ],
   "source": [
    "data_2.head()\n"
   ]
  },
  {
   "cell_type": "code",
   "execution_count": 308,
   "metadata": {},
   "outputs": [],
   "source": [
    "\n",
    "data_2.loc[data_2['variable'].isin (['Cor01','Cor02','Cor03','Cor04','Cor05','Cor06','Cor07','Cor08']),'type'] = 'fake'\n",
    "data_2.loc[data_2['variable'].isin (['Cor09','Cor10','Cor11']),'type'] = 'satire'\n",
    "data_2.loc[data_2['variable'].isin (['Cor12','Cor13','Cor14']),'type'] = 'bias'\n",
    "data_2.loc[data_2['variable'].isin (['Cor15','Cor16','Cor17']),'type'] = 'political'\n",
    "data_2.loc[data_2['variable'].isin (['Cor18','Cor19','Cor20']),'type'] = 'reliable'"
   ]
  },
  {
   "cell_type": "code",
   "execution_count": 309,
   "metadata": {},
   "outputs": [],
   "source": [
    "data_2.loc[data_2['Sex']==1,'Sex'] = 'male'\n",
    "data_2.loc[data_2['Sex']==2,'Sex'] = 'female'\n",
    "data_2.loc[data_2['Sex']==3,'Sex'] = 'Other / No Answer'\n"
   ]
  },
  {
   "cell_type": "code",
   "execution_count": 310,
   "metadata": {},
   "outputs": [],
   "source": [
    "data_2.loc[data_2['Cond']=='T1','Cond'] = 'Training Game'\n",
    "data_2.loc[data_2['Cond']=='T2','Cond'] = 'Training Video'\n",
    "data_2.loc[data_2['Cond']=='C','Cond'] = 'Control'\n"
   ]
  },
  {
   "cell_type": "code",
   "execution_count": 311,
   "metadata": {},
   "outputs": [],
   "source": [
    "data_2.loc[data_2['Pol']==1,'Pol'] = 'Very Conservative'\n",
    "data_2.loc[data_2['Pol']==2,'Pol'] = 'Somewhat conservative'\n",
    "data_2.loc[data_2['Pol']==3,'Pol'] = 'Middle of the road'\n",
    "data_2.loc[data_2['Pol']==4,'Pol'] = 'Somewhat liberal'\n",
    "data_2.loc[data_2['Pol']==5,'Pol'] = 'Very liberal'\n",
    "data_2.loc[data_2['Pol']==6,'Pol'] = 'I do not have a political affiliatione'\n",
    "data_2.loc[data_2['Pol']==7,'Pol'] = 'I prefer not to answer'\n"
   ]
  },
  {
   "cell_type": "code",
   "execution_count": 312,
   "metadata": {},
   "outputs": [
    {
     "name": "stdout",
     "output_type": "stream",
     "text": [
      "[18, 19, 20, 21, 22, 23, 24]\n"
     ]
    }
   ],
   "source": [
    "ages_18_24=list(range(25))[18:25]\n",
    "ages_25_34=list(range(35))[25:35]\n",
    "ages_35_49=list(range(50))[35:50]\n",
    "ages_50_plus=list(range(100))[51:100]\n",
    "print(ages)\n",
    "data_2.loc[data_2['Age']<18,'AgeGroup'] = ' Under 18'\n",
    "data_2.loc[data_2['Age'].isin (ages_18_24),'AgeGroup'] = '18 to 24'\n",
    "data_2.loc[data_2['Age'].isin (ages_25_34),'AgeGroup'] = '25 to 34'\n",
    "data_2.loc[data_2['Age'].isin (ages_35_49),'AgeGroup'] = '35 to 49'\n",
    "data_2.loc[data_2['Age'].isin (ages_50_plus),'AgeGroup'] = '50 and over'"
   ]
  },
  {
   "cell_type": "code",
   "execution_count": 313,
   "metadata": {},
   "outputs": [
    {
     "data": {
      "text/html": [
       "<div>\n",
       "<style scoped>\n",
       "    .dataframe tbody tr th:only-of-type {\n",
       "        vertical-align: middle;\n",
       "    }\n",
       "\n",
       "    .dataframe tbody tr th {\n",
       "        vertical-align: top;\n",
       "    }\n",
       "\n",
       "    .dataframe thead th {\n",
       "        text-align: right;\n",
       "    }\n",
       "</style>\n",
       "<table border=\"1\" class=\"dataframe\">\n",
       "  <thead>\n",
       "    <tr style=\"text-align: right;\">\n",
       "      <th></th>\n",
       "      <th>ID</th>\n",
       "      <th>Cond</th>\n",
       "      <th>Sex</th>\n",
       "      <th>Age</th>\n",
       "      <th>Pol</th>\n",
       "      <th>TotCor</th>\n",
       "      <th>variable</th>\n",
       "      <th>value</th>\n",
       "      <th>type</th>\n",
       "      <th>AgeGroup</th>\n",
       "    </tr>\n",
       "  </thead>\n",
       "  <tbody>\n",
       "    <tr>\n",
       "      <th>0</th>\n",
       "      <td>A2BW6WD7LZ9EGV</td>\n",
       "      <td>Training Game</td>\n",
       "      <td>male</td>\n",
       "      <td>29.0</td>\n",
       "      <td>Very liberal</td>\n",
       "      <td>11</td>\n",
       "      <td>Cor01</td>\n",
       "      <td>1</td>\n",
       "      <td>fake</td>\n",
       "      <td>25 to 34</td>\n",
       "    </tr>\n",
       "    <tr>\n",
       "      <th>1</th>\n",
       "      <td>AXMPSUNKUBEIL</td>\n",
       "      <td>Control</td>\n",
       "      <td>male</td>\n",
       "      <td>37.0</td>\n",
       "      <td>Somewhat liberal</td>\n",
       "      <td>11</td>\n",
       "      <td>Cor01</td>\n",
       "      <td>1</td>\n",
       "      <td>fake</td>\n",
       "      <td>35 to 49</td>\n",
       "    </tr>\n",
       "    <tr>\n",
       "      <th>2</th>\n",
       "      <td>A2JP8W265WCC35</td>\n",
       "      <td>Training Game</td>\n",
       "      <td>female</td>\n",
       "      <td>49.0</td>\n",
       "      <td>Very liberal</td>\n",
       "      <td>13</td>\n",
       "      <td>Cor01</td>\n",
       "      <td>0</td>\n",
       "      <td>fake</td>\n",
       "      <td>35 to 49</td>\n",
       "    </tr>\n",
       "    <tr>\n",
       "      <th>3</th>\n",
       "      <td>A207IHY6GERCFO</td>\n",
       "      <td>Control</td>\n",
       "      <td>male</td>\n",
       "      <td>36.0</td>\n",
       "      <td>Very Conservative</td>\n",
       "      <td>6</td>\n",
       "      <td>Cor01</td>\n",
       "      <td>1</td>\n",
       "      <td>fake</td>\n",
       "      <td>35 to 49</td>\n",
       "    </tr>\n",
       "    <tr>\n",
       "      <th>4</th>\n",
       "      <td>A1V2H0UF94ATWY</td>\n",
       "      <td>Control</td>\n",
       "      <td>male</td>\n",
       "      <td>59.0</td>\n",
       "      <td>Somewhat liberal</td>\n",
       "      <td>12</td>\n",
       "      <td>Cor01</td>\n",
       "      <td>0</td>\n",
       "      <td>fake</td>\n",
       "      <td>50 and over</td>\n",
       "    </tr>\n",
       "  </tbody>\n",
       "</table>\n",
       "</div>"
      ],
      "text/plain": [
       "               ID           Cond     Sex   Age                Pol  TotCor  \\\n",
       "0  A2BW6WD7LZ9EGV  Training Game    male  29.0       Very liberal      11   \n",
       "1   AXMPSUNKUBEIL        Control    male  37.0   Somewhat liberal      11   \n",
       "2  A2JP8W265WCC35  Training Game  female  49.0       Very liberal      13   \n",
       "3  A207IHY6GERCFO        Control    male  36.0  Very Conservative       6   \n",
       "4  A1V2H0UF94ATWY        Control    male  59.0   Somewhat liberal      12   \n",
       "\n",
       "  variable  value  type     AgeGroup  \n",
       "0    Cor01      1  fake     25 to 34  \n",
       "1    Cor01      1  fake     35 to 49  \n",
       "2    Cor01      0  fake     35 to 49  \n",
       "3    Cor01      1  fake     35 to 49  \n",
       "4    Cor01      0  fake  50 and over  "
      ]
     },
     "execution_count": 313,
     "metadata": {},
     "output_type": "execute_result"
    }
   ],
   "source": [
    "data_2.head()"
   ]
  },
  {
   "cell_type": "code",
   "execution_count": 314,
   "metadata": {},
   "outputs": [],
   "source": [
    "data_2.to_csv('data/Survey_Humans.csv')"
   ]
  },
  {
   "cell_type": "code",
   "execution_count": null,
   "metadata": {},
   "outputs": [],
   "source": []
  },
  {
   "cell_type": "code",
   "execution_count": null,
   "metadata": {},
   "outputs": [],
   "source": []
  },
  {
   "cell_type": "code",
   "execution_count": null,
   "metadata": {},
   "outputs": [],
   "source": []
  }
 ],
 "metadata": {
  "kernelspec": {
   "display_name": "Python 3",
   "language": "python",
   "name": "python3"
  },
  "language_info": {
   "codemirror_mode": {
    "name": "ipython",
    "version": 3
   },
   "file_extension": ".py",
   "mimetype": "text/x-python",
   "name": "python",
   "nbconvert_exporter": "python",
   "pygments_lexer": "ipython3",
   "version": "3.7.1"
  }
 },
 "nbformat": 4,
 "nbformat_minor": 2
}
